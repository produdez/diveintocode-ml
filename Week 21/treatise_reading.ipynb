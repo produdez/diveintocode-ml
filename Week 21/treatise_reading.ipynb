{
 "cells": [
  {
   "cell_type": "markdown",
   "source": [
    "# Introduction\n",
    "Please read the following papers and answer the questions. This is a representative study of object detection using CNN.\n",
    "\n",
    "\n",
    "[8] Ren, S., He, K., Girshick, R., Sun, J.: Faster r-cnn: Towards real-time object detection with region proposal networks.In: Advances in neural information processing systems. (2015 ) 91–99\n",
    "\n",
    "\n",
    "[https://arxiv.org/pdf/1506.01497.pdf]()"
   ],
   "metadata": {}
  },
  {
   "cell_type": "markdown",
   "source": [
    "# Questions\n",
    "\n",
    "(1) What kind of method exists in the field of object detection?\n",
    "\n",
    "\n",
    "(2) It says \"Faster\", but what mechanism was used to make it faster?\n",
    "\n",
    "\n",
    "(3) How is the One-Stage method different from the Two-Stage method?\n",
    "\n",
    "\n",
    "(4) What is RPN?\n",
    "\n",
    "\n",
    "(5) What is RoI pooling?\n",
    "\n",
    "\n",
    "(6) What is the proper size for Anchor?\n",
    "\n",
    "\n",
    "(7) What kind of data set is used and what kind of index value is obtained compared to the previous research?\n",
    "\n",
    "\n",
    "(8) (Advance assignment) How is Faster R-CNN cited in the article on object detection newer than Faster R-CNN?"
   ],
   "metadata": {}
  },
  {
   "cell_type": "markdown",
   "source": [
    "# Q1 \n",
    "Object detection methods:\n",
    "- Fast R-CNN.\n",
    "- Faster R-CNN.\n",
    "- RPN\n",
    "- SS\n",
    "- VGG\n",
    "- ..."
   ],
   "metadata": {}
  },
  {
   "cell_type": "markdown",
   "source": [
    "# Q2 \n",
    "What mechanism use to make it faster?\n",
    "- The network modules are trained with shared features\n",
    "- Even faster with joint training approach\n",
    "- Take advantage of GPU rather than CPU\n",
    "- Share convolution with object detection\n",
    "- Use good region proposal method like EdgeBoxes instead of a more accurate but slower SelectiveSearch"
   ],
   "metadata": {}
  },
  {
   "cell_type": "markdown",
   "source": [
    "# Q3\n",
    "Diff of one stage and two stage method\n",
    "- One stage does region proposal and classify at the same time while two stage does region proposal first and classify later\n",
    "- One stage is slow cause more proposal to process"
   ],
   "metadata": {}
  },
  {
   "cell_type": "markdown",
   "source": [
    "# Q4\n",
    "RPN\n",
    "An RPN is a fully convolutional network that simultaneously predicts object bounds and objectness scores at each position"
   ],
   "metadata": {}
  },
  {
   "cell_type": "markdown",
   "source": [
    "# Q5\n",
    "Rol Polling\n",
    "The RoI pooling layer uses max pooling to convert the\n",
    "features inside any valid region of interest into a small feature map with a fixed spatial extent of H × W\n",
    "\n",
    "[Fast R-CNN paper](https://deepsense.ai/wp-content/uploads/2017/02/1504.08083.pdf)"
   ],
   "metadata": {}
  },
  {
   "cell_type": "markdown",
   "source": [
    "# Q6\n",
    "Proper anchor size\n",
    "\n",
    "Three scales combination of 128^2, 256^2 and 512^2 with one aspect ratio of 1:1 showed to be best in the paper"
   ],
   "metadata": {}
  },
  {
   "cell_type": "markdown",
   "source": [
    "# Q7\n",
    "What kind of data set is used and what kind of index value is obtained compared to the previous research?\n",
    "\n",
    "Datasets: MS COCO dataset, PASCAL VOC dataset\n",
    "\n",
    "This research also test on MS COCO compared to previous one and also discuss improvement on PASCAL VOC using MS COCO data"
   ],
   "metadata": {}
  },
  {
   "cell_type": "markdown",
   "source": [
    "# Q8\n",
    "How can the cited Faster R-CNN be newer than the Faster R-CNN\n",
    "\n",
    "Cause one is a conference version and one is a publish version"
   ],
   "metadata": {}
  },
  {
   "cell_type": "markdown",
   "source": [],
   "metadata": {}
  }
 ],
 "metadata": {
  "orig_nbformat": 4,
  "language_info": {
   "name": "python"
  }
 },
 "nbformat": 4,
 "nbformat_minor": 2
}