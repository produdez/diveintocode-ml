{
 "metadata": {
  "language_info": {
   "codemirror_mode": {
    "name": "ipython",
    "version": 3
   },
   "file_extension": ".py",
   "mimetype": "text/x-python",
   "name": "python",
   "nbconvert_exporter": "python",
   "pygments_lexer": "ipython3",
   "version": "3.8.5-final"
  },
  "orig_nbformat": 2,
  "kernelspec": {
   "name": "python3",
   "display_name": "Python 3.8.5 64-bit ('ML': conda)",
   "metadata": {
    "interpreter": {
     "hash": "414c2fdb89d6021f6942d5e1d033ba955136d83fd06928f7f45a3ba2aaf4fb60"
    }
   }
  }
 },
 "nbformat": 4,
 "nbformat_minor": 2,
 "cells": [
  {
   "source": [
    "# Introduction\n",
    "Consider the following matrices A and B.\n",
    "\n",
    "$ A = \\begin{bmatrix}\n",
    "-1 & 2 & 3\\\\\n",
    "4 & -5 & 6 \\\\\n",
    "7 & 8 & -9\n",
    "\\end{bmatrix} $ \n",
    "And $\n",
    "B = \\begin{bmatrix}\n",
    "0 & 2 & 1 \\\\\n",
    "0 & 2 & -8 \\\\\n",
    "2 & 9 & -1\n",
    "\\end{bmatrix} $\n",
    "\n",
    "When expressed in NumPy, it becomes as follows.\n",
    "\n",
    "```\n",
    "import numpy as np\n",
    "a_ndarray = np.array([[-1, 2, 3], [4, -5, 6], [7, 8, -9]])\n",
    "b_ndarray = np.array([[0, 2, 1], [0, 2, -8], [2, 9, -1]])\n",
    "```"
   ],
   "cell_type": "markdown",
   "metadata": {}
  },
  {
   "source": [
    "#predefines and imports\n",
    "import numpy as np\n",
    "a_ndarray = np.array([[-1, 2, 3], [4, -5, 6], [7, 8, -9]])\n",
    "b_ndarray = np.array([[0, 2, 1], [0, 2, -8], [2, 9, -1]])"
   ],
   "cell_type": "code",
   "metadata": {},
   "execution_count": 31,
   "outputs": []
  },
  {
   "source": [
    "# Problem 1\n",
    "## Hand calculation of matrix multiplication"
   ],
   "cell_type": "markdown",
   "metadata": {}
  },
  {
   "source": [
    "### Manual solution for $A \\cdot B$: \n",
    "So matrix multiplication is essentially the dot product of each pairs of row from matrix A and column from matrix B, organized according to their position in to the matrix $C = A \\cdot B$\n",
    "\n",
    "We go one by one for each pair, starting at row 0, column 0:\n",
    "- (0,0): $[-1,2,3] \\cdot [0,0,2] = 6$\n",
    "- (0,1): $[-1,2,3] \\cdot [2,2,9] = 29$\n",
    "- (0,2): $[-1,2,3] \\cdot [1,-8,-1] = -20$\n",
    "- (0,0): $[4,-5,6] \\cdot [0,0,2] = 12$\n",
    "- (0,1): $[4,-5,6] \\cdot [2,2,9] = 52$\n",
    "- (0,2): $[4,-5,6] \\cdot [1,-8,-1] = 38$\n",
    "- (0,0): $[7,8,-9] \\cdot [0,0,2] = -18$\n",
    "- (0,1): $[7,8,-9] \\cdot [2,2,9] = -51$\n",
    "- (0,2): $[7,8,-9] \\cdot [1,-8,-1] = -48$\n",
    "\n",
    "Then we can arrange the results into a matrix to get the final result:\n",
    "\n",
    "$A\\cdot B = \\begin{bmatrix}\n",
    "6 & 29 & -20\\\\\n",
    "12 & 52 & 38\\\\\n",
    "-18 & -51 & -48\n",
    "\\end{bmatrix}$\n",
    "\n"
   ],
   "cell_type": "markdown",
   "metadata": {}
  },
  {
   "source": [
    "# Problem 2\n",
    "## Numpy matrix multiplication"
   ],
   "cell_type": "markdown",
   "metadata": {}
  },
  {
   "cell_type": "code",
   "execution_count": 32,
   "metadata": {},
   "outputs": [
    {
     "output_type": "stream",
     "name": "stdout",
     "text": [
      "[[  6  29 -20]\n [ 12  52  38]\n [-18 -51 -48]]\n"
     ]
    }
   ],
   "source": [
    "def problem2():\n",
    "    print(a_ndarray@b_ndarray)\n",
    "problem2()"
   ]
  },
  {
   "source": [
    "### NOTE:\n",
    "- can use matmul (same as @) or dot to calculate 2d matrix\n",
    "- dot is dot product, not same as others for higher dimensions"
   ],
   "cell_type": "markdown",
   "metadata": {}
  },
  {
   "source": [
    "# Problem 3\n",
    "## One element of matrix multiplication\n",
    "\"\"dot product\"\""
   ],
   "cell_type": "markdown",
   "metadata": {}
  },
  {
   "cell_type": "code",
   "execution_count": 33,
   "metadata": {},
   "outputs": [
    {
     "output_type": "stream",
     "name": "stdout",
     "text": [
      "Element (0,0) of A.B:  6\n"
     ]
    }
   ],
   "source": [
    "def dot(X,Y): #of 2 vectors only\n",
    "    dot_prod = 0\n",
    "    for x,y in zip(X,Y):\n",
    "        dot_prod += x*y\n",
    "    # print(dot_prod)\n",
    "    return dot_prod\n",
    "def problem3():\n",
    "    first_dot = dot(a_ndarray[0,:], b_ndarray[:,0])\n",
    "    print(\"Element (0,0) of A.B: \",first_dot)\n",
    "problem3()"
   ]
  },
  {
   "source": [
    "# Problem 4\n",
    "## Matrix Product"
   ],
   "cell_type": "markdown",
   "metadata": {}
  },
  {
   "cell_type": "code",
   "execution_count": 34,
   "metadata": {},
   "outputs": [
    {
     "output_type": "stream",
     "name": "stdout",
     "text": [
      "A.B =  [[  6  29 -20]\n [ 12  52  38]\n [-18 -51 -48]]\n"
     ]
    }
   ],
   "source": [
    "def product(A,B):\n",
    "    if A.shape[0] != B.shape[1]:\n",
    "        print('Dimension mismatched, cant perform production!')\n",
    "        return None\n",
    "    matrix = []\n",
    "    for i in range(A.shape[0]):\n",
    "        row = []\n",
    "        for j in range(B.shape[1]):\n",
    "            row.append(dot(A[i,:], B[:,j]))\n",
    "        matrix.append(row)\n",
    "    return np.array(matrix)\n",
    "def problem4():\n",
    "    print(\"A.B = \", product(a_ndarray,b_ndarray))\n",
    "\n",
    "problem4()"
   ]
  },
  {
   "source": [
    "### NOTE: problem 4\n",
    "- Looking at the above problem, a question hit me and i cant seems to see the answer on the internet. So, Can we use numpy array ** instead ** of conventional python list, **completely**? \n",
    "\n",
    "- I mean sure, the normal list is not faster and is not the right way to work with matrixes (which is what numpy is made for). But the way i did problem 4 made me think that the simple manipulation of python list makes it the superior contender for list or vector specific task, **ilterative tasks**. Where it would be more cumbersome to work with np.array due to dimension restrictions!\n",
    "- ** What do you think? **"
   ],
   "cell_type": "markdown",
   "metadata": {}
  },
  {
   "source": [
    "# Problem 5\n",
    "## Fixing mismatched product inputs"
   ],
   "cell_type": "markdown",
   "metadata": {}
  },
  {
   "source": [
    "### The function in problem 4 is modified to check for dimensions"
   ],
   "cell_type": "markdown",
   "metadata": {}
  },
  {
   "cell_type": "code",
   "execution_count": 35,
   "metadata": {},
   "outputs": [
    {
     "output_type": "stream",
     "name": "stdout",
     "text": [
      "Dimension mismatched, cant perform production!\nNone\n"
     ]
    }
   ],
   "source": [
    "def problem5():\n",
    "    d_ndarray = np.array([[-1, 2, 3], [4, -5, 6]])\n",
    "    e_ndarray = np.array([[-9, 8, 7], [6, -5, 4]])\n",
    "    result = product(d_ndarray, e_ndarray)\n",
    "    print(result)\n",
    "problem5()"
   ]
  },
  {
   "source": [
    "# Problem 6\n",
    "## Transpose"
   ],
   "cell_type": "markdown",
   "metadata": {}
  },
  {
   "cell_type": "code",
   "execution_count": 36,
   "metadata": {},
   "outputs": [
    {
     "output_type": "stream",
     "name": "stdout",
     "text": [
      "A:  [[-1  2  3]\n [ 4 -5  6]\n [ 7  8 -9]]\nA transpose:  [[-1  4  7]\n [ 2 -5  8]\n [ 3  6 -9]]\n"
     ]
    }
   ],
   "source": [
    "def problem6():\n",
    "    print('A: ', a_ndarray)\n",
    "    print('A transpose: ', a_ndarray.T)\n",
    "problem6()"
   ]
  }
 ]
}