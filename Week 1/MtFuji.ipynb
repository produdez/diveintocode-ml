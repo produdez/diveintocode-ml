{
 "metadata": {
  "language_info": {
   "codemirror_mode": {
    "name": "ipython",
    "version": 3
   },
   "file_extension": ".py",
   "mimetype": "text/x-python",
   "name": "python",
   "nbconvert_exporter": "python",
   "pygments_lexer": "ipython3",
   "version": "3.8.5-final"
  },
  "orig_nbformat": 2,
  "kernelspec": {
   "name": "python3",
   "display_name": "Python 3.8.5 64-bit ('ML': conda)",
   "metadata": {
    "interpreter": {
     "hash": "414c2fdb89d6021f6942d5e1d033ba955136d83fd06928f7f45a3ba2aaf4fb60"
    }
   }
  }
 },
 "nbformat": 4,
 "nbformat_minor": 2,
 "cells": [
  {
   "source": [
    "# Introduction\n",
    "In the \"Let's try using Python\" problem, students created a program that calculates the thickness of a sheet of paper when folded 43 times, and were able to confirm that they could reach the moon by folding it 43 times.\n",
    "\n",
    "\n",
    "Now the question arises, \"How many times do I have to fold it to get a certain thickness? Let's create a program to calculate this kind of thing."
   ],
   "cell_type": "markdown",
   "metadata": {}
  },
  {
   "cell_type": "code",
   "execution_count": 12,
   "metadata": {},
   "outputs": [],
   "source": [
    "#imports and predefineds\n",
    "from math import *\n",
    "\n",
    "#consts\n",
    "HEIGHT_FUJI = 3776\n",
    "PAPER_THICKNESS = 0.00008"
   ]
  },
  {
   "source": [
    "# Problem 1\n",
    "## Min folds over Fuji "
   ],
   "cell_type": "markdown",
   "metadata": {}
  },
  {
   "cell_type": "code",
   "execution_count": 13,
   "metadata": {},
   "outputs": [
    {
     "output_type": "stream",
     "name": "stdout",
     "text": [
      "Takes minimum 26 folds for a 8e-05m paper to be higher than Fuji (3776m).\n"
     ]
    }
   ],
   "source": [
    "def folds_to_pass(init_thickness, height):\n",
    "    return ceil(log( height / init_thickness,2))\n",
    "def problem1():\n",
    "    folds = folds_to_pass(PAPER_THICKNESS,HEIGHT_FUJI)\n",
    "    print('Takes minimum {} folds for a {}m paper to be higher than Fuji ({}m).'.format(folds,PAPER_THICKNESS,HEIGHT_FUJI))\n",
    "\n",
    "problem1()"
   ]
  },
  {
   "source": [
    "# Problem 2\n",
    "## Folds to get to closest non sun star\n",
    "**NOTE: ** closest non-Sun star is 'Alpha Centauri A' is 4.367 light years, which is 4.1315e+16 meters\n"
   ],
   "cell_type": "markdown",
   "metadata": {}
  },
  {
   "cell_type": "code",
   "execution_count": 14,
   "metadata": {},
   "outputs": [
    {
     "output_type": "stream",
     "name": "stdout",
     "text": [
      "Takes 69 folds for a 8e-05m papaper to get to the closest non sun star (4.1315e+16m away)\n"
     ]
    }
   ],
   "source": [
    "DISTANCE_ALPHA_A = 4.1315e+16\n",
    "def problem2():\n",
    "    folds = folds_to_pass(PAPER_THICKNESS, DISTANCE_ALPHA_A)\n",
    "    print('Takes {} folds for a {}m papaper to get to the closest non sun star ({}m away)'.format(folds,PAPER_THICKNESS,DISTANCE_ALPHA_A))\n",
    "\n",
    "problem2()"
   ]
  },
  {
   "source": [
    "# Problem 3\n",
    "## Folding paper realistically"
   ],
   "cell_type": "markdown",
   "metadata": {}
  },
  {
   "cell_type": "code",
   "execution_count": 18,
   "metadata": {},
   "outputs": [
    {
     "output_type": "stream",
     "name": "stdout",
     "text": [
      "Paper of length 3.240919444170781e+21m is needed to fold 43 times to the moon (384400000m away)\nPaper of length 188646348487.24017m is needed to fold 26 times to the moon (3776m away)\nPaper of length 1.4595803601100348e+37m is needed to fold 69 times to the moon (4.1315e+16m away)\n"
     ]
    }
   ],
   "source": [
    "DISTANCE_MOON = 384400000\n",
    "def length_to_fold(n, paper_thickness):\n",
    "    return (pi * paper_thickness / 6) * (2**n + 4) * (2**n -1)\n",
    "def problem3():\n",
    "    thic = PAPER_THICKNESS\n",
    "    folds_moon = folds_to_pass(thic,DISTANCE_MOON)\n",
    "    paper_len_moon = length_to_fold(folds_moon,thic)\n",
    "\n",
    "    folds_fuji = folds_to_pass(thic,HEIGHT_FUJI)\n",
    "    paper_len_fuji = length_to_fold(folds_fuji,thic)\n",
    "\n",
    "    folds_alpha = folds_to_pass(thic,DISTANCE_ALPHA_A)\n",
    "    paper_len_alpha = length_to_fold(folds_alpha,thic)\n",
    "\n",
    "    print('Paper of length {}m is needed to fold {} times to the moon ({}m away)'.format(paper_len_moon,folds_moon, DISTANCE_MOON))\n",
    "    print('Paper of length {}m is needed to fold {} times to the moon ({}m away)'.format(paper_len_fuji,folds_fuji, HEIGHT_FUJI))\n",
    "    print('Paper of length {}m is needed to fold {} times to the moon ({}m away)'.format(paper_len_alpha,folds_alpha, DISTANCE_ALPHA_A))\n",
    "\n",
    "problem3()"
   ]
  }
 ]
}