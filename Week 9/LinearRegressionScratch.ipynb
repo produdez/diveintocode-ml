{
 "cells": [
  {
   "cell_type": "markdown",
   "id": "29b48e57-03e7-4786-adbc-d0576ed70268",
   "metadata": {},
   "source": [
    "# Introduction\n",
    "Intro to Linear Regression Scratch\n",
    "Let's create a class of linear regression from scratch. We will implement the algorithm using only the minimum libraries such as NumPy.\n",
    "\n"
   ]
  },
  {
   "cell_type": "code",
   "execution_count": 1,
   "id": "38b32cf2-12ea-4f1e-b710-94ade03548df",
   "metadata": {},
   "outputs": [],
   "source": [
    "# predefines and imports\n",
    "import numpy as np\n",
    "import matplotlib.pyplot as plt\n",
    "import seaborn as sns\n",
    "import pandas as pd"
   ]
  },
  {
   "cell_type": "code",
   "execution_count": 25,
   "id": "9101beed-6d32-4604-9328-cbec7aee34de",
   "metadata": {},
   "outputs": [],
   "source": [
    "# Prototype Linear reg\n",
    "class ScratchLinearRegression():\n",
    "    \"\"\"\n",
    "    \n",
    "    \n",
    "    Parameters\n",
    "    ----------\n",
    "    num_iter : int\n",
    "      \n",
    "    lr : float #learning rate\n",
    "      \n",
    "    no_bias : bool\n",
    "      \n",
    "    verbose : bool\n",
    "      \n",
    "    \n",
    "    Attributes\n",
    "    ----------\n",
    "    self.coef_ : \n",
    "      \n",
    "    self.loss : \n",
    "      \n",
    "    self.val_loss : \n",
    "      \n",
    "    \"\"\"\n",
    "    \n",
    "    def __init__(self, num_iter, lr, no_bias, verbose):\n",
    "        # \n",
    "        self.iter = num_iter\n",
    "        self.lr = lr\n",
    "        self.no_bias = no_bias\n",
    "        self.verbose = verbose\n",
    "        # \n",
    "        self.loss = np.zeros(self.iter)\n",
    "        self.val_loss = np.zeros(self.iter)\n",
    "    def add_bias(self,data):\n",
    "            if self.no_bias: return data\n",
    "            bias = np.ones((data.shape[0],1))\n",
    "            return np.hstack((bias,data))\n",
    "        \n",
    "    def fit(self, X, y, X_val=None, y_val=None):\n",
    "        if self.verbose: print(X.shape)\n",
    "        bias_X = self.add_bias(X)\n",
    "        k = bias_X.shape[-1]\n",
    "        self.coef_ = np.zeros(k)\n",
    "        \n",
    "        validation = not X_val is None\n",
    "        if validation: X_val_bias = self.add_bias(X_val)\n",
    "        for i in range(self.iter):\n",
    "            loss = self._objective_func(bias_X,y)\n",
    "            self.loss[i] = loss\n",
    "            if validation:\n",
    "                v_loss = self._objective_func(X_val_bias,y_val)\n",
    "                self.val_loss[i] = v_loss\n",
    "            self._gradient_descent(bias_X,y)\n",
    "        \n",
    "    def predict(self, X):\n",
    "        if self.no_bias:\n",
    "            return self._linear_hypothesis(X)\n",
    "        return self._linear_hypothesis(self.add_bias(X))\n",
    "    def _linear_hypothesis(self, X):\n",
    "            return X @ self.coef_\n",
    "    def _gradient_descent(self, X, y):\n",
    "        gradient = self._gradient(X,y)\n",
    "        self.coef_ = self.coef_ - self.lr * gradient\n",
    "    def _gradient(self,X,y):\n",
    "        return X.T @ (self._linear_hypothesis(X) - y) / X.shape[0]\n",
    "    def _objective_func(self,X,y):\n",
    "        return MSE(self._linear_hypothesis(X),y) / 2\n",
    "    def plot_learning_curve(self):\n",
    "        plt.plot(self.loss, label = 'Train Loss')\n",
    "        plt.plot(self.val_loss, label = 'Val Loss')\n",
    "        plt.legend()\n",
    "        plt.show()\n",
    "    \n",
    "def MSE(y_pred, y):\n",
    "    \"\"\"\n",
    "    \n",
    "    Parameters\n",
    "    ----------\n",
    "    y_pred : 次の形のndarray, shape (n_samples,)\n",
    "      \n",
    "    y : 次の形のndarray, shape (n_samples,)\n",
    "      \n",
    "    Returns\n",
    "    ----------\n",
    "    mse : numpy.float\n",
    "      \n",
    "    \"\"\"\n",
    "    n = y.shape[0]\n",
    "    return ((y-y_pred)**2).sum()/n"
   ]
  },
  {
   "cell_type": "markdown",
   "id": "0e220315-5ba9-43aa-aeb1-e15ac8ae1186",
   "metadata": {},
   "source": [
    "# Problem 1\n",
    "Hypothetical function"
   ]
  },
  {
   "cell_type": "code",
   "execution_count": 13,
   "id": "88743bd6-d07c-49b0-b589-71691d6205b1",
   "metadata": {},
   "outputs": [
    {
     "name": "stdout",
     "output_type": "stream",
     "text": [
      "6.5\n"
     ]
    }
   ],
   "source": [
    "# test p1\n",
    "def testp1():\n",
    "    model = ScratchLinearRegression(100,0.01,None,True)\n",
    "    model.coef_ = np.array([0.5,0.5,0.1,2])\n",
    "    x = np.array([1,3,5,2])\n",
    "    print(model._linear_hypothesis(x))\n",
    "testp1()"
   ]
  },
  {
   "cell_type": "markdown",
   "id": "1617aa35-757e-4178-9df1-444aaf358541",
   "metadata": {},
   "source": [
    "# Problem 2\n",
    "Gradient Decent Method"
   ]
  },
  {
   "cell_type": "code",
   "execution_count": 14,
   "id": "7626c75e-ec45-4c01-9656-1174e136531f",
   "metadata": {},
   "outputs": [
    {
     "name": "stdout",
     "output_type": "stream",
     "text": [
      "(4, 1)\n",
      "pred x: [2.04755472 6.00904891 9.97054311 4.02830181]\n",
      "final params:  [0.06680762 1.9807471 ]\n"
     ]
    }
   ],
   "source": [
    "def testp2():\n",
    "    model = ScratchLinearRegression(10000,0.001,False,True)\n",
    "    x = np.array([[1,3,5,2]]).T\n",
    "    y = np.array([2,6,10,4])\n",
    "    model.fit(x,y)\n",
    "    print('pred x:', model.predict(x))\n",
    "    print('final params: ', model.coef_)\n",
    "testp2()"
   ]
  },
  {
   "cell_type": "markdown",
   "id": "877a634b-e120-414a-95cf-65784f2b5a40",
   "metadata": {},
   "source": [
    "# Problem 3\n",
    "Predict"
   ]
  },
  {
   "cell_type": "code",
   "execution_count": 15,
   "id": "f241756a-408d-4a65-9928-c4d563922d5a",
   "metadata": {},
   "outputs": [],
   "source": [
    "#already used in problem 2"
   ]
  },
  {
   "cell_type": "markdown",
   "id": "eedf57ea-1bcb-4ae0-952f-a677cc1178fc",
   "metadata": {},
   "source": [
    "# Problem 4\n",
    "MSE"
   ]
  },
  {
   "cell_type": "code",
   "execution_count": 16,
   "id": "08e3820f-7aea-4f15-8b17-003d80985fd7",
   "metadata": {},
   "outputs": [
    {
     "name": "stdout",
     "output_type": "stream",
     "text": [
      "(4, 1)\n",
      "pred y: [2.30776053 6.05842174 9.80908294 4.18309114]\n",
      "Real y: [ 2  6 10  4]\n",
      "MSE:  0.04202533302409904\n"
     ]
    }
   ],
   "source": [
    "def testp3():\n",
    "    model = ScratchLinearRegression(1000,0.001,False,True)\n",
    "    x = np.array([[1,3,5,2]]).T\n",
    "    y = np.array([2,6,10,4])\n",
    "    model.fit(x,y)\n",
    "    print('pred y:', model.predict(x))\n",
    "    print('Real y:',y )\n",
    "    print('MSE: ', MSE(y,model.predict(x)))\n",
    "testp3()"
   ]
  },
  {
   "cell_type": "markdown",
   "id": "222b66ea-93aa-4466-930c-e2c14aed6e2d",
   "metadata": {},
   "source": [
    "# Problem 5\n",
    "Objective function"
   ]
  },
  {
   "cell_type": "code",
   "execution_count": 17,
   "id": "ed48ea67-e3f4-49a7-b7b5-05adac57d440",
   "metadata": {},
   "outputs": [
    {
     "name": "stdout",
     "output_type": "stream",
     "text": [
      "(4, 1)\n",
      "First losses:  [19.5        19.09166378 18.69189168 18.30050408 17.91732512]\n",
      "Last losses:  [0.02105632 0.02104758 0.02103885 0.02103012 0.02102139]\n"
     ]
    }
   ],
   "source": [
    "def testp5():\n",
    "    model = ScratchLinearRegression(1000,0.001,False,True)\n",
    "    x = np.array([[1,3,5,2]]).T\n",
    "    y = np.array([2,6,10,4])\n",
    "    model.fit(x,y)\n",
    "    print('First losses: ', model.loss[:5])\n",
    "    print('Last losses: ', model.loss[model.loss.shape[0] - 5:])\n",
    "testp5()"
   ]
  },
  {
   "cell_type": "markdown",
   "id": "121e1ffe-92b1-4ac7-9ada-941d572bb770",
   "metadata": {},
   "source": [
    "# Problem 6\n",
    "Learning and Estimation"
   ]
  },
  {
   "cell_type": "code",
   "execution_count": 18,
   "id": "3c181218-cc9c-4633-ac3f-290fe63b2004",
   "metadata": {},
   "outputs": [
    {
     "name": "stdout",
     "output_type": "stream",
     "text": [
      "(1460, 81)\n"
     ]
    },
    {
     "data": {
      "text/plain": [
       "Index(['Id', 'MSSubClass', 'MSZoning', 'LotFrontage', 'LotArea', 'Street',\n",
       "       'Alley', 'LotShape', 'LandContour', 'Utilities', 'LotConfig',\n",
       "       'LandSlope', 'Neighborhood', 'Condition1', 'Condition2', 'BldgType',\n",
       "       'HouseStyle', 'OverallQual', 'OverallCond', 'YearBuilt', 'YearRemodAdd',\n",
       "       'RoofStyle', 'RoofMatl', 'Exterior1st', 'Exterior2nd', 'MasVnrType',\n",
       "       'MasVnrArea', 'ExterQual', 'ExterCond', 'Foundation', 'BsmtQual',\n",
       "       'BsmtCond', 'BsmtExposure', 'BsmtFinType1', 'BsmtFinSF1',\n",
       "       'BsmtFinType2', 'BsmtFinSF2', 'BsmtUnfSF', 'TotalBsmtSF', 'Heating',\n",
       "       'HeatingQC', 'CentralAir', 'Electrical', '1stFlrSF', '2ndFlrSF',\n",
       "       'LowQualFinSF', 'GrLivArea', 'BsmtFullBath', 'BsmtHalfBath', 'FullBath',\n",
       "       'HalfBath', 'BedroomAbvGr', 'KitchenAbvGr', 'KitchenQual',\n",
       "       'TotRmsAbvGrd', 'Functional', 'Fireplaces', 'FireplaceQu', 'GarageType',\n",
       "       'GarageYrBlt', 'GarageFinish', 'GarageCars', 'GarageArea', 'GarageQual',\n",
       "       'GarageCond', 'PavedDrive', 'WoodDeckSF', 'OpenPorchSF',\n",
       "       'EnclosedPorch', '3SsnPorch', 'ScreenPorch', 'PoolArea', 'PoolQC',\n",
       "       'Fence', 'MiscFeature', 'MiscVal', 'MoSold', 'YrSold', 'SaleType',\n",
       "       'SaleCondition', 'SalePrice'],\n",
       "      dtype='object')"
      ]
     },
     "execution_count": 18,
     "metadata": {},
     "output_type": "execute_result"
    }
   ],
   "source": [
    "house_data = pd.read_csv('../Data/Normal/houseprice_train.csv')\n",
    "print(house_data.shape)\n",
    "house_data.columns"
   ]
  },
  {
   "cell_type": "code",
   "execution_count": 19,
   "id": "91b304e2-9091-4c98-8966-66b591361ece",
   "metadata": {},
   "outputs": [],
   "source": [
    "X = house_data[['LotArea', 'OverallQual', 'TotalBsmtSF', 'GrLivArea', \n",
    "                'BedroomAbvGr', 'KitchenAbvGr', 'GarageArea']]\n",
    "Y = house_data['SalePrice']\n"
   ]
  },
  {
   "cell_type": "code",
   "execution_count": 20,
   "id": "24019b7a-8e59-431c-9e53-0038d88401ef",
   "metadata": {},
   "outputs": [
    {
     "name": "stdout",
     "output_type": "stream",
     "text": [
      "(1095, 7)\n",
      "Scratch Result mse: 1431365578.4306357\n"
     ]
    }
   ],
   "source": [
    "from sklearn.model_selection import train_test_split\n",
    "from sklearn.preprocessing import StandardScaler\n",
    "X = StandardScaler().fit_transform(X)\n",
    "x_train,x_test,y_train,y_test = train_test_split(X,Y)\n",
    "\n",
    "def scratch_linear_testp6():\n",
    "    model = ScratchLinearRegression(10000,0.001,False,True)\n",
    "    model.fit(x_train,y_train)\n",
    "    y_pred = model.predict(x_test)\n",
    "    mse = MSE(y_pred,y_test)\n",
    "    print('Scratch Result mse:',mse)\n",
    "scratch_linear_testp6()"
   ]
  },
  {
   "cell_type": "code",
   "execution_count": 21,
   "id": "a0bb3c01-6f4d-448f-b655-7df05f639e19",
   "metadata": {},
   "outputs": [
    {
     "name": "stdout",
     "output_type": "stream",
     "text": [
      "Sklearn mse: 1432251281.8562305\n"
     ]
    }
   ],
   "source": [
    "from sklearn.linear_model import LinearRegression\n",
    "from sklearn.metrics import mean_squared_error\n",
    "def sklearn_linear_testp6():\n",
    "    linear = LinearRegression()\n",
    "    linear.fit(x_train,y_train)\n",
    "    y_pred = linear.predict(x_test)\n",
    "    mse = mean_squared_error(y_test,y_pred)\n",
    "    print('Sklearn mse:', mse)\n",
    "sklearn_linear_testp6()"
   ]
  },
  {
   "cell_type": "markdown",
   "id": "dc22cb5d-6d58-4c1b-a240-5366bcfaa33f",
   "metadata": {},
   "source": [
    "# Problem 7\n",
    "Plot learning curve"
   ]
  },
  {
   "cell_type": "code",
   "execution_count": 36,
   "id": "5ca4df31-d189-4d29-82be-343384c29b58",
   "metadata": {},
   "outputs": [
    {
     "name": "stdout",
     "output_type": "stream",
     "text": [
      "(1095, 7)\n"
     ]
    },
    {
     "data": {
      "image/png": "[encoded data removed]",
      "text/plain": [
       "<Figure size 432x288 with 1 Axes>"
      ]
     },
     "metadata": {
      "needs_background": "light"
     },
     "output_type": "display_data"
    }
   ],
   "source": [
    "def testp7():\n",
    "    model = ScratchLinearRegression(1000,0.001,False,True)\n",
    "    model.fit(x_train,y_train,x_test,y_test)\n",
    "    model.plot_learning_curve()\n",
    "testp7()"
   ]
  },
  {
   "cell_type": "markdown",
   "id": "1b5c019e-4ebf-4667-87ac-a72805d8c0c0",
   "metadata": {},
   "source": [
    "# Problem 8\n",
    "Remove bias terms"
   ]
  },
  {
   "cell_type": "code",
   "execution_count": 38,
   "id": "b8c7c618-7efd-42fc-b6cb-771e1fe6f1ec",
   "metadata": {},
   "outputs": [
    {
     "name": "stdout",
     "output_type": "stream",
     "text": [
      "(1095, 7)\n"
     ]
    },
    {
     "data": {
      "image/png": "[encoded data removed]",
      "text/plain": [
       "<Figure size 432x288 with 1 Axes>"
      ]
     },
     "metadata": {
      "needs_background": "light"
     },
     "output_type": "display_data"
    }
   ],
   "source": [
    "def testp8():\n",
    "    model = ScratchLinearRegression(1000,0.001,True,True)\n",
    "    model.fit(x_train,y_train,x_test,y_test)\n",
    "    model.plot_learning_curve()\n",
    "testp8()"
   ]
  },
  {
   "cell_type": "markdown",
   "id": "7896a77a-ccee-460e-a87c-5e5d71bd034d",
   "metadata": {},
   "source": [
    "### NOTE:\n",
    "Seems that from removing the bias $\\theta _0$, the model cant fit well anymore since we're removing one deg of freedom, which is the intercept, only allowing our model to 'rotate'"
   ]
  },
  {
   "cell_type": "markdown",
   "id": "1b1c4c7e-ede0-40ee-aaac-3abc97bb2911",
   "metadata": {},
   "source": [
    "# Problem 9\n",
    "Multidimensionalization of feature quantities"
   ]
  },
  {
   "cell_type": "markdown",
   "id": "7e591c73-d12a-4a24-8055-620fcac01b14",
   "metadata": {},
   "source": [
    "### NOTE:\n",
    "I cant understand the requirement very well.\n",
    "\n",
    "Though if it's trying to tell me to add more features, i've already done that!."
   ]
  },
  {
   "cell_type": "markdown",
   "id": "a2a495c5-f18d-4ccb-be5e-80ca8e4fee99",
   "metadata": {},
   "source": [
    "# Problem 10\n",
    "Deriving Formula"
   ]
  },
  {
   "cell_type": "markdown",
   "id": "2ade04df-8a39-42e8-a5b8-a6512e5b2104",
   "metadata": {},
   "source": [
    "![image](./gradient_des.jpg)"
   ]
  },
  {
   "cell_type": "markdown",
   "id": "9eca3967-6829-4954-a35e-dae7b612803f",
   "metadata": {},
   "source": [
    "# Problem 11\n",
    "Problem of local optimal solution"
   ]
  },
  {
   "cell_type": "markdown",
   "id": "2b05956b-5789-452e-8974-1c518941b0f6",
   "metadata": {},
   "source": [
    "### NOTE: Problem 11\n",
    "**So the question is how can gradient descent give optimal solution for linear regression but only local minima in many other cases?**\n",
    "\n",
    "- I would argue that's because of the nature of the loss function of linear model.\n",
    "- The objective function is mse, made from euclid distance, x^2\n",
    "- It is continuous, has derivative and most importantly, only have one minima for each dimension.\n",
    "- That's why the minima we find is always the best"
   ]
  }
 ],
 "metadata": {
  "kernelspec": {
   "display_name": "ML",
   "language": "python",
   "name": "ml"
  },
  "language_info": {
   "codemirror_mode": {
    "name": "ipython",
    "version": 3
   },
   "file_extension": ".py",
   "mimetype": "text/x-python",
   "name": "python",
   "nbconvert_exporter": "python",
   "pygments_lexer": "ipython3",
   "version": "3.8.5"
  }
 },
 "nbformat": 4,
 "nbformat_minor": 5
}
