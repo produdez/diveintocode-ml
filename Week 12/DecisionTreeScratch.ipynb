{
 "cells": [
  {
   "cell_type": "markdown",
   "metadata": {},
   "source": [
    "# Introduction\n",
    "We will create a class of decision trees for classification by scratching. We will implement the algorithm using only the minimum library such as NumPy.\n",
    "\n",
    "\n",
    "​In the learning of the decision tree, a hyperparameter called the (maximum) depth that indicates how many times the conditional branch is repeated appears, but the implementation of depth 1 is an essential assignment. Those with a depth of 2 or more are considered as advanced assignment.\n",
    "\n",
    "\n",
    "There are various learning methods, but here we will implement based on the CART method, which is also used in scikit-learn.​ ​This method only splits the branch into two to reduce the complexity of learning.\n",
    "\n"
   ]
  },
  {
   "cell_type": "code",
   "execution_count": 1,
   "metadata": {},
   "outputs": [],
   "source": [
    "# predefines and import\n",
    "import numpy as np\n",
    "import pandas as pd\n",
    "import matplotlib.pyplot as plt\n",
    "import seaborn as sns"
   ]
  },
  {
   "cell_type": "markdown",
   "metadata": {},
   "source": [
    "# Prototype"
   ]
  },
  {
   "cell_type": "code",
   "execution_count": 2,
   "metadata": {},
   "outputs": [],
   "source": [
    "class ScratchDecesionTreeClassifierDepth1():\n",
    "    \"\"\"\n",
    "    Depth 1 decision tree classifier scratch implementation\n",
    "    Parameters\n",
    "    ----------\n",
    "    verbose : bool\n",
    "      True to output the learning process\n",
    "    \"\"\"\n",
    "    def __init__(self, verbose=False):\n",
    "        # Record hyperparameters as attributes\n",
    "        self.verbose = verbose\n",
    "    def fit(self, X, y):\n",
    "        \"\"\"\n",
    "        Learn the decision tree classifier\n",
    "        Parameters\n",
    "        ----------\n",
    "        X : The following forms of ndarray, shape (n_samples, n_features)\n",
    "            Features of training data\n",
    "        y : The following form of ndarray, shape (n_samples,)\n",
    "            Correct answer value of training data\n",
    "        \"\"\"\n",
    "        if self.verbose:\n",
    "            #Output the learning process when #verbose is set to True\n",
    "            print()\n",
    "        pass\n",
    "    def predict(self, X):\n",
    "        \"\"\"\n",
    "        Estimate the label using a decision tree classifier\n",
    "        \"\"\"\n",
    "        pass\n",
    "        return"
   ]
  },
  {
   "cell_type": "markdown",
   "metadata": {},
   "source": [
    "# Problem 1\n",
    "Function for finding impureness"
   ]
  },
  {
   "cell_type": "code",
   "execution_count": 3,
   "metadata": {},
   "outputs": [],
   "source": [
    "# defining simple node and class\n",
    "class Class():\n",
    "    def __init__(self, n_samples):\n",
    "        self.n_samples = n_samples\n",
    "    def __str__(self):\n",
    "        return f'Class:{self.n_samples}'\n",
    "class Node():\n",
    "    def __init__(self, *classes,left = None, right = None):\n",
    "        self.classes = classes\n",
    "        self.n_classes = len(classes)\n",
    "        self.left = left\n",
    "        self.right = right\n",
    "    def total(self):\n",
    "        return sum([c.n_samples for c in self.classes])\n",
    "    def __str__(self):\n",
    "        return f'Node - {self.n_classes} Classes: {[ f\"{i}:{str(c)}\"for i,c in enumerate(self.classes)]}'"
   ]
  },
  {
   "cell_type": "code",
   "execution_count": 4,
   "metadata": {},
   "outputs": [
    {
     "name": "stdout",
     "output_type": "stream",
     "text": [
      "---\n",
      "Node - 2 Classes: ['0:Class:15', '1:Class:15']\n",
      "gini-impureness:  0.5\n",
      "---\n",
      "Node - 3 Classes: ['0:Class:15', '1:Class:15', '2:Class:15']\n",
      "gini-impureness:  0.6666666666666667\n",
      "---\n",
      "Node - 2 Classes: ['0:Class:18', '1:Class:12']\n",
      "gini-impureness:  0.48\n",
      "---\n",
      "Node - 2 Classes: ['0:Class:30', '1:Class:0']\n",
      "gini-impureness:  0.0\n"
     ]
    }
   ],
   "source": [
    "def gini_impureness(node):\n",
    "    total_sample_count = node.total()\n",
    "    sum_squared_percentage = 0\n",
    "    for i in range(node.n_classes):\n",
    "        sum_squared_percentage += (node.classes[i].n_samples / total_sample_count) ** 2\n",
    "    return 1 - sum_squared_percentage\n",
    "def test_gini():\n",
    "    n1 = Node(Class(15),Class(15))\n",
    "    n2 = Node(Class(15),Class(15),Class(15))\n",
    "    n3 = Node(Class(18),Class(12))\n",
    "    n4 = Node(Class(30),Class(0))\n",
    "    for n in [n1,n2,n3,n4]:\n",
    "        print('---')\n",
    "        print(str(n))\n",
    "        print('gini-impureness: ', gini_impureness(n))\n",
    "test_gini()"
   ]
  },
  {
   "cell_type": "markdown",
   "metadata": {},
   "source": [
    "# Problem 2\n",
    "Function for finding information gain"
   ]
  },
  {
   "cell_type": "code",
   "execution_count": 46,
   "metadata": {},
   "outputs": [
    {
     "name": "stdout",
     "output_type": "stream",
     "text": [
      "---\n",
      " Node - 2 children: \n",
      "|--0: Class:15\n",
      "|--1: Class:15\n",
      "gini-impureness:  0.5\n",
      "---\n",
      " Node - 3 children: \n",
      "|--0: Class:15\n",
      "|--1: Class:15\n",
      "|--2: Class:15\n",
      "gini-impureness:  0.6666666666666667\n",
      "---\n",
      " Node - 2 children: \n",
      "|--0: Class:18\n",
      "|--1: Class:12\n",
      "gini-impureness:  0.48\n",
      "---\n",
      " Node - 2 children: \n",
      "|--0: Class:30\n",
      "|--1: Class:0\n",
      "gini-impureness:  0.0\n"
     ]
    }
   ],
   "source": [
    "# more complex node class\n",
    "class Class():\n",
    "    def __init__(self, n_samples, level = 0):\n",
    "        self.n_samples = n_samples\n",
    "        self.level = level\n",
    "    def count(self): \n",
    "        return self.n_samples\n",
    "    def __str__(self):\n",
    "        return f' Class:{self.n_samples}'\n",
    "class Node():\n",
    "    def __init__(self, *children, level = 0):\n",
    "        self.children = children # child can be node or class\n",
    "        self.n_child = len(children)\n",
    "        self.level = level\n",
    "    def count(self):\n",
    "        return sum([child.count() for child in self.children])\n",
    "    def child(self,i):\n",
    "        return self.children[i]\n",
    "    def __str__(self):\n",
    "        tabbing = '\\t' * self.level\n",
    "        start = f' Node - {self.n_child} children: \\n'\n",
    "        for child in self.children: child.level = self.level + 1\n",
    "        end = [ f'{i}:{str(child)}'for i,child in enumerate(self.children) ]\n",
    "        separator = tabbing + '|--'\n",
    "        return start + separator + ('\\n' + separator).join(end)\n",
    "\n",
    "# updated gini impureness\n",
    "def gini_impureness(node):\n",
    "    total_sample_count = node.count()\n",
    "    sum_squared_percentage = 0\n",
    "    for i in range(node.n_child):\n",
    "        sum_squared_percentage += (node.child(i).count() / total_sample_count)**2 \n",
    "    return 1 - sum_squared_percentage\n",
    "\n",
    "test_gini()"
   ]
  },
  {
   "cell_type": "code",
   "execution_count": 55,
   "metadata": {},
   "outputs": [
    {
     "name": "stdout",
     "output_type": "stream",
     "text": [
      "Parent Node:   Node - 2 children: \n",
      "|--0: Node - 2 children: \n",
      "\t|--0: Class:10\n",
      "\t|--1: Class:30\n",
      "|--1: Node - 2 children: \n",
      "\t|--0: Class:20\n",
      "\t|--1: Class:5\n",
      "Gini Gain:  0.11952662721893492\n"
     ]
    }
   ],
   "source": [
    "def gini_gain(parent):\n",
    "    total_count = parent.count()\n",
    "    information_loss = sum([\n",
    "        child.count() / total_count * gini_impureness(child) \n",
    "        for child in parent.children])\n",
    "        \n",
    "    return gini_impureness(parent) - information_loss\n",
    "\n",
    "parent_node = Node(\n",
    "    Node(Class(10),Class(30)),\n",
    "    Node(Class(20), Class(5)),\n",
    ")\n",
    "\n",
    "\n",
    "print('Parent Node: ', str(parent_node))\n",
    "print('Gini Gain: ', gini_gain(parent_node))"
   ]
  },
  {
   "cell_type": "markdown",
   "metadata": {},
   "source": [
    "### NOTE:\n",
    "- in prob2 , the Information gain is actually Gini-Gain\n",
    "- the example Left node class 1: Number of samples 10, Left node class 2: Number of samples 30, Right node class 1: Number of samples 20, Right node class 2: Number of samples 5 → Information gain 0.143 has different result from mine!"
   ]
  },
  {
   "cell_type": "markdown",
   "metadata": {},
   "source": [
    "# Problem 3\n",
    "Learning"
   ]
  },
  {
   "cell_type": "markdown",
   "metadata": {},
   "source": [
    "# TODO:\n",
    "- Split by threshold (larger equal, smaller) (split function)\n",
    "- Choose attribute to split \n",
    "- -> All combinations must be checked\n"
   ]
  },
  {
   "cell_type": "markdown",
   "metadata": {},
   "source": [
    "# Problem 4\n",
    "Estimation"
   ]
  },
  {
   "cell_type": "markdown",
   "metadata": {},
   "source": [
    "# TODO\n",
    "- Traverse the tree to see solution!"
   ]
  }
 ],
 "metadata": {
  "language_info": {
   "name": "python",
   "nbconvert_exporter": "python"
  },
  "orig_nbformat": 2
 },
 "nbformat": 4,
 "nbformat_minor": 2
}