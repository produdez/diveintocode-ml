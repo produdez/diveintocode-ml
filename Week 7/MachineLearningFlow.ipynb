{
 "cells": [
  {
   "cell_type": "markdown",
   "metadata": {},
   "source": [
    "# Introduction\n",
    "Know the practical flow of machine learning\n",
    "Complete a model with high generalization performance"
   ]
  },
  {
   "cell_type": "code",
   "execution_count": 55,
   "metadata": {},
   "outputs": [],
   "source": [
    "# predefines and import\n",
    "import pandas as pd\n",
    "import sklearn as sk\n",
    "import numpy as np\n",
    "import matplotlib.pyplot as plt\n",
    "import seaborn as sns"
   ]
  },
  {
   "cell_type": "markdown",
   "metadata": {},
   "source": [
    "# Data Prep\n",
    "Let's copy the baseline model"
   ]
  },
  {
   "cell_type": "code",
   "execution_count": 56,
   "metadata": {},
   "outputs": [
    {
     "name": "stdout",
     "output_type": "stream",
     "text": [
      "Any Null value? False\n",
      "         SVR\n",
      "MSE  0.13696\n"
     ]
    }
   ],
   "source": [
    "init_data = pd.read_csv('../Data/Normal/houseprice_train.csv')\n",
    "house_price = init_data[['GrLivArea','YearBuilt','TotalBsmtSF','OverallQual','SalePrice']]\n",
    "print('Any Null value?',house_price.isnull().sum().all())\n",
    "\n",
    "from sklearn.model_selection import train_test_split\n",
    "from sklearn.preprocessing import StandardScaler\n",
    "scaler = StandardScaler()\n",
    "X = house_price[['GrLivArea','YearBuilt','TotalBsmtSF','OverallQual']]\n",
    "Y = house_price[['SalePrice']]\n",
    "X = scaler.fit_transform(X)\n",
    "Y = scaler.fit_transform(Y).reshape((Y.shape[0],))\n",
    "x_train,x_test,y_train,y_test = train_test_split(X,Y,test_size=0.2)\n",
    "train = x_train,y_train\n",
    "test = x_test,y_test\n",
    "\n",
    "\n",
    "def plot_prediction(xtest,ytest,pred, methodname):\n",
    "    fig = plt.figure(figsize=[8,8])\n",
    "    ax = fig.add_subplot(projection='3d')\n",
    "    ax.set_title(methodname)\n",
    "    ax.scatter(xtest[:,0],xtest[:,1],ytest,c = 'lightblue')\n",
    "    ax.scatter(xtest[:,0],xtest[:,1],pred,c = 'red')\n",
    "    ax.legend(['Real Values', 'Predictions'])\n",
    "    ax.set_xlabel('LivingRoom Area')\n",
    "    ax.set_ylabel('Year Built')\n",
    "    ax.set_zlabel('Sale Price')\n",
    "    plt.show()\n",
    "\n",
    "def test_plot_summary(cls, train,test,plot = True):\n",
    "    x_train,y_train = train\n",
    "    x_test,y_test = test\n",
    "    cls.fit(x_train,y_train)\n",
    "    prediction = cls.predict(x_test)\n",
    "\n",
    "    method_name = cls.__class__.__name__\n",
    "    if plot: plot_prediction(x_test,y_test,prediction,method_name)\n",
    "    return pd.DataFrame(columns=[method_name], index= ['MSE'], data=[[mean_squared_error(y_test,prediction)]])\n",
    "\n",
    "\n",
    "from sklearn.linear_model import LinearRegression\n",
    "from sklearn.metrics import mean_squared_error\n",
    "from sklearn.svm import SVR\n",
    "\n",
    "cls = SVR()\n",
    "summary = test_plot_summary(cls, train,test,plot = False)\n",
    "print(summary)"
   ]
  },
  {
   "cell_type": "markdown",
   "metadata": {},
   "source": [
    "# Problem 1\n",
    "## Cross Validation"
   ]
  },
  {
   "cell_type": "code",
   "execution_count": 57,
   "metadata": {},
   "outputs": [
    {
     "name": "stdout",
     "output_type": "stream",
     "text": [
      "[0.14291340718541917, 0.19050930282014564, 0.2401485514475553, 0.11284134542682014, 0.28461876174798084]\n",
      "AVG score:  0.19420627372558422\n"
     ]
    }
   ],
   "source": [
    "from sklearn.linear_model import SGDClassifier\n",
    "from sklearn.model_selection import KFold\n",
    "from sklearn.metrics import accuracy_score\n",
    "model = SVR()\n",
    "k = 5\n",
    "kfold = KFold(n_splits= 5)\n",
    "score = []\n",
    "for train_index, test_index in kfold.split(X):\n",
    "    x_train,x_test = X[train_index], X[test_index]\n",
    "    y_train,y_test = Y[train_index], Y[test_index]\n",
    "    model.fit(x_train,y_train)\n",
    "    pred = model.predict(x_test)\n",
    "    score.append(mean_squared_error(y_test,pred))\n",
    "print(score)\n",
    "print('AVG score: ', np.average(score))\n"
   ]
  },
  {
   "cell_type": "markdown",
   "metadata": {},
   "source": [
    "# Problem 2\n",
    "## Grid Search"
   ]
  },
  {
   "cell_type": "code",
   "execution_count": 58,
   "metadata": {},
   "outputs": [
    {
     "data": {
      "text/plain": "{'C': 1.0,\n 'cache_size': 200,\n 'coef0': 0.0,\n 'degree': 3,\n 'epsilon': 0.1,\n 'gamma': 'scale',\n 'kernel': 'rbf',\n 'max_iter': -1,\n 'shrinking': True,\n 'tol': 0.001,\n 'verbose': False}"
     },
     "metadata": {},
     "output_type": "display_data"
    }
   ],
   "source": [
    "display(model.get_params())"
   ]
  },
  {
   "cell_type": "code",
   "execution_count": 59,
   "metadata": {},
   "outputs": [
    {
     "name": "stdout",
     "output_type": "stream",
     "text": [
      "Fitting 3 folds for each of 24 candidates, totalling 72 fits\n",
      "{'coef0': 0.01, 'degree': 3, 'kernel': 'rbf'}\n",
      "SVR Error:  -0.14436565770267767\n"
     ]
    }
   ],
   "source": [
    "from sklearn.model_selection import GridSearchCV\n",
    "param_svr = {\n",
    "    'kernel' : ('linear', 'poly', 'rbf', 'sigmoid'),\n",
    "    'degree' : [3,8],\n",
    "    'coef0' : [0.01,0.1,0.5],\n",
    "    }\n",
    "base_estimator = SVR() \n",
    "grid_search_model = GridSearchCV(base_estimator,param_svr,cv = 3,n_jobs = -1, verbose = 2,scoring='neg_mean_squared_error')\n",
    "grid_search_model.fit(X,Y)\n",
    "print(grid_search_model.best_params_)\n",
    "#Model score of the best param \n",
    "score0 = grid_search_model.score(X,Y)\n",
    "print('SVR Error: ', score0)\n"
   ]
  },
  {
   "cell_type": "markdown",
   "metadata": {},
   "source": [
    "# Problem 3\n",
    "## Survey the Kaggle Community"
   ]
  },
  {
   "cell_type": "markdown",
   "metadata": {},
   "source": [
    "### NOTE: Ideas\n",
    "**So this assignment is about comparing the 'generalization' of models**\n",
    "\n",
    "Some modes that can be used (Surveyed Kaggle):\n",
    "- Lasso Regression\n",
    "- Random Forest Regressor\n",
    "- Gradient Boosting Regressor\n",
    "\n",
    "I'll compare these models with K-fold validation and choose the best performing one.\n",
    "\n",
    "Parameter tuning if possible "
   ]
  },
  {
   "cell_type": "markdown",
   "metadata": {},
   "source": [
    "# Problem 4\n",
    "## Creating a model with high generalization performance"
   ]
  },
  {
   "cell_type": "code",
   "execution_count": null,
   "metadata": {},
   "outputs": [
    {
     "name": "stdout",
     "output_type": "stream",
     "text": [
      "Fitting 5 folds for each of 5 candidates, totalling 25 fits\n",
      "{'alpha': 0.005}\n",
      "Lasso regression score: -0.2421882692302284\n"
     ]
    }
   ],
   "source": [
    "param_lasso = [\n",
    "    {\n",
    "        'alpha' : [0.005, 0.02, 0.03, 0.05, 0.06],\n",
    "    }\n",
    "]\n",
    "\n",
    "from sklearn.linear_model import Lasso\n",
    "lasso = Lasso()\n",
    "grid_search_model = GridSearchCV(lasso,param_lasso,scoring='neg_mean_squared_error',cv = 3,n_jobs = -1, verbose = 2)\n",
    "grid_search_model.fit(X,Y)\n",
    "print(grid_search_model.best_params_)\n",
    "score1 = grid_search_model.score(X,Y)\n",
    "print('Lasso regression score:', score1)"
   ]
  },
  {
   "cell_type": "code",
   "execution_count": 63,
   "metadata": {},
   "outputs": [
    {
     "name": "stdout",
     "output_type": "stream",
     "text": [
      "Fitting 3 folds for each of 60 candidates, totalling 180 fits\n",
      "{'criterion': 'mae', 'max_depth': 8, 'max_features': 'sqrt', 'n_estimators': 500}\n",
      "Random Forest regression score: -0.07024430907219678\n"
     ]
    }
   ],
   "source": [
    "from sklearn.model_selection import cross_val_score\n",
    "from sklearn.ensemble import RandomForestRegressor\n",
    "\n",
    "forest = RandomForestRegressor()\n",
    "param_grid = { \n",
    "    'n_estimators': [200, 500],\n",
    "    'max_features': ['auto', 'sqrt', 'log2'],\n",
    "    'max_depth' : [4,5,6,7,8],\n",
    "    'criterion' :['mse', 'mae']\n",
    "}\n",
    "random_forest = RandomForestRegressor(random_state=42)\n",
    "grid_search_model = GridSearchCV(forest,param_grid,cv = 3,scoring='neg_mean_squared_error',verbose=2, n_jobs=-1)\n",
    "grid_search_model.fit(X,Y)\n",
    "print(grid_search_model.best_params_)\n",
    "score2 = grid_search_model.score(X,Y)\n",
    "print('Random Forest regression score:', score2)  "
   ]
  },
  {
   "cell_type": "code",
   "execution_count": 64,
   "metadata": {},
   "outputs": [
    {
     "name": "stdout",
     "output_type": "stream",
     "text": [
      "Fitting 3 folds for each of 81 candidates, totalling 243 fits\n",
      "{'learning_rate': 0.01, 'max_depth': 4, 'n_estimators': 500, 'subsample': 0.9}\n",
      "Gradient Boosting score:  -0.07280230776660525\n"
     ]
    }
   ],
   "source": [
    "from sklearn.ensemble import GradientBoostingRegressor\n",
    "# gradient = GradientBoostingClassifier(max_features = 'sqrt', max_depth = 2, learning_rate = 0.5)\n",
    "gadient = GradientBoostingRegressor()\n",
    "param_gradient = {'learning_rate': [0.01,0.05,0.1],\n",
    "                  'subsample'    : [0.9, 0.5, 0.1],\n",
    "                  'n_estimators' : [100,500,1000],\n",
    "                  'max_depth'    : [4,8,10]\n",
    "                 }\n",
    "\n",
    "grid_search_model = GridSearchCV(gadient,param_gradient,cv = 3,scoring='neg_mean_squared_error',verbose=2, n_jobs=-1)\n",
    "grid_search_model.fit(X,Y)\n",
    "print(grid_search_model.best_params_)\n",
    "score3 = grid_search_model.score(X,Y)\n",
    "print('Gradient Boosting score: ',score3)   "
   ]
  },
  {
   "cell_type": "code",
   "execution_count": 67,
   "metadata": {},
   "outputs": [
    {
     "name": "stdout",
     "output_type": "stream",
     "text": [
      "{'SVR': -0.14436565770267767, 'Lasso': -0.2421882692302284, 'GradientBoost': -0.07280230776660525, 'RandomForest': -0.07024430907219678}\n",
      "Best Model:  RandomForest\n"
     ]
    }
   ],
   "source": [
    "# Comparing all:\n",
    "score_map = {'SVR': score0, 'Lasso': score1, 'GradientBoost': score3,'RandomForest': score2}\n",
    "best = -10\n",
    "mod = None\n",
    "print(score_map)\n",
    "for model,value in score_map.items():\n",
    "    if value > best: \n",
    "        best = value\n",
    "        mod = model\n",
    "print('Best Model: ', mod)\n",
    "        \n"
   ]
  },
  {
   "cell_type": "markdown",
   "metadata": {},
   "source": [
    "# Problem 5\n",
    "## Final model selection"
   ]
  },
  {
   "cell_type": "markdown",
   "metadata": {},
   "source": [
    "### NOTE: From the above result\n",
    "I'll go with the random forest model.\n",
    "\n",
    "**Model will be re-train on the full dataset to get most of the value**"
   ]
  },
  {
   "cell_type": "code",
   "execution_count": 68,
   "metadata": {},
   "outputs": [
    {
     "data": {
      "text/plain": "RandomForestRegressor(criterion='mae', max_depth=8, max_features='sqrt',\n                      n_estimators=500)"
     },
     "execution_count": 68,
     "metadata": {},
     "output_type": "execute_result"
    }
   ],
   "source": [
    "# best param: {'criterion': 'mae', 'max_depth': 8, 'max_features': 'sqrt', 'n_estimators': 500}\n",
    "final_model = RandomForestRegressor(criterion='mae',max_depth=8, max_features='sqrt', n_estimators=500)\n",
    "final_model.fit(X,Y)\n"
   ]
  },
  {
   "cell_type": "code",
   "execution_count": 91,
   "metadata": {},
   "outputs": [
    {
     "name": "stdout",
     "output_type": "stream",
     "text": [
      "Null check: \n"
     ]
    },
    {
     "data": {
      "text/plain": "GrLivArea      0\nYearBuilt      0\nTotalBsmtSF    1\nOverallQual    0\ndtype: int64"
     },
     "metadata": {},
     "output_type": "display_data"
    },
    {
     "name": "stdout",
     "output_type": "stream",
     "text": [
      "Test Data\n"
     ]
    },
    {
     "data": {
      "text/html": "<div>\n<style scoped>\n    .dataframe tbody tr th:only-of-type {\n        vertical-align: middle;\n    }\n\n    .dataframe tbody tr th {\n        vertical-align: top;\n    }\n\n    .dataframe thead th {\n        text-align: right;\n    }\n</style>\n<table border=\"1\" class=\"dataframe\">\n  <thead>\n    <tr style=\"text-align: right;\">\n      <th></th>\n      <th>GrLivArea</th>\n      <th>YearBuilt</th>\n      <th>TotalBsmtSF</th>\n      <th>OverallQual</th>\n    </tr>\n  </thead>\n  <tbody>\n    <tr>\n      <th>0</th>\n      <td>896</td>\n      <td>1961</td>\n      <td>882.0</td>\n      <td>5</td>\n    </tr>\n    <tr>\n      <th>1</th>\n      <td>1329</td>\n      <td>1958</td>\n      <td>1329.0</td>\n      <td>6</td>\n    </tr>\n    <tr>\n      <th>2</th>\n      <td>1629</td>\n      <td>1997</td>\n      <td>928.0</td>\n      <td>5</td>\n    </tr>\n    <tr>\n      <th>3</th>\n      <td>1604</td>\n      <td>1998</td>\n      <td>926.0</td>\n      <td>6</td>\n    </tr>\n    <tr>\n      <th>4</th>\n      <td>1280</td>\n      <td>1992</td>\n      <td>1280.0</td>\n      <td>8</td>\n    </tr>\n  </tbody>\n</table>\n</div>",
      "text/plain": "   GrLivArea  YearBuilt  TotalBsmtSF  OverallQual\n0        896       1961        882.0            5\n1       1329       1958       1329.0            6\n2       1629       1997        928.0            5\n3       1604       1998        926.0            6\n4       1280       1992       1280.0            8"
     },
     "metadata": {},
     "output_type": "display_data"
    },
    {
     "name": "stdout",
     "output_type": "stream",
     "text": [
      "result\n"
     ]
    },
    {
     "data": {
      "text/plain": "array([255160.438, 255160.438, 255160.438, 255160.438, 255160.438,\n       255160.438, 255160.438, 255160.438, 255160.438, 255160.438])"
     },
     "metadata": {},
     "output_type": "display_data"
    },
    {
     "data": {
      "text/html": "<div>\n<style scoped>\n    .dataframe tbody tr th:only-of-type {\n        vertical-align: middle;\n    }\n\n    .dataframe tbody tr th {\n        vertical-align: top;\n    }\n\n    .dataframe thead th {\n        text-align: right;\n    }\n</style>\n<table border=\"1\" class=\"dataframe\">\n  <thead>\n    <tr style=\"text-align: right;\">\n      <th></th>\n      <th>Id</th>\n      <th>SalePrice</th>\n    </tr>\n  </thead>\n  <tbody>\n    <tr>\n      <th>0</th>\n      <td>1461</td>\n      <td>255160.438</td>\n    </tr>\n    <tr>\n      <th>1</th>\n      <td>1462</td>\n      <td>255160.438</td>\n    </tr>\n    <tr>\n      <th>2</th>\n      <td>1463</td>\n      <td>255160.438</td>\n    </tr>\n    <tr>\n      <th>3</th>\n      <td>1464</td>\n      <td>255160.438</td>\n    </tr>\n    <tr>\n      <th>4</th>\n      <td>1465</td>\n      <td>255160.438</td>\n    </tr>\n  </tbody>\n</table>\n</div>",
      "text/plain": "     Id   SalePrice\n0  1461  255160.438\n1  1462  255160.438\n2  1463  255160.438\n3  1464  255160.438\n4  1465  255160.438"
     },
     "metadata": {},
     "output_type": "display_data"
    }
   ],
   "source": [
    "#Load\n",
    "test_data = pd.read_csv('../Data/Normal/test_house_price.csv')\n",
    "test_ids = test_data['Id']\n",
    "\n",
    "#preprocess\n",
    "x_test = test_data[['GrLivArea','YearBuilt','TotalBsmtSF','OverallQual']]\n",
    "print('Null check: ')\n",
    "display(x_test.isna().sum())\n",
    "x_test = x_test.fillna(0)\n",
    "# show test data\n",
    "print('Test Data')\n",
    "display(x_test.head())\n",
    "#predict\n",
    "prediction = final_model.predict(x_test)\n",
    "result = scaler.inverse_transform(prediction)\n",
    "print('result')\n",
    "display(result[:10])\n",
    "#put into a frame\n",
    "submission = pd.DataFrame()\n",
    "submission['Id'] = test_ids\n",
    "submission['SalePrice'] = result\n",
    "display(submission.head())"
   ]
  },
  {
   "cell_type": "code",
   "execution_count": null,
   "metadata": {},
   "outputs": [],
   "source": [
    "#write csv\n",
    "submission.to_csv('../Data/Normal/submission_house_price_sprint1.csv',index = False)"
   ]
  },
  {
   "cell_type": "markdown",
   "metadata": {},
   "source": [
    "## Submission Result\n",
    "![image](./sprint_submission.PNG)"
   ]
  },
  {
   "cell_type": "markdown",
   "metadata": {},
   "source": [
    "## Conclusion\n",
    "Seems that the result is real bad, most of the houses predicted value is quite similar.\n",
    "\n",
    "Could be because of the fact that i was picking only a few attributes."
   ]
  }
 ],
 "metadata": {
  "kernelspec": {
   "display_name": "Python 3.8.5 64-bit ('ML': conda)",
   "name": "python385jvsc74a57bd0414c2fdb89d6021f6942d5e1d033ba955136d83fd06928f7f45a3ba2aaf4fb60"
  },
  "language_info": {
   "codemirror_mode": {
    "name": "ipython",
    "version": 3
   },
   "file_extension": ".py",
   "mimetype": "text/x-python",
   "name": "python",
   "nbconvert_exporter": "python",
   "pygments_lexer": "ipython3",
   "version": "3.8.5"
  },
  "orig_nbformat": 3
 },
 "nbformat": 4,
 "nbformat_minor": 2
}