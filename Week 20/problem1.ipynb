{
 "cells": [
  {
   "cell_type": "markdown",
   "source": [
    "# Problem 1\n",
    "Sharing and executing the official tutorial model"
   ],
   "metadata": {}
  },
  {
   "cell_type": "markdown",
   "source": [
    "### NOTE\n",
    "Here we have tensorflow quick start from [Link](https://www.tensorflow.org/tutorials/quickstart/beginner)"
   ],
   "metadata": {}
  },
  {
   "cell_type": "code",
   "execution_count": 1,
   "source": [
    "import tensorflow as tf"
   ],
   "outputs": [],
   "metadata": {}
  },
  {
   "cell_type": "markdown",
   "source": [
    "## Data"
   ],
   "metadata": {}
  },
  {
   "cell_type": "code",
   "execution_count": 2,
   "source": [
    "mnist = tf.keras.datasets.mnist\n",
    "\n",
    "(x_train, y_train), (x_test, y_test) = mnist.load_data()\n",
    "x_train, x_test = x_train / 255.0, x_test / 255.0"
   ],
   "outputs": [],
   "metadata": {}
  },
  {
   "cell_type": "markdown",
   "source": [
    "## Model"
   ],
   "metadata": {}
  },
  {
   "cell_type": "code",
   "execution_count": 3,
   "source": [
    "model = tf.keras.models.Sequential([\n",
    "  tf.keras.layers.Flatten(input_shape=(28, 28)),\n",
    "  tf.keras.layers.Dense(128, activation='relu'),\n",
    "  tf.keras.layers.Dropout(0.2),\n",
    "  tf.keras.layers.Dense(10)\n",
    "])"
   ],
   "outputs": [],
   "metadata": {}
  },
  {
   "cell_type": "markdown",
   "source": [
    "## Untrained Model"
   ],
   "metadata": {}
  },
  {
   "cell_type": "markdown",
   "source": [
    "### Logits"
   ],
   "metadata": {}
  },
  {
   "cell_type": "code",
   "execution_count": 4,
   "source": [
    "predictions = model(x_train[:1]).numpy()\n",
    "predictions"
   ],
   "outputs": [
    {
     "output_type": "execute_result",
     "data": {
      "text/plain": [
       "array([[ 0.11807608, -0.58446366,  0.73557985, -0.5851472 ,  0.63825   ,\n",
       "         0.0862681 ,  0.12318598,  0.04069217, -0.42953527, -0.27691874]],\n",
       "      dtype=float32)"
      ]
     },
     "metadata": {},
     "execution_count": 4
    }
   ],
   "metadata": {}
  },
  {
   "cell_type": "markdown",
   "source": [
    "### Probability\n",
    "through softmax"
   ],
   "metadata": {}
  },
  {
   "cell_type": "code",
   "execution_count": 5,
   "source": [
    "tf.nn.softmax(predictions).numpy()"
   ],
   "outputs": [
    {
     "output_type": "execute_result",
     "data": {
      "text/plain": [
       "array([[0.10332404, 0.05117905, 0.1915931 , 0.05114408, 0.17382412,\n",
       "        0.10008923, 0.10385337, 0.09562995, 0.05975535, 0.0696077 ]],\n",
       "      dtype=float32)"
      ]
     },
     "metadata": {},
     "execution_count": 5
    }
   ],
   "metadata": {}
  },
  {
   "cell_type": "markdown",
   "source": [
    "## Loss"
   ],
   "metadata": {}
  },
  {
   "cell_type": "code",
   "execution_count": 6,
   "source": [
    "loss_fn = tf.keras.losses.SparseCategoricalCrossentropy(from_logits=True)"
   ],
   "outputs": [],
   "metadata": {}
  },
  {
   "cell_type": "markdown",
   "source": [
    "## Compile and Fit"
   ],
   "metadata": {}
  },
  {
   "cell_type": "code",
   "execution_count": 7,
   "source": [
    "model.compile(optimizer='adam',\n",
    "              loss=loss_fn,\n",
    "              metrics=['accuracy'])"
   ],
   "outputs": [],
   "metadata": {}
  },
  {
   "cell_type": "code",
   "execution_count": 8,
   "source": [
    "model.fit(x_train, y_train, epochs=5)"
   ],
   "outputs": [
    {
     "output_type": "stream",
     "name": "stdout",
     "text": [
      "Epoch 1/5\n",
      "1875/1875 [==============================] - 3s 1ms/step - loss: 0.3036 - accuracy: 0.9121\n",
      "Epoch 2/5\n",
      "1875/1875 [==============================] - 2s 1ms/step - loss: 0.1480 - accuracy: 0.9563\n",
      "Epoch 3/5\n",
      "1875/1875 [==============================] - 2s 1ms/step - loss: 0.1100 - accuracy: 0.9670\n",
      "Epoch 4/5\n",
      "1875/1875 [==============================] - 2s 1ms/step - loss: 0.0873 - accuracy: 0.9730\n",
      "Epoch 5/5\n",
      "1875/1875 [==============================] - 2s 1ms/step - loss: 0.0756 - accuracy: 0.9762\n"
     ]
    },
    {
     "output_type": "execute_result",
     "data": {
      "text/plain": [
       "<keras.callbacks.History at 0x175d23f60>"
      ]
     },
     "metadata": {},
     "execution_count": 8
    }
   ],
   "metadata": {}
  },
  {
   "cell_type": "markdown",
   "source": [
    "## Evaluation"
   ],
   "metadata": {}
  },
  {
   "cell_type": "code",
   "execution_count": 9,
   "source": [
    "model.evaluate(x_test,  y_test, verbose=2)"
   ],
   "outputs": [
    {
     "output_type": "stream",
     "name": "stdout",
     "text": [
      "313/313 - 0s - loss: 0.0743 - accuracy: 0.9784\n"
     ]
    },
    {
     "output_type": "execute_result",
     "data": {
      "text/plain": [
       "[0.07426247745752335, 0.9783999919891357]"
      ]
     },
     "metadata": {},
     "execution_count": 9
    }
   ],
   "metadata": {}
  },
  {
   "cell_type": "markdown",
   "source": [
    "## Another model for usage with probability output"
   ],
   "metadata": {}
  },
  {
   "cell_type": "code",
   "execution_count": 10,
   "source": [
    "probability_model = tf.keras.Sequential([\n",
    "  model,\n",
    "  tf.keras.layers.Softmax()\n",
    "])"
   ],
   "outputs": [],
   "metadata": {}
  },
  {
   "cell_type": "code",
   "execution_count": 11,
   "source": [
    "probability_model(x_test[:5])"
   ],
   "outputs": [
    {
     "output_type": "execute_result",
     "data": {
      "text/plain": [
       "<tf.Tensor: shape=(5, 10), dtype=float32, numpy=\n",
       "array([[1.89805746e-07, 1.59709035e-09, 2.02054412e-06, 7.97639586e-05,\n",
       "        1.11920898e-11, 1.58329403e-08, 1.90385329e-11, 9.99914885e-01,\n",
       "        1.70092846e-08, 3.02612284e-06],\n",
       "       [7.18595805e-09, 8.47097370e-04, 9.98955131e-01, 1.95559420e-04,\n",
       "        5.00176386e-15, 1.80916345e-06, 4.01551006e-07, 1.83877690e-14,\n",
       "        3.56591627e-08, 1.07248941e-11],\n",
       "       [1.22523386e-06, 9.99528289e-01, 1.50788444e-04, 5.21542688e-06,\n",
       "        2.56400108e-05, 3.16054206e-06, 1.21444473e-05, 2.31448852e-04,\n",
       "        2.89822638e-05, 1.31330562e-05],\n",
       "       [9.99495745e-01, 8.54543325e-10, 2.12497165e-04, 1.66068190e-07,\n",
       "        2.56820243e-07, 2.31403433e-07, 4.41116345e-06, 1.88224510e-06,\n",
       "        6.00619927e-08, 2.84865877e-04],\n",
       "       [6.90587376e-06, 1.07401921e-09, 1.73279750e-06, 1.47738435e-08,\n",
       "        9.93931532e-01, 4.40748451e-08, 1.48639947e-06, 4.00216632e-05,\n",
       "        2.65872529e-07, 6.01808494e-03]], dtype=float32)>"
      ]
     },
     "metadata": {},
     "execution_count": 11
    }
   ],
   "metadata": {}
  },
  {
   "cell_type": "markdown",
   "source": [
    "# And We done for problem 1 - tensorflow tutorial"
   ],
   "metadata": {}
  }
 ],
 "metadata": {
  "orig_nbformat": 4,
  "language_info": {
   "name": "python",
   "version": "3.6.8",
   "mimetype": "text/x-python",
   "codemirror_mode": {
    "name": "ipython",
    "version": 3
   },
   "pygments_lexer": "ipython3",
   "nbconvert_exporter": "python",
   "file_extension": ".py"
  },
  "kernelspec": {
   "name": "python3",
   "display_name": "Python 3.6.8 64-bit ('3.6.8': pyenv)"
  },
  "interpreter": {
   "hash": "b6dca31c40dac0508fe8bb571189613e8b58bfb2f14d9df93b31762f58f9068a"
  }
 },
 "nbformat": 4,
 "nbformat_minor": 2
}