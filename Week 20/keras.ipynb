{
 "cells": [
  {
   "cell_type": "markdown",
   "source": [
    "# Introduction\n",
    "The first half runs TensorFlow's Example. In the latter half, we will write the code for Keras."
   ],
   "metadata": {}
  },
  {
   "cell_type": "markdown",
   "source": [
    "# Problem 1\n",
    "Sharing and executing the official tutorial model"
   ],
   "metadata": {}
  },
  {
   "cell_type": "markdown",
   "source": [
    "### NOTE\n",
    "- Since it's computationally expensive, i've moved it to another notebook named problem1.ipynb in the same folder\n",
    "- Relative Link: [./problem2.ipynb](./problem1.ipynb)\n",
    "- Github: [Link](https://github.com/produdez/diveintocode-ml/blob/main/Week%2020/problem1.ipynb)"
   ],
   "metadata": {}
  },
  {
   "cell_type": "markdown",
   "source": [
    "# Problem 2\n",
    "(Advance assignment) Execute various methods"
   ],
   "metadata": {}
  },
  {
   "cell_type": "markdown",
   "source": [
    "### NOTE\n",
    "- Since it's computationally expensive, i've moved it to another notebook named problem2.ipynb in the same folder\n",
    "- Relative Link: [./problem2.ipynb](./problem2.ipynb)\n",
    "- Github: [Link](https://github.com/produdez/diveintocode-ml/blob/main/Week%2020/problem2.ipynb)"
   ],
   "metadata": {}
  },
  {
   "cell_type": "markdown",
   "source": [
    "# Problem 3\n",
    "Learning Iris (binary classification) with Keras"
   ],
   "metadata": {}
  },
  {
   "cell_type": "markdown",
   "source": [
    "## Prep"
   ],
   "metadata": {}
  },
  {
   "cell_type": "code",
   "execution_count": 253,
   "source": [
    "# load data\n",
    "from sklearn.datasets import load_iris\n",
    "\n",
    "iris_bunch = load_iris(as_frame = True)\n",
    "print('features', iris_bunch.feature_names)\n",
    "print('targets', iris_bunch.target_names)"
   ],
   "outputs": [
    {
     "output_type": "stream",
     "name": "stdout",
     "text": [
      "features ['sepal length (cm)', 'sepal width (cm)', 'petal length (cm)', 'petal width (cm)']\n",
      "targets ['setosa' 'versicolor' 'virginica']\n"
     ]
    }
   ],
   "metadata": {}
  },
  {
   "cell_type": "code",
   "execution_count": 254,
   "source": [
    "# check features\n",
    "features_data = iris_bunch.data\n",
    "print(features_data.head())"
   ],
   "outputs": [
    {
     "output_type": "stream",
     "name": "stdout",
     "text": [
      "   sepal length (cm)  sepal width (cm)  petal length (cm)  petal width (cm)\n",
      "0                5.1               3.5                1.4               0.2\n",
      "1                4.9               3.0                1.4               0.2\n",
      "2                4.7               3.2                1.3               0.2\n",
      "3                4.6               3.1                1.5               0.2\n",
      "4                5.0               3.6                1.4               0.2\n"
     ]
    }
   ],
   "metadata": {}
  },
  {
   "cell_type": "code",
   "execution_count": 255,
   "source": [
    "# check target\n",
    "target_data = iris_bunch.target\n",
    "print('labels: ', target_data.unique())\n",
    "print(target_data.head())"
   ],
   "outputs": [
    {
     "output_type": "stream",
     "name": "stdout",
     "text": [
      "labels:  [0 1 2]\n",
      "0    0\n",
      "1    0\n",
      "2    0\n",
      "3    0\n",
      "4    0\n",
      "Name: target, dtype: int64\n"
     ]
    }
   ],
   "metadata": {}
  },
  {
   "cell_type": "code",
   "execution_count": 256,
   "source": [
    "# binary classification filter\n",
    "first_two_laybel_indexes =  target_data.lt(2)\n",
    "binary_x = features_data[first_two_laybel_indexes]\n",
    "binary_y = target_data[first_two_laybel_indexes]\n",
    "\n",
    "print('Before shape: ', features_data.shape, target_data.shape)\n",
    "print('After shape: ', binary_x.shape, binary_y.shape)"
   ],
   "outputs": [
    {
     "output_type": "stream",
     "name": "stdout",
     "text": [
      "Before shape:  (150, 4) (150,)\n",
      "After shape:  (100, 4) (100,)\n"
     ]
    }
   ],
   "metadata": {}
  },
  {
   "cell_type": "code",
   "execution_count": 257,
   "source": [
    "# standardization\n",
    "from sklearn.preprocessing import StandardScaler\n",
    "import pandas as pd\n",
    "scaler = StandardScaler()\n",
    "processed_bin_x = scaler.fit_transform(binary_x.to_numpy())\n",
    "# print('before trans')\n",
    "# print(binary_x.describe())\n",
    "# print('after scale')\n",
    "# print(pd.DataFrame(processed_bin_x).describe())\n",
    "\n",
    "# onehot encode\n",
    "from sklearn.preprocessing import OneHotEncoder\n",
    "enc = OneHotEncoder()\n",
    "binary_y = binary_y.to_numpy().reshape(-1,1)\n",
    "processed_bin_y = enc.fit_transform(binary_y).toarray()\n",
    "# print('before trans')\n",
    "# print(pd.DataFrame(binary_y).describe())\n",
    "# print('after scale')\n",
    "# print(pd.DataFrame(processed_bin_y).describe())"
   ],
   "outputs": [],
   "metadata": {}
  },
  {
   "cell_type": "code",
   "execution_count": 258,
   "source": [
    "# train test split\n",
    "from sklearn.model_selection import train_test_split\n",
    "\n",
    "x_train, x_test, y_train,y_test = train_test_split(processed_bin_x, processed_bin_y)\n",
    "print([x.shape for x in [x_train, x_test, y_train,y_test]])"
   ],
   "outputs": [
    {
     "output_type": "stream",
     "name": "stdout",
     "text": [
      "[(75, 4), (25, 4), (75, 2), (25, 2)]\n"
     ]
    }
   ],
   "metadata": {}
  },
  {
   "cell_type": "markdown",
   "source": [
    "## Model"
   ],
   "metadata": {}
  },
  {
   "cell_type": "code",
   "execution_count": 259,
   "source": [
    "import tensorflow as tf\n",
    "import tensorflow.keras as keras"
   ],
   "outputs": [],
   "metadata": {}
  },
  {
   "cell_type": "code",
   "execution_count": 260,
   "source": [
    "# model\n",
    "model = keras.Sequential()\n",
    "\n",
    "# layers\n",
    "from tensorflow.keras import layers\n",
    "\n",
    "model.add(layers.Dense(20, activation=\"relu\", name=\"layer1\"))\n",
    "model.add(layers.Dense(10, activation=\"relu\", name=\"layer2\"))\n",
    "model.add(layers.Dense(2, name=\"layer3\"))\n",
    "\n",
    "\n",
    "model.layers"
   ],
   "outputs": [
    {
     "output_type": "execute_result",
     "data": {
      "text/plain": [
       "[<keras.layers.core.Dense at 0x17ad752e8>,\n",
       " <keras.layers.core.Dense at 0x17af7ca90>,\n",
       " <keras.layers.core.Dense at 0x17a7d2978>]"
      ]
     },
     "metadata": {},
     "execution_count": 260
    }
   ],
   "metadata": {}
  },
  {
   "cell_type": "code",
   "execution_count": 261,
   "source": [
    "model.build(x_train.shape)\n",
    "model.summary()"
   ],
   "outputs": [
    {
     "output_type": "stream",
     "name": "stdout",
     "text": [
      "Model: \"sequential_22\"\n",
      "_________________________________________________________________\n",
      "Layer (type)                 Output Shape              Param #   \n",
      "=================================================================\n",
      "layer1 (Dense)               (75, 20)                  100       \n",
      "_________________________________________________________________\n",
      "layer2 (Dense)               (75, 10)                  210       \n",
      "_________________________________________________________________\n",
      "layer3 (Dense)               (75, 2)                   22        \n",
      "=================================================================\n",
      "Total params: 332\n",
      "Trainable params: 332\n",
      "Non-trainable params: 0\n",
      "_________________________________________________________________\n"
     ]
    }
   ],
   "metadata": {}
  },
  {
   "cell_type": "code",
   "execution_count": 262,
   "source": [
    "# loss\n",
    "loss = 'binary_crossentropy'\n",
    "# optimizer\n",
    "optimizer = 'adam'\n",
    "#metrics\n",
    "metrics = ['accuracy']"
   ],
   "outputs": [],
   "metadata": {}
  },
  {
   "cell_type": "code",
   "execution_count": 263,
   "source": [
    "model.compile(optimizer, loss, metrics = metrics)"
   ],
   "outputs": [],
   "metadata": {}
  },
  {
   "cell_type": "code",
   "execution_count": 264,
   "source": [
    "history = model.fit(x_train, y_train,\n",
    "                    batch_size=10,\n",
    "                    epochs=100,\n",
    "                    verbose=1,\n",
    "                    validation_data= (x_test, y_test))\n"
   ],
   "outputs": [
    {
     "output_type": "stream",
     "name": "stdout",
     "text": [
      "Epoch 1/100\n",
      "8/8 [==============================] - 1s 18ms/step - loss: 7.0103 - accuracy: 0.3867 - val_loss: 7.2140 - val_accuracy: 0.4000\n",
      "Epoch 2/100\n",
      "8/8 [==============================] - 0s 3ms/step - loss: 6.2555 - accuracy: 0.4400 - val_loss: 6.5179 - val_accuracy: 0.4400\n",
      "Epoch 3/100\n",
      "8/8 [==============================] - 0s 4ms/step - loss: 5.6880 - accuracy: 0.4800 - val_loss: 5.5192 - val_accuracy: 0.5200\n",
      "Epoch 4/100\n",
      "8/8 [==============================] - 0s 4ms/step - loss: 5.0695 - accuracy: 0.4800 - val_loss: 4.8948 - val_accuracy: 0.5600\n",
      "Epoch 5/100\n",
      "8/8 [==============================] - 0s 4ms/step - loss: 4.4208 - accuracy: 0.4933 - val_loss: 3.8838 - val_accuracy: 0.5600\n",
      "Epoch 6/100\n",
      "8/8 [==============================] - 0s 4ms/step - loss: 3.8097 - accuracy: 0.4800 - val_loss: 2.3286 - val_accuracy: 0.5600\n",
      "Epoch 7/100\n",
      "8/8 [==============================] - 0s 4ms/step - loss: 3.1735 - accuracy: 0.4800 - val_loss: 2.1175 - val_accuracy: 0.5600\n",
      "Epoch 8/100\n",
      "8/8 [==============================] - 0s 4ms/step - loss: 3.0874 - accuracy: 0.4800 - val_loss: 2.0461 - val_accuracy: 0.5600\n",
      "Epoch 9/100\n",
      "8/8 [==============================] - 0s 5ms/step - loss: 3.0445 - accuracy: 0.4933 - val_loss: 1.9979 - val_accuracy: 0.5600\n",
      "Epoch 10/100\n",
      "8/8 [==============================] - 0s 5ms/step - loss: 3.0172 - accuracy: 0.4933 - val_loss: 1.9574 - val_accuracy: 0.5600\n",
      "Epoch 11/100\n",
      "8/8 [==============================] - 0s 4ms/step - loss: 2.9895 - accuracy: 0.4933 - val_loss: 1.9228 - val_accuracy: 0.5600\n",
      "Epoch 12/100\n",
      "8/8 [==============================] - 0s 5ms/step - loss: 2.9662 - accuracy: 0.4933 - val_loss: 1.8873 - val_accuracy: 0.6000\n",
      "Epoch 13/100\n",
      "8/8 [==============================] - 0s 4ms/step - loss: 2.8076 - accuracy: 0.4933 - val_loss: 1.8490 - val_accuracy: 0.6000\n",
      "Epoch 14/100\n",
      "8/8 [==============================] - 0s 4ms/step - loss: 2.3049 - accuracy: 0.5067 - val_loss: 1.3457 - val_accuracy: 0.6000\n",
      "Epoch 15/100\n",
      "8/8 [==============================] - 0s 4ms/step - loss: 1.7658 - accuracy: 0.5333 - val_loss: 1.2463 - val_accuracy: 0.6800\n",
      "Epoch 16/100\n",
      "8/8 [==============================] - 0s 5ms/step - loss: 1.6281 - accuracy: 0.5600 - val_loss: 1.2115 - val_accuracy: 0.6800\n",
      "Epoch 17/100\n",
      "8/8 [==============================] - 0s 4ms/step - loss: 1.5073 - accuracy: 0.6267 - val_loss: 1.1860 - val_accuracy: 0.6800\n",
      "Epoch 18/100\n",
      "8/8 [==============================] - 0s 4ms/step - loss: 1.4049 - accuracy: 0.6533 - val_loss: 1.1614 - val_accuracy: 0.6800\n",
      "Epoch 19/100\n",
      "8/8 [==============================] - 0s 4ms/step - loss: 1.3704 - accuracy: 0.6667 - val_loss: 1.1379 - val_accuracy: 0.6800\n",
      "Epoch 20/100\n",
      "8/8 [==============================] - 0s 3ms/step - loss: 1.3370 - accuracy: 0.6933 - val_loss: 1.1159 - val_accuracy: 0.6800\n",
      "Epoch 21/100\n",
      "8/8 [==============================] - 0s 3ms/step - loss: 1.2368 - accuracy: 0.7067 - val_loss: 1.0924 - val_accuracy: 0.6800\n",
      "Epoch 22/100\n",
      "8/8 [==============================] - 0s 3ms/step - loss: 1.2021 - accuracy: 0.7200 - val_loss: 1.0685 - val_accuracy: 0.6800\n",
      "Epoch 23/100\n",
      "8/8 [==============================] - 0s 3ms/step - loss: 0.9380 - accuracy: 0.7733 - val_loss: 0.8110 - val_accuracy: 0.7600\n",
      "Epoch 24/100\n",
      "8/8 [==============================] - 0s 3ms/step - loss: 0.8797 - accuracy: 0.8133 - val_loss: 0.7547 - val_accuracy: 0.8000\n",
      "Epoch 25/100\n",
      "8/8 [==============================] - 0s 3ms/step - loss: 0.8358 - accuracy: 0.8533 - val_loss: 0.7185 - val_accuracy: 0.8400\n",
      "Epoch 26/100\n",
      "8/8 [==============================] - 0s 3ms/step - loss: 0.8039 - accuracy: 0.8667 - val_loss: 0.6841 - val_accuracy: 0.8400\n",
      "Epoch 27/100\n",
      "8/8 [==============================] - 0s 3ms/step - loss: 0.7735 - accuracy: 0.8933 - val_loss: 0.6518 - val_accuracy: 0.8400\n",
      "Epoch 28/100\n",
      "8/8 [==============================] - 0s 3ms/step - loss: 0.6716 - accuracy: 0.9333 - val_loss: 0.6154 - val_accuracy: 0.8800\n",
      "Epoch 29/100\n",
      "8/8 [==============================] - 0s 4ms/step - loss: 0.6217 - accuracy: 0.9333 - val_loss: 0.5842 - val_accuracy: 0.9200\n",
      "Epoch 30/100\n",
      "8/8 [==============================] - 0s 3ms/step - loss: 0.5937 - accuracy: 0.9600 - val_loss: 0.5568 - val_accuracy: 0.9600\n",
      "Epoch 31/100\n",
      "8/8 [==============================] - 0s 3ms/step - loss: 0.5672 - accuracy: 0.9733 - val_loss: 0.5322 - val_accuracy: 1.0000\n",
      "Epoch 32/100\n",
      "8/8 [==============================] - 0s 3ms/step - loss: 0.5448 - accuracy: 0.9867 - val_loss: 0.5094 - val_accuracy: 1.0000\n",
      "Epoch 33/100\n",
      "8/8 [==============================] - 0s 3ms/step - loss: 0.5229 - accuracy: 1.0000 - val_loss: 0.4894 - val_accuracy: 1.0000\n",
      "Epoch 34/100\n",
      "8/8 [==============================] - 0s 3ms/step - loss: 0.5045 - accuracy: 1.0000 - val_loss: 0.4703 - val_accuracy: 1.0000\n",
      "Epoch 35/100\n",
      "8/8 [==============================] - 0s 3ms/step - loss: 0.4866 - accuracy: 1.0000 - val_loss: 0.4540 - val_accuracy: 1.0000\n",
      "Epoch 36/100\n",
      "8/8 [==============================] - 0s 3ms/step - loss: 0.4715 - accuracy: 1.0000 - val_loss: 0.4386 - val_accuracy: 1.0000\n",
      "Epoch 37/100\n",
      "8/8 [==============================] - 0s 3ms/step - loss: 0.4577 - accuracy: 1.0000 - val_loss: 0.4246 - val_accuracy: 1.0000\n",
      "Epoch 38/100\n",
      "8/8 [==============================] - 0s 3ms/step - loss: 0.4438 - accuracy: 1.0000 - val_loss: 0.4121 - val_accuracy: 1.0000\n",
      "Epoch 39/100\n",
      "8/8 [==============================] - 0s 3ms/step - loss: 0.4312 - accuracy: 1.0000 - val_loss: 0.3999 - val_accuracy: 1.0000\n",
      "Epoch 40/100\n",
      "8/8 [==============================] - 0s 3ms/step - loss: 0.4193 - accuracy: 1.0000 - val_loss: 0.3887 - val_accuracy: 1.0000\n",
      "Epoch 41/100\n",
      "8/8 [==============================] - 0s 3ms/step - loss: 0.4090 - accuracy: 1.0000 - val_loss: 0.3786 - val_accuracy: 1.0000\n",
      "Epoch 42/100\n",
      "8/8 [==============================] - 0s 3ms/step - loss: 0.3998 - accuracy: 1.0000 - val_loss: 0.3691 - val_accuracy: 1.0000\n",
      "Epoch 43/100\n",
      "8/8 [==============================] - 0s 3ms/step - loss: 0.2397 - accuracy: 1.0000 - val_loss: 0.3591 - val_accuracy: 1.0000\n",
      "Epoch 44/100\n",
      "8/8 [==============================] - 0s 3ms/step - loss: 0.2025 - accuracy: 1.0000 - val_loss: 0.0968 - val_accuracy: 1.0000\n",
      "Epoch 45/100\n",
      "8/8 [==============================] - 0s 3ms/step - loss: 0.1820 - accuracy: 1.0000 - val_loss: 0.0704 - val_accuracy: 1.0000\n",
      "Epoch 46/100\n",
      "8/8 [==============================] - 0s 3ms/step - loss: 0.1704 - accuracy: 1.0000 - val_loss: 0.0584 - val_accuracy: 1.0000\n",
      "Epoch 47/100\n",
      "8/8 [==============================] - 0s 3ms/step - loss: 0.1618 - accuracy: 1.0000 - val_loss: 0.0517 - val_accuracy: 1.0000\n",
      "Epoch 48/100\n",
      "8/8 [==============================] - 0s 3ms/step - loss: 0.1556 - accuracy: 1.0000 - val_loss: 0.0460 - val_accuracy: 1.0000\n",
      "Epoch 49/100\n",
      "8/8 [==============================] - 0s 3ms/step - loss: 0.1501 - accuracy: 1.0000 - val_loss: 0.0415 - val_accuracy: 1.0000\n",
      "Epoch 50/100\n",
      "8/8 [==============================] - 0s 3ms/step - loss: 0.0809 - accuracy: 1.0000 - val_loss: 0.0290 - val_accuracy: 1.0000\n",
      "Epoch 51/100\n",
      "8/8 [==============================] - 0s 3ms/step - loss: 0.0347 - accuracy: 1.0000 - val_loss: 0.0224 - val_accuracy: 1.0000\n",
      "Epoch 52/100\n",
      "8/8 [==============================] - 0s 3ms/step - loss: 0.0280 - accuracy: 1.0000 - val_loss: 0.0201 - val_accuracy: 1.0000\n",
      "Epoch 53/100\n",
      "8/8 [==============================] - 0s 3ms/step - loss: 0.0250 - accuracy: 1.0000 - val_loss: 0.0189 - val_accuracy: 1.0000\n",
      "Epoch 54/100\n",
      "8/8 [==============================] - 0s 3ms/step - loss: 0.0234 - accuracy: 1.0000 - val_loss: 0.0180 - val_accuracy: 1.0000\n",
      "Epoch 55/100\n",
      "8/8 [==============================] - 0s 3ms/step - loss: 0.0222 - accuracy: 1.0000 - val_loss: 0.0174 - val_accuracy: 1.0000\n",
      "Epoch 56/100\n",
      "8/8 [==============================] - 0s 3ms/step - loss: 0.0216 - accuracy: 1.0000 - val_loss: 0.0168 - val_accuracy: 1.0000\n",
      "Epoch 57/100\n",
      "8/8 [==============================] - 0s 3ms/step - loss: 0.0208 - accuracy: 1.0000 - val_loss: 0.0163 - val_accuracy: 1.0000\n",
      "Epoch 58/100\n",
      "8/8 [==============================] - 0s 3ms/step - loss: 0.0203 - accuracy: 1.0000 - val_loss: 0.0158 - val_accuracy: 1.0000\n",
      "Epoch 59/100\n",
      "8/8 [==============================] - 0s 3ms/step - loss: 0.0196 - accuracy: 1.0000 - val_loss: 0.0153 - val_accuracy: 1.0000\n",
      "Epoch 60/100\n",
      "8/8 [==============================] - 0s 3ms/step - loss: 0.0191 - accuracy: 1.0000 - val_loss: 0.0148 - val_accuracy: 1.0000\n",
      "Epoch 61/100\n",
      "8/8 [==============================] - 0s 3ms/step - loss: 0.0187 - accuracy: 1.0000 - val_loss: 0.0143 - val_accuracy: 1.0000\n",
      "Epoch 62/100\n",
      "8/8 [==============================] - 0s 3ms/step - loss: 0.0183 - accuracy: 1.0000 - val_loss: 0.0140 - val_accuracy: 1.0000\n",
      "Epoch 63/100\n",
      "8/8 [==============================] - 0s 3ms/step - loss: 0.0179 - accuracy: 1.0000 - val_loss: 0.0136 - val_accuracy: 1.0000\n",
      "Epoch 64/100\n",
      "8/8 [==============================] - 0s 3ms/step - loss: 0.0175 - accuracy: 1.0000 - val_loss: 0.0132 - val_accuracy: 1.0000\n",
      "Epoch 65/100\n",
      "8/8 [==============================] - 0s 3ms/step - loss: 0.0171 - accuracy: 1.0000 - val_loss: 0.0129 - val_accuracy: 1.0000\n",
      "Epoch 66/100\n",
      "8/8 [==============================] - 0s 3ms/step - loss: 0.0168 - accuracy: 1.0000 - val_loss: 0.0125 - val_accuracy: 1.0000\n",
      "Epoch 67/100\n",
      "8/8 [==============================] - 0s 3ms/step - loss: 0.0164 - accuracy: 1.0000 - val_loss: 0.0122 - val_accuracy: 1.0000\n",
      "Epoch 68/100\n",
      "8/8 [==============================] - 0s 3ms/step - loss: 0.0161 - accuracy: 1.0000 - val_loss: 0.0118 - val_accuracy: 1.0000\n",
      "Epoch 69/100\n",
      "8/8 [==============================] - 0s 3ms/step - loss: 0.0158 - accuracy: 1.0000 - val_loss: 0.0115 - val_accuracy: 1.0000\n",
      "Epoch 70/100\n",
      "8/8 [==============================] - 0s 3ms/step - loss: 0.0155 - accuracy: 1.0000 - val_loss: 0.0112 - val_accuracy: 1.0000\n",
      "Epoch 71/100\n",
      "8/8 [==============================] - 0s 3ms/step - loss: 0.0151 - accuracy: 1.0000 - val_loss: 0.0110 - val_accuracy: 1.0000\n",
      "Epoch 72/100\n",
      "8/8 [==============================] - 0s 3ms/step - loss: 0.0148 - accuracy: 1.0000 - val_loss: 0.0108 - val_accuracy: 1.0000\n",
      "Epoch 73/100\n",
      "8/8 [==============================] - 0s 3ms/step - loss: 0.0145 - accuracy: 1.0000 - val_loss: 0.0106 - val_accuracy: 1.0000\n",
      "Epoch 74/100\n",
      "8/8 [==============================] - 0s 3ms/step - loss: 0.0142 - accuracy: 1.0000 - val_loss: 0.0104 - val_accuracy: 1.0000\n",
      "Epoch 75/100\n",
      "8/8 [==============================] - 0s 3ms/step - loss: 0.0140 - accuracy: 1.0000 - val_loss: 0.0102 - val_accuracy: 1.0000\n",
      "Epoch 76/100\n",
      "8/8 [==============================] - 0s 3ms/step - loss: 0.0137 - accuracy: 1.0000 - val_loss: 0.0100 - val_accuracy: 1.0000\n",
      "Epoch 77/100\n",
      "8/8 [==============================] - 0s 3ms/step - loss: 0.0135 - accuracy: 1.0000 - val_loss: 0.0098 - val_accuracy: 1.0000\n",
      "Epoch 78/100\n",
      "8/8 [==============================] - 0s 3ms/step - loss: 0.0132 - accuracy: 1.0000 - val_loss: 0.0096 - val_accuracy: 1.0000\n",
      "Epoch 79/100\n",
      "8/8 [==============================] - 0s 3ms/step - loss: 0.0130 - accuracy: 1.0000 - val_loss: 0.0094 - val_accuracy: 1.0000\n",
      "Epoch 80/100\n",
      "8/8 [==============================] - 0s 3ms/step - loss: 0.0127 - accuracy: 1.0000 - val_loss: 0.0092 - val_accuracy: 1.0000\n",
      "Epoch 81/100\n",
      "8/8 [==============================] - 0s 3ms/step - loss: 0.0125 - accuracy: 1.0000 - val_loss: 0.0090 - val_accuracy: 1.0000\n",
      "Epoch 82/100\n",
      "8/8 [==============================] - 0s 3ms/step - loss: 0.0123 - accuracy: 1.0000 - val_loss: 0.0088 - val_accuracy: 1.0000\n",
      "Epoch 83/100\n",
      "8/8 [==============================] - 0s 3ms/step - loss: 0.0119 - accuracy: 1.0000 - val_loss: 0.0086 - val_accuracy: 1.0000\n",
      "Epoch 84/100\n",
      "8/8 [==============================] - 0s 3ms/step - loss: 0.0117 - accuracy: 1.0000 - val_loss: 0.0084 - val_accuracy: 1.0000\n",
      "Epoch 85/100\n",
      "8/8 [==============================] - 0s 3ms/step - loss: 0.0115 - accuracy: 1.0000 - val_loss: 0.0082 - val_accuracy: 1.0000\n",
      "Epoch 86/100\n",
      "8/8 [==============================] - 0s 3ms/step - loss: 0.0112 - accuracy: 1.0000 - val_loss: 0.0080 - val_accuracy: 1.0000\n",
      "Epoch 87/100\n",
      "8/8 [==============================] - 0s 3ms/step - loss: 0.0110 - accuracy: 1.0000 - val_loss: 0.0078 - val_accuracy: 1.0000\n",
      "Epoch 88/100\n",
      "8/8 [==============================] - 0s 3ms/step - loss: 0.0109 - accuracy: 1.0000 - val_loss: 0.0076 - val_accuracy: 1.0000\n",
      "Epoch 89/100\n",
      "8/8 [==============================] - 0s 3ms/step - loss: 0.0107 - accuracy: 1.0000 - val_loss: 0.0073 - val_accuracy: 1.0000\n",
      "Epoch 90/100\n",
      "8/8 [==============================] - 0s 4ms/step - loss: 0.0105 - accuracy: 1.0000 - val_loss: 0.0071 - val_accuracy: 1.0000\n",
      "Epoch 91/100\n",
      "8/8 [==============================] - 0s 3ms/step - loss: 0.0103 - accuracy: 1.0000 - val_loss: 0.0070 - val_accuracy: 1.0000\n",
      "Epoch 92/100\n",
      "8/8 [==============================] - 0s 3ms/step - loss: 0.0102 - accuracy: 1.0000 - val_loss: 0.0068 - val_accuracy: 1.0000\n",
      "Epoch 93/100\n",
      "8/8 [==============================] - 0s 3ms/step - loss: 0.0101 - accuracy: 1.0000 - val_loss: 0.0066 - val_accuracy: 1.0000\n",
      "Epoch 94/100\n",
      "8/8 [==============================] - 0s 3ms/step - loss: 0.0099 - accuracy: 1.0000 - val_loss: 0.0065 - val_accuracy: 1.0000\n",
      "Epoch 95/100\n",
      "8/8 [==============================] - 0s 3ms/step - loss: 0.0098 - accuracy: 1.0000 - val_loss: 0.0064 - val_accuracy: 1.0000\n",
      "Epoch 96/100\n",
      "8/8 [==============================] - 0s 6ms/step - loss: 0.0096 - accuracy: 1.0000 - val_loss: 0.0062 - val_accuracy: 1.0000\n",
      "Epoch 97/100\n",
      "8/8 [==============================] - 0s 6ms/step - loss: 0.0095 - accuracy: 1.0000 - val_loss: 0.0061 - val_accuracy: 1.0000\n",
      "Epoch 98/100\n",
      "8/8 [==============================] - 0s 4ms/step - loss: 0.0094 - accuracy: 1.0000 - val_loss: 0.0059 - val_accuracy: 1.0000\n",
      "Epoch 99/100\n",
      "8/8 [==============================] - 0s 3ms/step - loss: 0.0092 - accuracy: 1.0000 - val_loss: 0.0058 - val_accuracy: 1.0000\n",
      "Epoch 100/100\n",
      "8/8 [==============================] - 0s 3ms/step - loss: 0.0091 - accuracy: 1.0000 - val_loss: 0.0057 - val_accuracy: 1.0000\n"
     ]
    }
   ],
   "metadata": {}
  },
  {
   "cell_type": "code",
   "execution_count": 265,
   "source": [
    "import seaborn as sns\n",
    "import matplotlib.pyplot as plt\n",
    "# loss\n",
    "print('train loss')\n",
    "sns.lineplot(data = history.history['loss'])\n",
    "sns.lineplot(data = history.history['accuracy'])\n",
    "\n",
    "plt.show()\n",
    "print('val loss')\n",
    "sns.lineplot(data = history.history['val_loss'])\n",
    "sns.lineplot(data = history.history['val_accuracy'])\n",
    "plt.show()"
   ],
   "outputs": [
    {
     "output_type": "stream",
     "name": "stdout",
     "text": [
      "train loss\n"
     ]
    },
    {
     "output_type": "display_data",
     "data": {
      "image/png": "[encoded data removed]",
      "text/plain": [
       "<Figure size 432x288 with 1 Axes>"
      ]
     },
     "metadata": {
      "needs_background": "light"
     }
    },
    {
     "output_type": "stream",
     "name": "stdout",
     "text": [
      "val loss\n"
     ]
    },
    {
     "output_type": "display_data",
     "data": {
      "image/png": "[encoded data removed]",
      "text/plain": [
       "<Figure size 432x288 with 1 Axes>"
      ]
     },
     "metadata": {
      "needs_background": "light"
     }
    }
   ],
   "metadata": {}
  },
  {
   "cell_type": "markdown",
   "source": [
    "# Problem 2\n",
    "Learn Iris (multi-level classification) with Keras"
   ],
   "metadata": {}
  },
  {
   "cell_type": "code",
   "execution_count": 266,
   "source": [
    "# standardization\n",
    "from sklearn.preprocessing import StandardScaler\n",
    "import pandas as pd\n",
    "scaler = StandardScaler()\n",
    "processed_x = scaler.fit_transform(features_data.to_numpy())\n",
    "# print('before trans')\n",
    "# print(binary_x.describe())\n",
    "# print('after scale')\n",
    "# print(pd.DataFrame(processed_bin_x).describe())\n",
    "\n",
    "# onehot encode\n",
    "from sklearn.preprocessing import OneHotEncoder\n",
    "enc = OneHotEncoder()\n",
    "processed_y = enc.fit_transform(target_data.to_numpy().reshape(-1,1)).toarray()\n",
    "# print('before trans')\n",
    "# print(pd.DataFrame(binary_y).describe())\n",
    "# print('after scale')\n",
    "# print(pd.DataFrame(processed_bin_y).describe())\n",
    "# processed_y[0]"
   ],
   "outputs": [],
   "metadata": {}
  },
  {
   "cell_type": "code",
   "execution_count": 274,
   "source": [
    "# train test split\n",
    "from sklearn.model_selection import train_test_split\n",
    "\n",
    "x_train, x_test, y_train,y_test = train_test_split(processed_x, processed_y)\n",
    "print([x.shape for x in [x_train, x_test, y_train,y_test]])\n",
    "print(x_train[0])\n",
    "print(y_train[0])"
   ],
   "outputs": [
    {
     "output_type": "stream",
     "name": "stdout",
     "text": [
      "[(112, 4), (38, 4), (112, 3), (38, 3)]\n",
      "[-0.90068117  0.55861082 -1.16971425 -0.92054774]\n",
      "[1. 0. 0.]\n"
     ]
    }
   ],
   "metadata": {}
  },
  {
   "cell_type": "code",
   "execution_count": 275,
   "source": [
    "# model\n",
    "model = keras.Sequential()\n",
    "\n",
    "# layers\n",
    "from tensorflow.keras import layers\n",
    "\n",
    "model.add(layers.Dense(20, activation=\"relu\", name=\"layer1\"))\n",
    "model.add(layers.Dense(10, activation=\"relu\", name=\"layer2\"))\n",
    "model.add(layers.Dense(3, name=\"layer3\"))\n",
    "\n",
    "\n",
    "model.layers"
   ],
   "outputs": [
    {
     "output_type": "execute_result",
     "data": {
      "text/plain": [
       "[<keras.layers.core.Dense at 0x17b5b6940>,\n",
       " <keras.layers.core.Dense at 0x17b51d160>,\n",
       " <keras.layers.core.Dense at 0x17b603b00>]"
      ]
     },
     "metadata": {},
     "execution_count": 275
    }
   ],
   "metadata": {}
  },
  {
   "cell_type": "code",
   "execution_count": 276,
   "source": [
    "model.build(x_train.shape)\n",
    "model.summary()"
   ],
   "outputs": [
    {
     "output_type": "stream",
     "name": "stdout",
     "text": [
      "Model: \"sequential_24\"\n",
      "_________________________________________________________________\n",
      "Layer (type)                 Output Shape              Param #   \n",
      "=================================================================\n",
      "layer1 (Dense)               (112, 20)                 100       \n",
      "_________________________________________________________________\n",
      "layer2 (Dense)               (112, 10)                 210       \n",
      "_________________________________________________________________\n",
      "layer3 (Dense)               (112, 3)                  33        \n",
      "=================================================================\n",
      "Total params: 343\n",
      "Trainable params: 343\n",
      "Non-trainable params: 0\n",
      "_________________________________________________________________\n"
     ]
    }
   ],
   "metadata": {}
  },
  {
   "cell_type": "code",
   "execution_count": 277,
   "source": [
    "# loss\n",
    "loss = 'categorical_crossentropy'\n",
    "# compile\n",
    "model.compile(optimizer, loss, metrics = metrics)"
   ],
   "outputs": [],
   "metadata": {}
  },
  {
   "cell_type": "code",
   "execution_count": 271,
   "source": [
    "history = model.fit(x_train, y_train,\n",
    "                    batch_size=10,\n",
    "                    epochs=100,\n",
    "                    verbose=1,\n",
    "                    validation_data= (x_test, y_test))\n"
   ],
   "outputs": [
    {
     "output_type": "stream",
     "name": "stdout",
     "text": [
      "Epoch 1/100\n",
      "12/12 [==============================] - 0s 15ms/step - loss: 3.3230 - accuracy: 0.4554 - val_loss: 4.3627 - val_accuracy: 0.6053\n",
      "Epoch 2/100\n",
      "12/12 [==============================] - 0s 3ms/step - loss: 2.8745 - accuracy: 0.5625 - val_loss: 3.1164 - val_accuracy: 0.6579\n",
      "Epoch 3/100\n",
      "12/12 [==============================] - 0s 3ms/step - loss: 3.2485 - accuracy: 0.6071 - val_loss: 2.6554 - val_accuracy: 0.6579\n",
      "Epoch 4/100\n",
      "12/12 [==============================] - 0s 2ms/step - loss: 3.0627 - accuracy: 0.6339 - val_loss: 3.0654 - val_accuracy: 0.6579\n",
      "Epoch 5/100\n",
      "12/12 [==============================] - 0s 2ms/step - loss: 3.1900 - accuracy: 0.6339 - val_loss: 3.9159 - val_accuracy: 0.6579\n",
      "Epoch 6/100\n",
      "12/12 [==============================] - 0s 2ms/step - loss: 3.1703 - accuracy: 0.6429 - val_loss: 3.5394 - val_accuracy: 0.6579\n",
      "Epoch 7/100\n",
      "12/12 [==============================] - 0s 2ms/step - loss: 3.3100 - accuracy: 0.6429 - val_loss: 3.8675 - val_accuracy: 0.6579\n",
      "Epoch 8/100\n",
      "12/12 [==============================] - 0s 2ms/step - loss: 3.3100 - accuracy: 0.6429 - val_loss: 3.8671 - val_accuracy: 0.6579\n",
      "Epoch 9/100\n",
      "12/12 [==============================] - 0s 2ms/step - loss: 3.4539 - accuracy: 0.6429 - val_loss: 3.8670 - val_accuracy: 0.6579\n",
      "Epoch 10/100\n",
      "12/12 [==============================] - 0s 2ms/step - loss: 3.4539 - accuracy: 0.6429 - val_loss: 3.8670 - val_accuracy: 0.6579\n",
      "Epoch 11/100\n",
      "12/12 [==============================] - 0s 2ms/step - loss: 3.4539 - accuracy: 0.6429 - val_loss: 3.8669 - val_accuracy: 0.6579\n",
      "Epoch 12/100\n",
      "12/12 [==============================] - 0s 2ms/step - loss: 3.4539 - accuracy: 0.6429 - val_loss: 3.8669 - val_accuracy: 0.6579\n",
      "Epoch 13/100\n",
      "12/12 [==============================] - 0s 2ms/step - loss: 3.4539 - accuracy: 0.6429 - val_loss: 3.8669 - val_accuracy: 0.6579\n",
      "Epoch 14/100\n",
      "12/12 [==============================] - 0s 2ms/step - loss: 3.4539 - accuracy: 0.6429 - val_loss: 3.8669 - val_accuracy: 0.6579\n",
      "Epoch 15/100\n",
      "12/12 [==============================] - 0s 2ms/step - loss: 3.4539 - accuracy: 0.6429 - val_loss: 3.8669 - val_accuracy: 0.6579\n",
      "Epoch 16/100\n",
      "12/12 [==============================] - 0s 2ms/step - loss: 3.4539 - accuracy: 0.6429 - val_loss: 3.8669 - val_accuracy: 0.6579\n",
      "Epoch 17/100\n",
      "12/12 [==============================] - 0s 2ms/step - loss: 3.4539 - accuracy: 0.6429 - val_loss: 3.8669 - val_accuracy: 0.6579\n",
      "Epoch 18/100\n",
      "12/12 [==============================] - 0s 2ms/step - loss: 3.4539 - accuracy: 0.6429 - val_loss: 3.8669 - val_accuracy: 0.6579\n",
      "Epoch 19/100\n",
      "12/12 [==============================] - 0s 2ms/step - loss: 3.4539 - accuracy: 0.6429 - val_loss: 3.8669 - val_accuracy: 0.6579\n",
      "Epoch 20/100\n",
      "12/12 [==============================] - 0s 2ms/step - loss: 3.4539 - accuracy: 0.6429 - val_loss: 3.8669 - val_accuracy: 0.6579\n",
      "Epoch 21/100\n",
      "12/12 [==============================] - 0s 2ms/step - loss: 3.4539 - accuracy: 0.6429 - val_loss: 3.8669 - val_accuracy: 0.6579\n",
      "Epoch 22/100\n",
      "12/12 [==============================] - 0s 3ms/step - loss: 3.4539 - accuracy: 0.6429 - val_loss: 3.8669 - val_accuracy: 0.6579\n",
      "Epoch 23/100\n",
      "12/12 [==============================] - 0s 3ms/step - loss: 3.4539 - accuracy: 0.6429 - val_loss: 3.8669 - val_accuracy: 0.6579\n",
      "Epoch 24/100\n",
      "12/12 [==============================] - 0s 3ms/step - loss: 3.4539 - accuracy: 0.6429 - val_loss: 3.8669 - val_accuracy: 0.6579\n",
      "Epoch 25/100\n",
      "12/12 [==============================] - 0s 3ms/step - loss: 3.4539 - accuracy: 0.6429 - val_loss: 3.8669 - val_accuracy: 0.6579\n",
      "Epoch 26/100\n",
      "12/12 [==============================] - 0s 3ms/step - loss: 3.4539 - accuracy: 0.6429 - val_loss: 3.8669 - val_accuracy: 0.6579\n",
      "Epoch 27/100\n",
      "12/12 [==============================] - 0s 3ms/step - loss: 3.4539 - accuracy: 0.6429 - val_loss: 3.8669 - val_accuracy: 0.6579\n",
      "Epoch 28/100\n",
      "12/12 [==============================] - 0s 3ms/step - loss: 3.4539 - accuracy: 0.6429 - val_loss: 3.8669 - val_accuracy: 0.6579\n",
      "Epoch 29/100\n",
      "12/12 [==============================] - 0s 2ms/step - loss: 3.4539 - accuracy: 0.6429 - val_loss: 3.8669 - val_accuracy: 0.6579\n",
      "Epoch 30/100\n",
      "12/12 [==============================] - 0s 2ms/step - loss: 3.4539 - accuracy: 0.6429 - val_loss: 3.8669 - val_accuracy: 0.6579\n",
      "Epoch 31/100\n",
      "12/12 [==============================] - 0s 2ms/step - loss: 3.4539 - accuracy: 0.6429 - val_loss: 3.8669 - val_accuracy: 0.6579\n",
      "Epoch 32/100\n",
      "12/12 [==============================] - 0s 2ms/step - loss: 3.4539 - accuracy: 0.6429 - val_loss: 3.8669 - val_accuracy: 0.6579\n",
      "Epoch 33/100\n",
      "12/12 [==============================] - 0s 2ms/step - loss: 3.4539 - accuracy: 0.6429 - val_loss: 3.8669 - val_accuracy: 0.6579\n",
      "Epoch 34/100\n",
      "12/12 [==============================] - 0s 2ms/step - loss: 3.4539 - accuracy: 0.6429 - val_loss: 3.8669 - val_accuracy: 0.6579\n",
      "Epoch 35/100\n",
      "12/12 [==============================] - 0s 2ms/step - loss: 3.4539 - accuracy: 0.6429 - val_loss: 3.8669 - val_accuracy: 0.6579\n",
      "Epoch 36/100\n",
      "12/12 [==============================] - 0s 2ms/step - loss: 3.4539 - accuracy: 0.6429 - val_loss: 3.8669 - val_accuracy: 0.6579\n",
      "Epoch 37/100\n",
      "12/12 [==============================] - 0s 2ms/step - loss: 3.4539 - accuracy: 0.6429 - val_loss: 3.8669 - val_accuracy: 0.6579\n",
      "Epoch 38/100\n",
      "12/12 [==============================] - 0s 2ms/step - loss: 3.4539 - accuracy: 0.6429 - val_loss: 3.8669 - val_accuracy: 0.6579\n",
      "Epoch 39/100\n",
      "12/12 [==============================] - 0s 2ms/step - loss: 3.4539 - accuracy: 0.6429 - val_loss: 3.8669 - val_accuracy: 0.6579\n",
      "Epoch 40/100\n",
      "12/12 [==============================] - 0s 2ms/step - loss: 3.4539 - accuracy: 0.6429 - val_loss: 3.8669 - val_accuracy: 0.6579\n",
      "Epoch 41/100\n",
      "12/12 [==============================] - 0s 2ms/step - loss: 3.4539 - accuracy: 0.6429 - val_loss: 3.8669 - val_accuracy: 0.6579\n",
      "Epoch 42/100\n",
      "12/12 [==============================] - 0s 2ms/step - loss: 3.4539 - accuracy: 0.6429 - val_loss: 3.8669 - val_accuracy: 0.6579\n",
      "Epoch 43/100\n",
      "12/12 [==============================] - 0s 2ms/step - loss: 3.4539 - accuracy: 0.6429 - val_loss: 3.8669 - val_accuracy: 0.6579\n",
      "Epoch 44/100\n",
      "12/12 [==============================] - 0s 2ms/step - loss: 3.4539 - accuracy: 0.6429 - val_loss: 3.8669 - val_accuracy: 0.6579\n",
      "Epoch 45/100\n",
      "12/12 [==============================] - 0s 2ms/step - loss: 3.4539 - accuracy: 0.6429 - val_loss: 3.8669 - val_accuracy: 0.6579\n",
      "Epoch 46/100\n",
      "12/12 [==============================] - 0s 2ms/step - loss: 3.4539 - accuracy: 0.6429 - val_loss: 3.8669 - val_accuracy: 0.6579\n",
      "Epoch 47/100\n",
      "12/12 [==============================] - 0s 2ms/step - loss: 3.4539 - accuracy: 0.6429 - val_loss: 3.8669 - val_accuracy: 0.6579\n",
      "Epoch 48/100\n",
      "12/12 [==============================] - 0s 2ms/step - loss: 3.4539 - accuracy: 0.6429 - val_loss: 3.8669 - val_accuracy: 0.6579\n",
      "Epoch 49/100\n",
      "12/12 [==============================] - 0s 2ms/step - loss: 3.4539 - accuracy: 0.6429 - val_loss: 3.8669 - val_accuracy: 0.6579\n",
      "Epoch 50/100\n",
      "12/12 [==============================] - 0s 2ms/step - loss: 3.4539 - accuracy: 0.6429 - val_loss: 3.8669 - val_accuracy: 0.6579\n",
      "Epoch 51/100\n",
      "12/12 [==============================] - 0s 2ms/step - loss: 3.4539 - accuracy: 0.6429 - val_loss: 3.8669 - val_accuracy: 0.6579\n",
      "Epoch 52/100\n",
      "12/12 [==============================] - 0s 2ms/step - loss: 3.4539 - accuracy: 0.6429 - val_loss: 3.8669 - val_accuracy: 0.6579\n",
      "Epoch 53/100\n",
      "12/12 [==============================] - 0s 2ms/step - loss: 3.4539 - accuracy: 0.6429 - val_loss: 3.8669 - val_accuracy: 0.6579\n",
      "Epoch 54/100\n",
      "12/12 [==============================] - 0s 2ms/step - loss: 3.4539 - accuracy: 0.6429 - val_loss: 3.8669 - val_accuracy: 0.6579\n",
      "Epoch 55/100\n",
      "12/12 [==============================] - 0s 2ms/step - loss: 3.4539 - accuracy: 0.6429 - val_loss: 3.8669 - val_accuracy: 0.6579\n",
      "Epoch 56/100\n",
      "12/12 [==============================] - 0s 2ms/step - loss: 3.4539 - accuracy: 0.6429 - val_loss: 3.8669 - val_accuracy: 0.6579\n",
      "Epoch 57/100\n",
      "12/12 [==============================] - 0s 2ms/step - loss: 3.4539 - accuracy: 0.6429 - val_loss: 3.8669 - val_accuracy: 0.6579\n",
      "Epoch 58/100\n",
      "12/12 [==============================] - 0s 2ms/step - loss: 3.4539 - accuracy: 0.6429 - val_loss: 3.8669 - val_accuracy: 0.6579\n",
      "Epoch 59/100\n",
      "12/12 [==============================] - 0s 2ms/step - loss: 3.4539 - accuracy: 0.6429 - val_loss: 3.8669 - val_accuracy: 0.6579\n",
      "Epoch 60/100\n",
      "12/12 [==============================] - 0s 2ms/step - loss: 3.4539 - accuracy: 0.6429 - val_loss: 3.8669 - val_accuracy: 0.6579\n",
      "Epoch 61/100\n",
      "12/12 [==============================] - 0s 2ms/step - loss: 3.4539 - accuracy: 0.6429 - val_loss: 3.8669 - val_accuracy: 0.6579\n",
      "Epoch 62/100\n",
      "12/12 [==============================] - 0s 2ms/step - loss: 3.4539 - accuracy: 0.6429 - val_loss: 3.8669 - val_accuracy: 0.6579\n",
      "Epoch 63/100\n",
      "12/12 [==============================] - 0s 2ms/step - loss: 3.4539 - accuracy: 0.6429 - val_loss: 3.8669 - val_accuracy: 0.6579\n",
      "Epoch 64/100\n",
      "12/12 [==============================] - 0s 2ms/step - loss: 3.4539 - accuracy: 0.6429 - val_loss: 3.8669 - val_accuracy: 0.6579\n",
      "Epoch 65/100\n",
      "12/12 [==============================] - 0s 2ms/step - loss: 3.4539 - accuracy: 0.6429 - val_loss: 3.8669 - val_accuracy: 0.6579\n",
      "Epoch 66/100\n",
      "12/12 [==============================] - 0s 2ms/step - loss: 3.4539 - accuracy: 0.6429 - val_loss: 3.8669 - val_accuracy: 0.6579\n",
      "Epoch 67/100\n",
      "12/12 [==============================] - 0s 2ms/step - loss: 3.4539 - accuracy: 0.6429 - val_loss: 3.8669 - val_accuracy: 0.6579\n",
      "Epoch 68/100\n",
      "12/12 [==============================] - 0s 2ms/step - loss: 3.4539 - accuracy: 0.6429 - val_loss: 3.8669 - val_accuracy: 0.6579\n",
      "Epoch 69/100\n",
      "12/12 [==============================] - 0s 2ms/step - loss: 3.4539 - accuracy: 0.6429 - val_loss: 3.8669 - val_accuracy: 0.6579\n",
      "Epoch 70/100\n",
      "12/12 [==============================] - 0s 2ms/step - loss: 3.4539 - accuracy: 0.6429 - val_loss: 3.8669 - val_accuracy: 0.6579\n",
      "Epoch 71/100\n",
      "12/12 [==============================] - 0s 2ms/step - loss: 3.4539 - accuracy: 0.6429 - val_loss: 3.8669 - val_accuracy: 0.6579\n",
      "Epoch 72/100\n",
      "12/12 [==============================] - 0s 2ms/step - loss: 3.4539 - accuracy: 0.6429 - val_loss: 3.8669 - val_accuracy: 0.6579\n",
      "Epoch 73/100\n",
      "12/12 [==============================] - 0s 2ms/step - loss: 3.4539 - accuracy: 0.6429 - val_loss: 3.8669 - val_accuracy: 0.6579\n",
      "Epoch 74/100\n",
      "12/12 [==============================] - 0s 2ms/step - loss: 3.4539 - accuracy: 0.6429 - val_loss: 3.8669 - val_accuracy: 0.6579\n",
      "Epoch 75/100\n",
      "12/12 [==============================] - 0s 2ms/step - loss: 3.4539 - accuracy: 0.6429 - val_loss: 3.8669 - val_accuracy: 0.6579\n",
      "Epoch 76/100\n",
      "12/12 [==============================] - 0s 2ms/step - loss: 3.4539 - accuracy: 0.6429 - val_loss: 3.8669 - val_accuracy: 0.6579\n",
      "Epoch 77/100\n",
      "12/12 [==============================] - 0s 2ms/step - loss: 3.4539 - accuracy: 0.6429 - val_loss: 3.8669 - val_accuracy: 0.6579\n",
      "Epoch 78/100\n",
      "12/12 [==============================] - 0s 2ms/step - loss: 3.4539 - accuracy: 0.6429 - val_loss: 3.8669 - val_accuracy: 0.6579\n",
      "Epoch 79/100\n",
      "12/12 [==============================] - 0s 2ms/step - loss: 3.4539 - accuracy: 0.6429 - val_loss: 3.8669 - val_accuracy: 0.6579\n",
      "Epoch 80/100\n",
      "12/12 [==============================] - 0s 2ms/step - loss: 3.4539 - accuracy: 0.6429 - val_loss: 3.8669 - val_accuracy: 0.6579\n",
      "Epoch 81/100\n",
      "12/12 [==============================] - 0s 2ms/step - loss: 3.4539 - accuracy: 0.6429 - val_loss: 3.8669 - val_accuracy: 0.6579\n",
      "Epoch 82/100\n",
      "12/12 [==============================] - 0s 2ms/step - loss: 3.4539 - accuracy: 0.6429 - val_loss: 3.8669 - val_accuracy: 0.6579\n",
      "Epoch 83/100\n",
      "12/12 [==============================] - 0s 2ms/step - loss: 3.4539 - accuracy: 0.6429 - val_loss: 3.8669 - val_accuracy: 0.6579\n",
      "Epoch 84/100\n",
      "12/12 [==============================] - 0s 2ms/step - loss: 3.4539 - accuracy: 0.6429 - val_loss: 3.8669 - val_accuracy: 0.6579\n",
      "Epoch 85/100\n",
      "12/12 [==============================] - 0s 2ms/step - loss: 3.4539 - accuracy: 0.6429 - val_loss: 3.8669 - val_accuracy: 0.6579\n",
      "Epoch 86/100\n",
      "12/12 [==============================] - 0s 2ms/step - loss: 3.4539 - accuracy: 0.6429 - val_loss: 3.8669 - val_accuracy: 0.6579\n",
      "Epoch 87/100\n",
      "12/12 [==============================] - 0s 2ms/step - loss: 3.4539 - accuracy: 0.6429 - val_loss: 3.8669 - val_accuracy: 0.6579\n",
      "Epoch 88/100\n",
      "12/12 [==============================] - 0s 2ms/step - loss: 3.4539 - accuracy: 0.6429 - val_loss: 3.8669 - val_accuracy: 0.6579\n",
      "Epoch 89/100\n",
      "12/12 [==============================] - 0s 2ms/step - loss: 3.4539 - accuracy: 0.6429 - val_loss: 3.8669 - val_accuracy: 0.6579\n",
      "Epoch 90/100\n",
      "12/12 [==============================] - 0s 2ms/step - loss: 3.4539 - accuracy: 0.6429 - val_loss: 3.8669 - val_accuracy: 0.6579\n",
      "Epoch 91/100\n",
      "12/12 [==============================] - 0s 2ms/step - loss: 3.4539 - accuracy: 0.6429 - val_loss: 3.8669 - val_accuracy: 0.6579\n",
      "Epoch 92/100\n",
      "12/12 [==============================] - 0s 2ms/step - loss: 3.4539 - accuracy: 0.6429 - val_loss: 3.8669 - val_accuracy: 0.6579\n",
      "Epoch 93/100\n",
      "12/12 [==============================] - 0s 2ms/step - loss: 3.4539 - accuracy: 0.6429 - val_loss: 3.8669 - val_accuracy: 0.6579\n",
      "Epoch 94/100\n",
      "12/12 [==============================] - 0s 2ms/step - loss: 3.4539 - accuracy: 0.6429 - val_loss: 3.8669 - val_accuracy: 0.6579\n",
      "Epoch 95/100\n",
      "12/12 [==============================] - 0s 2ms/step - loss: 3.4539 - accuracy: 0.6429 - val_loss: 3.8669 - val_accuracy: 0.6579\n",
      "Epoch 96/100\n",
      "12/12 [==============================] - 0s 2ms/step - loss: 3.4539 - accuracy: 0.6429 - val_loss: 3.8669 - val_accuracy: 0.6579\n",
      "Epoch 97/100\n",
      "12/12 [==============================] - 0s 2ms/step - loss: 3.4539 - accuracy: 0.6429 - val_loss: 3.8669 - val_accuracy: 0.6579\n",
      "Epoch 98/100\n",
      "12/12 [==============================] - 0s 2ms/step - loss: 3.4539 - accuracy: 0.6429 - val_loss: 3.8669 - val_accuracy: 0.6579\n",
      "Epoch 99/100\n",
      "12/12 [==============================] - 0s 2ms/step - loss: 3.4539 - accuracy: 0.6429 - val_loss: 3.8669 - val_accuracy: 0.6579\n",
      "Epoch 100/100\n",
      "12/12 [==============================] - 0s 2ms/step - loss: 3.4539 - accuracy: 0.6429 - val_loss: 3.8669 - val_accuracy: 0.6579\n"
     ]
    }
   ],
   "metadata": {}
  },
  {
   "cell_type": "code",
   "execution_count": 272,
   "source": [
    "import seaborn as sns\n",
    "import matplotlib.pyplot as plt\n",
    "# loss\n",
    "print('train loss')\n",
    "sns.lineplot(data = history.history['loss'])\n",
    "sns.lineplot(data = history.history['accuracy'])\n",
    "\n",
    "plt.show()\n",
    "print('val loss')\n",
    "sns.lineplot(data = history.history['val_loss'])\n",
    "sns.lineplot(data = history.history['val_accuracy'])\n",
    "plt.show()"
   ],
   "outputs": [
    {
     "output_type": "stream",
     "name": "stdout",
     "text": [
      "train loss\n"
     ]
    },
    {
     "output_type": "display_data",
     "data": {
      "image/png": "[encoded data removed]",
      "text/plain": [
       "<Figure size 432x288 with 1 Axes>"
      ]
     },
     "metadata": {
      "needs_background": "light"
     }
    },
    {
     "output_type": "stream",
     "name": "stdout",
     "text": [
      "val loss\n"
     ]
    },
    {
     "output_type": "display_data",
     "data": {
      "image/png": "[encoded data removed]",
      "text/plain": [
       "<Figure size 432x288 with 1 Axes>"
      ]
     },
     "metadata": {
      "needs_background": "light"
     }
    }
   ],
   "metadata": {}
  },
  {
   "cell_type": "markdown",
   "source": [
    "# Problem 5\n",
    "Learning House Prices with Keras"
   ],
   "metadata": {}
  },
  {
   "cell_type": "code",
   "execution_count": 278,
   "source": [
    "# data set\n",
    "house_price_pd = pd.read_csv('../Data/Normal/houseprice_train.csv')\n",
    "house_price_pd.head()"
   ],
   "outputs": [
    {
     "output_type": "execute_result",
     "data": {
      "text/html": [
       "<div>\n",
       "<style scoped>\n",
       "    .dataframe tbody tr th:only-of-type {\n",
       "        vertical-align: middle;\n",
       "    }\n",
       "\n",
       "    .dataframe tbody tr th {\n",
       "        vertical-align: top;\n",
       "    }\n",
       "\n",
       "    .dataframe thead th {\n",
       "        text-align: right;\n",
       "    }\n",
       "</style>\n",
       "<table border=\"1\" class=\"dataframe\">\n",
       "  <thead>\n",
       "    <tr style=\"text-align: right;\">\n",
       "      <th></th>\n",
       "      <th>Id</th>\n",
       "      <th>MSSubClass</th>\n",
       "      <th>MSZoning</th>\n",
       "      <th>LotFrontage</th>\n",
       "      <th>LotArea</th>\n",
       "      <th>Street</th>\n",
       "      <th>Alley</th>\n",
       "      <th>LotShape</th>\n",
       "      <th>LandContour</th>\n",
       "      <th>Utilities</th>\n",
       "      <th>...</th>\n",
       "      <th>PoolArea</th>\n",
       "      <th>PoolQC</th>\n",
       "      <th>Fence</th>\n",
       "      <th>MiscFeature</th>\n",
       "      <th>MiscVal</th>\n",
       "      <th>MoSold</th>\n",
       "      <th>YrSold</th>\n",
       "      <th>SaleType</th>\n",
       "      <th>SaleCondition</th>\n",
       "      <th>SalePrice</th>\n",
       "    </tr>\n",
       "  </thead>\n",
       "  <tbody>\n",
       "    <tr>\n",
       "      <th>0</th>\n",
       "      <td>1</td>\n",
       "      <td>60</td>\n",
       "      <td>RL</td>\n",
       "      <td>65.0</td>\n",
       "      <td>8450</td>\n",
       "      <td>Pave</td>\n",
       "      <td>NaN</td>\n",
       "      <td>Reg</td>\n",
       "      <td>Lvl</td>\n",
       "      <td>AllPub</td>\n",
       "      <td>...</td>\n",
       "      <td>0</td>\n",
       "      <td>NaN</td>\n",
       "      <td>NaN</td>\n",
       "      <td>NaN</td>\n",
       "      <td>0</td>\n",
       "      <td>2</td>\n",
       "      <td>2008</td>\n",
       "      <td>WD</td>\n",
       "      <td>Normal</td>\n",
       "      <td>208500</td>\n",
       "    </tr>\n",
       "    <tr>\n",
       "      <th>1</th>\n",
       "      <td>2</td>\n",
       "      <td>20</td>\n",
       "      <td>RL</td>\n",
       "      <td>80.0</td>\n",
       "      <td>9600</td>\n",
       "      <td>Pave</td>\n",
       "      <td>NaN</td>\n",
       "      <td>Reg</td>\n",
       "      <td>Lvl</td>\n",
       "      <td>AllPub</td>\n",
       "      <td>...</td>\n",
       "      <td>0</td>\n",
       "      <td>NaN</td>\n",
       "      <td>NaN</td>\n",
       "      <td>NaN</td>\n",
       "      <td>0</td>\n",
       "      <td>5</td>\n",
       "      <td>2007</td>\n",
       "      <td>WD</td>\n",
       "      <td>Normal</td>\n",
       "      <td>181500</td>\n",
       "    </tr>\n",
       "    <tr>\n",
       "      <th>2</th>\n",
       "      <td>3</td>\n",
       "      <td>60</td>\n",
       "      <td>RL</td>\n",
       "      <td>68.0</td>\n",
       "      <td>11250</td>\n",
       "      <td>Pave</td>\n",
       "      <td>NaN</td>\n",
       "      <td>IR1</td>\n",
       "      <td>Lvl</td>\n",
       "      <td>AllPub</td>\n",
       "      <td>...</td>\n",
       "      <td>0</td>\n",
       "      <td>NaN</td>\n",
       "      <td>NaN</td>\n",
       "      <td>NaN</td>\n",
       "      <td>0</td>\n",
       "      <td>9</td>\n",
       "      <td>2008</td>\n",
       "      <td>WD</td>\n",
       "      <td>Normal</td>\n",
       "      <td>223500</td>\n",
       "    </tr>\n",
       "    <tr>\n",
       "      <th>3</th>\n",
       "      <td>4</td>\n",
       "      <td>70</td>\n",
       "      <td>RL</td>\n",
       "      <td>60.0</td>\n",
       "      <td>9550</td>\n",
       "      <td>Pave</td>\n",
       "      <td>NaN</td>\n",
       "      <td>IR1</td>\n",
       "      <td>Lvl</td>\n",
       "      <td>AllPub</td>\n",
       "      <td>...</td>\n",
       "      <td>0</td>\n",
       "      <td>NaN</td>\n",
       "      <td>NaN</td>\n",
       "      <td>NaN</td>\n",
       "      <td>0</td>\n",
       "      <td>2</td>\n",
       "      <td>2006</td>\n",
       "      <td>WD</td>\n",
       "      <td>Abnorml</td>\n",
       "      <td>140000</td>\n",
       "    </tr>\n",
       "    <tr>\n",
       "      <th>4</th>\n",
       "      <td>5</td>\n",
       "      <td>60</td>\n",
       "      <td>RL</td>\n",
       "      <td>84.0</td>\n",
       "      <td>14260</td>\n",
       "      <td>Pave</td>\n",
       "      <td>NaN</td>\n",
       "      <td>IR1</td>\n",
       "      <td>Lvl</td>\n",
       "      <td>AllPub</td>\n",
       "      <td>...</td>\n",
       "      <td>0</td>\n",
       "      <td>NaN</td>\n",
       "      <td>NaN</td>\n",
       "      <td>NaN</td>\n",
       "      <td>0</td>\n",
       "      <td>12</td>\n",
       "      <td>2008</td>\n",
       "      <td>WD</td>\n",
       "      <td>Normal</td>\n",
       "      <td>250000</td>\n",
       "    </tr>\n",
       "  </tbody>\n",
       "</table>\n",
       "<p>5 rows × 81 columns</p>\n",
       "</div>"
      ],
      "text/plain": [
       "   Id  MSSubClass MSZoning  LotFrontage  LotArea Street Alley LotShape  \\\n",
       "0   1          60       RL         65.0     8450   Pave   NaN      Reg   \n",
       "1   2          20       RL         80.0     9600   Pave   NaN      Reg   \n",
       "2   3          60       RL         68.0    11250   Pave   NaN      IR1   \n",
       "3   4          70       RL         60.0     9550   Pave   NaN      IR1   \n",
       "4   5          60       RL         84.0    14260   Pave   NaN      IR1   \n",
       "\n",
       "  LandContour Utilities  ... PoolArea PoolQC Fence MiscFeature MiscVal MoSold  \\\n",
       "0         Lvl    AllPub  ...        0    NaN   NaN         NaN       0      2   \n",
       "1         Lvl    AllPub  ...        0    NaN   NaN         NaN       0      5   \n",
       "2         Lvl    AllPub  ...        0    NaN   NaN         NaN       0      9   \n",
       "3         Lvl    AllPub  ...        0    NaN   NaN         NaN       0      2   \n",
       "4         Lvl    AllPub  ...        0    NaN   NaN         NaN       0     12   \n",
       "\n",
       "  YrSold  SaleType  SaleCondition  SalePrice  \n",
       "0   2008        WD         Normal     208500  \n",
       "1   2007        WD         Normal     181500  \n",
       "2   2008        WD         Normal     223500  \n",
       "3   2006        WD        Abnorml     140000  \n",
       "4   2008        WD         Normal     250000  \n",
       "\n",
       "[5 rows x 81 columns]"
      ]
     },
     "metadata": {},
     "execution_count": 278
    }
   ],
   "metadata": {}
  },
  {
   "cell_type": "code",
   "execution_count": 279,
   "source": [
    "# selection\n",
    "selected = house_price_pd[['GrLivArea', 'YearBuilt','SalePrice']]\n",
    "print('selected: ', selected.shape, selected.columns)\n",
    "print(selected.head())"
   ],
   "outputs": [
    {
     "output_type": "stream",
     "name": "stdout",
     "text": [
      "selected:  (1460, 3) Index(['GrLivArea', 'YearBuilt', 'SalePrice'], dtype='object')\n",
      "   GrLivArea  YearBuilt  SalePrice\n",
      "0       1710       2003     208500\n",
      "1       1262       1976     181500\n",
      "2       1786       2001     223500\n",
      "3       1717       1915     140000\n",
      "4       2198       2000     250000\n"
     ]
    }
   ],
   "metadata": {}
  },
  {
   "cell_type": "code",
   "execution_count": 280,
   "source": [
    "# check nan\n",
    "print(selected.isna().sum(axis = 0))"
   ],
   "outputs": [
    {
     "output_type": "stream",
     "name": "stdout",
     "text": [
      "GrLivArea    0\n",
      "YearBuilt    0\n",
      "SalePrice    0\n",
      "dtype: int64\n"
     ]
    }
   ],
   "metadata": {}
  },
  {
   "cell_type": "code",
   "execution_count": 281,
   "source": [
    "# normalize\n",
    "print(selected.describe().transpose()[['mean', 'std']])\n",
    "\n",
    "import numpy as np\n",
    "from sklearn.preprocessing import FunctionTransformer\n",
    "transformer = FunctionTransformer(np.log1p, validate=True)\n",
    "scaled = transformer.fit_transform(selected)\n",
    "print(pd.DataFrame(scaled).describe().transpose()[['mean', 'std']])\n",
    "\n",
    "explainatory = scaled[:,:-1]\n",
    "objective = scaled[:,-1].reshape(-1,1)\n",
    "print(explainatory.shape, explainatory[:3])\n",
    "print(objective.shape, objective[:3])"
   ],
   "outputs": [
    {
     "output_type": "stream",
     "name": "stdout",
     "text": [
      "                    mean           std\n",
      "GrLivArea    1515.463699    525.480383\n",
      "YearBuilt    1971.267808     30.202904\n",
      "SalePrice  180921.195890  79442.502883\n",
      "        mean       std\n",
      "0   7.268512  0.333303\n",
      "1   7.586821  0.015389\n",
      "2  12.024057  0.399449\n",
      "(1460, 2) [[7.44483327 7.60290046]\n",
      " [7.14124512 7.58933582]\n",
      " [7.48829352 7.60190196]]\n",
      "(1460, 1) [[12.24769912]\n",
      " [12.10901644]\n",
      " [12.31717117]]\n"
     ]
    }
   ],
   "metadata": {}
  },
  {
   "cell_type": "code",
   "execution_count": 282,
   "source": [
    "# train test split\n",
    "from sklearn.model_selection import train_test_split\n",
    "X_train, X_val, y_train, y_val = train_test_split(explainatory, objective, train_size = 0.8)\n",
    "print('train shape: ', [i.shape for i in [X_train, X_val, y_train, y_val]])"
   ],
   "outputs": [
    {
     "output_type": "stream",
     "name": "stdout",
     "text": [
      "train shape:  [(1168, 2), (292, 2), (1168, 1), (292, 1)]\n"
     ]
    }
   ],
   "metadata": {}
  },
  {
   "cell_type": "code",
   "execution_count": 283,
   "source": [
    "# linear regression model\n",
    "model = keras.Sequential(\n",
    "  [\n",
    "    layers.Dense(1)\n",
    "  ]\n",
    ")\n",
    "\n",
    "model.build(X_train.shape)\n",
    "model.summary()"
   ],
   "outputs": [
    {
     "output_type": "stream",
     "name": "stdout",
     "text": [
      "Model: \"sequential_25\"\n",
      "_________________________________________________________________\n",
      "Layer (type)                 Output Shape              Param #   \n",
      "=================================================================\n",
      "dense (Dense)                (1168, 1)                 3         \n",
      "=================================================================\n",
      "Total params: 3\n",
      "Trainable params: 3\n",
      "Non-trainable params: 0\n",
      "_________________________________________________________________\n"
     ]
    }
   ],
   "metadata": {}
  },
  {
   "cell_type": "code",
   "execution_count": 290,
   "source": [
    "model.compile(\n",
    "    optimizer='adam',\n",
    "    loss='mean_absolute_error')"
   ],
   "outputs": [],
   "metadata": {}
  },
  {
   "cell_type": "code",
   "execution_count": 291,
   "source": [
    "history = model.fit(X_train, y_train,\n",
    "                    batch_size=10,\n",
    "                    epochs=100,\n",
    "                    verbose=1,\n",
    "                    validation_data= (X_val, y_val))\n"
   ],
   "outputs": [
    {
     "output_type": "stream",
     "name": "stdout",
     "text": [
      "Epoch 1/100\n",
      "117/117 [==============================] - 0s 1ms/step - loss: 0.1966 - val_loss: 0.2062\n",
      "Epoch 2/100\n",
      "117/117 [==============================] - 0s 798us/step - loss: 0.1963 - val_loss: 0.2070\n",
      "Epoch 3/100\n",
      "117/117 [==============================] - 0s 853us/step - loss: 0.1965 - val_loss: 0.2076\n",
      "Epoch 4/100\n",
      "117/117 [==============================] - 0s 992us/step - loss: 0.1961 - val_loss: 0.2082\n",
      "Epoch 5/100\n",
      "117/117 [==============================] - 0s 1ms/step - loss: 0.1965 - val_loss: 0.2069\n",
      "Epoch 6/100\n",
      "117/117 [==============================] - 0s 899us/step - loss: 0.1988 - val_loss: 0.2075\n",
      "Epoch 7/100\n",
      "117/117 [==============================] - 0s 944us/step - loss: 0.1968 - val_loss: 0.2067\n",
      "Epoch 8/100\n",
      "117/117 [==============================] - 0s 1ms/step - loss: 0.1961 - val_loss: 0.2103\n",
      "Epoch 9/100\n",
      "117/117 [==============================] - 0s 1ms/step - loss: 0.1971 - val_loss: 0.2062\n",
      "Epoch 10/100\n",
      "117/117 [==============================] - 0s 1ms/step - loss: 0.1973 - val_loss: 0.2061\n",
      "Epoch 11/100\n",
      "117/117 [==============================] - 0s 1ms/step - loss: 0.1963 - val_loss: 0.2061\n",
      "Epoch 12/100\n",
      "117/117 [==============================] - 0s 1ms/step - loss: 0.1960 - val_loss: 0.2061\n",
      "Epoch 13/100\n",
      "117/117 [==============================] - 0s 1ms/step - loss: 0.1964 - val_loss: 0.2074\n",
      "Epoch 14/100\n",
      "117/117 [==============================] - 0s 641us/step - loss: 0.1965 - val_loss: 0.2062\n",
      "Epoch 15/100\n",
      "117/117 [==============================] - 0s 609us/step - loss: 0.1972 - val_loss: 0.2070\n",
      "Epoch 16/100\n",
      "117/117 [==============================] - 0s 750us/step - loss: 0.1971 - val_loss: 0.2063\n",
      "Epoch 17/100\n",
      "117/117 [==============================] - 0s 817us/step - loss: 0.1954 - val_loss: 0.2066\n",
      "Epoch 18/100\n",
      "117/117 [==============================] - 0s 680us/step - loss: 0.1961 - val_loss: 0.2059\n",
      "Epoch 19/100\n",
      "117/117 [==============================] - 0s 606us/step - loss: 0.1962 - val_loss: 0.2109\n",
      "Epoch 20/100\n",
      "117/117 [==============================] - 0s 768us/step - loss: 0.1957 - val_loss: 0.2060\n",
      "Epoch 21/100\n",
      "117/117 [==============================] - 0s 1ms/step - loss: 0.1969 - val_loss: 0.2061\n",
      "Epoch 22/100\n",
      "117/117 [==============================] - 0s 987us/step - loss: 0.1963 - val_loss: 0.2060\n",
      "Epoch 23/100\n",
      "117/117 [==============================] - 0s 647us/step - loss: 0.1965 - val_loss: 0.2060\n",
      "Epoch 24/100\n",
      "117/117 [==============================] - 0s 728us/step - loss: 0.1975 - val_loss: 0.2064\n",
      "Epoch 25/100\n",
      "117/117 [==============================] - 0s 637us/step - loss: 0.1973 - val_loss: 0.2061\n",
      "Epoch 26/100\n",
      "117/117 [==============================] - 0s 612us/step - loss: 0.1969 - val_loss: 0.2102\n",
      "Epoch 27/100\n",
      "117/117 [==============================] - 0s 672us/step - loss: 0.1966 - val_loss: 0.2068\n",
      "Epoch 28/100\n",
      "117/117 [==============================] - 0s 770us/step - loss: 0.1967 - val_loss: 0.2060\n",
      "Epoch 29/100\n",
      "117/117 [==============================] - 0s 706us/step - loss: 0.1963 - val_loss: 0.2116\n",
      "Epoch 30/100\n",
      "117/117 [==============================] - 0s 611us/step - loss: 0.1973 - val_loss: 0.2059\n",
      "Epoch 31/100\n",
      "117/117 [==============================] - 0s 625us/step - loss: 0.1959 - val_loss: 0.2060\n",
      "Epoch 32/100\n",
      "117/117 [==============================] - 0s 596us/step - loss: 0.1960 - val_loss: 0.2066\n",
      "Epoch 33/100\n",
      "117/117 [==============================] - 0s 612us/step - loss: 0.1958 - val_loss: 0.2069\n",
      "Epoch 34/100\n",
      "117/117 [==============================] - 0s 732us/step - loss: 0.1959 - val_loss: 0.2060\n",
      "Epoch 35/100\n",
      "117/117 [==============================] - 0s 671us/step - loss: 0.1967 - val_loss: 0.2062\n",
      "Epoch 36/100\n",
      "117/117 [==============================] - 0s 606us/step - loss: 0.1965 - val_loss: 0.2067\n",
      "Epoch 37/100\n",
      "117/117 [==============================] - 0s 625us/step - loss: 0.1965 - val_loss: 0.2061\n",
      "Epoch 38/100\n",
      "117/117 [==============================] - 0s 644us/step - loss: 0.1963 - val_loss: 0.2061\n",
      "Epoch 39/100\n",
      "117/117 [==============================] - 0s 793us/step - loss: 0.1961 - val_loss: 0.2072\n",
      "Epoch 40/100\n",
      "117/117 [==============================] - 0s 672us/step - loss: 0.1961 - val_loss: 0.2090\n",
      "Epoch 41/100\n",
      "117/117 [==============================] - 0s 605us/step - loss: 0.1966 - val_loss: 0.2063\n",
      "Epoch 42/100\n",
      "117/117 [==============================] - 0s 783us/step - loss: 0.1967 - val_loss: 0.2061\n",
      "Epoch 43/100\n",
      "117/117 [==============================] - 0s 832us/step - loss: 0.1967 - val_loss: 0.2062\n",
      "Epoch 44/100\n",
      "117/117 [==============================] - 0s 662us/step - loss: 0.1961 - val_loss: 0.2066\n",
      "Epoch 45/100\n",
      "117/117 [==============================] - 0s 638us/step - loss: 0.1962 - val_loss: 0.2060\n",
      "Epoch 46/100\n",
      "117/117 [==============================] - 0s 708us/step - loss: 0.1965 - val_loss: 0.2076\n",
      "Epoch 47/100\n",
      "117/117 [==============================] - 0s 627us/step - loss: 0.1959 - val_loss: 0.2068\n",
      "Epoch 48/100\n",
      "117/117 [==============================] - 0s 2ms/step - loss: 0.1969 - val_loss: 0.2070\n",
      "Epoch 49/100\n",
      "117/117 [==============================] - 0s 811us/step - loss: 0.1959 - val_loss: 0.2105\n",
      "Epoch 50/100\n",
      "117/117 [==============================] - 0s 700us/step - loss: 0.1967 - val_loss: 0.2059\n",
      "Epoch 51/100\n",
      "117/117 [==============================] - 0s 643us/step - loss: 0.1962 - val_loss: 0.2061\n",
      "Epoch 52/100\n",
      "117/117 [==============================] - 0s 600us/step - loss: 0.1978 - val_loss: 0.2074\n",
      "Epoch 53/100\n",
      "117/117 [==============================] - 0s 655us/step - loss: 0.1972 - val_loss: 0.2059\n",
      "Epoch 54/100\n",
      "117/117 [==============================] - 0s 597us/step - loss: 0.1966 - val_loss: 0.2068\n",
      "Epoch 55/100\n",
      "117/117 [==============================] - 0s 615us/step - loss: 0.1964 - val_loss: 0.2075\n",
      "Epoch 56/100\n",
      "117/117 [==============================] - 0s 675us/step - loss: 0.1965 - val_loss: 0.2069\n",
      "Epoch 57/100\n",
      "117/117 [==============================] - 0s 609us/step - loss: 0.1965 - val_loss: 0.2062\n",
      "Epoch 58/100\n",
      "117/117 [==============================] - 0s 611us/step - loss: 0.1960 - val_loss: 0.2059\n",
      "Epoch 59/100\n",
      "117/117 [==============================] - 0s 680us/step - loss: 0.1964 - val_loss: 0.2062\n",
      "Epoch 60/100\n",
      "117/117 [==============================] - 0s 819us/step - loss: 0.1960 - val_loss: 0.2076\n",
      "Epoch 61/100\n",
      "117/117 [==============================] - 0s 753us/step - loss: 0.1964 - val_loss: 0.2065\n",
      "Epoch 62/100\n",
      "117/117 [==============================] - 0s 619us/step - loss: 0.1976 - val_loss: 0.2090\n",
      "Epoch 63/100\n",
      "117/117 [==============================] - 0s 634us/step - loss: 0.1962 - val_loss: 0.2075\n",
      "Epoch 64/100\n",
      "117/117 [==============================] - 0s 619us/step - loss: 0.1974 - val_loss: 0.2062\n",
      "Epoch 65/100\n",
      "117/117 [==============================] - 0s 745us/step - loss: 0.1959 - val_loss: 0.2059\n",
      "Epoch 66/100\n",
      "117/117 [==============================] - 0s 763us/step - loss: 0.1963 - val_loss: 0.2067\n",
      "Epoch 67/100\n",
      "117/117 [==============================] - 0s 606us/step - loss: 0.1962 - val_loss: 0.2068\n",
      "Epoch 68/100\n",
      "117/117 [==============================] - 0s 617us/step - loss: 0.1966 - val_loss: 0.2061\n",
      "Epoch 69/100\n",
      "117/117 [==============================] - 0s 688us/step - loss: 0.1958 - val_loss: 0.2087\n",
      "Epoch 70/100\n",
      "117/117 [==============================] - 0s 602us/step - loss: 0.1962 - val_loss: 0.2127\n",
      "Epoch 71/100\n",
      "117/117 [==============================] - 0s 622us/step - loss: 0.1974 - val_loss: 0.2095\n",
      "Epoch 72/100\n",
      "117/117 [==============================] - 0s 1ms/step - loss: 0.1972 - val_loss: 0.2066\n",
      "Epoch 73/100\n",
      "117/117 [==============================] - 0s 663us/step - loss: 0.1961 - val_loss: 0.2088\n",
      "Epoch 74/100\n",
      "117/117 [==============================] - 0s 609us/step - loss: 0.1959 - val_loss: 0.2075\n",
      "Epoch 75/100\n",
      "117/117 [==============================] - 0s 602us/step - loss: 0.1963 - val_loss: 0.2059\n",
      "Epoch 76/100\n",
      "117/117 [==============================] - 0s 613us/step - loss: 0.1974 - val_loss: 0.2059\n",
      "Epoch 77/100\n",
      "117/117 [==============================] - 0s 603us/step - loss: 0.1970 - val_loss: 0.2062\n",
      "Epoch 78/100\n",
      "117/117 [==============================] - 0s 606us/step - loss: 0.1974 - val_loss: 0.2063\n",
      "Epoch 79/100\n",
      "117/117 [==============================] - 0s 609us/step - loss: 0.1965 - val_loss: 0.2060\n",
      "Epoch 80/100\n",
      "117/117 [==============================] - 0s 705us/step - loss: 0.1954 - val_loss: 0.2076\n",
      "Epoch 81/100\n",
      "117/117 [==============================] - 0s 684us/step - loss: 0.1964 - val_loss: 0.2069\n",
      "Epoch 82/100\n",
      "117/117 [==============================] - 0s 647us/step - loss: 0.1958 - val_loss: 0.2059\n",
      "Epoch 83/100\n",
      "117/117 [==============================] - 0s 596us/step - loss: 0.1964 - val_loss: 0.2059\n",
      "Epoch 84/100\n",
      "117/117 [==============================] - 0s 597us/step - loss: 0.1958 - val_loss: 0.2067\n",
      "Epoch 85/100\n",
      "117/117 [==============================] - 0s 612us/step - loss: 0.1960 - val_loss: 0.2060\n",
      "Epoch 86/100\n",
      "117/117 [==============================] - 0s 607us/step - loss: 0.1960 - val_loss: 0.2060\n",
      "Epoch 87/100\n",
      "117/117 [==============================] - 0s 606us/step - loss: 0.1964 - val_loss: 0.2059\n",
      "Epoch 88/100\n",
      "117/117 [==============================] - 0s 747us/step - loss: 0.1964 - val_loss: 0.2061\n",
      "Epoch 89/100\n",
      "117/117 [==============================] - 0s 1ms/step - loss: 0.1974 - val_loss: 0.2095\n",
      "Epoch 90/100\n",
      "117/117 [==============================] - 0s 1ms/step - loss: 0.1981 - val_loss: 0.2062\n",
      "Epoch 91/100\n",
      "117/117 [==============================] - 0s 664us/step - loss: 0.1964 - val_loss: 0.2062\n",
      "Epoch 92/100\n",
      "117/117 [==============================] - 0s 606us/step - loss: 0.1960 - val_loss: 0.2061\n",
      "Epoch 93/100\n",
      "117/117 [==============================] - 0s 601us/step - loss: 0.1962 - val_loss: 0.2059\n",
      "Epoch 94/100\n",
      "117/117 [==============================] - 0s 607us/step - loss: 0.1962 - val_loss: 0.2075\n",
      "Epoch 95/100\n",
      "117/117 [==============================] - 0s 606us/step - loss: 0.1963 - val_loss: 0.2059\n",
      "Epoch 96/100\n",
      "117/117 [==============================] - 0s 613us/step - loss: 0.1967 - val_loss: 0.2067\n",
      "Epoch 97/100\n",
      "117/117 [==============================] - 0s 599us/step - loss: 0.1977 - val_loss: 0.2059\n",
      "Epoch 98/100\n",
      "117/117 [==============================] - 0s 650us/step - loss: 0.1969 - val_loss: 0.2101\n",
      "Epoch 99/100\n",
      "117/117 [==============================] - 0s 2ms/step - loss: 0.1969 - val_loss: 0.2059\n",
      "Epoch 100/100\n",
      "117/117 [==============================] - 0s 1ms/step - loss: 0.1964 - val_loss: 0.2061\n"
     ]
    }
   ],
   "metadata": {}
  },
  {
   "cell_type": "code",
   "execution_count": 292,
   "source": [
    "import seaborn as sns\n",
    "import matplotlib.pyplot as plt\n",
    "# loss\n",
    "print('train loss')\n",
    "sns.lineplot(data = history.history['loss'])\n",
    "\n",
    "plt.show()\n",
    "print('val loss')\n",
    "sns.lineplot(data = history.history['val_loss'])\n",
    "plt.show()"
   ],
   "outputs": [
    {
     "output_type": "stream",
     "name": "stdout",
     "text": [
      "train loss\n"
     ]
    },
    {
     "output_type": "display_data",
     "data": {
      "image/png": "[encoded data removed]",
      "text/plain": [
       "<Figure size 432x288 with 1 Axes>"
      ]
     },
     "metadata": {
      "needs_background": "light"
     }
    },
    {
     "output_type": "stream",
     "name": "stdout",
     "text": [
      "val loss\n"
     ]
    },
    {
     "output_type": "display_data",
     "data": {
      "image/png": "[encoded data removed]",
      "text/plain": [
       "<Figure size 432x288 with 1 Axes>"
      ]
     },
     "metadata": {
      "needs_background": "light"
     }
    }
   ],
   "metadata": {}
  },
  {
   "cell_type": "markdown",
   "source": [
    "# Problem 6\n",
    "Learning MNIST with Keras"
   ],
   "metadata": {}
  },
  {
   "cell_type": "markdown",
   "source": [
    "# Problem 7\n",
    "Rewrite to pytorch"
   ],
   "metadata": {}
  },
  {
   "cell_type": "markdown",
   "source": [
    "## NOTE:\n",
    "**Let's just implement the MINIST Problem to see the difference**"
   ],
   "metadata": {}
  },
  {
   "cell_type": "markdown",
   "source": [
    "# Problem 8\n",
    "(Advance assignment) Comparison of frameworks"
   ],
   "metadata": {}
  }
 ],
 "metadata": {
  "orig_nbformat": 4,
  "language_info": {
   "name": "python",
   "version": "3.6.8",
   "mimetype": "text/x-python",
   "codemirror_mode": {
    "name": "ipython",
    "version": 3
   },
   "pygments_lexer": "ipython3",
   "nbconvert_exporter": "python",
   "file_extension": ".py"
  },
  "kernelspec": {
   "name": "python3",
   "display_name": "Python 3.6.8 64-bit ('3.6.8': pyenv)"
  },
  "interpreter": {
   "hash": "b6dca31c40dac0508fe8bb571189613e8b58bfb2f14d9df93b31762f58f9068a"
  }
 },
 "nbformat": 4,
 "nbformat_minor": 2
}