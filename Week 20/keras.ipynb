{
 "cells": [
  {
   "cell_type": "markdown",
   "source": [
    "# Introduction\n",
    "The first half runs TensorFlow's Example. In the latter half, we will write the code for Keras."
   ],
   "metadata": {}
  },
  {
   "cell_type": "markdown",
   "source": [
    "# Problem 1\n",
    "Sharing and executing the official tutorial model"
   ],
   "metadata": {}
  },
  {
   "cell_type": "markdown",
   "source": [
    "### NOTE\n",
    "- Since it's computationally expensive, i've moved it to another notebook named problem1.ipynb in the same folder\n",
    "- Relative Link: [./problem2.ipynb](./problem1.ipynb)\n",
    "- Github: [Link]()"
   ],
   "metadata": {}
  },
  {
   "cell_type": "markdown",
   "source": [
    "# Problem 2\n",
    "(Advance assignment) Execute various methods"
   ],
   "metadata": {}
  },
  {
   "cell_type": "markdown",
   "source": [
    "### NOTE\n",
    "- Since it's computationally expensive, i've moved it to another notebook named problem2.ipynb in the same folder\n",
    "- Relative Link: [./problem2.ipynb](./problem2.ipynb)\n",
    "- Github: [Link]()"
   ],
   "metadata": {}
  },
  {
   "cell_type": "markdown",
   "source": [
    "# Problem 3\n",
    "Learning Iris (binary classification) with Keras"
   ],
   "metadata": {}
  },
  {
   "cell_type": "markdown",
   "source": [],
   "metadata": {}
  }
 ],
 "metadata": {
  "orig_nbformat": 4,
  "language_info": {
   "name": "python"
  }
 },
 "nbformat": 4,
 "nbformat_minor": 2
}