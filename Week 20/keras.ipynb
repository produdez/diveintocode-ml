{
 "cells": [
  {
   "cell_type": "markdown",
   "source": [
    "# Introduction\n",
    "The first half runs TensorFlow's Example. In the latter half, we will write the code for Keras."
   ],
   "metadata": {}
  },
  {
   "cell_type": "markdown",
   "source": [
    "# Problem 1\n",
    "Sharing and executing the official tutorial model"
   ],
   "metadata": {}
  },
  {
   "cell_type": "markdown",
   "source": [
    "### NOTE\n",
    "- Since it's computationally expensive, i've moved it to another notebook named problem1.ipynb in the same folder\n",
    "- Relative Link: [./problem2.ipynb](./problem1.ipynb)\n",
    "- Github: [Link](https://github.com/produdez/diveintocode-ml/blob/main/Week%2020/problem1.ipynb)"
   ],
   "metadata": {}
  },
  {
   "cell_type": "markdown",
   "source": [
    "# Problem 2\n",
    "(Advance assignment) Execute various methods"
   ],
   "metadata": {}
  },
  {
   "cell_type": "markdown",
   "source": [
    "### NOTE\n",
    "- Since it's computationally expensive, i've moved it to another notebook named problem2.ipynb in the same folder\n",
    "- Relative Link: [./problem2.ipynb](./problem2.ipynb)\n",
    "- Github: [Link](https://github.com/produdez/diveintocode-ml/blob/main/Week%2020/problem2.ipynb)"
   ],
   "metadata": {}
  },
  {
   "cell_type": "markdown",
   "source": [
    "# Problem 3\n",
    "Learning Iris (binary classification) with Keras"
   ],
   "metadata": {}
  },
  {
   "cell_type": "markdown",
   "source": [
    "## Prep"
   ],
   "metadata": {}
  },
  {
   "cell_type": "code",
   "execution_count": 1,
   "source": [
    "# load data\n",
    "from sklearn.datasets import load_iris\n",
    "\n",
    "iris_bunch = load_iris(as_frame = True)\n",
    "print('features', iris_bunch.feature_names)\n",
    "print('targets', iris_bunch.target_names)"
   ],
   "outputs": [
    {
     "output_type": "stream",
     "name": "stdout",
     "text": [
      "features ['sepal length (cm)', 'sepal width (cm)', 'petal length (cm)', 'petal width (cm)']\n",
      "targets ['setosa' 'versicolor' 'virginica']\n"
     ]
    }
   ],
   "metadata": {}
  },
  {
   "cell_type": "code",
   "execution_count": 2,
   "source": [
    "# check features\n",
    "features_data = iris_bunch.data\n",
    "print(features_data.head())"
   ],
   "outputs": [
    {
     "output_type": "stream",
     "name": "stdout",
     "text": [
      "   sepal length (cm)  sepal width (cm)  petal length (cm)  petal width (cm)\n",
      "0                5.1               3.5                1.4               0.2\n",
      "1                4.9               3.0                1.4               0.2\n",
      "2                4.7               3.2                1.3               0.2\n",
      "3                4.6               3.1                1.5               0.2\n",
      "4                5.0               3.6                1.4               0.2\n"
     ]
    }
   ],
   "metadata": {}
  },
  {
   "cell_type": "code",
   "execution_count": 3,
   "source": [
    "# check target\n",
    "target_data = iris_bunch.target\n",
    "print('labels: ', target_data.unique())\n",
    "print(target_data.head())"
   ],
   "outputs": [
    {
     "output_type": "stream",
     "name": "stdout",
     "text": [
      "labels:  [0 1 2]\n",
      "0    0\n",
      "1    0\n",
      "2    0\n",
      "3    0\n",
      "4    0\n",
      "Name: target, dtype: int64\n"
     ]
    }
   ],
   "metadata": {}
  },
  {
   "cell_type": "code",
   "execution_count": 4,
   "source": [
    "# binary classification filter\n",
    "first_two_laybel_indexes =  target_data.lt(2)\n",
    "binary_x = features_data[first_two_laybel_indexes]\n",
    "binary_y = target_data[first_two_laybel_indexes]\n",
    "\n",
    "print('Before shape: ', features_data.shape, target_data.shape)\n",
    "print('After shape: ', binary_x.shape, binary_y.shape)"
   ],
   "outputs": [
    {
     "output_type": "stream",
     "name": "stdout",
     "text": [
      "Before shape:  (150, 4) (150,)\n",
      "After shape:  (100, 4) (100,)\n"
     ]
    }
   ],
   "metadata": {}
  },
  {
   "cell_type": "code",
   "execution_count": 5,
   "source": [
    "# standardization\n",
    "from sklearn.preprocessing import StandardScaler\n",
    "import pandas as pd\n",
    "scaler = StandardScaler()\n",
    "processed_bin_x = scaler.fit_transform(binary_x.to_numpy())\n",
    "# print('before trans')\n",
    "# print(binary_x.describe())\n",
    "# print('after scale')\n",
    "# print(pd.DataFrame(processed_bin_x).describe())\n",
    "\n",
    "# onehot encode\n",
    "from sklearn.preprocessing import OneHotEncoder\n",
    "enc = OneHotEncoder()\n",
    "binary_y = binary_y.to_numpy().reshape(-1,1)\n",
    "processed_bin_y = enc.fit_transform(binary_y).toarray()\n",
    "# print('before trans')\n",
    "# print(pd.DataFrame(binary_y).describe())\n",
    "# print('after scale')\n",
    "# print(pd.DataFrame(processed_bin_y).describe())"
   ],
   "outputs": [],
   "metadata": {}
  },
  {
   "cell_type": "code",
   "execution_count": 6,
   "source": [
    "# train test split\n",
    "from sklearn.model_selection import train_test_split\n",
    "\n",
    "x_train, x_test, y_train,y_test = train_test_split(processed_bin_x, processed_bin_y)\n",
    "print([x.shape for x in [x_train, x_test, y_train,y_test]])"
   ],
   "outputs": [
    {
     "output_type": "stream",
     "name": "stdout",
     "text": [
      "[(75, 4), (25, 4), (75, 2), (25, 2)]\n"
     ]
    }
   ],
   "metadata": {}
  },
  {
   "cell_type": "markdown",
   "source": [
    "## Model"
   ],
   "metadata": {}
  },
  {
   "cell_type": "code",
   "execution_count": 7,
   "source": [
    "import tensorflow as tf\n",
    "import tensorflow.keras as keras"
   ],
   "outputs": [],
   "metadata": {}
  },
  {
   "cell_type": "code",
   "execution_count": 8,
   "source": [
    "# model\n",
    "model = keras.Sequential()\n",
    "\n",
    "# layers\n",
    "from tensorflow.keras import layers\n",
    "\n",
    "model.add(layers.Dense(20, activation=\"relu\", name=\"layer1\"))\n",
    "model.add(layers.Dense(10, activation=\"relu\", name=\"layer2\"))\n",
    "model.add(layers.Dense(2, name=\"layer3\"))\n",
    "\n",
    "\n",
    "model.layers"
   ],
   "outputs": [
    {
     "output_type": "execute_result",
     "data": {
      "text/plain": [
       "[<keras.layers.core.Dense at 0x17945c9e8>,\n",
       " <keras.layers.core.Dense at 0x17943c048>,\n",
       " <keras.layers.core.Dense at 0x17945cc50>]"
      ]
     },
     "metadata": {},
     "execution_count": 8
    }
   ],
   "metadata": {}
  },
  {
   "cell_type": "code",
   "execution_count": 9,
   "source": [
    "model.build(x_train.shape)\n",
    "model.summary()"
   ],
   "outputs": [
    {
     "output_type": "stream",
     "name": "stdout",
     "text": [
      "Model: \"sequential\"\n",
      "_________________________________________________________________\n",
      "Layer (type)                 Output Shape              Param #   \n",
      "=================================================================\n",
      "layer1 (Dense)               (75, 20)                  100       \n",
      "_________________________________________________________________\n",
      "layer2 (Dense)               (75, 10)                  210       \n",
      "_________________________________________________________________\n",
      "layer3 (Dense)               (75, 2)                   22        \n",
      "=================================================================\n",
      "Total params: 332\n",
      "Trainable params: 332\n",
      "Non-trainable params: 0\n",
      "_________________________________________________________________\n"
     ]
    }
   ],
   "metadata": {}
  },
  {
   "cell_type": "code",
   "execution_count": 10,
   "source": [
    "# loss\n",
    "loss = 'binary_crossentropy'\n",
    "# optimizer\n",
    "optimizer = 'adam'\n",
    "#metrics\n",
    "metrics = ['accuracy']"
   ],
   "outputs": [],
   "metadata": {}
  },
  {
   "cell_type": "code",
   "execution_count": 11,
   "source": [
    "model.compile(optimizer, loss, metrics = metrics)"
   ],
   "outputs": [],
   "metadata": {}
  },
  {
   "cell_type": "code",
   "execution_count": 12,
   "source": [
    "history = model.fit(x_train, y_train,\n",
    "                    batch_size=10,\n",
    "                    epochs=100,\n",
    "                    verbose=1,\n",
    "                    validation_data= (x_test, y_test))\n"
   ],
   "outputs": [
    {
     "output_type": "stream",
     "name": "stdout",
     "text": [
      "Epoch 1/100\n",
      "8/8 [==============================] - 1s 19ms/step - loss: 0.4179 - accuracy: 0.8133 - val_loss: 0.2200 - val_accuracy: 0.8800\n",
      "Epoch 2/100\n",
      "8/8 [==============================] - 0s 3ms/step - loss: 0.3088 - accuracy: 0.8667 - val_loss: 0.1737 - val_accuracy: 0.9600\n",
      "Epoch 3/100\n",
      "8/8 [==============================] - 0s 3ms/step - loss: 0.2412 - accuracy: 0.9467 - val_loss: 0.1340 - val_accuracy: 1.0000\n",
      "Epoch 4/100\n",
      "8/8 [==============================] - 0s 3ms/step - loss: 0.1852 - accuracy: 0.9733 - val_loss: 0.1027 - val_accuracy: 1.0000\n",
      "Epoch 5/100\n",
      "8/8 [==============================] - 0s 6ms/step - loss: 0.1382 - accuracy: 0.9867 - val_loss: 0.0786 - val_accuracy: 1.0000\n",
      "Epoch 6/100\n",
      "8/8 [==============================] - 0s 3ms/step - loss: 0.1012 - accuracy: 0.9867 - val_loss: 0.0575 - val_accuracy: 1.0000\n",
      "Epoch 7/100\n",
      "8/8 [==============================] - 0s 3ms/step - loss: 0.0728 - accuracy: 1.0000 - val_loss: 0.0417 - val_accuracy: 1.0000\n",
      "Epoch 8/100\n",
      "8/8 [==============================] - 0s 3ms/step - loss: 0.0496 - accuracy: 1.0000 - val_loss: 0.0324 - val_accuracy: 1.0000\n",
      "Epoch 9/100\n",
      "8/8 [==============================] - 0s 3ms/step - loss: 0.0320 - accuracy: 1.0000 - val_loss: 0.0261 - val_accuracy: 1.0000\n",
      "Epoch 10/100\n",
      "8/8 [==============================] - 0s 4ms/step - loss: 0.0182 - accuracy: 1.0000 - val_loss: 0.0208 - val_accuracy: 1.0000\n",
      "Epoch 11/100\n",
      "8/8 [==============================] - 0s 3ms/step - loss: 0.0109 - accuracy: 1.0000 - val_loss: 0.0154 - val_accuracy: 1.0000\n",
      "Epoch 12/100\n",
      "8/8 [==============================] - 0s 3ms/step - loss: 0.0075 - accuracy: 1.0000 - val_loss: 0.0116 - val_accuracy: 1.0000\n",
      "Epoch 13/100\n",
      "8/8 [==============================] - 0s 3ms/step - loss: 0.0052 - accuracy: 1.0000 - val_loss: 0.0081 - val_accuracy: 1.0000\n",
      "Epoch 14/100\n",
      "8/8 [==============================] - 0s 3ms/step - loss: 0.0042 - accuracy: 1.0000 - val_loss: 0.0059 - val_accuracy: 1.0000\n",
      "Epoch 15/100\n",
      "8/8 [==============================] - 0s 3ms/step - loss: 0.0030 - accuracy: 1.0000 - val_loss: 0.0045 - val_accuracy: 1.0000\n",
      "Epoch 16/100\n",
      "8/8 [==============================] - 0s 3ms/step - loss: 0.0024 - accuracy: 1.0000 - val_loss: 0.0042 - val_accuracy: 1.0000\n",
      "Epoch 17/100\n",
      "8/8 [==============================] - 0s 3ms/step - loss: 0.0018 - accuracy: 1.0000 - val_loss: 0.0042 - val_accuracy: 1.0000\n",
      "Epoch 18/100\n",
      "8/8 [==============================] - 0s 3ms/step - loss: 0.0015 - accuracy: 1.0000 - val_loss: 0.0044 - val_accuracy: 1.0000\n",
      "Epoch 19/100\n",
      "8/8 [==============================] - 0s 3ms/step - loss: 0.0013 - accuracy: 1.0000 - val_loss: 0.0048 - val_accuracy: 1.0000\n",
      "Epoch 20/100\n",
      "8/8 [==============================] - 0s 3ms/step - loss: 0.0010 - accuracy: 1.0000 - val_loss: 0.0047 - val_accuracy: 1.0000\n",
      "Epoch 21/100\n",
      "8/8 [==============================] - 0s 3ms/step - loss: 7.2924e-04 - accuracy: 1.0000 - val_loss: 0.0046 - val_accuracy: 1.0000\n",
      "Epoch 22/100\n",
      "8/8 [==============================] - 0s 3ms/step - loss: 5.1846e-04 - accuracy: 1.0000 - val_loss: 0.0044 - val_accuracy: 1.0000\n",
      "Epoch 23/100\n",
      "8/8 [==============================] - 0s 3ms/step - loss: 3.0502e-04 - accuracy: 1.0000 - val_loss: 0.0045 - val_accuracy: 1.0000\n",
      "Epoch 24/100\n",
      "8/8 [==============================] - 0s 3ms/step - loss: 1.6678e-04 - accuracy: 1.0000 - val_loss: 0.0048 - val_accuracy: 1.0000\n",
      "Epoch 25/100\n",
      "8/8 [==============================] - 0s 3ms/step - loss: 2.5921e-05 - accuracy: 1.0000 - val_loss: 0.0050 - val_accuracy: 1.0000\n",
      "Epoch 26/100\n",
      "8/8 [==============================] - 0s 3ms/step - loss: 0.0000e+00 - accuracy: 1.0000 - val_loss: 0.0050 - val_accuracy: 1.0000\n",
      "Epoch 27/100\n",
      "8/8 [==============================] - 0s 3ms/step - loss: 0.0000e+00 - accuracy: 1.0000 - val_loss: 0.0051 - val_accuracy: 1.0000\n",
      "Epoch 28/100\n",
      "8/8 [==============================] - 0s 3ms/step - loss: 0.0000e+00 - accuracy: 1.0000 - val_loss: 0.0051 - val_accuracy: 1.0000\n",
      "Epoch 29/100\n",
      "8/8 [==============================] - 0s 3ms/step - loss: 0.0000e+00 - accuracy: 1.0000 - val_loss: 0.0051 - val_accuracy: 1.0000\n",
      "Epoch 30/100\n",
      "8/8 [==============================] - 0s 3ms/step - loss: 0.0000e+00 - accuracy: 1.0000 - val_loss: 0.0051 - val_accuracy: 1.0000\n",
      "Epoch 31/100\n",
      "8/8 [==============================] - 0s 3ms/step - loss: 0.0000e+00 - accuracy: 1.0000 - val_loss: 0.0051 - val_accuracy: 1.0000\n",
      "Epoch 32/100\n",
      "8/8 [==============================] - 0s 3ms/step - loss: 0.0000e+00 - accuracy: 1.0000 - val_loss: 0.0051 - val_accuracy: 1.0000\n",
      "Epoch 33/100\n",
      "8/8 [==============================] - 0s 3ms/step - loss: 0.0000e+00 - accuracy: 1.0000 - val_loss: 0.0051 - val_accuracy: 1.0000\n",
      "Epoch 34/100\n",
      "8/8 [==============================] - 0s 3ms/step - loss: 0.0000e+00 - accuracy: 1.0000 - val_loss: 0.0051 - val_accuracy: 1.0000\n",
      "Epoch 35/100\n",
      "8/8 [==============================] - 0s 3ms/step - loss: 0.0000e+00 - accuracy: 1.0000 - val_loss: 0.0051 - val_accuracy: 1.0000\n",
      "Epoch 36/100\n",
      "8/8 [==============================] - 0s 3ms/step - loss: 0.0000e+00 - accuracy: 1.0000 - val_loss: 0.0051 - val_accuracy: 1.0000\n",
      "Epoch 37/100\n",
      "8/8 [==============================] - 0s 3ms/step - loss: 0.0000e+00 - accuracy: 1.0000 - val_loss: 0.0051 - val_accuracy: 1.0000\n",
      "Epoch 38/100\n",
      "8/8 [==============================] - 0s 3ms/step - loss: 0.0000e+00 - accuracy: 1.0000 - val_loss: 0.0051 - val_accuracy: 1.0000\n",
      "Epoch 39/100\n",
      "8/8 [==============================] - 0s 3ms/step - loss: 0.0000e+00 - accuracy: 1.0000 - val_loss: 0.0051 - val_accuracy: 1.0000\n",
      "Epoch 40/100\n",
      "8/8 [==============================] - 0s 3ms/step - loss: 0.0000e+00 - accuracy: 1.0000 - val_loss: 0.0051 - val_accuracy: 1.0000\n",
      "Epoch 41/100\n",
      "8/8 [==============================] - 0s 3ms/step - loss: 0.0000e+00 - accuracy: 1.0000 - val_loss: 0.0051 - val_accuracy: 1.0000\n",
      "Epoch 42/100\n",
      "8/8 [==============================] - 0s 3ms/step - loss: 0.0000e+00 - accuracy: 1.0000 - val_loss: 0.0051 - val_accuracy: 1.0000\n",
      "Epoch 43/100\n",
      "8/8 [==============================] - 0s 3ms/step - loss: 0.0000e+00 - accuracy: 1.0000 - val_loss: 0.0051 - val_accuracy: 1.0000\n",
      "Epoch 44/100\n",
      "8/8 [==============================] - 0s 3ms/step - loss: 0.0000e+00 - accuracy: 1.0000 - val_loss: 0.0051 - val_accuracy: 1.0000\n",
      "Epoch 45/100\n",
      "8/8 [==============================] - 0s 3ms/step - loss: 0.0000e+00 - accuracy: 1.0000 - val_loss: 0.0051 - val_accuracy: 1.0000\n",
      "Epoch 46/100\n",
      "8/8 [==============================] - 0s 3ms/step - loss: 0.0000e+00 - accuracy: 1.0000 - val_loss: 0.0051 - val_accuracy: 1.0000\n",
      "Epoch 47/100\n",
      "8/8 [==============================] - 0s 3ms/step - loss: 0.0000e+00 - accuracy: 1.0000 - val_loss: 0.0051 - val_accuracy: 1.0000\n",
      "Epoch 48/100\n",
      "8/8 [==============================] - 0s 3ms/step - loss: 0.0000e+00 - accuracy: 1.0000 - val_loss: 0.0051 - val_accuracy: 1.0000\n",
      "Epoch 49/100\n",
      "8/8 [==============================] - 0s 3ms/step - loss: 0.0000e+00 - accuracy: 1.0000 - val_loss: 0.0051 - val_accuracy: 1.0000\n",
      "Epoch 50/100\n",
      "8/8 [==============================] - 0s 3ms/step - loss: 0.0000e+00 - accuracy: 1.0000 - val_loss: 0.0051 - val_accuracy: 1.0000\n",
      "Epoch 51/100\n",
      "8/8 [==============================] - 0s 3ms/step - loss: 0.0000e+00 - accuracy: 1.0000 - val_loss: 0.0051 - val_accuracy: 1.0000\n",
      "Epoch 52/100\n",
      "8/8 [==============================] - 0s 3ms/step - loss: 0.0000e+00 - accuracy: 1.0000 - val_loss: 0.0051 - val_accuracy: 1.0000\n",
      "Epoch 53/100\n",
      "8/8 [==============================] - 0s 3ms/step - loss: 0.0000e+00 - accuracy: 1.0000 - val_loss: 0.0051 - val_accuracy: 1.0000\n",
      "Epoch 54/100\n",
      "8/8 [==============================] - 0s 3ms/step - loss: 0.0000e+00 - accuracy: 1.0000 - val_loss: 0.0051 - val_accuracy: 1.0000\n",
      "Epoch 55/100\n",
      "8/8 [==============================] - 0s 3ms/step - loss: 0.0000e+00 - accuracy: 1.0000 - val_loss: 0.0051 - val_accuracy: 1.0000\n",
      "Epoch 56/100\n",
      "8/8 [==============================] - 0s 3ms/step - loss: 0.0000e+00 - accuracy: 1.0000 - val_loss: 0.0051 - val_accuracy: 1.0000\n",
      "Epoch 57/100\n",
      "8/8 [==============================] - 0s 3ms/step - loss: 0.0000e+00 - accuracy: 1.0000 - val_loss: 0.0051 - val_accuracy: 1.0000\n",
      "Epoch 58/100\n",
      "8/8 [==============================] - 0s 3ms/step - loss: 0.0000e+00 - accuracy: 1.0000 - val_loss: 0.0051 - val_accuracy: 1.0000\n",
      "Epoch 59/100\n",
      "8/8 [==============================] - 0s 3ms/step - loss: 0.0000e+00 - accuracy: 1.0000 - val_loss: 0.0051 - val_accuracy: 1.0000\n",
      "Epoch 60/100\n",
      "8/8 [==============================] - 0s 3ms/step - loss: 0.0000e+00 - accuracy: 1.0000 - val_loss: 0.0051 - val_accuracy: 1.0000\n",
      "Epoch 61/100\n",
      "8/8 [==============================] - 0s 3ms/step - loss: 0.0000e+00 - accuracy: 1.0000 - val_loss: 0.0051 - val_accuracy: 1.0000\n",
      "Epoch 62/100\n",
      "8/8 [==============================] - 0s 3ms/step - loss: 0.0000e+00 - accuracy: 1.0000 - val_loss: 0.0051 - val_accuracy: 1.0000\n",
      "Epoch 63/100\n",
      "8/8 [==============================] - 0s 3ms/step - loss: 0.0000e+00 - accuracy: 1.0000 - val_loss: 0.0051 - val_accuracy: 1.0000\n",
      "Epoch 64/100\n",
      "8/8 [==============================] - 0s 3ms/step - loss: 0.0000e+00 - accuracy: 1.0000 - val_loss: 0.0051 - val_accuracy: 1.0000\n",
      "Epoch 65/100\n",
      "8/8 [==============================] - 0s 3ms/step - loss: 0.0000e+00 - accuracy: 1.0000 - val_loss: 0.0051 - val_accuracy: 1.0000\n",
      "Epoch 66/100\n",
      "8/8 [==============================] - 0s 3ms/step - loss: 0.0000e+00 - accuracy: 1.0000 - val_loss: 0.0051 - val_accuracy: 1.0000\n",
      "Epoch 67/100\n",
      "8/8 [==============================] - 0s 3ms/step - loss: 0.0000e+00 - accuracy: 1.0000 - val_loss: 0.0051 - val_accuracy: 1.0000\n",
      "Epoch 68/100\n",
      "8/8 [==============================] - 0s 3ms/step - loss: 0.0000e+00 - accuracy: 1.0000 - val_loss: 0.0051 - val_accuracy: 1.0000\n",
      "Epoch 69/100\n",
      "8/8 [==============================] - 0s 3ms/step - loss: 0.0000e+00 - accuracy: 1.0000 - val_loss: 0.0051 - val_accuracy: 1.0000\n",
      "Epoch 70/100\n",
      "8/8 [==============================] - 0s 6ms/step - loss: 0.0000e+00 - accuracy: 1.0000 - val_loss: 0.0051 - val_accuracy: 1.0000\n",
      "Epoch 71/100\n",
      "8/8 [==============================] - 0s 5ms/step - loss: 0.0000e+00 - accuracy: 1.0000 - val_loss: 0.0051 - val_accuracy: 1.0000\n",
      "Epoch 72/100\n",
      "8/8 [==============================] - 0s 3ms/step - loss: 0.0000e+00 - accuracy: 1.0000 - val_loss: 0.0051 - val_accuracy: 1.0000\n",
      "Epoch 73/100\n",
      "8/8 [==============================] - 0s 3ms/step - loss: 0.0000e+00 - accuracy: 1.0000 - val_loss: 0.0051 - val_accuracy: 1.0000\n",
      "Epoch 74/100\n",
      "8/8 [==============================] - 0s 3ms/step - loss: 0.0000e+00 - accuracy: 1.0000 - val_loss: 0.0051 - val_accuracy: 1.0000\n",
      "Epoch 75/100\n",
      "8/8 [==============================] - 0s 3ms/step - loss: 0.0000e+00 - accuracy: 1.0000 - val_loss: 0.0051 - val_accuracy: 1.0000\n",
      "Epoch 76/100\n",
      "8/8 [==============================] - 0s 3ms/step - loss: 0.0000e+00 - accuracy: 1.0000 - val_loss: 0.0051 - val_accuracy: 1.0000\n",
      "Epoch 77/100\n",
      "8/8 [==============================] - 0s 3ms/step - loss: 0.0000e+00 - accuracy: 1.0000 - val_loss: 0.0051 - val_accuracy: 1.0000\n",
      "Epoch 78/100\n",
      "8/8 [==============================] - 0s 3ms/step - loss: 0.0000e+00 - accuracy: 1.0000 - val_loss: 0.0051 - val_accuracy: 1.0000\n",
      "Epoch 79/100\n",
      "8/8 [==============================] - 0s 3ms/step - loss: 0.0000e+00 - accuracy: 1.0000 - val_loss: 0.0051 - val_accuracy: 1.0000\n",
      "Epoch 80/100\n",
      "8/8 [==============================] - 0s 3ms/step - loss: 0.0000e+00 - accuracy: 1.0000 - val_loss: 0.0051 - val_accuracy: 1.0000\n",
      "Epoch 81/100\n",
      "8/8 [==============================] - 0s 3ms/step - loss: 0.0000e+00 - accuracy: 1.0000 - val_loss: 0.0051 - val_accuracy: 1.0000\n",
      "Epoch 82/100\n",
      "8/8 [==============================] - 0s 3ms/step - loss: 0.0000e+00 - accuracy: 1.0000 - val_loss: 0.0051 - val_accuracy: 1.0000\n",
      "Epoch 83/100\n",
      "8/8 [==============================] - 0s 3ms/step - loss: 0.0000e+00 - accuracy: 1.0000 - val_loss: 0.0051 - val_accuracy: 1.0000\n",
      "Epoch 84/100\n",
      "8/8 [==============================] - 0s 3ms/step - loss: 0.0000e+00 - accuracy: 1.0000 - val_loss: 0.0051 - val_accuracy: 1.0000\n",
      "Epoch 85/100\n",
      "8/8 [==============================] - 0s 3ms/step - loss: 0.0000e+00 - accuracy: 1.0000 - val_loss: 0.0051 - val_accuracy: 1.0000\n",
      "Epoch 86/100\n",
      "8/8 [==============================] - 0s 3ms/step - loss: 0.0000e+00 - accuracy: 1.0000 - val_loss: 0.0051 - val_accuracy: 1.0000\n",
      "Epoch 87/100\n",
      "8/8 [==============================] - 0s 3ms/step - loss: 0.0000e+00 - accuracy: 1.0000 - val_loss: 0.0051 - val_accuracy: 1.0000\n",
      "Epoch 88/100\n",
      "8/8 [==============================] - 0s 3ms/step - loss: 0.0000e+00 - accuracy: 1.0000 - val_loss: 0.0051 - val_accuracy: 1.0000\n",
      "Epoch 89/100\n",
      "8/8 [==============================] - 0s 3ms/step - loss: 0.0000e+00 - accuracy: 1.0000 - val_loss: 0.0051 - val_accuracy: 1.0000\n",
      "Epoch 90/100\n",
      "8/8 [==============================] - 0s 3ms/step - loss: 0.0000e+00 - accuracy: 1.0000 - val_loss: 0.0051 - val_accuracy: 1.0000\n",
      "Epoch 91/100\n",
      "8/8 [==============================] - 0s 3ms/step - loss: 0.0000e+00 - accuracy: 1.0000 - val_loss: 0.0051 - val_accuracy: 1.0000\n",
      "Epoch 92/100\n",
      "8/8 [==============================] - 0s 3ms/step - loss: 0.0000e+00 - accuracy: 1.0000 - val_loss: 0.0051 - val_accuracy: 1.0000\n",
      "Epoch 93/100\n",
      "8/8 [==============================] - 0s 3ms/step - loss: 0.0000e+00 - accuracy: 1.0000 - val_loss: 0.0051 - val_accuracy: 1.0000\n",
      "Epoch 94/100\n",
      "8/8 [==============================] - 0s 3ms/step - loss: 0.0000e+00 - accuracy: 1.0000 - val_loss: 0.0051 - val_accuracy: 1.0000\n",
      "Epoch 95/100\n",
      "8/8 [==============================] - 0s 3ms/step - loss: 0.0000e+00 - accuracy: 1.0000 - val_loss: 0.0051 - val_accuracy: 1.0000\n",
      "Epoch 96/100\n",
      "8/8 [==============================] - 0s 3ms/step - loss: 0.0000e+00 - accuracy: 1.0000 - val_loss: 0.0051 - val_accuracy: 1.0000\n",
      "Epoch 97/100\n",
      "8/8 [==============================] - 0s 3ms/step - loss: 0.0000e+00 - accuracy: 1.0000 - val_loss: 0.0051 - val_accuracy: 1.0000\n",
      "Epoch 98/100\n",
      "8/8 [==============================] - 0s 3ms/step - loss: 0.0000e+00 - accuracy: 1.0000 - val_loss: 0.0051 - val_accuracy: 1.0000\n",
      "Epoch 99/100\n",
      "8/8 [==============================] - 0s 3ms/step - loss: 0.0000e+00 - accuracy: 1.0000 - val_loss: 0.0051 - val_accuracy: 1.0000\n",
      "Epoch 100/100\n",
      "8/8 [==============================] - 0s 3ms/step - loss: 0.0000e+00 - accuracy: 1.0000 - val_loss: 0.0051 - val_accuracy: 1.0000\n"
     ]
    }
   ],
   "metadata": {}
  },
  {
   "cell_type": "code",
   "execution_count": 13,
   "source": [
    "import seaborn as sns\n",
    "import matplotlib.pyplot as plt\n",
    "# loss\n",
    "print('train loss')\n",
    "sns.lineplot(data = history.history['loss'])\n",
    "sns.lineplot(data = history.history['accuracy'])\n",
    "\n",
    "plt.show()\n",
    "print('val loss')\n",
    "sns.lineplot(data = history.history['val_loss'])\n",
    "sns.lineplot(data = history.history['val_accuracy'])\n",
    "plt.show()"
   ],
   "outputs": [
    {
     "output_type": "stream",
     "name": "stdout",
     "text": [
      "train loss\n"
     ]
    },
    {
     "output_type": "display_data",
     "data": {
      "image/png": "[encoded data removed]",
      "text/plain": [
       "<Figure size 432x288 with 1 Axes>"
      ]
     },
     "metadata": {
      "needs_background": "light"
     }
    },
    {
     "output_type": "stream",
     "name": "stdout",
     "text": [
      "val loss\n"
     ]
    },
    {
     "output_type": "display_data",
     "data": {
      "image/png": "[encoded data removed]",
      "text/plain": [
       "<Figure size 432x288 with 1 Axes>"
      ]
     },
     "metadata": {
      "needs_background": "light"
     }
    }
   ],
   "metadata": {}
  },
  {
   "cell_type": "markdown",
   "source": [
    "# Problem 2\n",
    "Learn Iris (multi-level classification) with Keras"
   ],
   "metadata": {}
  },
  {
   "cell_type": "code",
   "execution_count": 14,
   "source": [
    "# standardization\n",
    "from sklearn.preprocessing import StandardScaler\n",
    "import pandas as pd\n",
    "scaler = StandardScaler()\n",
    "processed_x = scaler.fit_transform(features_data.to_numpy())\n",
    "# print('before trans')\n",
    "# print(binary_x.describe())\n",
    "# print('after scale')\n",
    "# print(pd.DataFrame(processed_bin_x).describe())\n",
    "\n",
    "# onehot encode\n",
    "from sklearn.preprocessing import OneHotEncoder\n",
    "enc = OneHotEncoder()\n",
    "processed_y = enc.fit_transform(target_data.to_numpy().reshape(-1,1)).toarray()\n",
    "# print('before trans')\n",
    "# print(pd.DataFrame(binary_y).describe())\n",
    "# print('after scale')\n",
    "# print(pd.DataFrame(processed_bin_y).describe())\n",
    "# processed_y[0]"
   ],
   "outputs": [],
   "metadata": {}
  },
  {
   "cell_type": "code",
   "execution_count": 15,
   "source": [
    "# train test split\n",
    "from sklearn.model_selection import train_test_split\n",
    "\n",
    "x_train, x_test, y_train,y_test = train_test_split(processed_x, processed_y)\n",
    "print([x.shape for x in [x_train, x_test, y_train,y_test]])\n",
    "print(x_train[0])\n",
    "print(y_train[0])"
   ],
   "outputs": [
    {
     "output_type": "stream",
     "name": "stdout",
     "text": [
      "[(112, 4), (38, 4), (112, 3), (38, 3)]\n",
      "[1.40150837 0.32841405 0.53540856 0.26414192]\n",
      "[0. 1. 0.]\n"
     ]
    }
   ],
   "metadata": {}
  },
  {
   "cell_type": "code",
   "execution_count": 16,
   "source": [
    "# model\n",
    "model = keras.Sequential()\n",
    "\n",
    "# layers\n",
    "from tensorflow.keras import layers\n",
    "\n",
    "model.add(layers.Dense(20, activation=\"relu\", name=\"layer1\"))\n",
    "model.add(layers.Dense(10, activation=\"relu\", name=\"layer2\"))\n",
    "model.add(layers.Dense(3, name=\"layer3\"))\n",
    "\n",
    "\n",
    "model.layers"
   ],
   "outputs": [
    {
     "output_type": "execute_result",
     "data": {
      "text/plain": [
       "[<keras.layers.core.Dense at 0x179cf7208>,\n",
       " <keras.layers.core.Dense at 0x179cf70f0>,\n",
       " <keras.layers.core.Dense at 0x17ac03c88>]"
      ]
     },
     "metadata": {},
     "execution_count": 16
    }
   ],
   "metadata": {}
  },
  {
   "cell_type": "code",
   "execution_count": 17,
   "source": [
    "model.build(x_train.shape)\n",
    "model.summary()"
   ],
   "outputs": [
    {
     "output_type": "stream",
     "name": "stdout",
     "text": [
      "Model: \"sequential_1\"\n",
      "_________________________________________________________________\n",
      "Layer (type)                 Output Shape              Param #   \n",
      "=================================================================\n",
      "layer1 (Dense)               (112, 20)                 100       \n",
      "_________________________________________________________________\n",
      "layer2 (Dense)               (112, 10)                 210       \n",
      "_________________________________________________________________\n",
      "layer3 (Dense)               (112, 3)                  33        \n",
      "=================================================================\n",
      "Total params: 343\n",
      "Trainable params: 343\n",
      "Non-trainable params: 0\n",
      "_________________________________________________________________\n"
     ]
    }
   ],
   "metadata": {}
  },
  {
   "cell_type": "code",
   "execution_count": 18,
   "source": [
    "# loss\n",
    "loss = 'categorical_crossentropy'\n",
    "# compile\n",
    "model.compile(optimizer, loss, metrics = metrics)"
   ],
   "outputs": [],
   "metadata": {}
  },
  {
   "cell_type": "code",
   "execution_count": 19,
   "source": [
    "history = model.fit(x_train, y_train,\n",
    "                    batch_size=10,\n",
    "                    epochs=100,\n",
    "                    verbose=1,\n",
    "                    validation_data= (x_test, y_test))\n"
   ],
   "outputs": [
    {
     "output_type": "stream",
     "name": "stdout",
     "text": [
      "Epoch 1/100\n",
      "12/12 [==============================] - 0s 11ms/step - loss: 5.9228 - accuracy: 0.3482 - val_loss: 5.5757 - val_accuracy: 0.3158\n",
      "Epoch 2/100\n",
      "12/12 [==============================] - 0s 2ms/step - loss: 7.3917 - accuracy: 0.3393 - val_loss: 6.7962 - val_accuracy: 0.3158\n",
      "Epoch 3/100\n",
      "12/12 [==============================] - 0s 2ms/step - loss: 10.0912 - accuracy: 0.3393 - val_loss: 8.9074 - val_accuracy: 0.3158\n",
      "Epoch 4/100\n",
      "12/12 [==============================] - 0s 2ms/step - loss: 10.9437 - accuracy: 0.3393 - val_loss: 9.7557 - val_accuracy: 0.3158\n",
      "Epoch 5/100\n",
      "12/12 [==============================] - 0s 2ms/step - loss: 10.9410 - accuracy: 0.3393 - val_loss: 10.1799 - val_accuracy: 0.3158\n",
      "Epoch 6/100\n",
      "12/12 [==============================] - 0s 2ms/step - loss: 11.2282 - accuracy: 0.3393 - val_loss: 10.1799 - val_accuracy: 0.3158\n",
      "Epoch 7/100\n",
      "12/12 [==============================] - 0s 2ms/step - loss: 11.6597 - accuracy: 0.3393 - val_loss: 10.1799 - val_accuracy: 0.3158\n",
      "Epoch 8/100\n",
      "12/12 [==============================] - 0s 2ms/step - loss: 11.9469 - accuracy: 0.3393 - val_loss: 10.1799 - val_accuracy: 0.3158\n",
      "Epoch 9/100\n",
      "12/12 [==============================] - 0s 2ms/step - loss: 11.9464 - accuracy: 0.3393 - val_loss: 10.1799 - val_accuracy: 0.3158\n",
      "Epoch 10/100\n",
      "12/12 [==============================] - 0s 2ms/step - loss: 12.0899 - accuracy: 0.3393 - val_loss: 10.1799 - val_accuracy: 0.3158\n",
      "Epoch 11/100\n",
      "12/12 [==============================] - 0s 2ms/step - loss: 12.0893 - accuracy: 0.3393 - val_loss: 10.6040 - val_accuracy: 0.3158\n",
      "Epoch 12/100\n",
      "12/12 [==============================] - 0s 2ms/step - loss: 12.0886 - accuracy: 0.3393 - val_loss: 10.6040 - val_accuracy: 0.3158\n",
      "Epoch 13/100\n",
      "12/12 [==============================] - 0s 2ms/step - loss: 12.0886 - accuracy: 0.3393 - val_loss: 11.0282 - val_accuracy: 0.3158\n",
      "Epoch 14/100\n",
      "12/12 [==============================] - 0s 2ms/step - loss: 12.0886 - accuracy: 0.3393 - val_loss: 11.0282 - val_accuracy: 0.3158\n",
      "Epoch 15/100\n",
      "12/12 [==============================] - 0s 2ms/step - loss: 12.0886 - accuracy: 0.3393 - val_loss: 11.0282 - val_accuracy: 0.3158\n",
      "Epoch 16/100\n",
      "12/12 [==============================] - 0s 2ms/step - loss: 12.0886 - accuracy: 0.3393 - val_loss: 11.0282 - val_accuracy: 0.3158\n",
      "Epoch 17/100\n",
      "12/12 [==============================] - 0s 2ms/step - loss: 12.0886 - accuracy: 0.3393 - val_loss: 11.0282 - val_accuracy: 0.3158\n",
      "Epoch 18/100\n",
      "12/12 [==============================] - 0s 2ms/step - loss: 12.0886 - accuracy: 0.3393 - val_loss: 11.0282 - val_accuracy: 0.3158\n",
      "Epoch 19/100\n",
      "12/12 [==============================] - 0s 2ms/step - loss: 12.0886 - accuracy: 0.3393 - val_loss: 11.0282 - val_accuracy: 0.3158\n",
      "Epoch 20/100\n",
      "12/12 [==============================] - 0s 2ms/step - loss: 12.0886 - accuracy: 0.3393 - val_loss: 11.0282 - val_accuracy: 0.3158\n",
      "Epoch 21/100\n",
      "12/12 [==============================] - 0s 2ms/step - loss: 12.0886 - accuracy: 0.3393 - val_loss: 11.0282 - val_accuracy: 0.3158\n",
      "Epoch 22/100\n",
      "12/12 [==============================] - 0s 2ms/step - loss: 12.0886 - accuracy: 0.3393 - val_loss: 11.0282 - val_accuracy: 0.3158\n",
      "Epoch 23/100\n",
      "12/12 [==============================] - 0s 2ms/step - loss: 12.0886 - accuracy: 0.3393 - val_loss: 11.0282 - val_accuracy: 0.3158\n",
      "Epoch 24/100\n",
      "12/12 [==============================] - 0s 2ms/step - loss: 12.0886 - accuracy: 0.3393 - val_loss: 11.0282 - val_accuracy: 0.3158\n",
      "Epoch 25/100\n",
      "12/12 [==============================] - 0s 2ms/step - loss: 12.0886 - accuracy: 0.3393 - val_loss: 11.0282 - val_accuracy: 0.3158\n",
      "Epoch 26/100\n",
      "12/12 [==============================] - 0s 2ms/step - loss: 12.0886 - accuracy: 0.3393 - val_loss: 11.0282 - val_accuracy: 0.3158\n",
      "Epoch 27/100\n",
      "12/12 [==============================] - 0s 2ms/step - loss: 12.0886 - accuracy: 0.3393 - val_loss: 11.0282 - val_accuracy: 0.3158\n",
      "Epoch 28/100\n",
      "12/12 [==============================] - 0s 2ms/step - loss: 12.0886 - accuracy: 0.3393 - val_loss: 11.0282 - val_accuracy: 0.3158\n",
      "Epoch 29/100\n",
      "12/12 [==============================] - 0s 2ms/step - loss: 12.0886 - accuracy: 0.3393 - val_loss: 11.0282 - val_accuracy: 0.3158\n",
      "Epoch 30/100\n",
      "12/12 [==============================] - 0s 2ms/step - loss: 12.0886 - accuracy: 0.3393 - val_loss: 11.0282 - val_accuracy: 0.3158\n",
      "Epoch 31/100\n",
      "12/12 [==============================] - 0s 2ms/step - loss: 12.0886 - accuracy: 0.3393 - val_loss: 11.0282 - val_accuracy: 0.3158\n",
      "Epoch 32/100\n",
      "12/12 [==============================] - 0s 2ms/step - loss: 12.0886 - accuracy: 0.3393 - val_loss: 11.0282 - val_accuracy: 0.3158\n",
      "Epoch 33/100\n",
      "12/12 [==============================] - 0s 2ms/step - loss: 12.0886 - accuracy: 0.3393 - val_loss: 11.0282 - val_accuracy: 0.3158\n",
      "Epoch 34/100\n",
      "12/12 [==============================] - 0s 2ms/step - loss: 12.0886 - accuracy: 0.3393 - val_loss: 11.0282 - val_accuracy: 0.3158\n",
      "Epoch 35/100\n",
      "12/12 [==============================] - 0s 2ms/step - loss: 12.0886 - accuracy: 0.3393 - val_loss: 11.0282 - val_accuracy: 0.3158\n",
      "Epoch 36/100\n",
      "12/12 [==============================] - 0s 2ms/step - loss: 12.0886 - accuracy: 0.3393 - val_loss: 11.0282 - val_accuracy: 0.3158\n",
      "Epoch 37/100\n",
      "12/12 [==============================] - 0s 2ms/step - loss: 12.0886 - accuracy: 0.3393 - val_loss: 11.0282 - val_accuracy: 0.3158\n",
      "Epoch 38/100\n",
      "12/12 [==============================] - 0s 2ms/step - loss: 12.0886 - accuracy: 0.3393 - val_loss: 11.0282 - val_accuracy: 0.3158\n",
      "Epoch 39/100\n",
      "12/12 [==============================] - 0s 2ms/step - loss: 12.0886 - accuracy: 0.3393 - val_loss: 11.0282 - val_accuracy: 0.3158\n",
      "Epoch 40/100\n",
      "12/12 [==============================] - 0s 2ms/step - loss: 12.0886 - accuracy: 0.3393 - val_loss: 11.0282 - val_accuracy: 0.3158\n",
      "Epoch 41/100\n",
      "12/12 [==============================] - 0s 2ms/step - loss: 12.0886 - accuracy: 0.3393 - val_loss: 11.0282 - val_accuracy: 0.3158\n",
      "Epoch 42/100\n",
      "12/12 [==============================] - 0s 2ms/step - loss: 12.0886 - accuracy: 0.3393 - val_loss: 11.0282 - val_accuracy: 0.3158\n",
      "Epoch 43/100\n",
      "12/12 [==============================] - 0s 2ms/step - loss: 12.0886 - accuracy: 0.3393 - val_loss: 11.0282 - val_accuracy: 0.3158\n",
      "Epoch 44/100\n",
      "12/12 [==============================] - 0s 2ms/step - loss: 12.0886 - accuracy: 0.3393 - val_loss: 11.0282 - val_accuracy: 0.3158\n",
      "Epoch 45/100\n",
      "12/12 [==============================] - 0s 2ms/step - loss: 12.0886 - accuracy: 0.3393 - val_loss: 11.0282 - val_accuracy: 0.3158\n",
      "Epoch 46/100\n",
      "12/12 [==============================] - 0s 2ms/step - loss: 12.0886 - accuracy: 0.3393 - val_loss: 11.0282 - val_accuracy: 0.3158\n",
      "Epoch 47/100\n",
      "12/12 [==============================] - 0s 2ms/step - loss: 12.0886 - accuracy: 0.3393 - val_loss: 11.0282 - val_accuracy: 0.3158\n",
      "Epoch 48/100\n",
      "12/12 [==============================] - 0s 2ms/step - loss: 12.0886 - accuracy: 0.3393 - val_loss: 11.0282 - val_accuracy: 0.3158\n",
      "Epoch 49/100\n",
      "12/12 [==============================] - 0s 2ms/step - loss: 12.0886 - accuracy: 0.3393 - val_loss: 11.0282 - val_accuracy: 0.3158\n",
      "Epoch 50/100\n",
      "12/12 [==============================] - 0s 2ms/step - loss: 12.0886 - accuracy: 0.3393 - val_loss: 11.0282 - val_accuracy: 0.3158\n",
      "Epoch 51/100\n",
      "12/12 [==============================] - 0s 2ms/step - loss: 12.0886 - accuracy: 0.3393 - val_loss: 11.0282 - val_accuracy: 0.3158\n",
      "Epoch 52/100\n",
      "12/12 [==============================] - 0s 2ms/step - loss: 12.0886 - accuracy: 0.3393 - val_loss: 11.0282 - val_accuracy: 0.3158\n",
      "Epoch 53/100\n",
      "12/12 [==============================] - 0s 2ms/step - loss: 12.0886 - accuracy: 0.3393 - val_loss: 11.0282 - val_accuracy: 0.3158\n",
      "Epoch 54/100\n",
      "12/12 [==============================] - 0s 2ms/step - loss: 12.0886 - accuracy: 0.3393 - val_loss: 11.0282 - val_accuracy: 0.3158\n",
      "Epoch 55/100\n",
      "12/12 [==============================] - 0s 2ms/step - loss: 12.0886 - accuracy: 0.3393 - val_loss: 11.0282 - val_accuracy: 0.3158\n",
      "Epoch 56/100\n",
      "12/12 [==============================] - 0s 2ms/step - loss: 12.0886 - accuracy: 0.3393 - val_loss: 11.0282 - val_accuracy: 0.3158\n",
      "Epoch 57/100\n",
      "12/12 [==============================] - 0s 2ms/step - loss: 12.0886 - accuracy: 0.3393 - val_loss: 11.0282 - val_accuracy: 0.3158\n",
      "Epoch 58/100\n",
      "12/12 [==============================] - 0s 2ms/step - loss: 12.0886 - accuracy: 0.3393 - val_loss: 11.0282 - val_accuracy: 0.3158\n",
      "Epoch 59/100\n",
      "12/12 [==============================] - 0s 2ms/step - loss: 12.0886 - accuracy: 0.3393 - val_loss: 11.0282 - val_accuracy: 0.3158\n",
      "Epoch 60/100\n",
      "12/12 [==============================] - 0s 2ms/step - loss: 12.0886 - accuracy: 0.3393 - val_loss: 11.0282 - val_accuracy: 0.3158\n",
      "Epoch 61/100\n",
      "12/12 [==============================] - 0s 2ms/step - loss: 12.0886 - accuracy: 0.3393 - val_loss: 11.0282 - val_accuracy: 0.3158\n",
      "Epoch 62/100\n",
      "12/12 [==============================] - 0s 2ms/step - loss: 12.0886 - accuracy: 0.3393 - val_loss: 11.0282 - val_accuracy: 0.3158\n",
      "Epoch 63/100\n",
      "12/12 [==============================] - 0s 2ms/step - loss: 12.0886 - accuracy: 0.3393 - val_loss: 11.0282 - val_accuracy: 0.3158\n",
      "Epoch 64/100\n",
      "12/12 [==============================] - 0s 2ms/step - loss: 12.0886 - accuracy: 0.3393 - val_loss: 11.0282 - val_accuracy: 0.3158\n",
      "Epoch 65/100\n",
      "12/12 [==============================] - 0s 2ms/step - loss: 12.0886 - accuracy: 0.3393 - val_loss: 11.0282 - val_accuracy: 0.3158\n",
      "Epoch 66/100\n",
      "12/12 [==============================] - 0s 2ms/step - loss: 12.0886 - accuracy: 0.3393 - val_loss: 11.0282 - val_accuracy: 0.3158\n",
      "Epoch 67/100\n",
      "12/12 [==============================] - 0s 2ms/step - loss: 12.0886 - accuracy: 0.3393 - val_loss: 11.0282 - val_accuracy: 0.3158\n",
      "Epoch 68/100\n",
      "12/12 [==============================] - 0s 2ms/step - loss: 12.0886 - accuracy: 0.3393 - val_loss: 11.0282 - val_accuracy: 0.3158\n",
      "Epoch 69/100\n",
      "12/12 [==============================] - 0s 2ms/step - loss: 12.0886 - accuracy: 0.3393 - val_loss: 11.0282 - val_accuracy: 0.3158\n",
      "Epoch 70/100\n",
      "12/12 [==============================] - 0s 2ms/step - loss: 12.0886 - accuracy: 0.3393 - val_loss: 11.0282 - val_accuracy: 0.3158\n",
      "Epoch 71/100\n",
      "12/12 [==============================] - 0s 2ms/step - loss: 12.0886 - accuracy: 0.3393 - val_loss: 11.0282 - val_accuracy: 0.3158\n",
      "Epoch 72/100\n",
      "12/12 [==============================] - 0s 2ms/step - loss: 12.0886 - accuracy: 0.3393 - val_loss: 11.0282 - val_accuracy: 0.3158\n",
      "Epoch 73/100\n",
      "12/12 [==============================] - 0s 2ms/step - loss: 12.0886 - accuracy: 0.3393 - val_loss: 11.0282 - val_accuracy: 0.3158\n",
      "Epoch 74/100\n",
      "12/12 [==============================] - 0s 2ms/step - loss: 12.0886 - accuracy: 0.3393 - val_loss: 11.0282 - val_accuracy: 0.3158\n",
      "Epoch 75/100\n",
      "12/12 [==============================] - 0s 2ms/step - loss: 12.0886 - accuracy: 0.3393 - val_loss: 11.0282 - val_accuracy: 0.3158\n",
      "Epoch 76/100\n",
      "12/12 [==============================] - 0s 2ms/step - loss: 12.0886 - accuracy: 0.3393 - val_loss: 11.0282 - val_accuracy: 0.3158\n",
      "Epoch 77/100\n",
      "12/12 [==============================] - 0s 2ms/step - loss: 12.0886 - accuracy: 0.3393 - val_loss: 11.0282 - val_accuracy: 0.3158\n",
      "Epoch 78/100\n",
      "12/12 [==============================] - 0s 2ms/step - loss: 12.0886 - accuracy: 0.3393 - val_loss: 11.0282 - val_accuracy: 0.3158\n",
      "Epoch 79/100\n",
      "12/12 [==============================] - 0s 2ms/step - loss: 12.0886 - accuracy: 0.3393 - val_loss: 11.0282 - val_accuracy: 0.3158\n",
      "Epoch 80/100\n",
      "12/12 [==============================] - 0s 2ms/step - loss: 12.0886 - accuracy: 0.3393 - val_loss: 11.0282 - val_accuracy: 0.3158\n",
      "Epoch 81/100\n",
      "12/12 [==============================] - 0s 2ms/step - loss: 12.0886 - accuracy: 0.3393 - val_loss: 11.0282 - val_accuracy: 0.3158\n",
      "Epoch 82/100\n",
      "12/12 [==============================] - 0s 2ms/step - loss: 12.0886 - accuracy: 0.3393 - val_loss: 11.0282 - val_accuracy: 0.3158\n",
      "Epoch 83/100\n",
      "12/12 [==============================] - 0s 2ms/step - loss: 12.0886 - accuracy: 0.3393 - val_loss: 11.0282 - val_accuracy: 0.3158\n",
      "Epoch 84/100\n",
      "12/12 [==============================] - 0s 2ms/step - loss: 12.0886 - accuracy: 0.3393 - val_loss: 11.0282 - val_accuracy: 0.3158\n",
      "Epoch 85/100\n",
      "12/12 [==============================] - 0s 2ms/step - loss: 12.0886 - accuracy: 0.3393 - val_loss: 11.0282 - val_accuracy: 0.3158\n",
      "Epoch 86/100\n",
      "12/12 [==============================] - 0s 2ms/step - loss: 12.0886 - accuracy: 0.3393 - val_loss: 11.0282 - val_accuracy: 0.3158\n",
      "Epoch 87/100\n",
      "12/12 [==============================] - 0s 2ms/step - loss: 12.0886 - accuracy: 0.3393 - val_loss: 11.0282 - val_accuracy: 0.3158\n",
      "Epoch 88/100\n",
      "12/12 [==============================] - 0s 2ms/step - loss: 12.0886 - accuracy: 0.3393 - val_loss: 11.0282 - val_accuracy: 0.3158\n",
      "Epoch 89/100\n",
      "12/12 [==============================] - 0s 2ms/step - loss: 12.0886 - accuracy: 0.3393 - val_loss: 11.0282 - val_accuracy: 0.3158\n",
      "Epoch 90/100\n",
      "12/12 [==============================] - 0s 2ms/step - loss: 12.0886 - accuracy: 0.3393 - val_loss: 11.0282 - val_accuracy: 0.3158\n",
      "Epoch 91/100\n",
      "12/12 [==============================] - 0s 2ms/step - loss: 12.0886 - accuracy: 0.3393 - val_loss: 11.0282 - val_accuracy: 0.3158\n",
      "Epoch 92/100\n",
      "12/12 [==============================] - 0s 2ms/step - loss: 12.0886 - accuracy: 0.3393 - val_loss: 11.0282 - val_accuracy: 0.3158\n",
      "Epoch 93/100\n",
      "12/12 [==============================] - 0s 2ms/step - loss: 12.0886 - accuracy: 0.3393 - val_loss: 11.0282 - val_accuracy: 0.3158\n",
      "Epoch 94/100\n",
      "12/12 [==============================] - 0s 2ms/step - loss: 12.0886 - accuracy: 0.3393 - val_loss: 11.0282 - val_accuracy: 0.3158\n",
      "Epoch 95/100\n",
      "12/12 [==============================] - 0s 2ms/step - loss: 12.0886 - accuracy: 0.3393 - val_loss: 11.0282 - val_accuracy: 0.3158\n",
      "Epoch 96/100\n",
      "12/12 [==============================] - 0s 2ms/step - loss: 12.0886 - accuracy: 0.3393 - val_loss: 11.0282 - val_accuracy: 0.3158\n",
      "Epoch 97/100\n",
      "12/12 [==============================] - 0s 2ms/step - loss: 12.0886 - accuracy: 0.3393 - val_loss: 11.0282 - val_accuracy: 0.3158\n",
      "Epoch 98/100\n",
      "12/12 [==============================] - 0s 4ms/step - loss: 12.0886 - accuracy: 0.3393 - val_loss: 11.0282 - val_accuracy: 0.3158\n",
      "Epoch 99/100\n",
      "12/12 [==============================] - 0s 4ms/step - loss: 12.0886 - accuracy: 0.3393 - val_loss: 11.0282 - val_accuracy: 0.3158\n",
      "Epoch 100/100\n",
      "12/12 [==============================] - 0s 3ms/step - loss: 12.0886 - accuracy: 0.3393 - val_loss: 11.0282 - val_accuracy: 0.3158\n"
     ]
    }
   ],
   "metadata": {}
  },
  {
   "cell_type": "code",
   "execution_count": 20,
   "source": [
    "import seaborn as sns\n",
    "import matplotlib.pyplot as plt\n",
    "# loss\n",
    "print('train loss')\n",
    "sns.lineplot(data = history.history['loss'])\n",
    "sns.lineplot(data = history.history['accuracy'])\n",
    "\n",
    "plt.show()\n",
    "print('val loss')\n",
    "sns.lineplot(data = history.history['val_loss'])\n",
    "sns.lineplot(data = history.history['val_accuracy'])\n",
    "plt.show()"
   ],
   "outputs": [
    {
     "output_type": "stream",
     "name": "stdout",
     "text": [
      "train loss\n"
     ]
    },
    {
     "output_type": "display_data",
     "data": {
      "image/png": "[encoded data removed]",
      "text/plain": [
       "<Figure size 432x288 with 1 Axes>"
      ]
     },
     "metadata": {
      "needs_background": "light"
     }
    },
    {
     "output_type": "stream",
     "name": "stdout",
     "text": [
      "val loss\n"
     ]
    },
    {
     "output_type": "display_data",
     "data": {
      "image/png": "[encoded data removed]",
      "text/plain": [
       "<Figure size 432x288 with 1 Axes>"
      ]
     },
     "metadata": {
      "needs_background": "light"
     }
    }
   ],
   "metadata": {}
  },
  {
   "cell_type": "markdown",
   "source": [
    "# Problem 5\n",
    "Learning House Prices with Keras"
   ],
   "metadata": {}
  },
  {
   "cell_type": "code",
   "execution_count": 21,
   "source": [
    "# data set\n",
    "house_price_pd = pd.read_csv('../Data/Normal/houseprice_train.csv')\n",
    "house_price_pd.head()"
   ],
   "outputs": [
    {
     "output_type": "execute_result",
     "data": {
      "text/html": [
       "<div>\n",
       "<style scoped>\n",
       "    .dataframe tbody tr th:only-of-type {\n",
       "        vertical-align: middle;\n",
       "    }\n",
       "\n",
       "    .dataframe tbody tr th {\n",
       "        vertical-align: top;\n",
       "    }\n",
       "\n",
       "    .dataframe thead th {\n",
       "        text-align: right;\n",
       "    }\n",
       "</style>\n",
       "<table border=\"1\" class=\"dataframe\">\n",
       "  <thead>\n",
       "    <tr style=\"text-align: right;\">\n",
       "      <th></th>\n",
       "      <th>Id</th>\n",
       "      <th>MSSubClass</th>\n",
       "      <th>MSZoning</th>\n",
       "      <th>LotFrontage</th>\n",
       "      <th>LotArea</th>\n",
       "      <th>Street</th>\n",
       "      <th>Alley</th>\n",
       "      <th>LotShape</th>\n",
       "      <th>LandContour</th>\n",
       "      <th>Utilities</th>\n",
       "      <th>...</th>\n",
       "      <th>PoolArea</th>\n",
       "      <th>PoolQC</th>\n",
       "      <th>Fence</th>\n",
       "      <th>MiscFeature</th>\n",
       "      <th>MiscVal</th>\n",
       "      <th>MoSold</th>\n",
       "      <th>YrSold</th>\n",
       "      <th>SaleType</th>\n",
       "      <th>SaleCondition</th>\n",
       "      <th>SalePrice</th>\n",
       "    </tr>\n",
       "  </thead>\n",
       "  <tbody>\n",
       "    <tr>\n",
       "      <th>0</th>\n",
       "      <td>1</td>\n",
       "      <td>60</td>\n",
       "      <td>RL</td>\n",
       "      <td>65.0</td>\n",
       "      <td>8450</td>\n",
       "      <td>Pave</td>\n",
       "      <td>NaN</td>\n",
       "      <td>Reg</td>\n",
       "      <td>Lvl</td>\n",
       "      <td>AllPub</td>\n",
       "      <td>...</td>\n",
       "      <td>0</td>\n",
       "      <td>NaN</td>\n",
       "      <td>NaN</td>\n",
       "      <td>NaN</td>\n",
       "      <td>0</td>\n",
       "      <td>2</td>\n",
       "      <td>2008</td>\n",
       "      <td>WD</td>\n",
       "      <td>Normal</td>\n",
       "      <td>208500</td>\n",
       "    </tr>\n",
       "    <tr>\n",
       "      <th>1</th>\n",
       "      <td>2</td>\n",
       "      <td>20</td>\n",
       "      <td>RL</td>\n",
       "      <td>80.0</td>\n",
       "      <td>9600</td>\n",
       "      <td>Pave</td>\n",
       "      <td>NaN</td>\n",
       "      <td>Reg</td>\n",
       "      <td>Lvl</td>\n",
       "      <td>AllPub</td>\n",
       "      <td>...</td>\n",
       "      <td>0</td>\n",
       "      <td>NaN</td>\n",
       "      <td>NaN</td>\n",
       "      <td>NaN</td>\n",
       "      <td>0</td>\n",
       "      <td>5</td>\n",
       "      <td>2007</td>\n",
       "      <td>WD</td>\n",
       "      <td>Normal</td>\n",
       "      <td>181500</td>\n",
       "    </tr>\n",
       "    <tr>\n",
       "      <th>2</th>\n",
       "      <td>3</td>\n",
       "      <td>60</td>\n",
       "      <td>RL</td>\n",
       "      <td>68.0</td>\n",
       "      <td>11250</td>\n",
       "      <td>Pave</td>\n",
       "      <td>NaN</td>\n",
       "      <td>IR1</td>\n",
       "      <td>Lvl</td>\n",
       "      <td>AllPub</td>\n",
       "      <td>...</td>\n",
       "      <td>0</td>\n",
       "      <td>NaN</td>\n",
       "      <td>NaN</td>\n",
       "      <td>NaN</td>\n",
       "      <td>0</td>\n",
       "      <td>9</td>\n",
       "      <td>2008</td>\n",
       "      <td>WD</td>\n",
       "      <td>Normal</td>\n",
       "      <td>223500</td>\n",
       "    </tr>\n",
       "    <tr>\n",
       "      <th>3</th>\n",
       "      <td>4</td>\n",
       "      <td>70</td>\n",
       "      <td>RL</td>\n",
       "      <td>60.0</td>\n",
       "      <td>9550</td>\n",
       "      <td>Pave</td>\n",
       "      <td>NaN</td>\n",
       "      <td>IR1</td>\n",
       "      <td>Lvl</td>\n",
       "      <td>AllPub</td>\n",
       "      <td>...</td>\n",
       "      <td>0</td>\n",
       "      <td>NaN</td>\n",
       "      <td>NaN</td>\n",
       "      <td>NaN</td>\n",
       "      <td>0</td>\n",
       "      <td>2</td>\n",
       "      <td>2006</td>\n",
       "      <td>WD</td>\n",
       "      <td>Abnorml</td>\n",
       "      <td>140000</td>\n",
       "    </tr>\n",
       "    <tr>\n",
       "      <th>4</th>\n",
       "      <td>5</td>\n",
       "      <td>60</td>\n",
       "      <td>RL</td>\n",
       "      <td>84.0</td>\n",
       "      <td>14260</td>\n",
       "      <td>Pave</td>\n",
       "      <td>NaN</td>\n",
       "      <td>IR1</td>\n",
       "      <td>Lvl</td>\n",
       "      <td>AllPub</td>\n",
       "      <td>...</td>\n",
       "      <td>0</td>\n",
       "      <td>NaN</td>\n",
       "      <td>NaN</td>\n",
       "      <td>NaN</td>\n",
       "      <td>0</td>\n",
       "      <td>12</td>\n",
       "      <td>2008</td>\n",
       "      <td>WD</td>\n",
       "      <td>Normal</td>\n",
       "      <td>250000</td>\n",
       "    </tr>\n",
       "  </tbody>\n",
       "</table>\n",
       "<p>5 rows × 81 columns</p>\n",
       "</div>"
      ],
      "text/plain": [
       "   Id  MSSubClass MSZoning  LotFrontage  LotArea Street Alley LotShape  \\\n",
       "0   1          60       RL         65.0     8450   Pave   NaN      Reg   \n",
       "1   2          20       RL         80.0     9600   Pave   NaN      Reg   \n",
       "2   3          60       RL         68.0    11250   Pave   NaN      IR1   \n",
       "3   4          70       RL         60.0     9550   Pave   NaN      IR1   \n",
       "4   5          60       RL         84.0    14260   Pave   NaN      IR1   \n",
       "\n",
       "  LandContour Utilities  ... PoolArea PoolQC Fence MiscFeature MiscVal MoSold  \\\n",
       "0         Lvl    AllPub  ...        0    NaN   NaN         NaN       0      2   \n",
       "1         Lvl    AllPub  ...        0    NaN   NaN         NaN       0      5   \n",
       "2         Lvl    AllPub  ...        0    NaN   NaN         NaN       0      9   \n",
       "3         Lvl    AllPub  ...        0    NaN   NaN         NaN       0      2   \n",
       "4         Lvl    AllPub  ...        0    NaN   NaN         NaN       0     12   \n",
       "\n",
       "  YrSold  SaleType  SaleCondition  SalePrice  \n",
       "0   2008        WD         Normal     208500  \n",
       "1   2007        WD         Normal     181500  \n",
       "2   2008        WD         Normal     223500  \n",
       "3   2006        WD        Abnorml     140000  \n",
       "4   2008        WD         Normal     250000  \n",
       "\n",
       "[5 rows x 81 columns]"
      ]
     },
     "metadata": {},
     "execution_count": 21
    }
   ],
   "metadata": {}
  },
  {
   "cell_type": "code",
   "execution_count": 22,
   "source": [
    "# selection\n",
    "selected = house_price_pd[['GrLivArea', 'YearBuilt','SalePrice']]\n",
    "print('selected: ', selected.shape, selected.columns)\n",
    "print(selected.head())"
   ],
   "outputs": [
    {
     "output_type": "stream",
     "name": "stdout",
     "text": [
      "selected:  (1460, 3) Index(['GrLivArea', 'YearBuilt', 'SalePrice'], dtype='object')\n",
      "   GrLivArea  YearBuilt  SalePrice\n",
      "0       1710       2003     208500\n",
      "1       1262       1976     181500\n",
      "2       1786       2001     223500\n",
      "3       1717       1915     140000\n",
      "4       2198       2000     250000\n"
     ]
    }
   ],
   "metadata": {}
  },
  {
   "cell_type": "code",
   "execution_count": 23,
   "source": [
    "# check nan\n",
    "print(selected.isna().sum(axis = 0))"
   ],
   "outputs": [
    {
     "output_type": "stream",
     "name": "stdout",
     "text": [
      "GrLivArea    0\n",
      "YearBuilt    0\n",
      "SalePrice    0\n",
      "dtype: int64\n"
     ]
    }
   ],
   "metadata": {}
  },
  {
   "cell_type": "code",
   "execution_count": 24,
   "source": [
    "# normalize\n",
    "print(selected.describe().transpose()[['mean', 'std']])\n",
    "\n",
    "import numpy as np\n",
    "from sklearn.preprocessing import FunctionTransformer\n",
    "transformer = FunctionTransformer(np.log1p, validate=True)\n",
    "scaled = transformer.fit_transform(selected)\n",
    "print(pd.DataFrame(scaled).describe().transpose()[['mean', 'std']])\n",
    "\n",
    "explainatory = scaled[:,:-1]\n",
    "objective = scaled[:,-1].reshape(-1,1)\n",
    "print(explainatory.shape, explainatory[:3])\n",
    "print(objective.shape, objective[:3])"
   ],
   "outputs": [
    {
     "output_type": "stream",
     "name": "stdout",
     "text": [
      "                    mean           std\n",
      "GrLivArea    1515.463699    525.480383\n",
      "YearBuilt    1971.267808     30.202904\n",
      "SalePrice  180921.195890  79442.502883\n",
      "        mean       std\n",
      "0   7.268512  0.333303\n",
      "1   7.586821  0.015389\n",
      "2  12.024057  0.399449\n",
      "(1460, 2) [[7.44483327 7.60290046]\n",
      " [7.14124512 7.58933582]\n",
      " [7.48829352 7.60190196]]\n",
      "(1460, 1) [[12.24769912]\n",
      " [12.10901644]\n",
      " [12.31717117]]\n"
     ]
    }
   ],
   "metadata": {}
  },
  {
   "cell_type": "code",
   "execution_count": 25,
   "source": [
    "# train test split\n",
    "from sklearn.model_selection import train_test_split\n",
    "X_train, X_val, y_train, y_val = train_test_split(explainatory, objective, train_size = 0.8)\n",
    "print('train shape: ', [i.shape for i in [X_train, X_val, y_train, y_val]])"
   ],
   "outputs": [
    {
     "output_type": "stream",
     "name": "stdout",
     "text": [
      "train shape:  [(1168, 2), (292, 2), (1168, 1), (292, 1)]\n"
     ]
    }
   ],
   "metadata": {}
  },
  {
   "cell_type": "code",
   "execution_count": 26,
   "source": [
    "# linear regression model\n",
    "model = keras.Sequential(\n",
    "  [\n",
    "    layers.Dense(1)\n",
    "  ]\n",
    ")\n",
    "\n",
    "model.build(X_train.shape)\n",
    "model.summary()"
   ],
   "outputs": [
    {
     "output_type": "stream",
     "name": "stdout",
     "text": [
      "Model: \"sequential_2\"\n",
      "_________________________________________________________________\n",
      "Layer (type)                 Output Shape              Param #   \n",
      "=================================================================\n",
      "dense (Dense)                (1168, 1)                 3         \n",
      "=================================================================\n",
      "Total params: 3\n",
      "Trainable params: 3\n",
      "Non-trainable params: 0\n",
      "_________________________________________________________________\n"
     ]
    }
   ],
   "metadata": {}
  },
  {
   "cell_type": "code",
   "execution_count": 27,
   "source": [
    "model.compile(\n",
    "    optimizer='adam',\n",
    "    loss='mean_absolute_error')"
   ],
   "outputs": [],
   "metadata": {}
  },
  {
   "cell_type": "code",
   "execution_count": 28,
   "source": [
    "history = model.fit(X_train, y_train,\n",
    "                    batch_size=10,\n",
    "                    epochs=100,\n",
    "                    verbose=1,\n",
    "                    validation_data= (X_val, y_val))\n"
   ],
   "outputs": [
    {
     "output_type": "stream",
     "name": "stdout",
     "text": [
      "Epoch 1/100\n",
      "117/117 [==============================] - 0s 2ms/step - loss: 15.6666 - val_loss: 14.7315\n",
      "Epoch 2/100\n",
      "117/117 [==============================] - 0s 1ms/step - loss: 13.8115 - val_loss: 12.8758\n",
      "Epoch 3/100\n",
      "117/117 [==============================] - 0s 1ms/step - loss: 11.9568 - val_loss: 11.0194\n",
      "Epoch 4/100\n",
      "117/117 [==============================] - 0s 1ms/step - loss: 10.1019 - val_loss: 9.1639\n",
      "Epoch 5/100\n",
      "117/117 [==============================] - 0s 914us/step - loss: 8.2470 - val_loss: 7.3082\n",
      "Epoch 6/100\n",
      "117/117 [==============================] - 0s 681us/step - loss: 6.3923 - val_loss: 5.4517\n",
      "Epoch 7/100\n",
      "117/117 [==============================] - 0s 643us/step - loss: 4.5376 - val_loss: 3.5960\n",
      "Epoch 8/100\n",
      "117/117 [==============================] - 0s 603us/step - loss: 2.6828 - val_loss: 1.7403\n",
      "Epoch 9/100\n",
      "117/117 [==============================] - 0s 910us/step - loss: 0.8736 - val_loss: 0.2089\n",
      "Epoch 10/100\n",
      "117/117 [==============================] - 0s 948us/step - loss: 0.1993 - val_loss: 0.2051\n",
      "Epoch 11/100\n",
      "117/117 [==============================] - 0s 991us/step - loss: 0.1989 - val_loss: 0.2006\n",
      "Epoch 12/100\n",
      "117/117 [==============================] - 0s 1ms/step - loss: 0.1989 - val_loss: 0.2000\n",
      "Epoch 13/100\n",
      "117/117 [==============================] - 0s 788us/step - loss: 0.1989 - val_loss: 0.2006\n",
      "Epoch 14/100\n",
      "117/117 [==============================] - 0s 681us/step - loss: 0.1993 - val_loss: 0.2000\n",
      "Epoch 15/100\n",
      "117/117 [==============================] - 0s 1ms/step - loss: 0.1998 - val_loss: 0.2004\n",
      "Epoch 16/100\n",
      "117/117 [==============================] - 0s 1ms/step - loss: 0.1989 - val_loss: 0.1996\n",
      "Epoch 17/100\n",
      "117/117 [==============================] - 0s 660us/step - loss: 0.1993 - val_loss: 0.2045\n",
      "Epoch 18/100\n",
      "117/117 [==============================] - 0s 610us/step - loss: 0.1989 - val_loss: 0.2000\n",
      "Epoch 19/100\n",
      "117/117 [==============================] - 0s 643us/step - loss: 0.2003 - val_loss: 0.2014\n",
      "Epoch 20/100\n",
      "117/117 [==============================] - 0s 612us/step - loss: 0.1994 - val_loss: 0.2124\n",
      "Epoch 21/100\n",
      "117/117 [==============================] - 0s 610us/step - loss: 0.2012 - val_loss: 0.1999\n",
      "Epoch 22/100\n",
      "117/117 [==============================] - 0s 758us/step - loss: 0.1992 - val_loss: 0.1998\n",
      "Epoch 23/100\n",
      "117/117 [==============================] - 0s 1ms/step - loss: 0.1990 - val_loss: 0.2047\n",
      "Epoch 24/100\n",
      "117/117 [==============================] - 0s 859us/step - loss: 0.1996 - val_loss: 0.1998\n",
      "Epoch 25/100\n",
      "117/117 [==============================] - 0s 972us/step - loss: 0.2003 - val_loss: 0.1997\n",
      "Epoch 26/100\n",
      "117/117 [==============================] - 0s 800us/step - loss: 0.2003 - val_loss: 0.2051\n",
      "Epoch 27/100\n",
      "117/117 [==============================] - 0s 786us/step - loss: 0.1997 - val_loss: 0.1996\n",
      "Epoch 28/100\n",
      "117/117 [==============================] - 0s 988us/step - loss: 0.1999 - val_loss: 0.1999\n",
      "Epoch 29/100\n",
      "117/117 [==============================] - 0s 1ms/step - loss: 0.1991 - val_loss: 0.1998\n",
      "Epoch 30/100\n",
      "117/117 [==============================] - 0s 1ms/step - loss: 0.1998 - val_loss: 0.2004\n",
      "Epoch 31/100\n",
      "117/117 [==============================] - 0s 862us/step - loss: 0.1995 - val_loss: 0.1995\n",
      "Epoch 32/100\n",
      "117/117 [==============================] - 0s 1ms/step - loss: 0.2006 - val_loss: 0.1995\n",
      "Epoch 33/100\n",
      "117/117 [==============================] - 0s 925us/step - loss: 0.1992 - val_loss: 0.2003\n",
      "Epoch 34/100\n",
      "117/117 [==============================] - 0s 881us/step - loss: 0.1990 - val_loss: 0.2036\n",
      "Epoch 35/100\n",
      "117/117 [==============================] - 0s 621us/step - loss: 0.1999 - val_loss: 0.1995\n",
      "Epoch 36/100\n",
      "117/117 [==============================] - 0s 609us/step - loss: 0.2005 - val_loss: 0.2033\n",
      "Epoch 37/100\n",
      "117/117 [==============================] - 0s 608us/step - loss: 0.1996 - val_loss: 0.1998\n",
      "Epoch 38/100\n",
      "117/117 [==============================] - 0s 641us/step - loss: 0.1991 - val_loss: 0.2001\n",
      "Epoch 39/100\n",
      "117/117 [==============================] - 0s 611us/step - loss: 0.1990 - val_loss: 0.2011\n",
      "Epoch 40/100\n",
      "117/117 [==============================] - 0s 615us/step - loss: 0.1989 - val_loss: 0.2024\n",
      "Epoch 41/100\n",
      "117/117 [==============================] - 0s 624us/step - loss: 0.1998 - val_loss: 0.2016\n",
      "Epoch 42/100\n",
      "117/117 [==============================] - 0s 637us/step - loss: 0.1998 - val_loss: 0.1998\n",
      "Epoch 43/100\n",
      "117/117 [==============================] - 0s 953us/step - loss: 0.1995 - val_loss: 0.1996\n",
      "Epoch 44/100\n",
      "117/117 [==============================] - 0s 865us/step - loss: 0.1994 - val_loss: 0.2089\n",
      "Epoch 45/100\n",
      "117/117 [==============================] - 0s 958us/step - loss: 0.2000 - val_loss: 0.2136\n",
      "Epoch 46/100\n",
      "117/117 [==============================] - 0s 747us/step - loss: 0.1998 - val_loss: 0.2006\n",
      "Epoch 47/100\n",
      "117/117 [==============================] - 0s 876us/step - loss: 0.1996 - val_loss: 0.2021\n",
      "Epoch 48/100\n",
      "117/117 [==============================] - 0s 793us/step - loss: 0.1998 - val_loss: 0.1995\n",
      "Epoch 49/100\n",
      "117/117 [==============================] - 0s 667us/step - loss: 0.1989 - val_loss: 0.2016\n",
      "Epoch 50/100\n",
      "117/117 [==============================] - 0s 600us/step - loss: 0.1999 - val_loss: 0.1996\n",
      "Epoch 51/100\n",
      "117/117 [==============================] - 0s 635us/step - loss: 0.1993 - val_loss: 0.2042\n",
      "Epoch 52/100\n",
      "117/117 [==============================] - 0s 628us/step - loss: 0.2004 - val_loss: 0.2000\n",
      "Epoch 53/100\n",
      "117/117 [==============================] - 0s 786us/step - loss: 0.2002 - val_loss: 0.1997\n",
      "Epoch 54/100\n",
      "117/117 [==============================] - 0s 1ms/step - loss: 0.1999 - val_loss: 0.1996\n",
      "Epoch 55/100\n",
      "117/117 [==============================] - 0s 949us/step - loss: 0.1996 - val_loss: 0.2030\n",
      "Epoch 56/100\n",
      "117/117 [==============================] - 0s 791us/step - loss: 0.1993 - val_loss: 0.1999\n",
      "Epoch 57/100\n",
      "117/117 [==============================] - 0s 1ms/step - loss: 0.1993 - val_loss: 0.1997\n",
      "Epoch 58/100\n",
      "117/117 [==============================] - 0s 1ms/step - loss: 0.1995 - val_loss: 0.2010\n",
      "Epoch 59/100\n",
      "117/117 [==============================] - 0s 2ms/step - loss: 0.2002 - val_loss: 0.1996\n",
      "Epoch 60/100\n",
      "117/117 [==============================] - 0s 1ms/step - loss: 0.1991 - val_loss: 0.2000\n",
      "Epoch 61/100\n",
      "117/117 [==============================] - 0s 1ms/step - loss: 0.1998 - val_loss: 0.2058\n",
      "Epoch 62/100\n",
      "117/117 [==============================] - 0s 1ms/step - loss: 0.1998 - val_loss: 0.2034\n",
      "Epoch 63/100\n",
      "117/117 [==============================] - 0s 655us/step - loss: 0.1997 - val_loss: 0.1995\n",
      "Epoch 64/100\n",
      "117/117 [==============================] - 0s 760us/step - loss: 0.1992 - val_loss: 0.1995\n",
      "Epoch 65/100\n",
      "117/117 [==============================] - 0s 765us/step - loss: 0.1992 - val_loss: 0.1994\n",
      "Epoch 66/100\n",
      "117/117 [==============================] - 0s 611us/step - loss: 0.1999 - val_loss: 0.2014\n",
      "Epoch 67/100\n",
      "117/117 [==============================] - 0s 681us/step - loss: 0.2000 - val_loss: 0.2019\n",
      "Epoch 68/100\n",
      "117/117 [==============================] - 0s 662us/step - loss: 0.2006 - val_loss: 0.2003\n",
      "Epoch 69/100\n",
      "117/117 [==============================] - 0s 741us/step - loss: 0.1998 - val_loss: 0.2013\n",
      "Epoch 70/100\n",
      "117/117 [==============================] - 0s 1ms/step - loss: 0.1997 - val_loss: 0.2005\n",
      "Epoch 71/100\n",
      "117/117 [==============================] - 0s 779us/step - loss: 0.1992 - val_loss: 0.2003\n",
      "Epoch 72/100\n",
      "117/117 [==============================] - 0s 973us/step - loss: 0.2001 - val_loss: 0.1998\n",
      "Epoch 73/100\n",
      "117/117 [==============================] - 0s 810us/step - loss: 0.2003 - val_loss: 0.2010\n",
      "Epoch 74/100\n",
      "117/117 [==============================] - 0s 648us/step - loss: 0.1992 - val_loss: 0.2072\n",
      "Epoch 75/100\n",
      "117/117 [==============================] - 0s 634us/step - loss: 0.1996 - val_loss: 0.2012\n",
      "Epoch 76/100\n",
      "117/117 [==============================] - 0s 747us/step - loss: 0.1993 - val_loss: 0.2006\n",
      "Epoch 77/100\n",
      "117/117 [==============================] - 0s 2ms/step - loss: 0.2002 - val_loss: 0.1994\n",
      "Epoch 78/100\n",
      "117/117 [==============================] - 0s 970us/step - loss: 0.1997 - val_loss: 0.1996\n",
      "Epoch 79/100\n",
      "117/117 [==============================] - 0s 994us/step - loss: 0.1992 - val_loss: 0.1995\n",
      "Epoch 80/100\n",
      "117/117 [==============================] - 0s 759us/step - loss: 0.2003 - val_loss: 0.1999\n",
      "Epoch 81/100\n",
      "117/117 [==============================] - 0s 632us/step - loss: 0.2002 - val_loss: 0.1995\n",
      "Epoch 82/100\n",
      "117/117 [==============================] - 0s 607us/step - loss: 0.1994 - val_loss: 0.2072\n",
      "Epoch 83/100\n",
      "117/117 [==============================] - 0s 612us/step - loss: 0.1994 - val_loss: 0.2037\n",
      "Epoch 84/100\n",
      "117/117 [==============================] - 0s 677us/step - loss: 0.1994 - val_loss: 0.2042\n",
      "Epoch 85/100\n",
      "117/117 [==============================] - 0s 731us/step - loss: 0.1994 - val_loss: 0.2106\n",
      "Epoch 86/100\n",
      "117/117 [==============================] - 0s 617us/step - loss: 0.1998 - val_loss: 0.2021\n",
      "Epoch 87/100\n",
      "117/117 [==============================] - 0s 604us/step - loss: 0.1999 - val_loss: 0.2018\n",
      "Epoch 88/100\n",
      "117/117 [==============================] - 0s 616us/step - loss: 0.1999 - val_loss: 0.2019\n",
      "Epoch 89/100\n",
      "117/117 [==============================] - 0s 634us/step - loss: 0.2005 - val_loss: 0.2079\n",
      "Epoch 90/100\n",
      "117/117 [==============================] - 0s 1ms/step - loss: 0.2004 - val_loss: 0.2006\n",
      "Epoch 91/100\n",
      "117/117 [==============================] - 0s 1ms/step - loss: 0.1995 - val_loss: 0.2016\n",
      "Epoch 92/100\n",
      "117/117 [==============================] - 0s 810us/step - loss: 0.1998 - val_loss: 0.1999\n",
      "Epoch 93/100\n",
      "117/117 [==============================] - 0s 683us/step - loss: 0.1977 - val_loss: 0.2034\n",
      "Epoch 94/100\n",
      "117/117 [==============================] - 0s 650us/step - loss: 0.2008 - val_loss: 0.1997\n",
      "Epoch 95/100\n",
      "117/117 [==============================] - 0s 611us/step - loss: 0.1992 - val_loss: 0.2046\n",
      "Epoch 96/100\n",
      "117/117 [==============================] - 0s 607us/step - loss: 0.1998 - val_loss: 0.2003\n",
      "Epoch 97/100\n",
      "117/117 [==============================] - 0s 611us/step - loss: 0.1993 - val_loss: 0.1994\n",
      "Epoch 98/100\n",
      "117/117 [==============================] - 0s 608us/step - loss: 0.1995 - val_loss: 0.2001\n",
      "Epoch 99/100\n",
      "117/117 [==============================] - 0s 607us/step - loss: 0.1997 - val_loss: 0.2040\n",
      "Epoch 100/100\n",
      "117/117 [==============================] - 0s 603us/step - loss: 0.2001 - val_loss: 0.1994\n"
     ]
    }
   ],
   "metadata": {}
  },
  {
   "cell_type": "code",
   "execution_count": 29,
   "source": [
    "import seaborn as sns\n",
    "import matplotlib.pyplot as plt\n",
    "# loss\n",
    "print('train loss')\n",
    "sns.lineplot(data = history.history['loss'])\n",
    "\n",
    "plt.show()\n",
    "print('val loss')\n",
    "sns.lineplot(data = history.history['val_loss'])\n",
    "plt.show()"
   ],
   "outputs": [
    {
     "output_type": "stream",
     "name": "stdout",
     "text": [
      "train loss\n"
     ]
    },
    {
     "output_type": "display_data",
     "data": {
      "image/png": "[encoded data removed]",
      "text/plain": [
       "<Figure size 432x288 with 1 Axes>"
      ]
     },
     "metadata": {
      "needs_background": "light"
     }
    },
    {
     "output_type": "stream",
     "name": "stdout",
     "text": [
      "val loss\n"
     ]
    },
    {
     "output_type": "display_data",
     "data": {
      "image/png": "[encoded data removed]",
      "text/plain": [
       "<Figure size 432x288 with 1 Axes>"
      ]
     },
     "metadata": {
      "needs_background": "light"
     }
    }
   ],
   "metadata": {}
  },
  {
   "cell_type": "markdown",
   "source": [
    "# Problem 6\n",
    "Learning MNIST with Keras"
   ],
   "metadata": {}
  },
  {
   "cell_type": "code",
   "execution_count": 87,
   "source": [
    "# load dataset\n",
    "number_minist = keras.datasets.mnist\n",
    "(train_images, train_labels), (test_images, test_labels) = number_minist.load_data()\n",
    "print('Shapes: ', train_images.shape, train_labels.shape)"
   ],
   "outputs": [
    {
     "output_type": "stream",
     "name": "stdout",
     "text": [
      "Shapes:  (60000, 28, 28) (60000,)\n"
     ]
    }
   ],
   "metadata": {}
  },
  {
   "cell_type": "code",
   "execution_count": 88,
   "source": [
    "plt.figure()\n",
    "plt.imshow(train_images[0])\n",
    "plt.colorbar()\n",
    "plt.grid(False)\n",
    "plt.show()"
   ],
   "outputs": [
    {
     "output_type": "display_data",
     "data": {
      "image/png": "[encoded data removed]",
      "text/plain": [
       "<Figure size 432x288 with 2 Axes>"
      ]
     },
     "metadata": {
      "needs_background": "light"
     }
    }
   ],
   "metadata": {}
  },
  {
   "cell_type": "code",
   "execution_count": 89,
   "source": [
    "train_images = train_images / 255.0\n",
    "\n",
    "test_images = test_images / 255.0"
   ],
   "outputs": [],
   "metadata": {}
  },
  {
   "cell_type": "code",
   "execution_count": 90,
   "source": [
    "plt.figure(figsize=(10,10))\n",
    "for i in range(25):\n",
    "    plt.subplot(5,5,i+1)\n",
    "    plt.xticks([])\n",
    "    plt.yticks([])\n",
    "    plt.grid(False)\n",
    "    plt.imshow(train_images[i], cmap=plt.cm.binary)\n",
    "plt.show()"
   ],
   "outputs": [
    {
     "output_type": "display_data",
     "data": {
      "image/png": "[encoded data removed]",
      "text/plain": [
       "<Figure size 720x720 with 25 Axes>"
      ]
     },
     "metadata": {}
    }
   ],
   "metadata": {}
  },
  {
   "cell_type": "code",
   "execution_count": 96,
   "source": [
    "# Reduce train val size\n",
    "from sklearn.model_selection import train_test_split\n",
    "init_x_train, _, init_y_train, _ = train_test_split(train_images, train_labels)\n",
    "\n",
    "# encode\n",
    "from sklearn.preprocessing import OneHotEncoder\n",
    "enc = OneHotEncoder()\n",
    "y_train = enc.fit_transform(init_y_train.reshape(-1,1)).toarray()\n",
    "print('y sample: ', y_train[0])\n",
    "\n",
    "# Add one dimension as the channel into the dataset\n",
    "x_train = tf.expand_dims(init_x_train, axis = -1).numpy()\n",
    "\n",
    "x_train, x_val, y_train, y_val = train_test_split(x_train, y_train)\n",
    "print('shapes: ', [x.shape for x in [x_train, x_val, y_train, y_val]])"
   ],
   "outputs": [
    {
     "output_type": "stream",
     "name": "stdout",
     "text": [
      "y sample:  [0. 0. 0. 0. 1. 0. 0. 0. 0. 0.]\n",
      "shapes:  [(33750, 28, 28, 1), (11250, 28, 28, 1), (33750, 10), (11250, 10)]\n"
     ]
    }
   ],
   "metadata": {}
  },
  {
   "cell_type": "code",
   "execution_count": 97,
   "source": [
    "# a simple model\n",
    "model = keras.Sequential([\n",
    "  keras.layers.Conv2D(3, (3,3), activation = 'relu'),\n",
    "  keras.layers.Conv2D(2, (3,3), activation = 'relu'),\n",
    "  keras.layers.Flatten(),\n",
    "  keras.layers.Dense(20, activation = 'relu'),\n",
    "  keras.layers.Dense(10)\n",
    "])\n",
    "print(model.layers)"
   ],
   "outputs": [
    {
     "output_type": "stream",
     "name": "stdout",
     "text": [
      "[<keras.layers.convolutional.Conv2D object at 0x19359f6a0>, <keras.layers.convolutional.Conv2D object at 0x19359fcc0>, <keras.layers.core.Flatten object at 0x1935cc3c8>, <keras.layers.core.Dense object at 0x1935cc518>, <keras.layers.core.Dense object at 0x1935cc7f0>]\n"
     ]
    }
   ],
   "metadata": {}
  },
  {
   "cell_type": "code",
   "execution_count": 98,
   "source": [
    "model.build(input_shape = x_train.shape)\n",
    "model.summary()"
   ],
   "outputs": [
    {
     "output_type": "stream",
     "name": "stdout",
     "text": [
      "Model: \"sequential_12\"\n",
      "_________________________________________________________________\n",
      "Layer (type)                 Output Shape              Param #   \n",
      "=================================================================\n",
      "conv2d_18 (Conv2D)           (33750, 26, 26, 3)        30        \n",
      "_________________________________________________________________\n",
      "conv2d_19 (Conv2D)           (33750, 24, 24, 2)        56        \n",
      "_________________________________________________________________\n",
      "flatten_9 (Flatten)          (33750, 1152)             0         \n",
      "_________________________________________________________________\n",
      "dense_19 (Dense)             (33750, 20)               23060     \n",
      "_________________________________________________________________\n",
      "dense_20 (Dense)             (33750, 10)               210       \n",
      "=================================================================\n",
      "Total params: 23,356\n",
      "Trainable params: 23,356\n",
      "Non-trainable params: 0\n",
      "_________________________________________________________________\n"
     ]
    }
   ],
   "metadata": {}
  },
  {
   "cell_type": "code",
   "execution_count": 99,
   "source": [
    "model.compile(optimizer='adam',\n",
    "              loss=tf.keras.losses.CategoricalCrossentropy(from_logits=True),\n",
    "              metrics=['accuracy'])"
   ],
   "outputs": [],
   "metadata": {}
  },
  {
   "cell_type": "code",
   "execution_count": 100,
   "source": [
    "history = model.fit(\n",
    "  x_train,y_train,\n",
    "  validation_data = (x_val,y_val),\n",
    "  epochs = 10,\n",
    "  batch_size = 20,\n",
    ")"
   ],
   "outputs": [
    {
     "output_type": "stream",
     "name": "stdout",
     "text": [
      "Epoch 1/10\n",
      "1688/1688 [==============================] - 10s 6ms/step - loss: 0.3652 - accuracy: 0.8881 - val_loss: 0.2319 - val_accuracy: 0.9317\n",
      "Epoch 2/10\n",
      "1688/1688 [==============================] - 9s 6ms/step - loss: 0.1976 - accuracy: 0.9407 - val_loss: 0.1476 - val_accuracy: 0.9561\n",
      "Epoch 3/10\n",
      "1688/1688 [==============================] - 9s 6ms/step - loss: 0.1295 - accuracy: 0.9599 - val_loss: 0.1457 - val_accuracy: 0.9547\n",
      "Epoch 4/10\n",
      "1688/1688 [==============================] - 9s 5ms/step - loss: 0.0991 - accuracy: 0.9693 - val_loss: 0.1027 - val_accuracy: 0.9683\n",
      "Epoch 5/10\n",
      "1688/1688 [==============================] - 9s 5ms/step - loss: 0.0827 - accuracy: 0.9737 - val_loss: 0.1071 - val_accuracy: 0.9654\n",
      "Epoch 6/10\n",
      "1688/1688 [==============================] - 8s 5ms/step - loss: 0.0724 - accuracy: 0.9772 - val_loss: 0.0916 - val_accuracy: 0.9720\n",
      "Epoch 7/10\n",
      "1688/1688 [==============================] - 8s 5ms/step - loss: 0.0617 - accuracy: 0.9805 - val_loss: 0.0928 - val_accuracy: 0.9737\n",
      "Epoch 8/10\n",
      "1688/1688 [==============================] - 7s 4ms/step - loss: 0.0596 - accuracy: 0.9800 - val_loss: 0.0890 - val_accuracy: 0.9735\n",
      "Epoch 9/10\n",
      "1688/1688 [==============================] - 9s 5ms/step - loss: 0.0507 - accuracy: 0.9830 - val_loss: 0.1000 - val_accuracy: 0.9723\n",
      "Epoch 10/10\n",
      "1688/1688 [==============================] - 9s 5ms/step - loss: 0.0470 - accuracy: 0.9845 - val_loss: 0.0990 - val_accuracy: 0.9720\n"
     ]
    }
   ],
   "metadata": {}
  },
  {
   "cell_type": "code",
   "execution_count": 101,
   "source": [
    "import seaborn as sns\n",
    "import matplotlib.pyplot as plt\n",
    "# loss\n",
    "print('loss')\n",
    "sns.lineplot(data = history.history['loss'], label = 'train')\n",
    "sns.lineplot(data = history.history['val_loss'], label = 'val')\n",
    "plt.show()\n",
    "print('accuracy')\n",
    "sns.lineplot(data = history.history['accuracy'], label = 'train')\n",
    "sns.lineplot(data = history.history['val_accuracy'], label = 'val')\n",
    "\n",
    "plt.show()"
   ],
   "outputs": [
    {
     "output_type": "stream",
     "name": "stdout",
     "text": [
      "loss\n"
     ]
    },
    {
     "output_type": "display_data",
     "data": {
      "image/png": "[encoded data removed]",
      "text/plain": [
       "<Figure size 432x288 with 1 Axes>"
      ]
     },
     "metadata": {
      "needs_background": "light"
     }
    },
    {
     "output_type": "stream",
     "name": "stdout",
     "text": [
      "accuracy\n"
     ]
    },
    {
     "output_type": "display_data",
     "data": {
      "image/png": "[encoded data removed]",
      "text/plain": [
       "<Figure size 432x288 with 1 Axes>"
      ]
     },
     "metadata": {
      "needs_background": "light"
     }
    }
   ],
   "metadata": {}
  },
  {
   "cell_type": "markdown",
   "source": [
    "# Problem 7\n",
    "Rewrite to pytorch"
   ],
   "metadata": {}
  },
  {
   "cell_type": "markdown",
   "source": [
    "## NOTE:\n",
    "**Let's just implement the MINIST Problem to see the difference**"
   ],
   "metadata": {}
  },
  {
   "cell_type": "code",
   "execution_count": 102,
   "source": [
    "import torch\n",
    "from torch import nn\n",
    "from torch.utils.data import DataLoader\n",
    "from torchvision import datasets\n",
    "from torchvision.transforms import ToTensor, Lambda, Compose"
   ],
   "outputs": [],
   "metadata": {}
  },
  {
   "cell_type": "code",
   "execution_count": 119,
   "source": [
    "training_data = datasets.MNIST(\n",
    "    root=\"data\",\n",
    "    train=True,\n",
    "    download=True,\n",
    "    transform=ToTensor(),\n",
    ")"
   ],
   "outputs": [
    {
     "output_type": "stream",
     "name": "stdout",
     "text": [
      "Downloading http://yann.lecun.com/exdb/mnist/train-images-idx3-ubyte.gz\n",
      "Downloading http://yann.lecun.com/exdb/mnist/train-images-idx3-ubyte.gz to data/MNIST/raw/train-images-idx3-ubyte.gz\n"
     ]
    },
    {
     "output_type": "stream",
     "name": "stderr",
     "text": [
      "100.0%\n"
     ]
    },
    {
     "output_type": "stream",
     "name": "stdout",
     "text": [
      "Extracting data/MNIST/raw/train-images-idx3-ubyte.gz to data/MNIST/raw\n",
      "\n",
      "Downloading http://yann.lecun.com/exdb/mnist/train-labels-idx1-ubyte.gz\n",
      "Downloading http://yann.lecun.com/exdb/mnist/train-labels-idx1-ubyte.gz to data/MNIST/raw/train-labels-idx1-ubyte.gz\n"
     ]
    },
    {
     "output_type": "stream",
     "name": "stderr",
     "text": [
      "102.8%\n"
     ]
    },
    {
     "output_type": "stream",
     "name": "stdout",
     "text": [
      "Extracting data/MNIST/raw/train-labels-idx1-ubyte.gz to data/MNIST/raw\n",
      "\n",
      "Downloading http://yann.lecun.com/exdb/mnist/t10k-images-idx3-ubyte.gz\n",
      "Downloading http://yann.lecun.com/exdb/mnist/t10k-images-idx3-ubyte.gz to data/MNIST/raw/t10k-images-idx3-ubyte.gz\n"
     ]
    },
    {
     "output_type": "stream",
     "name": "stderr",
     "text": [
      "100.0%\n"
     ]
    },
    {
     "output_type": "stream",
     "name": "stdout",
     "text": [
      "Extracting data/MNIST/raw/t10k-images-idx3-ubyte.gz to data/MNIST/raw\n",
      "\n",
      "Downloading http://yann.lecun.com/exdb/mnist/t10k-labels-idx1-ubyte.gz\n",
      "Downloading http://yann.lecun.com/exdb/mnist/t10k-labels-idx1-ubyte.gz to data/MNIST/raw/t10k-labels-idx1-ubyte.gz\n"
     ]
    },
    {
     "output_type": "stream",
     "name": "stderr",
     "text": [
      "112.7%"
     ]
    },
    {
     "output_type": "stream",
     "name": "stdout",
     "text": [
      "Extracting data/MNIST/raw/t10k-labels-idx1-ubyte.gz to data/MNIST/raw\n",
      "\n"
     ]
    },
    {
     "output_type": "stream",
     "name": "stderr",
     "text": [
      "\n",
      "/Users/long.th/.pyenv/versions/3.6.8/lib/python3.6/site-packages/torchvision/datasets/mnist.py:498: UserWarning: The given NumPy array is not writeable, and PyTorch does not support non-writeable tensors. This means you can write to the underlying (supposedly non-writeable) NumPy array using the tensor. You may want to copy the array to protect its data or make it writeable before converting it to a tensor. This type of warning will be suppressed for the rest of this program. (Triggered internally at  ../torch/csrc/utils/tensor_numpy.cpp:180.)\n",
      "  return torch.from_numpy(parsed.astype(m[2], copy=False)).view(*s)\n"
     ]
    }
   ],
   "metadata": {}
  },
  {
   "cell_type": "code",
   "execution_count": 127,
   "source": [
    "train_size = int(0.8 * len(training_data))\n",
    "test_size = len(training_data) - train_size\n",
    "train_dataset, test_dataset = torch.utils.data.random_split(training_data, [train_size, test_size])\n",
    "\n",
    "train_size = int(0.8 * len(train_dataset))\n",
    "test_size = len(train_dataset) - train_size\n",
    "train_dataset, test_dataset = torch.utils.data.random_split(train_dataset, [train_size, test_size])\n",
    "\n",
    "len(train_dataset)"
   ],
   "outputs": [
    {
     "output_type": "execute_result",
     "data": {
      "text/plain": [
       "38400"
      ]
     },
     "metadata": {},
     "execution_count": 127
    }
   ],
   "metadata": {}
  },
  {
   "cell_type": "code",
   "execution_count": 128,
   "source": [
    "# Create data loaders.\n",
    "batch_size = 20\n",
    "train_dataloader = DataLoader(train_dataset, batch_size=batch_size)\n",
    "test_dataloader = DataLoader(test_dataset, batch_size=batch_size)"
   ],
   "outputs": [],
   "metadata": {}
  },
  {
   "cell_type": "code",
   "execution_count": 129,
   "source": [
    "# Get cpu or gpu device for training.\n",
    "device = \"cuda\" if torch.cuda.is_available() else \"cpu\"\n",
    "print(\"Using {} device\".format(device))"
   ],
   "outputs": [
    {
     "output_type": "stream",
     "name": "stdout",
     "text": [
      "Using cpu device\n"
     ]
    }
   ],
   "metadata": {}
  },
  {
   "cell_type": "code",
   "execution_count": 134,
   "source": [
    "# Define model\n",
    "class NeuralNetwork(nn.Module):\n",
    "    def __init__(self):\n",
    "        super(NeuralNetwork, self).__init__()\n",
    "        self.convolutional = nn.Sequential(\n",
    "            nn.Conv2d(1,3,(3,3)),\n",
    "            nn.ReLU(),\n",
    "            nn.Conv2d(3,2,(3,3)),\n",
    "            nn.ReLU(),\n",
    "        )\n",
    "        self.flatten = nn.Flatten()\n",
    "        self.linear_relu_stack = nn.Sequential(\n",
    "            nn.Linear(24*24*2, 20),\n",
    "            nn.ReLU(),\n",
    "            nn.Linear(20,10),\n",
    "            nn.ReLU(),\n",
    "        )\n",
    "\n",
    "    def forward(self, x):\n",
    "        conv = self.convolutional(x)\n",
    "        flatten = self.flatten(conv)\n",
    "        logits = self.linear_relu_stack(flatten)\n",
    "        return logits\n",
    "\n",
    "model = NeuralNetwork().to(device)\n",
    "print(model)"
   ],
   "outputs": [
    {
     "output_type": "stream",
     "name": "stdout",
     "text": [
      "NeuralNetwork(\n",
      "  (convolutional): Sequential(\n",
      "    (0): Conv2d(1, 3, kernel_size=(3, 3), stride=(1, 1))\n",
      "    (1): ReLU()\n",
      "    (2): Conv2d(3, 2, kernel_size=(3, 3), stride=(1, 1))\n",
      "    (3): ReLU()\n",
      "  )\n",
      "  (flatten): Flatten(start_dim=1, end_dim=-1)\n",
      "  (linear_relu_stack): Sequential(\n",
      "    (0): Linear(in_features=1152, out_features=20, bias=True)\n",
      "    (1): ReLU()\n",
      "    (2): Linear(in_features=20, out_features=10, bias=True)\n",
      "    (3): ReLU()\n",
      "  )\n",
      ")\n"
     ]
    }
   ],
   "metadata": {}
  },
  {
   "cell_type": "code",
   "execution_count": 135,
   "source": [
    "loss_fn = nn.CrossEntropyLoss()\n",
    "optimizer = torch.optim.SGD(model.parameters(), lr=1e-3)\n"
   ],
   "outputs": [],
   "metadata": {}
  },
  {
   "cell_type": "code",
   "execution_count": 136,
   "source": [
    "def train(dataloader, model, loss_fn, optimizer):\n",
    "    size = len(dataloader.dataset)\n",
    "    model.train()\n",
    "\n",
    "    for batch, (X, y) in enumerate(dataloader):\n",
    "        X, y = X.to(device), y.to(device)\n",
    "\n",
    "        # Compute prediction error\n",
    "        pred = model(X)\n",
    "        loss = loss_fn(pred, y)\n",
    "\n",
    "        # Backpropagation\n",
    "        optimizer.zero_grad()\n",
    "        loss.backward()\n",
    "        optimizer.step()\n",
    "\n",
    "        if batch % 100 == 0:\n",
    "            loss, current = loss.item(), batch * len(X)\n",
    "            print(f\"loss: {loss:>7f}  [{current:>5d}/{size:>5d}]\")\n",
    "\n",
    "def test(dataloader, model, loss_fn):\n",
    "    size = len(dataloader.dataset)\n",
    "    num_batches = len(dataloader)\n",
    "    model.eval()\n",
    "    test_loss, correct = 0, 0\n",
    "    with torch.no_grad():\n",
    "        for X, y in dataloader:\n",
    "            X, y = X.to(device), y.to(device)\n",
    "            pred = model(X)\n",
    "            test_loss += loss_fn(pred, y).item()\n",
    "            correct += (pred.argmax(1) == y).type(torch.float).sum().item()\n",
    "    test_loss /= num_batches\n",
    "    correct /= size\n",
    "    print(f\"Test Error: \\n Accuracy: {(100*correct):>0.1f}%, Avg loss: {test_loss:>8f} \\n\")"
   ],
   "outputs": [],
   "metadata": {}
  },
  {
   "cell_type": "code",
   "execution_count": 137,
   "source": [
    "epochs = 10\n",
    "for t in range(epochs):\n",
    "    print(f\"Epoch {t+1}\\n-------------------------------\")\n",
    "    train(train_dataloader, model, loss_fn, optimizer)\n",
    "    test(test_dataloader, model, loss_fn)\n",
    "print(\"Done!\")"
   ],
   "outputs": [
    {
     "output_type": "stream",
     "name": "stdout",
     "text": [
      "Epoch 1\n",
      "-------------------------------\n",
      "loss: 2.311054  [    0/38400]\n",
      "loss: 2.294491  [ 2000/38400]\n",
      "loss: 2.302927  [ 4000/38400]\n",
      "loss: 2.316278  [ 6000/38400]\n",
      "loss: 2.311922  [ 8000/38400]\n",
      "loss: 2.290359  [10000/38400]\n",
      "loss: 2.303864  [12000/38400]\n",
      "loss: 2.333958  [14000/38400]\n",
      "loss: 2.291232  [16000/38400]\n",
      "loss: 2.283972  [18000/38400]\n",
      "loss: 2.300795  [20000/38400]\n",
      "loss: 2.304616  [22000/38400]\n",
      "loss: 2.303644  [24000/38400]\n",
      "loss: 2.305770  [26000/38400]\n",
      "loss: 2.284513  [28000/38400]\n",
      "loss: 2.275257  [30000/38400]\n",
      "loss: 2.284856  [32000/38400]\n",
      "loss: 2.299062  [34000/38400]\n",
      "loss: 2.289065  [36000/38400]\n",
      "loss: 2.277783  [38000/38400]\n",
      "Test Error: \n",
      " Accuracy: 26.4%, Avg loss: 2.287649 \n",
      "\n",
      "Epoch 2\n",
      "-------------------------------\n",
      "loss: 2.302605  [    0/38400]\n",
      "loss: 2.290083  [ 2000/38400]\n",
      "loss: 2.284952  [ 4000/38400]\n",
      "loss: 2.281401  [ 6000/38400]\n",
      "loss: 2.304350  [ 8000/38400]\n",
      "loss: 2.269722  [10000/38400]\n",
      "loss: 2.284285  [12000/38400]\n",
      "loss: 2.303769  [14000/38400]\n",
      "loss: 2.273209  [16000/38400]\n",
      "loss: 2.278044  [18000/38400]\n",
      "loss: 2.257944  [20000/38400]\n",
      "loss: 2.269222  [22000/38400]\n",
      "loss: 2.288497  [24000/38400]\n",
      "loss: 2.281012  [26000/38400]\n",
      "loss: 2.254904  [28000/38400]\n",
      "loss: 2.223894  [30000/38400]\n",
      "loss: 2.263256  [32000/38400]\n",
      "loss: 2.248079  [34000/38400]\n",
      "loss: 2.248719  [36000/38400]\n",
      "loss: 2.227574  [38000/38400]\n",
      "Test Error: \n",
      " Accuracy: 34.1%, Avg loss: 2.234895 \n",
      "\n",
      "Epoch 3\n",
      "-------------------------------\n",
      "loss: 2.272746  [    0/38400]\n",
      "loss: 2.249622  [ 2000/38400]\n",
      "loss: 2.219940  [ 4000/38400]\n",
      "loss: 2.212402  [ 6000/38400]\n",
      "loss: 2.262935  [ 8000/38400]\n",
      "loss: 2.172491  [10000/38400]\n",
      "loss: 2.218223  [12000/38400]\n",
      "loss: 2.245486  [14000/38400]\n",
      "loss: 2.175051  [16000/38400]\n",
      "loss: 2.186835  [18000/38400]\n",
      "loss: 2.121727  [20000/38400]\n",
      "loss: 2.151049  [22000/38400]\n",
      "loss: 2.205760  [24000/38400]\n",
      "loss: 2.200617  [26000/38400]\n",
      "loss: 2.111459  [28000/38400]\n",
      "loss: 1.980849  [30000/38400]\n",
      "loss: 2.110350  [32000/38400]\n",
      "loss: 2.074090  [34000/38400]\n",
      "loss: 2.082786  [36000/38400]\n",
      "loss: 1.972253  [38000/38400]\n",
      "Test Error: \n",
      " Accuracy: 40.1%, Avg loss: 2.007832 \n",
      "\n",
      "Epoch 4\n",
      "-------------------------------\n",
      "loss: 2.145165  [    0/38400]\n",
      "loss: 2.051673  [ 2000/38400]\n",
      "loss: 1.922527  [ 4000/38400]\n",
      "loss: 1.967148  [ 6000/38400]\n",
      "loss: 2.096515  [ 8000/38400]\n",
      "loss: 1.767249  [10000/38400]\n",
      "loss: 1.934470  [12000/38400]\n",
      "loss: 2.045978  [14000/38400]\n",
      "loss: 1.782344  [16000/38400]\n",
      "loss: 1.807455  [18000/38400]\n",
      "loss: 1.657625  [20000/38400]\n",
      "loss: 1.752766  [22000/38400]\n",
      "loss: 1.894587  [24000/38400]\n",
      "loss: 1.935060  [26000/38400]\n",
      "loss: 1.727487  [28000/38400]\n",
      "loss: 1.375355  [30000/38400]\n",
      "loss: 1.692567  [32000/38400]\n",
      "loss: 1.731987  [34000/38400]\n",
      "loss: 1.695744  [36000/38400]\n",
      "loss: 1.522478  [38000/38400]\n",
      "Test Error: \n",
      " Accuracy: 48.0%, Avg loss: 1.566530 \n",
      "\n",
      "Epoch 5\n",
      "-------------------------------\n",
      "loss: 1.848257  [    0/38400]\n",
      "loss: 1.672588  [ 2000/38400]\n",
      "loss: 1.396589  [ 4000/38400]\n",
      "loss: 1.625113  [ 6000/38400]\n",
      "loss: 1.780273  [ 8000/38400]\n",
      "loss: 1.286956  [10000/38400]\n",
      "loss: 1.593897  [12000/38400]\n",
      "loss: 1.773919  [14000/38400]\n",
      "loss: 1.379121  [16000/38400]\n",
      "loss: 1.359615  [18000/38400]\n",
      "loss: 1.293552  [20000/38400]\n",
      "loss: 1.407122  [22000/38400]\n",
      "loss: 1.543959  [24000/38400]\n",
      "loss: 1.656119  [26000/38400]\n",
      "loss: 1.488645  [28000/38400]\n",
      "loss: 1.021241  [30000/38400]\n",
      "loss: 1.390560  [32000/38400]\n",
      "loss: 1.550955  [34000/38400]\n",
      "loss: 1.467495  [36000/38400]\n",
      "loss: 1.353936  [38000/38400]\n",
      "Test Error: \n",
      " Accuracy: 52.9%, Avg loss: 1.335927 \n",
      "\n",
      "Epoch 6\n",
      "-------------------------------\n",
      "loss: 1.685516  [    0/38400]\n",
      "loss: 1.472851  [ 2000/38400]\n",
      "loss: 1.138273  [ 4000/38400]\n",
      "loss: 1.449172  [ 6000/38400]\n",
      "loss: 1.665679  [ 8000/38400]\n",
      "loss: 1.051135  [10000/38400]\n",
      "loss: 1.429853  [12000/38400]\n",
      "loss: 1.678787  [14000/38400]\n",
      "loss: 1.183388  [16000/38400]\n",
      "loss: 1.040267  [18000/38400]\n",
      "loss: 1.090534  [20000/38400]\n",
      "loss: 1.145583  [22000/38400]\n",
      "loss: 1.304781  [24000/38400]\n",
      "loss: 1.444097  [26000/38400]\n",
      "loss: 1.394474  [28000/38400]\n",
      "loss: 0.846107  [30000/38400]\n",
      "loss: 1.067188  [32000/38400]\n",
      "loss: 1.367655  [34000/38400]\n",
      "loss: 1.331556  [36000/38400]\n",
      "loss: 1.314259  [38000/38400]\n",
      "Test Error: \n",
      " Accuracy: 64.1%, Avg loss: 1.109945 \n",
      "\n",
      "Epoch 7\n",
      "-------------------------------\n",
      "loss: 1.472891  [    0/38400]\n",
      "loss: 1.321229  [ 2000/38400]\n",
      "loss: 0.780442  [ 4000/38400]\n",
      "loss: 1.214900  [ 6000/38400]\n",
      "loss: 1.560724  [ 8000/38400]\n",
      "loss: 0.739949  [10000/38400]\n",
      "loss: 1.189870  [12000/38400]\n",
      "loss: 1.563455  [14000/38400]\n",
      "loss: 0.939238  [16000/38400]\n",
      "loss: 0.837168  [18000/38400]\n",
      "loss: 0.958581  [20000/38400]\n",
      "loss: 0.946893  [22000/38400]\n",
      "loss: 0.948500  [24000/38400]\n",
      "loss: 1.223845  [26000/38400]\n",
      "loss: 1.097472  [28000/38400]\n",
      "loss: 0.742182  [30000/38400]\n",
      "loss: 0.909307  [32000/38400]\n",
      "loss: 1.192882  [34000/38400]\n",
      "loss: 1.009506  [36000/38400]\n",
      "loss: 1.273123  [38000/38400]\n",
      "Test Error: \n",
      " Accuracy: 71.2%, Avg loss: 0.913206 \n",
      "\n",
      "Epoch 8\n",
      "-------------------------------\n",
      "loss: 1.207235  [    0/38400]\n",
      "loss: 1.213199  [ 2000/38400]\n",
      "loss: 0.591123  [ 4000/38400]\n",
      "loss: 0.884800  [ 6000/38400]\n",
      "loss: 1.439147  [ 8000/38400]\n",
      "loss: 0.507008  [10000/38400]\n",
      "loss: 1.038555  [12000/38400]\n",
      "loss: 1.306341  [14000/38400]\n",
      "loss: 0.839483  [16000/38400]\n",
      "loss: 0.649095  [18000/38400]\n",
      "loss: 0.809251  [20000/38400]\n",
      "loss: 0.738372  [22000/38400]\n",
      "loss: 0.696605  [24000/38400]\n",
      "loss: 0.987639  [26000/38400]\n",
      "loss: 0.909970  [28000/38400]\n",
      "loss: 0.699493  [30000/38400]\n",
      "loss: 0.810064  [32000/38400]\n",
      "loss: 1.064454  [34000/38400]\n",
      "loss: 0.951265  [36000/38400]\n",
      "loss: 1.202694  [38000/38400]\n",
      "Test Error: \n",
      " Accuracy: 72.7%, Avg loss: 0.803532 \n",
      "\n",
      "Epoch 9\n",
      "-------------------------------\n",
      "loss: 1.048327  [    0/38400]\n",
      "loss: 1.064191  [ 2000/38400]\n",
      "loss: 0.522790  [ 4000/38400]\n",
      "loss: 0.742791  [ 6000/38400]\n",
      "loss: 1.350301  [ 8000/38400]\n",
      "loss: 0.410669  [10000/38400]\n",
      "loss: 0.930681  [12000/38400]\n",
      "loss: 1.273695  [14000/38400]\n",
      "loss: 0.792018  [16000/38400]\n",
      "loss: 0.587462  [18000/38400]\n",
      "loss: 0.761124  [20000/38400]\n",
      "loss: 0.662402  [22000/38400]\n",
      "loss: 0.609337  [24000/38400]\n",
      "loss: 0.910653  [26000/38400]\n",
      "loss: 0.841800  [28000/38400]\n",
      "loss: 0.677221  [30000/38400]\n",
      "loss: 0.756625  [32000/38400]\n",
      "loss: 1.017878  [34000/38400]\n",
      "loss: 0.934357  [36000/38400]\n",
      "loss: 1.165556  [38000/38400]\n",
      "Test Error: \n",
      " Accuracy: 73.2%, Avg loss: 0.760950 \n",
      "\n",
      "Epoch 10\n",
      "-------------------------------\n",
      "loss: 0.984132  [    0/38400]\n",
      "loss: 1.025063  [ 2000/38400]\n",
      "loss: 0.507155  [ 4000/38400]\n",
      "loss: 0.666340  [ 6000/38400]\n",
      "loss: 1.297631  [ 8000/38400]\n",
      "loss: 0.376018  [10000/38400]\n",
      "loss: 0.871428  [12000/38400]\n",
      "loss: 1.290477  [14000/38400]\n",
      "loss: 0.768604  [16000/38400]\n",
      "loss: 0.571601  [18000/38400]\n",
      "loss: 0.711618  [20000/38400]\n",
      "loss: 0.636161  [22000/38400]\n",
      "loss: 0.567240  [24000/38400]\n",
      "loss: 0.878876  [26000/38400]\n",
      "loss: 0.820430  [28000/38400]\n",
      "loss: 0.653648  [30000/38400]\n",
      "loss: 0.742637  [32000/38400]\n",
      "loss: 0.995130  [34000/38400]\n",
      "loss: 0.929058  [36000/38400]\n",
      "loss: 1.134580  [38000/38400]\n",
      "Test Error: \n",
      " Accuracy: 73.6%, Avg loss: 0.737557 \n",
      "\n",
      "Done!\n"
     ]
    }
   ],
   "metadata": {}
  },
  {
   "cell_type": "markdown",
   "source": [
    "# Problem 8\n",
    "(Advance assignment) Comparison of frameworks"
   ],
   "metadata": {}
  },
  {
   "cell_type": "markdown",
   "source": [
    "### Framework Comparison\n",
    "\n",
    "| Point      | Keras | Pytorch    |\n",
    "| :---        |    ----:   |          ---: |\n",
    "| API Level      | Very High  | Lower level, but higher than TF   |\n",
    "| Code Length   | Extreme short, unless customized | Rather lengthy |\n",
    "| Flexibility   | Enough with functional api and extension | Low level -> Very flexible |\n",
    "| Speed   | Decent, of course slower due to high level | As fast as TF, faster in some cases |\n",
    "| Debugging  | High level and not so verbose so hard to debug | Talks a lot, nice to debug |\n",
    "| Ease Of Use   | Very | Not as much, but decent |\n",
    "| Popularity   | Coupled with TF, super popular | Less popular, but still one of the biggest |"
   ],
   "metadata": {}
  }
 ],
 "metadata": {
  "orig_nbformat": 4,
  "language_info": {
   "name": "python",
   "version": "3.6.8",
   "mimetype": "text/x-python",
   "codemirror_mode": {
    "name": "ipython",
    "version": 3
   },
   "pygments_lexer": "ipython3",
   "nbconvert_exporter": "python",
   "file_extension": ".py"
  },
  "kernelspec": {
   "name": "python3",
   "display_name": "Python 3.6.8 64-bit ('3.6.8': pyenv)"
  },
  "interpreter": {
   "hash": "b6dca31c40dac0508fe8bb571189613e8b58bfb2f14d9df93b31762f58f9068a"
  }
 },
 "nbformat": 4,
 "nbformat_minor": 2
}