{
 "cells": [
  {
   "cell_type": "markdown",
   "source": [
    "# Introduction\n",
    "The first half runs TensorFlow's Example. In the latter half, we will write the code for Keras."
   ],
   "metadata": {}
  },
  {
   "cell_type": "markdown",
   "source": [
    "# Problem 1\n",
    "Sharing and executing the official tutorial model"
   ],
   "metadata": {}
  },
  {
   "cell_type": "markdown",
   "source": [
    "### NOTE\n",
    "- Since it's computationally expensive, i've moved it to another notebook named problem1.ipynb in the same folder\n",
    "- Relative Link: [./problem2.ipynb](./problem1.ipynb)\n",
    "- Github: [Link]()"
   ],
   "metadata": {}
  },
  {
   "cell_type": "markdown",
   "source": [
    "# Problem 2\n",
    "(Advance assignment) Execute various methods"
   ],
   "metadata": {}
  },
  {
   "cell_type": "markdown",
   "source": [
    "### NOTE\n",
    "- Since it's computationally expensive, i've moved it to another notebook named problem2.ipynb in the same folder\n",
    "- Relative Link: [./problem2.ipynb](./problem2.ipynb)\n",
    "- Github: [Link]()"
   ],
   "metadata": {}
  },
  {
   "cell_type": "markdown",
   "source": [
    "# Problem 3\n",
    "Learning Iris (binary classification) with Keras"
   ],
   "metadata": {}
  },
  {
   "cell_type": "markdown",
   "source": [
    "## Prep"
   ],
   "metadata": {}
  },
  {
   "cell_type": "code",
   "execution_count": 217,
   "source": [
    "# load data\n",
    "from sklearn.datasets import load_iris\n",
    "\n",
    "iris_bunch = load_iris(as_frame = True)\n",
    "print('features', iris_bunch.feature_names)\n",
    "print('targets', iris_bunch.target_names)"
   ],
   "outputs": [
    {
     "output_type": "stream",
     "name": "stdout",
     "text": [
      "features ['sepal length (cm)', 'sepal width (cm)', 'petal length (cm)', 'petal width (cm)']\n",
      "targets ['setosa' 'versicolor' 'virginica']\n"
     ]
    }
   ],
   "metadata": {}
  },
  {
   "cell_type": "code",
   "execution_count": 218,
   "source": [
    "# check features\n",
    "features_data = iris_bunch.data\n",
    "print(features_data.head())"
   ],
   "outputs": [
    {
     "output_type": "stream",
     "name": "stdout",
     "text": [
      "   sepal length (cm)  sepal width (cm)  petal length (cm)  petal width (cm)\n",
      "0                5.1               3.5                1.4               0.2\n",
      "1                4.9               3.0                1.4               0.2\n",
      "2                4.7               3.2                1.3               0.2\n",
      "3                4.6               3.1                1.5               0.2\n",
      "4                5.0               3.6                1.4               0.2\n"
     ]
    }
   ],
   "metadata": {}
  },
  {
   "cell_type": "code",
   "execution_count": 219,
   "source": [
    "# check target\n",
    "target_data = iris_bunch.target\n",
    "print('labels: ', target_data.unique())\n",
    "print(target_data.head())"
   ],
   "outputs": [
    {
     "output_type": "stream",
     "name": "stdout",
     "text": [
      "labels:  [0 1 2]\n",
      "0    0\n",
      "1    0\n",
      "2    0\n",
      "3    0\n",
      "4    0\n",
      "Name: target, dtype: int64\n"
     ]
    }
   ],
   "metadata": {}
  },
  {
   "cell_type": "code",
   "execution_count": 220,
   "source": [
    "# binary classification filter\n",
    "first_two_laybel_indexes =  target_data.lt(2)\n",
    "binary_x = features_data[first_two_laybel_indexes]\n",
    "binary_y = target_data[first_two_laybel_indexes]\n",
    "\n",
    "print('Before shape: ', features_data.shape, target_data.shape)\n",
    "print('After shape: ', binary_x.shape, binary_y.shape)"
   ],
   "outputs": [
    {
     "output_type": "stream",
     "name": "stdout",
     "text": [
      "Before shape:  (150, 4) (150,)\n",
      "After shape:  (100, 4) (100,)\n"
     ]
    }
   ],
   "metadata": {}
  },
  {
   "cell_type": "code",
   "execution_count": 221,
   "source": [
    "# standardization\n",
    "from sklearn.preprocessing import StandardScaler\n",
    "import pandas as pd\n",
    "scaler = StandardScaler()\n",
    "processed_bin_x = scaler.fit_transform(binary_x.to_numpy())\n",
    "# print('before trans')\n",
    "# print(binary_x.describe())\n",
    "# print('after scale')\n",
    "# print(pd.DataFrame(processed_bin_x).describe())\n",
    "\n",
    "# onehot encode\n",
    "from sklearn.preprocessing import OneHotEncoder\n",
    "enc = OneHotEncoder()\n",
    "binary_y = binary_y.to_numpy().reshape(-1,1)\n",
    "processed_bin_y = enc.fit_transform(binary_y).toarray()\n",
    "# print('before trans')\n",
    "# print(pd.DataFrame(binary_y).describe())\n",
    "# print('after scale')\n",
    "# print(pd.DataFrame(processed_bin_y).describe())"
   ],
   "outputs": [],
   "metadata": {}
  },
  {
   "cell_type": "code",
   "execution_count": 222,
   "source": [
    "# train test split\n",
    "from sklearn.model_selection import train_test_split\n",
    "\n",
    "x_train, x_test, y_train,y_test = train_test_split(processed_bin_x, processed_bin_y)\n",
    "print([x.shape for x in [x_train, x_test, y_train,y_test]])"
   ],
   "outputs": [
    {
     "output_type": "stream",
     "name": "stdout",
     "text": [
      "[(75, 4), (25, 4), (75, 2), (25, 2)]\n"
     ]
    }
   ],
   "metadata": {}
  },
  {
   "cell_type": "markdown",
   "source": [
    "## Model"
   ],
   "metadata": {}
  },
  {
   "cell_type": "code",
   "execution_count": 223,
   "source": [
    "import tensorflow as tf\n",
    "import tensorflow.keras as keras"
   ],
   "outputs": [],
   "metadata": {}
  },
  {
   "cell_type": "code",
   "execution_count": 224,
   "source": [
    "# model\n",
    "model = keras.Sequential()\n",
    "\n",
    "# layers\n",
    "from tensorflow.keras import layers\n",
    "\n",
    "model.add(layers.Dense(20, activation=\"relu\", name=\"layer1\"))\n",
    "model.add(layers.Dense(10, activation=\"relu\", name=\"layer2\"))\n",
    "model.add(layers.Dense(2, name=\"layer3\"))\n",
    "\n",
    "\n",
    "model.layers"
   ],
   "outputs": [
    {
     "output_type": "execute_result",
     "data": {
      "text/plain": [
       "[<keras.layers.core.Dense at 0x17a99ff60>,\n",
       " <keras.layers.core.Dense at 0x17aba1208>,\n",
       " <keras.layers.core.Dense at 0x17a97d9b0>]"
      ]
     },
     "metadata": {},
     "execution_count": 224
    }
   ],
   "metadata": {}
  },
  {
   "cell_type": "code",
   "execution_count": 225,
   "source": [
    "model.build(x_train.shape)\n",
    "model.summary()"
   ],
   "outputs": [
    {
     "output_type": "stream",
     "name": "stdout",
     "text": [
      "Model: \"sequential_19\"\n",
      "_________________________________________________________________\n",
      "Layer (type)                 Output Shape              Param #   \n",
      "=================================================================\n",
      "layer1 (Dense)               (75, 20)                  100       \n",
      "_________________________________________________________________\n",
      "layer2 (Dense)               (75, 10)                  210       \n",
      "_________________________________________________________________\n",
      "layer3 (Dense)               (75, 2)                   22        \n",
      "=================================================================\n",
      "Total params: 332\n",
      "Trainable params: 332\n",
      "Non-trainable params: 0\n",
      "_________________________________________________________________\n"
     ]
    }
   ],
   "metadata": {}
  },
  {
   "cell_type": "code",
   "execution_count": 226,
   "source": [
    "# loss\n",
    "loss = 'binary_crossentropy'\n",
    "# optimizer\n",
    "optimizer = 'adam'\n",
    "#metrics\n",
    "metrics = ['accuracy']"
   ],
   "outputs": [],
   "metadata": {}
  },
  {
   "cell_type": "code",
   "execution_count": 227,
   "source": [
    "model.compile(optimizer, loss, metrics = metrics)"
   ],
   "outputs": [],
   "metadata": {}
  },
  {
   "cell_type": "code",
   "execution_count": 215,
   "source": [
    "history = model.fit(x_train, y_train,\n",
    "                    batch_size=10,\n",
    "                    epochs=100,\n",
    "                    verbose=1,\n",
    "                    validation_data= (x_test, y_test))\n"
   ],
   "outputs": [
    {
     "output_type": "stream",
     "name": "stdout",
     "text": [
      "Epoch 1/100\n",
      "8/8 [==============================] - 1s 42ms/step - loss: 4.6092 - accuracy: 0.4800 - val_loss: 3.9028 - val_accuracy: 0.5600\n",
      "Epoch 2/100\n",
      "8/8 [==============================] - 0s 3ms/step - loss: 4.4918 - accuracy: 0.4800 - val_loss: 3.7989 - val_accuracy: 0.5600\n",
      "Epoch 3/100\n",
      "8/8 [==============================] - 0s 3ms/step - loss: 4.4194 - accuracy: 0.4800 - val_loss: 3.7280 - val_accuracy: 0.5600\n",
      "Epoch 4/100\n",
      "8/8 [==============================] - 0s 3ms/step - loss: 4.3642 - accuracy: 0.4800 - val_loss: 3.6734 - val_accuracy: 0.5600\n",
      "Epoch 5/100\n",
      "8/8 [==============================] - 0s 3ms/step - loss: 4.3180 - accuracy: 0.4800 - val_loss: 3.6284 - val_accuracy: 0.5600\n",
      "Epoch 6/100\n",
      "8/8 [==============================] - 0s 3ms/step - loss: 4.2825 - accuracy: 0.4800 - val_loss: 3.5893 - val_accuracy: 0.5600\n",
      "Epoch 7/100\n",
      "8/8 [==============================] - 0s 3ms/step - loss: 4.2508 - accuracy: 0.4800 - val_loss: 3.5567 - val_accuracy: 0.5600\n",
      "Epoch 8/100\n",
      "8/8 [==============================] - 0s 4ms/step - loss: 4.2235 - accuracy: 0.4800 - val_loss: 3.5300 - val_accuracy: 0.5600\n",
      "Epoch 9/100\n",
      "8/8 [==============================] - 0s 3ms/step - loss: 4.1231 - accuracy: 0.4800 - val_loss: 3.5050 - val_accuracy: 0.5600\n",
      "Epoch 10/100\n",
      "8/8 [==============================] - 0s 3ms/step - loss: 4.0945 - accuracy: 0.4800 - val_loss: 3.4826 - val_accuracy: 0.5600\n",
      "Epoch 11/100\n",
      "8/8 [==============================] - 0s 3ms/step - loss: 4.0772 - accuracy: 0.4800 - val_loss: 3.4629 - val_accuracy: 0.5600\n",
      "Epoch 12/100\n",
      "8/8 [==============================] - 0s 3ms/step - loss: 4.0612 - accuracy: 0.4800 - val_loss: 3.4467 - val_accuracy: 0.5600\n",
      "Epoch 13/100\n",
      "8/8 [==============================] - 0s 3ms/step - loss: 4.0497 - accuracy: 0.4800 - val_loss: 3.4336 - val_accuracy: 0.5600\n",
      "Epoch 14/100\n",
      "8/8 [==============================] - 0s 3ms/step - loss: 4.0387 - accuracy: 0.4800 - val_loss: 3.4245 - val_accuracy: 0.5600\n",
      "Epoch 15/100\n",
      "8/8 [==============================] - 0s 3ms/step - loss: 4.0318 - accuracy: 0.4800 - val_loss: 3.4174 - val_accuracy: 0.5600\n",
      "Epoch 16/100\n",
      "8/8 [==============================] - 0s 3ms/step - loss: 4.0265 - accuracy: 0.4800 - val_loss: 3.4125 - val_accuracy: 0.5600\n",
      "Epoch 17/100\n",
      "8/8 [==============================] - 0s 3ms/step - loss: 4.0228 - accuracy: 0.4800 - val_loss: 3.4090 - val_accuracy: 0.5600\n",
      "Epoch 18/100\n",
      "8/8 [==============================] - 0s 3ms/step - loss: 4.0205 - accuracy: 0.4800 - val_loss: 3.4061 - val_accuracy: 0.5600\n",
      "Epoch 19/100\n",
      "8/8 [==============================] - 0s 3ms/step - loss: 4.0193 - accuracy: 0.4800 - val_loss: 3.4042 - val_accuracy: 0.5600\n",
      "Epoch 20/100\n",
      "8/8 [==============================] - 0s 3ms/step - loss: 4.0183 - accuracy: 0.4800 - val_loss: 3.4028 - val_accuracy: 0.5600\n",
      "Epoch 21/100\n",
      "8/8 [==============================] - 0s 3ms/step - loss: 4.0174 - accuracy: 0.4800 - val_loss: 3.4019 - val_accuracy: 0.5600\n",
      "Epoch 22/100\n",
      "8/8 [==============================] - 0s 7ms/step - loss: 4.0168 - accuracy: 0.4800 - val_loss: 3.4009 - val_accuracy: 0.5600\n",
      "Epoch 23/100\n",
      "8/8 [==============================] - 0s 4ms/step - loss: 4.0159 - accuracy: 0.4800 - val_loss: 3.4001 - val_accuracy: 0.5600\n",
      "Epoch 24/100\n",
      "8/8 [==============================] - 0s 3ms/step - loss: 4.0153 - accuracy: 0.4800 - val_loss: 3.3992 - val_accuracy: 0.5600\n",
      "Epoch 25/100\n",
      "8/8 [==============================] - 0s 3ms/step - loss: 4.0146 - accuracy: 0.4800 - val_loss: 3.3985 - val_accuracy: 0.5600\n",
      "Epoch 26/100\n",
      "8/8 [==============================] - 0s 4ms/step - loss: 4.0140 - accuracy: 0.4800 - val_loss: 3.3978 - val_accuracy: 0.5600\n",
      "Epoch 27/100\n",
      "8/8 [==============================] - 0s 3ms/step - loss: 4.0135 - accuracy: 0.4800 - val_loss: 3.3970 - val_accuracy: 0.5600\n",
      "Epoch 28/100\n",
      "8/8 [==============================] - 0s 3ms/step - loss: 4.0128 - accuracy: 0.4800 - val_loss: 3.3964 - val_accuracy: 0.5600\n",
      "Epoch 29/100\n",
      "8/8 [==============================] - 0s 3ms/step - loss: 4.0124 - accuracy: 0.4800 - val_loss: 3.3957 - val_accuracy: 0.5600\n",
      "Epoch 30/100\n",
      "8/8 [==============================] - 0s 3ms/step - loss: 4.0118 - accuracy: 0.4800 - val_loss: 3.3954 - val_accuracy: 0.5600\n",
      "Epoch 31/100\n",
      "8/8 [==============================] - 0s 3ms/step - loss: 4.0115 - accuracy: 0.4800 - val_loss: 3.3951 - val_accuracy: 0.5600\n",
      "Epoch 32/100\n",
      "8/8 [==============================] - 0s 3ms/step - loss: 4.0113 - accuracy: 0.4800 - val_loss: 3.3949 - val_accuracy: 0.5600\n",
      "Epoch 33/100\n",
      "8/8 [==============================] - 0s 3ms/step - loss: 4.0112 - accuracy: 0.4800 - val_loss: 3.3948 - val_accuracy: 0.5600\n",
      "Epoch 34/100\n",
      "8/8 [==============================] - 0s 3ms/step - loss: 4.0111 - accuracy: 0.4800 - val_loss: 3.3946 - val_accuracy: 0.5600\n",
      "Epoch 35/100\n",
      "8/8 [==============================] - 0s 3ms/step - loss: 4.0109 - accuracy: 0.4800 - val_loss: 3.3945 - val_accuracy: 0.5600\n",
      "Epoch 36/100\n",
      "8/8 [==============================] - 0s 3ms/step - loss: 4.0108 - accuracy: 0.4800 - val_loss: 3.3942 - val_accuracy: 0.5600\n",
      "Epoch 37/100\n",
      "8/8 [==============================] - 0s 3ms/step - loss: 4.0107 - accuracy: 0.4800 - val_loss: 3.3942 - val_accuracy: 0.5600\n",
      "Epoch 38/100\n",
      "8/8 [==============================] - 0s 3ms/step - loss: 4.0106 - accuracy: 0.4800 - val_loss: 3.3942 - val_accuracy: 0.5600\n",
      "Epoch 39/100\n",
      "8/8 [==============================] - 0s 3ms/step - loss: 4.0106 - accuracy: 0.4800 - val_loss: 3.3942 - val_accuracy: 0.5600\n",
      "Epoch 40/100\n",
      "8/8 [==============================] - 0s 3ms/step - loss: 4.0106 - accuracy: 0.4800 - val_loss: 3.3942 - val_accuracy: 0.5600\n",
      "Epoch 41/100\n",
      "8/8 [==============================] - 0s 3ms/step - loss: 4.0106 - accuracy: 0.4800 - val_loss: 3.3942 - val_accuracy: 0.5600\n",
      "Epoch 42/100\n",
      "8/8 [==============================] - 0s 3ms/step - loss: 4.0106 - accuracy: 0.4800 - val_loss: 3.3942 - val_accuracy: 0.5600\n",
      "Epoch 43/100\n",
      "8/8 [==============================] - 0s 3ms/step - loss: 4.0105 - accuracy: 0.4800 - val_loss: 3.3942 - val_accuracy: 0.5600\n",
      "Epoch 44/100\n",
      "8/8 [==============================] - 0s 3ms/step - loss: 4.0105 - accuracy: 0.4800 - val_loss: 3.3942 - val_accuracy: 0.5600\n",
      "Epoch 45/100\n",
      "8/8 [==============================] - 0s 3ms/step - loss: 4.0105 - accuracy: 0.4800 - val_loss: 3.3942 - val_accuracy: 0.5600\n",
      "Epoch 46/100\n",
      "8/8 [==============================] - 0s 3ms/step - loss: 4.0105 - accuracy: 0.4800 - val_loss: 3.3942 - val_accuracy: 0.5600\n",
      "Epoch 47/100\n",
      "8/8 [==============================] - 0s 3ms/step - loss: 4.0105 - accuracy: 0.4800 - val_loss: 3.3942 - val_accuracy: 0.5600\n",
      "Epoch 48/100\n",
      "8/8 [==============================] - 0s 3ms/step - loss: 4.0105 - accuracy: 0.4800 - val_loss: 3.3942 - val_accuracy: 0.5600\n",
      "Epoch 49/100\n",
      "8/8 [==============================] - 0s 3ms/step - loss: 4.0105 - accuracy: 0.4800 - val_loss: 3.3942 - val_accuracy: 0.5600\n",
      "Epoch 50/100\n",
      "8/8 [==============================] - 0s 3ms/step - loss: 4.0105 - accuracy: 0.4800 - val_loss: 3.3942 - val_accuracy: 0.5600\n",
      "Epoch 51/100\n",
      "8/8 [==============================] - 0s 3ms/step - loss: 4.0105 - accuracy: 0.4800 - val_loss: 3.3942 - val_accuracy: 0.5600\n",
      "Epoch 52/100\n",
      "8/8 [==============================] - 0s 3ms/step - loss: 4.0105 - accuracy: 0.4800 - val_loss: 3.3942 - val_accuracy: 0.5600\n",
      "Epoch 53/100\n",
      "8/8 [==============================] - 0s 3ms/step - loss: 4.0105 - accuracy: 0.4800 - val_loss: 3.3942 - val_accuracy: 0.5600\n",
      "Epoch 54/100\n",
      "8/8 [==============================] - 0s 3ms/step - loss: 4.0105 - accuracy: 0.4800 - val_loss: 3.3942 - val_accuracy: 0.5600\n",
      "Epoch 55/100\n",
      "8/8 [==============================] - 0s 3ms/step - loss: 4.0105 - accuracy: 0.4800 - val_loss: 3.3942 - val_accuracy: 0.5600\n",
      "Epoch 56/100\n",
      "8/8 [==============================] - 0s 3ms/step - loss: 4.0105 - accuracy: 0.4800 - val_loss: 3.3942 - val_accuracy: 0.5600\n",
      "Epoch 57/100\n",
      "8/8 [==============================] - 0s 3ms/step - loss: 4.0105 - accuracy: 0.4800 - val_loss: 3.3942 - val_accuracy: 0.5600\n",
      "Epoch 58/100\n",
      "8/8 [==============================] - 0s 3ms/step - loss: 4.0105 - accuracy: 0.4800 - val_loss: 3.3942 - val_accuracy: 0.5600\n",
      "Epoch 59/100\n",
      "8/8 [==============================] - 0s 3ms/step - loss: 4.0105 - accuracy: 0.4800 - val_loss: 3.3942 - val_accuracy: 0.5600\n",
      "Epoch 60/100\n",
      "8/8 [==============================] - 0s 3ms/step - loss: 4.0105 - accuracy: 0.4800 - val_loss: 3.3942 - val_accuracy: 0.5600\n",
      "Epoch 61/100\n",
      "8/8 [==============================] - 0s 3ms/step - loss: 4.0105 - accuracy: 0.4800 - val_loss: 3.3942 - val_accuracy: 0.5600\n",
      "Epoch 62/100\n",
      "8/8 [==============================] - 0s 3ms/step - loss: 4.0105 - accuracy: 0.4800 - val_loss: 3.3942 - val_accuracy: 0.5600\n",
      "Epoch 63/100\n",
      "8/8 [==============================] - 0s 3ms/step - loss: 4.0105 - accuracy: 0.4800 - val_loss: 3.3942 - val_accuracy: 0.5600\n",
      "Epoch 64/100\n",
      "8/8 [==============================] - 0s 3ms/step - loss: 4.0105 - accuracy: 0.4800 - val_loss: 3.3942 - val_accuracy: 0.5600\n",
      "Epoch 65/100\n",
      "8/8 [==============================] - 0s 3ms/step - loss: 4.0105 - accuracy: 0.4800 - val_loss: 3.3942 - val_accuracy: 0.5600\n",
      "Epoch 66/100\n",
      "8/8 [==============================] - 0s 3ms/step - loss: 4.0105 - accuracy: 0.4800 - val_loss: 3.3942 - val_accuracy: 0.5600\n",
      "Epoch 67/100\n",
      "8/8 [==============================] - 0s 3ms/step - loss: 4.0105 - accuracy: 0.4800 - val_loss: 3.3942 - val_accuracy: 0.5600\n",
      "Epoch 68/100\n",
      "8/8 [==============================] - 0s 3ms/step - loss: 4.0105 - accuracy: 0.4800 - val_loss: 3.3942 - val_accuracy: 0.5600\n",
      "Epoch 69/100\n",
      "8/8 [==============================] - 0s 3ms/step - loss: 4.0105 - accuracy: 0.4800 - val_loss: 3.3942 - val_accuracy: 0.5600\n",
      "Epoch 70/100\n",
      "8/8 [==============================] - 0s 3ms/step - loss: 4.0105 - accuracy: 0.4800 - val_loss: 3.3942 - val_accuracy: 0.5600\n",
      "Epoch 71/100\n",
      "8/8 [==============================] - 0s 3ms/step - loss: 4.0105 - accuracy: 0.4800 - val_loss: 3.3942 - val_accuracy: 0.5600\n",
      "Epoch 72/100\n",
      "8/8 [==============================] - 0s 3ms/step - loss: 4.0105 - accuracy: 0.4800 - val_loss: 3.3942 - val_accuracy: 0.5600\n",
      "Epoch 73/100\n",
      "8/8 [==============================] - 0s 3ms/step - loss: 4.0105 - accuracy: 0.4800 - val_loss: 3.3942 - val_accuracy: 0.5600\n",
      "Epoch 74/100\n",
      "8/8 [==============================] - 0s 3ms/step - loss: 4.0105 - accuracy: 0.4800 - val_loss: 3.3942 - val_accuracy: 0.5600\n",
      "Epoch 75/100\n",
      "8/8 [==============================] - 0s 3ms/step - loss: 4.0105 - accuracy: 0.4800 - val_loss: 3.3942 - val_accuracy: 0.5600\n",
      "Epoch 76/100\n",
      "8/8 [==============================] - 0s 3ms/step - loss: 4.0105 - accuracy: 0.4800 - val_loss: 3.3942 - val_accuracy: 0.5600\n",
      "Epoch 77/100\n",
      "8/8 [==============================] - 0s 3ms/step - loss: 4.0105 - accuracy: 0.4800 - val_loss: 3.3942 - val_accuracy: 0.5600\n",
      "Epoch 78/100\n",
      "8/8 [==============================] - 0s 3ms/step - loss: 4.0105 - accuracy: 0.4800 - val_loss: 3.3942 - val_accuracy: 0.5600\n",
      "Epoch 79/100\n",
      "8/8 [==============================] - 0s 3ms/step - loss: 4.0105 - accuracy: 0.4800 - val_loss: 3.3942 - val_accuracy: 0.5600\n",
      "Epoch 80/100\n",
      "8/8 [==============================] - 0s 3ms/step - loss: 4.0105 - accuracy: 0.4800 - val_loss: 3.3942 - val_accuracy: 0.5600\n",
      "Epoch 81/100\n",
      "8/8 [==============================] - 0s 3ms/step - loss: 4.0105 - accuracy: 0.4800 - val_loss: 3.3942 - val_accuracy: 0.5600\n",
      "Epoch 82/100\n",
      "8/8 [==============================] - 0s 3ms/step - loss: 4.0105 - accuracy: 0.4800 - val_loss: 3.3942 - val_accuracy: 0.5600\n",
      "Epoch 83/100\n",
      "8/8 [==============================] - 0s 3ms/step - loss: 4.0105 - accuracy: 0.4800 - val_loss: 3.3942 - val_accuracy: 0.5600\n",
      "Epoch 84/100\n",
      "8/8 [==============================] - 0s 3ms/step - loss: 4.0105 - accuracy: 0.4800 - val_loss: 3.3942 - val_accuracy: 0.5600\n",
      "Epoch 85/100\n",
      "8/8 [==============================] - 0s 3ms/step - loss: 4.0105 - accuracy: 0.4800 - val_loss: 3.3942 - val_accuracy: 0.5600\n",
      "Epoch 86/100\n",
      "8/8 [==============================] - 0s 3ms/step - loss: 4.0105 - accuracy: 0.4800 - val_loss: 3.3942 - val_accuracy: 0.5600\n",
      "Epoch 87/100\n",
      "8/8 [==============================] - 0s 3ms/step - loss: 4.0105 - accuracy: 0.4800 - val_loss: 3.3942 - val_accuracy: 0.5600\n",
      "Epoch 88/100\n",
      "8/8 [==============================] - 0s 3ms/step - loss: 4.0105 - accuracy: 0.4800 - val_loss: 3.3942 - val_accuracy: 0.5600\n",
      "Epoch 89/100\n",
      "8/8 [==============================] - 0s 3ms/step - loss: 4.0105 - accuracy: 0.4800 - val_loss: 3.3942 - val_accuracy: 0.5600\n",
      "Epoch 90/100\n",
      "8/8 [==============================] - 0s 3ms/step - loss: 4.0105 - accuracy: 0.4800 - val_loss: 3.3942 - val_accuracy: 0.5600\n",
      "Epoch 91/100\n",
      "8/8 [==============================] - 0s 3ms/step - loss: 4.0105 - accuracy: 0.4800 - val_loss: 3.3942 - val_accuracy: 0.5600\n",
      "Epoch 92/100\n",
      "8/8 [==============================] - 0s 3ms/step - loss: 4.0105 - accuracy: 0.4800 - val_loss: 3.3942 - val_accuracy: 0.5600\n",
      "Epoch 93/100\n",
      "8/8 [==============================] - 0s 3ms/step - loss: 4.0105 - accuracy: 0.4800 - val_loss: 3.3942 - val_accuracy: 0.5600\n",
      "Epoch 94/100\n",
      "8/8 [==============================] - 0s 3ms/step - loss: 4.0105 - accuracy: 0.4800 - val_loss: 3.3942 - val_accuracy: 0.5600\n",
      "Epoch 95/100\n",
      "8/8 [==============================] - 0s 3ms/step - loss: 4.0105 - accuracy: 0.4800 - val_loss: 3.3942 - val_accuracy: 0.5600\n",
      "Epoch 96/100\n",
      "8/8 [==============================] - 0s 3ms/step - loss: 4.0105 - accuracy: 0.4800 - val_loss: 3.3942 - val_accuracy: 0.5600\n",
      "Epoch 97/100\n",
      "8/8 [==============================] - 0s 3ms/step - loss: 4.0105 - accuracy: 0.4800 - val_loss: 3.3942 - val_accuracy: 0.5600\n",
      "Epoch 98/100\n",
      "8/8 [==============================] - 0s 3ms/step - loss: 4.0105 - accuracy: 0.4800 - val_loss: 3.3942 - val_accuracy: 0.5600\n",
      "Epoch 99/100\n",
      "8/8 [==============================] - 0s 3ms/step - loss: 4.0105 - accuracy: 0.4800 - val_loss: 3.3942 - val_accuracy: 0.5600\n",
      "Epoch 100/100\n",
      "8/8 [==============================] - 0s 3ms/step - loss: 4.0105 - accuracy: 0.4800 - val_loss: 3.3942 - val_accuracy: 0.5600\n"
     ]
    }
   ],
   "metadata": {}
  },
  {
   "cell_type": "code",
   "execution_count": 228,
   "source": [
    "import seaborn as sns\n",
    "import matplotlib.pyplot as plt\n",
    "# loss\n",
    "print('train loss')\n",
    "sns.lineplot(data = history.history['loss'])\n",
    "plt.show()\n",
    "print('val loss')\n",
    "sns.lineplot(data = history.history['val_loss'])\n",
    "plt.show()"
   ],
   "outputs": [
    {
     "output_type": "stream",
     "name": "stdout",
     "text": [
      "train loss\n"
     ]
    },
    {
     "output_type": "display_data",
     "data": {
      "image/png": "[encoded data removed]",
      "text/plain": [
       "<Figure size 432x288 with 1 Axes>"
      ]
     },
     "metadata": {
      "needs_background": "light"
     }
    },
    {
     "output_type": "stream",
     "name": "stdout",
     "text": [
      "val loss\n"
     ]
    },
    {
     "output_type": "display_data",
     "data": {
      "image/png": "[encoded data removed]",
      "text/plain": [
       "<Figure size 432x288 with 1 Axes>"
      ]
     },
     "metadata": {
      "needs_background": "light"
     }
    }
   ],
   "metadata": {}
  },
  {
   "cell_type": "markdown",
   "source": [
    "# Problem 2\n",
    "Learn Iris (multi-level classification) with Keras"
   ],
   "metadata": {}
  },
  {
   "cell_type": "code",
   "execution_count": null,
   "source": [],
   "outputs": [],
   "metadata": {}
  }
 ],
 "metadata": {
  "orig_nbformat": 4,
  "language_info": {
   "name": "python",
   "version": "3.6.8",
   "mimetype": "text/x-python",
   "codemirror_mode": {
    "name": "ipython",
    "version": 3
   },
   "pygments_lexer": "ipython3",
   "nbconvert_exporter": "python",
   "file_extension": ".py"
  },
  "kernelspec": {
   "name": "python3",
   "display_name": "Python 3.6.8 64-bit ('3.6.8': pyenv)"
  },
  "interpreter": {
   "hash": "b6dca31c40dac0508fe8bb571189613e8b58bfb2f14d9df93b31762f58f9068a"
  }
 },
 "nbformat": 4,
 "nbformat_minor": 2
}