{
 "cells": [
  {
   "cell_type": "markdown",
   "source": [
    "# Introduction\r\n",
    "Understand the basics of neural networks from scratch.\r\n",
    "Know how to handle image data\r\n",
    "After implementing a simple neural network from scratch, we will train and validate it."
   ],
   "metadata": {}
  },
  {
   "cell_type": "code",
   "execution_count": 239,
   "source": [
    "#dependencies\r\n",
    "import pandas as pd\r\n",
    "import numpy as np\r\n",
    "import matplotlib.pyplot as plt\r\n",
    "import seaborn as sns"
   ],
   "outputs": [],
   "metadata": {}
  },
  {
   "cell_type": "markdown",
   "source": [
    "# MINIST Dataset"
   ],
   "metadata": {}
  },
  {
   "cell_type": "code",
   "execution_count": 240,
   "source": [
    "from keras.datasets import mnist\r\n",
    "(X_train, y_train), (X_test, y_test) = mnist.load_data()"
   ],
   "outputs": [],
   "metadata": {}
  },
  {
   "cell_type": "code",
   "execution_count": 241,
   "source": [
    "print(X_train.shape) # (60000, 28, 28)\r\n",
    "print(X_test.shape) # (10000, 28, 28)\r\n",
    "print(X_train[0].dtype) # uint8\r\n",
    "print(X_train[0])"
   ],
   "outputs": [
    {
     "output_type": "stream",
     "name": "stdout",
     "text": [
      "(60000, 28, 28)\n",
      "(10000, 28, 28)\n",
      "uint8\n",
      "[[  0   0   0   0   0   0   0   0   0   0   0   0   0   0   0   0   0   0\n",
      "    0   0   0   0   0   0   0   0   0   0]\n",
      " [  0   0   0   0   0   0   0   0   0   0   0   0   0   0   0   0   0   0\n",
      "    0   0   0   0   0   0   0   0   0   0]\n",
      " [  0   0   0   0   0   0   0   0   0   0   0   0   0   0   0   0   0   0\n",
      "    0   0   0   0   0   0   0   0   0   0]\n",
      " [  0   0   0   0   0   0   0   0   0   0   0   0   0   0   0   0   0   0\n",
      "    0   0   0   0   0   0   0   0   0   0]\n",
      " [  0   0   0   0   0   0   0   0   0   0   0   0   0   0   0   0   0   0\n",
      "    0   0   0   0   0   0   0   0   0   0]\n",
      " [  0   0   0   0   0   0   0   0   0   0   0   0   3  18  18  18 126 136\n",
      "  175  26 166 255 247 127   0   0   0   0]\n",
      " [  0   0   0   0   0   0   0   0  30  36  94 154 170 253 253 253 253 253\n",
      "  225 172 253 242 195  64   0   0   0   0]\n",
      " [  0   0   0   0   0   0   0  49 238 253 253 253 253 253 253 253 253 251\n",
      "   93  82  82  56  39   0   0   0   0   0]\n",
      " [  0   0   0   0   0   0   0  18 219 253 253 253 253 253 198 182 247 241\n",
      "    0   0   0   0   0   0   0   0   0   0]\n",
      " [  0   0   0   0   0   0   0   0  80 156 107 253 253 205  11   0  43 154\n",
      "    0   0   0   0   0   0   0   0   0   0]\n",
      " [  0   0   0   0   0   0   0   0   0  14   1 154 253  90   0   0   0   0\n",
      "    0   0   0   0   0   0   0   0   0   0]\n",
      " [  0   0   0   0   0   0   0   0   0   0   0 139 253 190   2   0   0   0\n",
      "    0   0   0   0   0   0   0   0   0   0]\n",
      " [  0   0   0   0   0   0   0   0   0   0   0  11 190 253  70   0   0   0\n",
      "    0   0   0   0   0   0   0   0   0   0]\n",
      " [  0   0   0   0   0   0   0   0   0   0   0   0  35 241 225 160 108   1\n",
      "    0   0   0   0   0   0   0   0   0   0]\n",
      " [  0   0   0   0   0   0   0   0   0   0   0   0   0  81 240 253 253 119\n",
      "   25   0   0   0   0   0   0   0   0   0]\n",
      " [  0   0   0   0   0   0   0   0   0   0   0   0   0   0  45 186 253 253\n",
      "  150  27   0   0   0   0   0   0   0   0]\n",
      " [  0   0   0   0   0   0   0   0   0   0   0   0   0   0   0  16  93 252\n",
      "  253 187   0   0   0   0   0   0   0   0]\n",
      " [  0   0   0   0   0   0   0   0   0   0   0   0   0   0   0   0   0 249\n",
      "  253 249  64   0   0   0   0   0   0   0]\n",
      " [  0   0   0   0   0   0   0   0   0   0   0   0   0   0  46 130 183 253\n",
      "  253 207   2   0   0   0   0   0   0   0]\n",
      " [  0   0   0   0   0   0   0   0   0   0   0   0  39 148 229 253 253 253\n",
      "  250 182   0   0   0   0   0   0   0   0]\n",
      " [  0   0   0   0   0   0   0   0   0   0  24 114 221 253 253 253 253 201\n",
      "   78   0   0   0   0   0   0   0   0   0]\n",
      " [  0   0   0   0   0   0   0   0  23  66 213 253 253 253 253 198  81   2\n",
      "    0   0   0   0   0   0   0   0   0   0]\n",
      " [  0   0   0   0   0   0  18 171 219 253 253 253 253 195  80   9   0   0\n",
      "    0   0   0   0   0   0   0   0   0   0]\n",
      " [  0   0   0   0  55 172 226 253 253 253 253 244 133  11   0   0   0   0\n",
      "    0   0   0   0   0   0   0   0   0   0]\n",
      " [  0   0   0   0 136 253 253 253 212 135 132  16   0   0   0   0   0   0\n",
      "    0   0   0   0   0   0   0   0   0   0]\n",
      " [  0   0   0   0   0   0   0   0   0   0   0   0   0   0   0   0   0   0\n",
      "    0   0   0   0   0   0   0   0   0   0]\n",
      " [  0   0   0   0   0   0   0   0   0   0   0   0   0   0   0   0   0   0\n",
      "    0   0   0   0   0   0   0   0   0   0]\n",
      " [  0   0   0   0   0   0   0   0   0   0   0   0   0   0   0   0   0   0\n",
      "    0   0   0   0   0   0   0   0   0   0]]\n"
     ]
    }
   ],
   "metadata": {}
  },
  {
   "cell_type": "code",
   "execution_count": 242,
   "source": [
    "X_train = X_train.reshape(-1, 784)\r\n",
    "X_test = X_test.reshape(-1, 784)"
   ],
   "outputs": [],
   "metadata": {}
  },
  {
   "cell_type": "markdown",
   "source": [
    "## Data Visualization"
   ],
   "metadata": {}
  },
  {
   "cell_type": "code",
   "execution_count": 243,
   "source": [
    "import matplotlib.pyplot as plt\r\n",
    "%matplotlib inline\r\n",
    "index = 0\r\n",
    "image = X_train[index].reshape(28,28)\r\n",
    "# X_train[index]: (784,)\r\n",
    "# image: (28, 28)\r\n",
    "plt.imshow(image, 'gray')\r\n",
    "plt.title('label : {}'.format(y_train[index]))\r\n",
    "plt.show()"
   ],
   "outputs": [
    {
     "output_type": "display_data",
     "data": {
      "text/plain": [
       "<Figure size 432x288 with 1 Axes>"
      ],
      "image/png": "[encoded data removed]"
     },
     "metadata": {
      "needs_background": "light"
     }
    }
   ],
   "metadata": {}
  },
  {
   "cell_type": "markdown",
   "source": [
    "### Weird negative case that is not handled!"
   ],
   "metadata": {}
  },
  {
   "cell_type": "code",
   "execution_count": 244,
   "source": [
    "index = 0\r\n",
    "image = X_train[index].reshape(28,28)\r\n",
    "image = image.astype(np.float) # Convert to float type\r\n",
    "image -= 105.35 # Intentionally try to create a negative decimal value\r\n",
    "plt.imshow(image, 'gray')\r\n",
    "plt.title('label : {}'.format(y_train[index]))\r\n",
    "plt.show()\r\n",
    "# print(image) # Check the value"
   ],
   "outputs": [
    {
     "output_type": "display_data",
     "data": {
      "text/plain": [
       "<Figure size 432x288 with 1 Axes>"
      ],
      "image/png": "[encoded data removed]"
     },
     "metadata": {
      "needs_background": "light"
     }
    }
   ],
   "metadata": {}
  },
  {
   "cell_type": "markdown",
   "source": [
    "### Fix with auto scale to 0-255"
   ],
   "metadata": {}
  },
  {
   "cell_type": "code",
   "execution_count": 245,
   "source": [
    "plt.imshow(image, 'gray', vmin = 0, vmax = 255)"
   ],
   "outputs": [
    {
     "output_type": "execute_result",
     "data": {
      "text/plain": [
       "<matplotlib.image.AxesImage at 0x195195d9c70>"
      ]
     },
     "metadata": {},
     "execution_count": 245
    },
    {
     "output_type": "display_data",
     "data": {
      "text/plain": [
       "<Figure size 432x288 with 1 Axes>"
      ],
      "image/png": "[encoded data removed]"
     },
     "metadata": {
      "needs_background": "light"
     }
    }
   ],
   "metadata": {}
  },
  {
   "cell_type": "markdown",
   "source": [
    "## Preprocessing\r\n"
   ],
   "metadata": {}
  },
  {
   "cell_type": "code",
   "execution_count": 246,
   "source": [
    "#scaling\r\n",
    "X_train = X_train.astype(np.float)\r\n",
    "X_test = X_test.astype(np.float)\r\n",
    "X_train /= 255\r\n",
    "X_test /= 255\r\n",
    "print(X_train.max()) # 1.0\r\n",
    "print(X_train.min()) # 0.0"
   ],
   "outputs": [
    {
     "output_type": "stream",
     "name": "stdout",
     "text": [
      "1.0\n",
      "0.0\n"
     ]
    }
   ],
   "metadata": {}
  },
  {
   "cell_type": "code",
   "execution_count": 247,
   "source": [
    "#one hot encode for multiclass labels!\r\n",
    "from sklearn.preprocessing import OneHotEncoder\r\n",
    "enc = OneHotEncoder(handle_unknown='ignore', sparse=False)\r\n",
    "y_train_one_hot = enc.fit_transform(y_train[:, np.newaxis])\r\n",
    "y_test_one_hot = enc.transform(y_test[:, np.newaxis])\r\n",
    "print(y_train.shape) # (60000,)\r\n",
    "print(y_train_one_hot.shape) # (60000, 10)\r\n",
    "print(y_train_one_hot.dtype) # float64\r\n",
    "print(y_test_one_hot.shape) #(10000, 10)"
   ],
   "outputs": [
    {
     "output_type": "stream",
     "name": "stdout",
     "text": [
      "(60000,)\n",
      "(60000, 10)\n",
      "float64\n",
      "(10000, 10)\n"
     ]
    }
   ],
   "metadata": {}
  },
  {
   "cell_type": "code",
   "execution_count": 248,
   "source": [
    "#validation split\r\n",
    "from sklearn.model_selection import train_test_split\r\n",
    "X_train, X_val, y_train, y_val = train_test_split(X_train, y_train_one_hot, test_size=0.2)\r\n",
    "print(X_train.shape) # (48000, 784)\r\n",
    "print(X_val.shape) # (12000, 784)\r\n",
    "y_train[0]"
   ],
   "outputs": [
    {
     "output_type": "stream",
     "name": "stdout",
     "text": [
      "(48000, 784)\n",
      "(12000, 784)\n"
     ]
    },
    {
     "output_type": "execute_result",
     "data": {
      "text/plain": [
       "array([0., 0., 0., 0., 0., 0., 1., 0., 0., 0.])"
      ]
     },
     "metadata": {},
     "execution_count": 248
    }
   ],
   "metadata": {}
  },
  {
   "cell_type": "markdown",
   "source": [
    "# Mini Batch"
   ],
   "metadata": {}
  },
  {
   "cell_type": "code",
   "execution_count": 249,
   "source": [
    "class GetMiniBatch:\r\n",
    "    \"\"\"\r\n",
    "Iterator to get a mini-batch\r\n",
    "    Parameters\r\n",
    "    ----------\r\n",
    "    X : The following forms of ndarray, shape (n_samples, n_features)\r\n",
    "      Training data\r\n",
    "    y : The following form of ndarray, shape (n_samples, 1)\r\n",
    "      Correct answer value\r\n",
    "    batch_size : int\r\n",
    "      Batch size\r\n",
    "    seed : int\r\n",
    "      NumPy random number seed\r\n",
    "    \"\"\"\r\n",
    "    def __init__(self, X, y, batch_size = 20, seed=0):\r\n",
    "        self.batch_size = batch_size\r\n",
    "        np.random.seed(seed)\r\n",
    "        shuffle_index = np.random.permutation(np.arange(X.shape[0]))\r\n",
    "        self._X = X[shuffle_index]\r\n",
    "        self._y = y[shuffle_index]\r\n",
    "        self._stop = np.ceil(X.shape[0]/self.batch_size).astype(np.int)\r\n",
    "    def __len__(self):\r\n",
    "        return self._stop\r\n",
    "    def __getitem__(self,item):\r\n",
    "        p0 = item*self.batch_size\r\n",
    "        p1 = item*self.batch_size + self.batch_size\r\n",
    "        return self._X[p0:p1], self._y[p0:p1]        \r\n",
    "    def __iter__(self):\r\n",
    "        self._counter = 0\r\n",
    "        return self\r\n",
    "    def __next__(self):\r\n",
    "        if self._counter >= self._stop:\r\n",
    "            raise StopIteration()\r\n",
    "        p0 = self._counter*self.batch_size\r\n",
    "        p1 = self._counter*self.batch_size + self.batch_size\r\n",
    "        self._counter += 1\r\n",
    "        return self._X[p0:p1], self._y[p0:p1]"
   ],
   "outputs": [],
   "metadata": {}
  },
  {
   "cell_type": "code",
   "execution_count": 250,
   "source": [
    "#test minibatch\r\n",
    "get_mini_batch = GetMiniBatch(X_train, y_train, batch_size=20)\r\n",
    "# print(len(get_mini_batch)) # 2400\r\n",
    "# print(get_mini_batch[5]) # You can get the 5th mini batch\r\n",
    "for mini_X_train, mini_y_train in get_mini_batch:\r\n",
    "    # You can use a mini batch in this for statement\r\n",
    "    print('Train Batch shape: ', mini_X_train.shape, mini_y_train.shape)\r\n",
    "    print(mini_X_train)\r\n",
    "    print(mini_y_train)\r\n",
    "    break\r\n",
    "    pass"
   ],
   "outputs": [
    {
     "output_type": "stream",
     "name": "stdout",
     "text": [
      "Train Batch shape:  (20, 784) (20, 10)\n",
      "[[0. 0. 0. ... 0. 0. 0.]\n",
      " [0. 0. 0. ... 0. 0. 0.]\n",
      " [0. 0. 0. ... 0. 0. 0.]\n",
      " ...\n",
      " [0. 0. 0. ... 0. 0. 0.]\n",
      " [0. 0. 0. ... 0. 0. 0.]\n",
      " [0. 0. 0. ... 0. 0. 0.]]\n",
      "[[0. 0. 0. 0. 0. 1. 0. 0. 0. 0.]\n",
      " [0. 0. 0. 0. 1. 0. 0. 0. 0. 0.]\n",
      " [0. 0. 0. 1. 0. 0. 0. 0. 0. 0.]\n",
      " [0. 0. 0. 0. 1. 0. 0. 0. 0. 0.]\n",
      " [0. 0. 0. 1. 0. 0. 0. 0. 0. 0.]\n",
      " [0. 1. 0. 0. 0. 0. 0. 0. 0. 0.]\n",
      " [1. 0. 0. 0. 0. 0. 0. 0. 0. 0.]\n",
      " [0. 0. 0. 0. 1. 0. 0. 0. 0. 0.]\n",
      " [0. 1. 0. 0. 0. 0. 0. 0. 0. 0.]\n",
      " [0. 0. 0. 0. 0. 0. 0. 0. 0. 1.]\n",
      " [0. 0. 0. 0. 0. 0. 0. 1. 0. 0.]\n",
      " [0. 0. 0. 0. 1. 0. 0. 0. 0. 0.]\n",
      " [0. 0. 0. 0. 0. 0. 0. 0. 0. 1.]\n",
      " [0. 0. 0. 0. 0. 0. 1. 0. 0. 0.]\n",
      " [1. 0. 0. 0. 0. 0. 0. 0. 0. 0.]\n",
      " [0. 0. 1. 0. 0. 0. 0. 0. 0. 0.]\n",
      " [0. 0. 0. 0. 1. 0. 0. 0. 0. 0.]\n",
      " [0. 0. 0. 0. 1. 0. 0. 0. 0. 0.]\n",
      " [1. 0. 0. 0. 0. 0. 0. 0. 0. 0.]\n",
      " [0. 0. 0. 0. 0. 0. 0. 0. 0. 1.]]\n"
     ]
    }
   ],
   "metadata": {}
  },
  {
   "cell_type": "markdown",
   "source": [
    "# Problem 1\r\n",
    "Creating a code to determine the initial weight value"
   ],
   "metadata": {}
  },
  {
   "cell_type": "code",
   "execution_count": 251,
   "source": [
    "#sample code\r\n",
    "def sample():\r\n",
    "    n_features = 784\r\n",
    "    n_nodes1 = 400\r\n",
    "    sigma = 0.01 # Standard deviation of Gaussian distribution\r\n",
    "    W1 = sigma * np.random.randn(n_features, n_nodes1)\r\n",
    "    print('Weights: ', W1.shape)\r\n",
    "    print('W1: ', W1[:5])\r\n",
    "sample()"
   ],
   "outputs": [
    {
     "output_type": "stream",
     "name": "stdout",
     "text": [
      "Weights:  (784, 400)\n",
      "W1:  [[ 0.00792546 -0.00145092 -0.01287133 ... -0.00245453 -0.03460641\n",
      "   0.00758269]\n",
      " [-0.00137276  0.00278289  0.00932826 ... -0.01495581  0.00968798\n",
      "   0.0101332 ]\n",
      " [-0.00746748  0.00905245  0.0006038  ...  0.01249155 -0.00529285\n",
      "   0.00730488]\n",
      " [-0.00926189  0.01516508  0.02151677 ...  0.01362972 -0.00037262\n",
      "   0.01172848]\n",
      " [ 0.00987992 -0.00489221 -0.02501196 ... -0.00026348  0.00225029\n",
      "   0.0098098 ]]\n"
     ]
    }
   ],
   "metadata": {}
  },
  {
   "cell_type": "markdown",
   "source": [
    "# Problem 2\r\n",
    "Implementation of forward propagation"
   ],
   "metadata": {}
  },
  {
   "cell_type": "code",
   "execution_count": 252,
   "source": [
    "batch_size = 20 # batch size \r\n",
    "n_features = 784 # number of features \r\n",
    "n_nodes1 = 400 # number of first layer nodes \r\n",
    "n_nodes2 = 200 # number of second layer nodes \r\n",
    "n_output = 10 # number of output classes (number of nodes in the 3rd layer)"
   ],
   "outputs": [],
   "metadata": {}
  },
  {
   "cell_type": "code",
   "execution_count": 253,
   "source": [
    "#activation functions\r\n",
    "def sigmoid(X):\r\n",
    "    return 1 / (1 + np.exp(-X))\r\n",
    "def hyper_tan(X):\r\n",
    "    return (np.exp(X) - np.exp(-X)) / (np.exp(X) + np.exp(-X))    "
   ],
   "outputs": [],
   "metadata": {}
  },
  {
   "cell_type": "code",
   "execution_count": 254,
   "source": [
    "#soft max\r\n",
    "def softmax(X):\r\n",
    "    return np.exp(X) / np.sum(np.exp(X), axis = 1).reshape(-1,1)"
   ],
   "outputs": [],
   "metadata": {}
  },
  {
   "cell_type": "markdown",
   "source": [
    "**We'll do calculations on one batch**"
   ],
   "metadata": {}
  },
  {
   "cell_type": "code",
   "execution_count": 255,
   "source": [
    "batch_size = 20 # batch size \r\n",
    "n_features = 784 # number of features \r\n",
    "n_nodes1 = 400 # number of first layer nodes \r\n",
    "n_nodes2 = 200 # number of second layer nodes \r\n",
    "n_output = 10 # number of output classes (number of nodes in the 3rd layer)\r\n",
    "X = get_mini_batch[0][0]\r\n",
    "Y = get_mini_batch[0][1]"
   ],
   "outputs": [],
   "metadata": {}
  },
  {
   "cell_type": "code",
   "execution_count": 256,
   "source": [
    "#weight, bias\r\n",
    "sigma = 0.01 # Standard deviation of Gaussian distribution\r\n",
    "W1 = sigma * np.random.randn(n_features,n_nodes1)\r\n",
    "bias1 = sigma * np.random.randn(n_nodes1).reshape(1,-1)\r\n",
    "activation = sigmoid\r\n",
    "print('X shape: ', X.shape)\r\n",
    "print('W1: ',W1.shape, 'bisas1: ', bias1.shape)\r\n",
    "# first layer\r\n",
    "A1 = X@W1 + bias1\r\n",
    "Z1= activation(A1)\r\n",
    "print('Z1 shape: ', Z1.shape)\r\n",
    "# second layer\r\n",
    "W2 = sigma * np.random.randn(n_nodes1,n_nodes2)\r\n",
    "bias2 = sigma * np.random.randn(n_nodes2).reshape(1,-1)\r\n",
    "A2 = Z1@W2 + bias2\r\n",
    "Z2 = activation(A2)\r\n",
    "print('W2: ',W2.shape, 'bisas2: ', bias2.shape)\r\n",
    "print('Z2 shape: ', Z2.shape)\r\n",
    "#last (third) layer\r\n",
    "W3 = sigma * np.random.randn(n_nodes2,n_output)\r\n",
    "bias3 = sigma * np.random.randn(n_output).reshape(1,-1)\r\n",
    "A3 = Z2@W3 + bias3\r\n",
    "Z3 = softmax(A3)\r\n",
    "print('W3: ',W3.shape, 'bisas3: ', bias3.shape)\r\n",
    "print('Z3 shape: ', Z3.shape)"
   ],
   "outputs": [
    {
     "output_type": "stream",
     "name": "stdout",
     "text": [
      "X shape:  (20, 784)\n",
      "W1:  (784, 400) bisas1:  (1, 400)\n",
      "Z1 shape:  (20, 400)\n",
      "W2:  (400, 200) bisas2:  (1, 200)\n",
      "Z2 shape:  (20, 200)\n",
      "W3:  (200, 10) bisas3:  (1, 10)\n",
      "Z3 shape:  (20, 10)\n"
     ]
    }
   ],
   "metadata": {}
  },
  {
   "cell_type": "markdown",
   "source": [
    "# Problem 3\r\n",
    "Implementation of cross entropy error"
   ],
   "metadata": {}
  },
  {
   "cell_type": "code",
   "execution_count": 257,
   "source": [
    "def cross_entropy_error(Z,y):\r\n",
    "    print('Z: ',Z[0])\r\n",
    "    print('Y: ', Y[0])\r\n",
    "    return (np.log(Z) * y).sum() / (- len(Z))\r\n",
    "print(Z3.shape, Y.shape)\r\n",
    "print('Cross Entro: ', cross_entropy_error(Z3, Y))"
   ],
   "outputs": [
    {
     "output_type": "stream",
     "name": "stdout",
     "text": [
      "(20, 10) (20, 10)\n",
      "Z:  [0.09794321 0.09483272 0.09967666 0.10881523 0.11919712 0.08142486\n",
      " 0.10240371 0.09915095 0.10739893 0.08915659]\n",
      "Y:  [0. 0. 0. 0. 0. 1. 0. 0. 0. 0.]\n",
      "Cross Entro:  2.276759763778918\n"
     ]
    }
   ],
   "metadata": {}
  },
  {
   "cell_type": "markdown",
   "source": [
    "# Problem 4\r\n",
    "Implementation of backpropagation"
   ],
   "metadata": {}
  },
  {
   "cell_type": "markdown",
   "source": [
    "### Layer 3 Gradient"
   ],
   "metadata": {}
  },
  {
   "cell_type": "code",
   "execution_count": 258,
   "source": [
    "nb = batch_size #batch size (tuple count)\r\n",
    "\r\n",
    "grad_L_A3 = 1/nb * (Z3 - Y)\r\n",
    "print('Gradient L/A3: ', grad_L_A3.shape)\r\n",
    "grad_L_B3 = grad_L_A3.sum(axis = 0)\r\n",
    "print('Gradient L/B3: ', grad_L_B3.shape)\r\n",
    "grad_L_W3 = Z2.T @ grad_L_A3\r\n",
    "print('Gradient L/W3: ', grad_L_W3.shape)\r\n",
    "grad_L_Z2 = grad_L_A3 @ W3.T\r\n",
    "print('Gradient L/Z2: ', grad_L_Z2.shape)\r\n"
   ],
   "outputs": [
    {
     "output_type": "stream",
     "name": "stdout",
     "text": [
      "Gradient L/A3:  (20, 10)\n",
      "Gradient L/B3:  (10,)\n",
      "Gradient L/W3:  (200, 10)\n",
      "Gradient L/Z2:  (20, 200)\n"
     ]
    }
   ],
   "metadata": {}
  },
  {
   "cell_type": "markdown",
   "source": [
    "### Layer 2 Gradient"
   ],
   "metadata": {}
  },
  {
   "cell_type": "code",
   "execution_count": 259,
   "source": [
    "grad_L_A2 = grad_L_Z2 * (1 - np.tanh(A2)** 2)\r\n",
    "print('Gradient L/A2: ', grad_L_A2.shape)\r\n",
    "grad_L_B2 = grad_L_A2.sum(axis = 0)\r\n",
    "print('Gradient L/B2: ', grad_L_B2.shape)\r\n",
    "grad_L_W2 = Z1.T @ grad_L_A2\r\n",
    "print('Gradient L/W2: ', grad_L_W2.shape)\r\n",
    "grad_L_Z1 = grad_L_A2 @ W2.T\r\n",
    "print('Gradient L/Z1: ', grad_L_Z1.shape)"
   ],
   "outputs": [
    {
     "output_type": "stream",
     "name": "stdout",
     "text": [
      "Gradient L/A2:  (20, 200)\n",
      "Gradient L/B2:  (200,)\n",
      "Gradient L/W2:  (400, 200)\n",
      "Gradient L/Z1:  (20, 400)\n"
     ]
    }
   ],
   "metadata": {}
  },
  {
   "cell_type": "markdown",
   "source": [
    "### Layer 1 Gradient"
   ],
   "metadata": {}
  },
  {
   "cell_type": "code",
   "execution_count": 260,
   "source": [
    "grad_L_A1 = grad_L_Z1 * (1 - np.tanh(A1) ** 2)\r\n",
    "print('Gradient L/A1: ', grad_L_A1.shape)\r\n",
    "grad_L_B1 = grad_L_A1.sum(axis = 0)\r\n",
    "print('Gradent L/B1: ', grad_L_B1.shape)\r\n",
    "grad_L_W1 = X.T @ grad_L_A1\r\n",
    "print('Gradient L/W1: ', grad_L_W1.shape)\r\n"
   ],
   "outputs": [
    {
     "output_type": "stream",
     "name": "stdout",
     "text": [
      "Gradient L/A1:  (20, 400)\n",
      "Gradent L/B1:  (400,)\n",
      "Gradient L/W1:  (784, 400)\n"
     ]
    }
   ],
   "metadata": {}
  },
  {
   "cell_type": "markdown",
   "source": [
    "# Problem 5\r\n",
    "Estimation"
   ],
   "metadata": {}
  },
  {
   "cell_type": "code",
   "execution_count": 261,
   "source": [
    "print('Z3 shape: ', Z3.shape)\r\n",
    "print('Z3: ', Z3[:3])\r\n",
    "pred = np.argmax(Z3,axis = 1)\r\n",
    "print('Prediction: ', pred, 'shape: ', pred.shape)\r\n"
   ],
   "outputs": [
    {
     "output_type": "stream",
     "name": "stdout",
     "text": [
      "Z3 shape:  (20, 10)\n",
      "Z3:  [[0.09794321 0.09483272 0.09967666 0.10881523 0.11919712 0.08142486\n",
      "  0.10240371 0.09915095 0.10739893 0.08915659]\n",
      " [0.09794119 0.09482808 0.09966257 0.10879981 0.11920844 0.08142744\n",
      "  0.10239525 0.09916191 0.10740115 0.08917417]\n",
      " [0.09793691 0.0948535  0.09968137 0.10879655 0.1192345  0.08141604\n",
      "  0.10236064 0.09913075 0.10742437 0.08916536]]\n",
      "Prediction:  [4 4 4 4 4 4 4 4 4 4 4 4 4 4 4 4 4 4 4 4] shape:  (20,)\n"
     ]
    }
   ],
   "metadata": {}
  },
  {
   "cell_type": "markdown",
   "source": [
    "# Problem 6\r\n",
    " Learning and Estimation"
   ],
   "metadata": {}
  },
  {
   "cell_type": "markdown",
   "source": [
    "**In this part, we will combine all of the previous 'peices' into the class and use it**"
   ],
   "metadata": {}
  },
  {
   "cell_type": "code",
   "execution_count": 262,
   "source": [
    "from sklearn.metrics import accuracy_score\r\n",
    "\r\n",
    "class Scratch3LayerNeural():\r\n",
    "    def __init__(self, max_iter = 50, lr = 0.1, encoder = enc, verbose = False, debug = False):\r\n",
    "        self.epoch = max_iter\r\n",
    "        self.verbose = verbose\r\n",
    "        self.debug = debug\r\n",
    "        self.lr = lr\r\n",
    "        #other non-parametric vars:\r\n",
    "        self.encoder = encoder\r\n",
    "        self.activation = sigmoid\r\n",
    "        self.sigma = 0.01\r\n",
    "        self.batch_size = 20 # batch size \r\n",
    "        self.n_features = 784 # number of features \r\n",
    "        self.n_nodes1 = 400 # number of first layer nodes \r\n",
    "        self.n_nodes2 = 200 # number of second layer nodes \r\n",
    "        self.n_output = 10 # number of output classes (number of nodes in the 3rd layer)\r\n",
    "\r\n",
    "    def _init_params_and_output_container(self, prev_n_nodes, current_n_nodes):\r\n",
    "        weight = self.sigma * np.random.randn(prev_n_nodes,current_n_nodes)\r\n",
    "        bias = self.sigma * np.random.randn(1,current_n_nodes)\r\n",
    "        return weight,bias\r\n",
    "    def fit(self,X,y, X_val = None, y_val = None):\r\n",
    "        #prepare\r\n",
    "        self.n_features = X.shape[1]\r\n",
    "        self.lenx = len(X)\r\n",
    "        self.batch_count = len(GetMiniBatch(X,y,batch_size= self.batch_size)) #for debug\r\n",
    "        #init weights,bias and z_container\r\n",
    "        self.W1,self.B1 = self._init_params_and_output_container(n_features,self.n_nodes1)\r\n",
    "        self.W2,self.B2 = self._init_params_and_output_container(self.n_nodes1,self.n_nodes2)\r\n",
    "        self.W3,self.B3 = self._init_params_and_output_container(self.n_nodes2,self.n_output)\r\n",
    "        if self.verbose:\r\n",
    "            print('X shape: ', X.shape, 'type: ', X.dtype)\r\n",
    "            print('Batch count: ', self.batch_count)\r\n",
    "            print('1st layer: ', self.W1.shape, self.B1.shape)\r\n",
    "            print('2nd layer: ', self.W2.shape, self.B2.shape)\r\n",
    "            print('3rd layer: ', self.W3.shape, self.B3.shape)\r\n",
    "\r\n",
    "        #train\r\n",
    "        self.loss = np.zeros(self.epoch)\r\n",
    "        self.accuracy = np.zeros(self.epoch)\r\n",
    "        for i in range(self.epoch): #one full data ilteration\r\n",
    "            if self.verbose: print('Epoch: ', i)\r\n",
    "            self.get_mini_batch = GetMiniBatch(X, y, batch_size=self.batch_size)\r\n",
    "            for idx, (mini_X_train, mini_y_train) in enumerate(self.get_mini_batch):\r\n",
    "                if self.debug: print('Current batch: ', idx)\r\n",
    "                #train mini_batch\r\n",
    "                self.forward_prop(mini_X_train,mini_y_train)\r\n",
    "                self.backward_prop(mini_X_train,mini_y_train)\r\n",
    "\r\n",
    "\r\n",
    "            #record loss data\r\n",
    "            Z3 = self.forward_prop(X,y,update = False)\r\n",
    "            self.loss[i] = self.cross_entropy_error(Z3,y)\r\n",
    "            train_pred = self.predict(X)\r\n",
    "            self.accuracy[i]  = accuracy_score(train_pred,y)\r\n",
    "            if self.verbose:\r\n",
    "                print(f'Loss {i}:', self.loss[i])\r\n",
    "                print(f'Acc {i}:', self.accuracy[i])\r\n",
    "                \r\n",
    "        #verbose\r\n",
    "        if self.verbose:\r\n",
    "            print('Final train loss:',self.loss[-1])\r\n",
    "            print('Final train accuracy:',self.accuracy[-1])\r\n",
    "\r\n",
    "    def forward_prop(self,X,y, update = True):\r\n",
    "        activation = self.activation\r\n",
    "        W1,B1 = self.W1,self.B1\r\n",
    "        W2,B2 = self.W2,self.B2\r\n",
    "        W3,B3 = self.W3,self.B3\r\n",
    "        # first layer\r\n",
    "        A1 = X@W1 + B1\r\n",
    "        Z1= activation(A1)\r\n",
    "        # second layer\r\n",
    "        A2 = Z1@W2 + B2\r\n",
    "        Z2 = activation(A2)\r\n",
    "        #last (third) layer\r\n",
    "        A3 = Z2@W3 + B3\r\n",
    "        Z3 = softmax(A3)\r\n",
    "\r\n",
    "        if update: #for training\r\n",
    "            self.A1 = A1\r\n",
    "            self.Z1 = Z1\r\n",
    "            self.A2 = A2\r\n",
    "            self.Z2 = Z2\r\n",
    "            self.A3 = A3\r\n",
    "            self.Z3 = Z3\r\n",
    "        else: # for predicting\r\n",
    "            return Z3\r\n",
    "\r\n",
    "    def backward_prop(self,X,y):\r\n",
    "        A1 = self.A1 \r\n",
    "        Z1 = self.Z1 \r\n",
    "        A2 = self.A2 \r\n",
    "        Z2 = self.Z2 \r\n",
    "        A3 = self.A3 \r\n",
    "        Z3 = self.Z3 \r\n",
    "        #third\r\n",
    "        grad_L_A3 = 1/nb * (Z3 - y)\r\n",
    "        grad_L_B3 = grad_L_A3.sum(axis = 0).reshape(1,-1)\r\n",
    "        grad_L_W3 = Z2.T @ grad_L_A3\r\n",
    "        grad_L_Z2 = grad_L_A3 @ W3.T\r\n",
    "        #second\r\n",
    "        grad_L_A2 = grad_L_Z2 * (1 - np.tanh(A2)** 2)\r\n",
    "        grad_L_B2 = grad_L_A2.sum(axis = 0).reshape(1,-1)\r\n",
    "        grad_L_W2 = Z1.T @ grad_L_A2\r\n",
    "        grad_L_Z1 = grad_L_A2 @ W2.T\r\n",
    "        #first\r\n",
    "        grad_L_A1 = grad_L_Z1 * (1 - np.tanh(A1) ** 2)\r\n",
    "        grad_L_B1 = grad_L_A1.sum(axis = 0).reshape(1,-1)\r\n",
    "        grad_L_W1 = X.T @ grad_L_A1\r\n",
    "        \r\n",
    "        #new params\r\n",
    "        lr = self.lr\r\n",
    "        self.W1 += - lr * grad_L_W1\r\n",
    "        self.B1 += - lr * grad_L_B1\r\n",
    "        self.W2 += - lr * grad_L_W2\r\n",
    "        self.B2 += - lr * grad_L_B2\r\n",
    "        self.W3 += - lr * grad_L_W3\r\n",
    "        self.B3 += - lr * grad_L_B3\r\n",
    "        \r\n",
    "    \r\n",
    "    def cross_entropy_error(self,Z3,y):\r\n",
    "        return (np.log(Z3) * y).sum() / (- len(Z3))\r\n",
    "\r\n",
    "    def predict(self,X):\r\n",
    "        y = np.zeros(X.shape[0])\r\n",
    "        Z3  = self.forward_prop(X,y,update = False)\r\n",
    "        return self.encoder.transform(np.argmax(Z3, axis = 1).reshape(-1,1))"
   ],
   "outputs": [],
   "metadata": {}
  },
  {
   "cell_type": "code",
   "execution_count": 263,
   "source": [
    "model = Scratch3LayerNeural(max_iter = 50,verbose = True, debug = False)\r\n",
    "model.fit(X_train,y_train)"
   ],
   "outputs": [
    {
     "output_type": "stream",
     "name": "stdout",
     "text": [
      "X shape:  (48000, 784) type:  float64\n",
      "Batch count:  2400\n",
      "1st layer:  (784, 400) (1, 400)\n",
      "2nd layer:  (400, 200) (1, 200)\n",
      "3rd layer:  (200, 10) (1, 10)\n",
      "Epoch:  0\n",
      "Loss 0: 0.9730585505601461\n",
      "Acc 0: 0.7410833333333333\n",
      "Epoch:  1\n",
      "Loss 1: 0.5662645997338354\n",
      "Acc 1: 0.8386666666666667\n",
      "Epoch:  2\n",
      "Loss 2: 0.46972467648895977\n",
      "Acc 2: 0.861875\n",
      "Epoch:  3\n",
      "Loss 3: 0.42646045750564054\n",
      "Acc 3: 0.8732291666666666\n",
      "Epoch:  4\n",
      "Loss 4: 0.40044790318682755\n",
      "Acc 4: 0.8806458333333333\n",
      "Epoch:  5\n",
      "Loss 5: 0.38242613915234436\n",
      "Acc 5: 0.8863125\n",
      "Epoch:  6\n",
      "Loss 6: 0.36927912690872094\n",
      "Acc 6: 0.8905208333333333\n",
      "Epoch:  7\n",
      "Loss 7: 0.35938517267585796\n",
      "Acc 7: 0.8935625\n",
      "Epoch:  8\n",
      "Loss 8: 0.3516717634961133\n",
      "Acc 8: 0.8955\n",
      "Epoch:  9\n",
      "Loss 9: 0.34542137504365744\n",
      "Acc 9: 0.8976041666666666\n",
      "Epoch:  10\n",
      "Loss 10: 0.3401738603346912\n",
      "Acc 10: 0.8990625\n",
      "Epoch:  11\n",
      "Loss 11: 0.335639834284997\n",
      "Acc 11: 0.9007083333333333\n",
      "Epoch:  12\n",
      "Loss 12: 0.3316357356005298\n",
      "Acc 12: 0.9021875\n",
      "Epoch:  13\n",
      "Loss 13: 0.32804204616634747\n",
      "Acc 13: 0.9033125\n",
      "Epoch:  14\n",
      "Loss 14: 0.32477703019500714\n",
      "Acc 14: 0.9043541666666667\n",
      "Epoch:  15\n",
      "Loss 15: 0.32178105953845526\n",
      "Acc 15: 0.9050625\n",
      "Epoch:  16\n",
      "Loss 16: 0.3190084588668588\n",
      "Acc 16: 0.9056666666666666\n",
      "Epoch:  17\n",
      "Loss 17: 0.31642324075867834\n",
      "Acc 17: 0.906625\n",
      "Epoch:  18\n",
      "Loss 18: 0.3139964694464472\n",
      "Acc 18: 0.907375\n",
      "Epoch:  19\n",
      "Loss 19: 0.31170445382508327\n",
      "Acc 19: 0.90825\n",
      "Epoch:  20\n",
      "Loss 20: 0.30952748330401786\n",
      "Acc 20: 0.908875\n",
      "Epoch:  21\n",
      "Loss 21: 0.3074489376397643\n",
      "Acc 21: 0.9096875\n",
      "Epoch:  22\n",
      "Loss 22: 0.3054546494643772\n",
      "Acc 22: 0.9104375\n",
      "Epoch:  23\n",
      "Loss 23: 0.303532435251897\n",
      "Acc 23: 0.9111458333333333\n",
      "Epoch:  24\n",
      "Loss 24: 0.30167173966297683\n",
      "Acc 24: 0.9117291666666667\n",
      "Epoch:  25\n",
      "Loss 25: 0.29986335910771106\n",
      "Acc 25: 0.9121666666666667\n",
      "Epoch:  26\n",
      "Loss 26: 0.2980992237027157\n",
      "Acc 26: 0.9127291666666667\n",
      "Epoch:  27\n",
      "Loss 27: 0.29637222420471127\n",
      "Acc 27: 0.9130833333333334\n",
      "Epoch:  28\n",
      "Loss 28: 0.2946760742253251\n",
      "Acc 28: 0.913625\n",
      "Epoch:  29\n",
      "Loss 29: 0.2930052001136634\n",
      "Acc 29: 0.9142708333333334\n",
      "Epoch:  30\n",
      "Loss 30: 0.2913546524292492\n",
      "Acc 30: 0.9147083333333333\n",
      "Epoch:  31\n",
      "Loss 31: 0.2897200341663123\n",
      "Acc 31: 0.9153125\n",
      "Epoch:  32\n",
      "Loss 32: 0.28809744190413655\n",
      "Acc 32: 0.9157083333333333\n",
      "Epoch:  33\n",
      "Loss 33: 0.28648341707889396\n",
      "Acc 33: 0.916125\n",
      "Epoch:  34\n",
      "Loss 34: 0.28487490570657265\n",
      "Acc 34: 0.9168958333333334\n",
      "Epoch:  35\n",
      "Loss 35: 0.28326922584469466\n",
      "Acc 35: 0.9172083333333333\n",
      "Epoch:  36\n",
      "Loss 36: 0.2816640424465187\n",
      "Acc 36: 0.9177708333333333\n",
      "Epoch:  37\n",
      "Loss 37: 0.28005734897838974\n",
      "Acc 37: 0.91825\n",
      "Epoch:  38\n",
      "Loss 38: 0.27844745462383713\n",
      "Acc 38: 0.9188125\n",
      "Epoch:  39\n",
      "Loss 39: 0.27683297554699227\n",
      "Acc 39: 0.9189791666666667\n",
      "Epoch:  40\n",
      "Loss 40: 0.2752128287145813\n",
      "Acc 40: 0.9195208333333333\n",
      "Epoch:  41\n",
      "Loss 41: 0.27358622705821883\n",
      "Acc 41: 0.9199791666666667\n",
      "Epoch:  42\n",
      "Loss 42: 0.2719526750723105\n",
      "Acc 42: 0.9203958333333333\n",
      "Epoch:  43\n",
      "Loss 43: 0.27031196413822767\n",
      "Acc 43: 0.9209583333333333\n",
      "Epoch:  44\n",
      "Loss 44: 0.26866416691547806\n",
      "Acc 44: 0.9212708333333334\n",
      "Epoch:  45\n",
      "Loss 45: 0.26700963009882717\n",
      "Acc 45: 0.921875\n",
      "Epoch:  46\n",
      "Loss 46: 0.2653489647846041\n",
      "Acc 46: 0.9223125\n",
      "Epoch:  47\n",
      "Loss 47: 0.2636830336863717\n",
      "Acc 47: 0.92275\n",
      "Epoch:  48\n",
      "Loss 48: 0.26201293453040464\n",
      "Acc 48: 0.9234375\n",
      "Epoch:  49\n",
      "Loss 49: 0.26033997915711365\n",
      "Acc 49: 0.9238541666666666\n",
      "Final train loss: 0.26033997915711365\n",
      "Final train accuracy: 0.9238541666666666\n"
     ]
    }
   ],
   "metadata": {}
  },
  {
   "cell_type": "markdown",
   "source": [
    "### Accuracy"
   ],
   "metadata": {}
  },
  {
   "cell_type": "code",
   "execution_count": 264,
   "source": [
    "\r\n",
    "pred = model.predict(X_val)\r\n",
    "accuracy = accuracy_score(pred, y_val)\r\n",
    "print('Validation Acc: ', accuracy)"
   ],
   "outputs": [
    {
     "output_type": "stream",
     "name": "stdout",
     "text": [
      "Validation Acc:  0.9209166666666667\n"
     ]
    }
   ],
   "metadata": {}
  },
  {
   "cell_type": "markdown",
   "source": [
    "# Problem 7\r\n",
    "Learning Curve Plot"
   ],
   "metadata": {}
  },
  {
   "cell_type": "code",
   "execution_count": 265,
   "source": [
    "plt.plot(model.loss, label = 'Cross Val Loss')\r\n",
    "plt.plot(model.accuracy, label = 'Accuracy')\r\n",
    "plt.title('Training Score')\r\n",
    "plt.legend()\r\n",
    "plt.show()\r\n",
    "# model.predict(X_test)"
   ],
   "outputs": [
    {
     "output_type": "display_data",
     "data": {
      "text/plain": [
       "<Figure size 432x288 with 1 Axes>"
      ],
      "image/png": "[encoded data removed]"
     },
     "metadata": {
      "needs_background": "light"
     }
    }
   ],
   "metadata": {}
  },
  {
   "cell_type": "markdown",
   "source": [
    "# Problem 8\r\n",
    "Confirmation of misclassification"
   ],
   "metadata": {}
  },
  {
   "cell_type": "code",
   "execution_count": 266,
   "source": [
    "def show_misclassified(y_pred, y_val,X_val):\r\n",
    "    \"\"\"\r\n",
    "    Display word classification results side by side. The display above the image is \"estimated result / correct answer\".\r\n",
    "    Parameters:\r\n",
    "    ----------\r\n",
    "    y_pred : Estimated ndarray (n_samples,)\r\n",
    "    y_val : Correct label of verification data (n_samples,)\r\n",
    "    X_val : Verification data features (n_samples, n_features)\r\n",
    "    \"\"\"\r\n",
    "    import numpy as np\r\n",
    "    import matplotlib.pyplot as plt\r\n",
    "\r\n",
    "    size = 10\r\n",
    "    num = size * size # How many to display\r\n",
    "\r\n",
    "    true_false = y_pred==y_val\r\n",
    "    false_list = np.where(true_false==False)[0].astype(np.int)\r\n",
    "    print('False classification count: ', len(false_list))\r\n",
    "    print('Plot title shows (<Prediction>/<True Value>)')\r\n",
    "    if false_list.shape[0] < num:\r\n",
    "        num = false_list.shape[0]\r\n",
    "    fig = plt.figure(figsize=(size, size))\r\n",
    "    fig.subplots_adjust(left=0, right=0.8,  bottom=0, top=0.8, hspace=1, wspace=0.5)\r\n",
    "    for i in range(num):\r\n",
    "        ax = fig.add_subplot(size, size, i + 1, xticks=[], yticks=[])\r\n",
    "        ax.set_title(\"{} / {}\".format(np.argmax(y_pred[false_list[i]]),np.argmax(y_val[false_list[i]])))\r\n",
    "        ax.imshow(X_val.reshape(-1,28,28)[false_list[i]], cmap='gray')\r\n",
    "show_misclassified(pred, y_val, X_val)"
   ],
   "outputs": [
    {
     "output_type": "stream",
     "name": "stdout",
     "text": [
      "False classification count:  1898\n",
      "Plot title shows (<Prediction>/<True Value>)\n"
     ]
    },
    {
     "output_type": "display_data",
     "data": {
      "text/plain": [
       "<Figure size 720x720 with 100 Axes>"
      ],
      "image/png": "[encoded data removed]"
     },
     "metadata": {}
    }
   ],
   "metadata": {}
  }
 ],
 "metadata": {
  "interpreter": {
   "hash": "106c69d9588fdba85941c6834bb7692c1b1c238c8c166153f5758ea42b09beec"
  },
  "kernelspec": {
   "display_name": "Python 3.9.5 64-bit ('ML': conda)",
   "name": "ml"
  },
  "language_info": {
   "name": "python",
   "version": ""
  },
  "orig_nbformat": 4
 },
 "nbformat": 4,
 "nbformat_minor": 2
}