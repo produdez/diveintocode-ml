{
 "cells": [
  {
   "cell_type": "markdown",
   "metadata": {},
   "source": [
    "# Introduction\r\n",
    "Understand the basics of neural networks from scratch.\r\n",
    "Know how to handle image data\r\n",
    "After implementing a simple neural network from scratch, we will train and validate it."
   ]
  },
  {
   "cell_type": "code",
   "execution_count": 1,
   "metadata": {},
   "outputs": [],
   "source": [
    "#dependencies\r\n",
    "import pandas as pd\r\n",
    "import numpy as np\r\n",
    "import matplotlib.pyplot as plt\r\n",
    "import seaborn as sns"
   ]
  },
  {
   "cell_type": "markdown",
   "metadata": {},
   "source": [
    "# MINIST Dataset"
   ]
  },
  {
   "cell_type": "code",
   "execution_count": 2,
   "metadata": {},
   "outputs": [],
   "source": [
    "from keras.datasets import mnist\r\n",
    "(X_train, y_train), (X_test, y_test) = mnist.load_data()"
   ]
  },
  {
   "cell_type": "code",
   "execution_count": 3,
   "metadata": {},
   "outputs": [
    {
     "name": "stdout",
     "output_type": "stream",
     "text": [
      "(60000, 28, 28)\n",
      "(10000, 28, 28)\n",
      "uint8\n",
      "[[  0   0   0   0   0   0   0   0   0   0   0   0   0   0   0   0   0   0\n",
      "    0   0   0   0   0   0   0   0   0   0]\n",
      " [  0   0   0   0   0   0   0   0   0   0   0   0   0   0   0   0   0   0\n",
      "    0   0   0   0   0   0   0   0   0   0]\n",
      " [  0   0   0   0   0   0   0   0   0   0   0   0   0   0   0   0   0   0\n",
      "    0   0   0   0   0   0   0   0   0   0]\n",
      " [  0   0   0   0   0   0   0   0   0   0   0   0   0   0   0   0   0   0\n",
      "    0   0   0   0   0   0   0   0   0   0]\n",
      " [  0   0   0   0   0   0   0   0   0   0   0   0   0   0   0   0   0   0\n",
      "    0   0   0   0   0   0   0   0   0   0]\n",
      " [  0   0   0   0   0   0   0   0   0   0   0   0   3  18  18  18 126 136\n",
      "  175  26 166 255 247 127   0   0   0   0]\n",
      " [  0   0   0   0   0   0   0   0  30  36  94 154 170 253 253 253 253 253\n",
      "  225 172 253 242 195  64   0   0   0   0]\n",
      " [  0   0   0   0   0   0   0  49 238 253 253 253 253 253 253 253 253 251\n",
      "   93  82  82  56  39   0   0   0   0   0]\n",
      " [  0   0   0   0   0   0   0  18 219 253 253 253 253 253 198 182 247 241\n",
      "    0   0   0   0   0   0   0   0   0   0]\n",
      " [  0   0   0   0   0   0   0   0  80 156 107 253 253 205  11   0  43 154\n",
      "    0   0   0   0   0   0   0   0   0   0]\n",
      " [  0   0   0   0   0   0   0   0   0  14   1 154 253  90   0   0   0   0\n",
      "    0   0   0   0   0   0   0   0   0   0]\n",
      " [  0   0   0   0   0   0   0   0   0   0   0 139 253 190   2   0   0   0\n",
      "    0   0   0   0   0   0   0   0   0   0]\n",
      " [  0   0   0   0   0   0   0   0   0   0   0  11 190 253  70   0   0   0\n",
      "    0   0   0   0   0   0   0   0   0   0]\n",
      " [  0   0   0   0   0   0   0   0   0   0   0   0  35 241 225 160 108   1\n",
      "    0   0   0   0   0   0   0   0   0   0]\n",
      " [  0   0   0   0   0   0   0   0   0   0   0   0   0  81 240 253 253 119\n",
      "   25   0   0   0   0   0   0   0   0   0]\n",
      " [  0   0   0   0   0   0   0   0   0   0   0   0   0   0  45 186 253 253\n",
      "  150  27   0   0   0   0   0   0   0   0]\n",
      " [  0   0   0   0   0   0   0   0   0   0   0   0   0   0   0  16  93 252\n",
      "  253 187   0   0   0   0   0   0   0   0]\n",
      " [  0   0   0   0   0   0   0   0   0   0   0   0   0   0   0   0   0 249\n",
      "  253 249  64   0   0   0   0   0   0   0]\n",
      " [  0   0   0   0   0   0   0   0   0   0   0   0   0   0  46 130 183 253\n",
      "  253 207   2   0   0   0   0   0   0   0]\n",
      " [  0   0   0   0   0   0   0   0   0   0   0   0  39 148 229 253 253 253\n",
      "  250 182   0   0   0   0   0   0   0   0]\n",
      " [  0   0   0   0   0   0   0   0   0   0  24 114 221 253 253 253 253 201\n",
      "   78   0   0   0   0   0   0   0   0   0]\n",
      " [  0   0   0   0   0   0   0   0  23  66 213 253 253 253 253 198  81   2\n",
      "    0   0   0   0   0   0   0   0   0   0]\n",
      " [  0   0   0   0   0   0  18 171 219 253 253 253 253 195  80   9   0   0\n",
      "    0   0   0   0   0   0   0   0   0   0]\n",
      " [  0   0   0   0  55 172 226 253 253 253 253 244 133  11   0   0   0   0\n",
      "    0   0   0   0   0   0   0   0   0   0]\n",
      " [  0   0   0   0 136 253 253 253 212 135 132  16   0   0   0   0   0   0\n",
      "    0   0   0   0   0   0   0   0   0   0]\n",
      " [  0   0   0   0   0   0   0   0   0   0   0   0   0   0   0   0   0   0\n",
      "    0   0   0   0   0   0   0   0   0   0]\n",
      " [  0   0   0   0   0   0   0   0   0   0   0   0   0   0   0   0   0   0\n",
      "    0   0   0   0   0   0   0   0   0   0]\n",
      " [  0   0   0   0   0   0   0   0   0   0   0   0   0   0   0   0   0   0\n",
      "    0   0   0   0   0   0   0   0   0   0]]\n"
     ]
    }
   ],
   "source": [
    "print(X_train.shape) # (60000, 28, 28)\r\n",
    "print(X_test.shape) # (10000, 28, 28)\r\n",
    "print(X_train[0].dtype) # uint8\r\n",
    "print(X_train[0])"
   ]
  },
  {
   "cell_type": "code",
   "execution_count": 4,
   "metadata": {},
   "outputs": [],
   "source": [
    "X_train = X_train.reshape(-1, 784)\r\n",
    "X_test = X_test.reshape(-1, 784)"
   ]
  },
  {
   "cell_type": "markdown",
   "metadata": {},
   "source": [
    "## Data Visualization"
   ]
  },
  {
   "cell_type": "code",
   "execution_count": 7,
   "metadata": {},
   "outputs": [
    {
     "data": {
      "image/png": "[encoded data removed]",
      "text/plain": [
       "<Figure size 432x288 with 1 Axes>"
      ]
     },
     "metadata": {
      "needs_background": "light"
     },
     "output_type": "display_data"
    }
   ],
   "source": [
    "import matplotlib.pyplot as plt\r\n",
    "%matplotlib inline\r\n",
    "index = 0\r\n",
    "image = X_train[index].reshape(28,28)\r\n",
    "# X_train[index]: (784,)\r\n",
    "# image: (28, 28)\r\n",
    "plt.imshow(image, 'gray')\r\n",
    "plt.title('label : {}'.format(y_train[index]))\r\n",
    "plt.show()"
   ]
  },
  {
   "cell_type": "markdown",
   "metadata": {},
   "source": [
    "### Weird negative case that is not handled!"
   ]
  },
  {
   "cell_type": "code",
   "execution_count": 9,
   "metadata": {},
   "outputs": [
    {
     "data": {
      "image/png": "[encoded data removed]",
      "text/plain": [
       "<Figure size 432x288 with 1 Axes>"
      ]
     },
     "metadata": {
      "needs_background": "light"
     },
     "output_type": "display_data"
    }
   ],
   "source": [
    "index = 0\r\n",
    "image = X_train[index].reshape(28,28)\r\n",
    "image = image.astype(np.float) # Convert to float type\r\n",
    "image -= 105.35 # Intentionally try to create a negative decimal value\r\n",
    "plt.imshow(image, 'gray')\r\n",
    "plt.title('label : {}'.format(y_train[index]))\r\n",
    "plt.show()\r\n",
    "# print(image) # Check the value"
   ]
  },
  {
   "cell_type": "markdown",
   "metadata": {},
   "source": [
    "### Fix with auto scale to 0-255"
   ]
  },
  {
   "cell_type": "code",
   "execution_count": 10,
   "metadata": {},
   "outputs": [
    {
     "data": {
      "text/plain": [
       "<matplotlib.image.AxesImage at 0x1948a778b80>"
      ]
     },
     "execution_count": 10,
     "metadata": {},
     "output_type": "execute_result"
    },
    {
     "data": {
      "image/png": "[encoded data removed]",
      "text/plain": [
       "<Figure size 432x288 with 1 Axes>"
      ]
     },
     "metadata": {
      "needs_background": "light"
     },
     "output_type": "display_data"
    }
   ],
   "source": [
    "plt.imshow(image, 'gray', vmin = 0, vmax = 255)"
   ]
  },
  {
   "cell_type": "markdown",
   "metadata": {},
   "source": [
    "## Preprocessing\r\n"
   ]
  },
  {
   "cell_type": "code",
   "execution_count": 11,
   "metadata": {},
   "outputs": [
    {
     "name": "stdout",
     "output_type": "stream",
     "text": [
      "1.0\n",
      "0.0\n"
     ]
    }
   ],
   "source": [
    "#scaling\r\n",
    "X_train = X_train.astype(np.float)\r\n",
    "X_test = X_test.astype(np.float)\r\n",
    "X_train /= 255\r\n",
    "X_test /= 255\r\n",
    "print(X_train.max()) # 1.0\r\n",
    "print(X_train.min()) # 0.0"
   ]
  },
  {
   "cell_type": "code",
   "execution_count": 16,
   "metadata": {},
   "outputs": [
    {
     "name": "stdout",
     "output_type": "stream",
     "text": [
      "(48000,)\n",
      "(48000, 10)\n",
      "float64\n"
     ]
    }
   ],
   "source": [
    "#one hot encode for multiclass labels!\r\n",
    "from sklearn.preprocessing import OneHotEncoder\r\n",
    "enc = OneHotEncoder(handle_unknown='ignore', sparse=False)\r\n",
    "y_train_one_hot = enc.fit_transform(y_train[:, np.newaxis])\r\n",
    "y_test_one_hot = enc.transform(y_test[:, np.newaxis])\r\n",
    "print(y_train.shape) # (60000,)\r\n",
    "print(y_train_one_hot.shape) # (60000, 10)\r\n",
    "print(y_train_one_hot.dtype) # float64"
   ]
  },
  {
   "cell_type": "code",
   "execution_count": 17,
   "metadata": {},
   "outputs": [
    {
     "name": "stdout",
     "output_type": "stream",
     "text": [
      "(38400, 784)\n",
      "(9600, 784)\n"
     ]
    }
   ],
   "source": [
    "#validation split\r\n",
    "from sklearn.model_selection import train_test_split\r\n",
    "X_train, X_val, y_train, y_val = train_test_split(X_train, y_train, test_size=0.2)\r\n",
    "print(X_train.shape) # (48000, 784)\r\n",
    "print(X_val.shape) # (12000, 784)"
   ]
  },
  {
   "cell_type": "markdown",
   "metadata": {},
   "source": [
    "# Mini Batch"
   ]
  },
  {
   "cell_type": "code",
   "execution_count": 18,
   "metadata": {},
   "outputs": [],
   "source": [
    "class GetMiniBatch:\r\n",
    "    \"\"\"\r\n",
    "Iterator to get a mini-batch\r\n",
    "    Parameters\r\n",
    "    ----------\r\n",
    "    X : The following forms of ndarray, shape (n_samples, n_features)\r\n",
    "      Training data\r\n",
    "    y : The following form of ndarray, shape (n_samples, 1)\r\n",
    "      Correct answer value\r\n",
    "    batch_size : int\r\n",
    "      Batch size\r\n",
    "    seed : int\r\n",
    "      NumPy random number seed\r\n",
    "    \"\"\"\r\n",
    "    def __init__(self, X, y, batch_size = 20, seed=0):\r\n",
    "        self.batch_size = batch_size\r\n",
    "        np.random.seed(seed)\r\n",
    "        shuffle_index = np.random.permutation(np.arange(X.shape[0]))\r\n",
    "        self._X = X[shuffle_index]\r\n",
    "        self._y = y[shuffle_index]\r\n",
    "        self._stop = np.ceil(X.shape[0]/self.batch_size).astype(np.int)\r\n",
    "    def __len__(self):\r\n",
    "        return self._stop\r\n",
    "    def __getitem__(self,item):\r\n",
    "        p0 = item*self.batch_size\r\n",
    "        p1 = item*self.batch_size + self.batch_size\r\n",
    "        return self._X[p0:p1], self._y[p0:p1]        \r\n",
    "    def __iter__(self):\r\n",
    "        self._counter = 0\r\n",
    "        return self\r\n",
    "    def __next__(self):\r\n",
    "        if self._counter >= self._stop:\r\n",
    "            raise StopIteration()\r\n",
    "        p0 = self._counter*self.batch_size\r\n",
    "        p1 = self._counter*self.batch_size + self.batch_size\r\n",
    "        self._counter += 1\r\n",
    "        return self._X[p0:p1], self._y[p0:p1]"
   ]
  },
  {
   "cell_type": "code",
   "execution_count": 22,
   "metadata": {},
   "outputs": [
    {
     "name": "stdout",
     "output_type": "stream",
     "text": [
      "1920\n",
      "(array([[0., 0., 0., ..., 0., 0., 0.],\n",
      "       [0., 0., 0., ..., 0., 0., 0.],\n",
      "       [0., 0., 0., ..., 0., 0., 0.],\n",
      "       ...,\n",
      "       [0., 0., 0., ..., 0., 0., 0.],\n",
      "       [0., 0., 0., ..., 0., 0., 0.],\n",
      "       [0., 0., 0., ..., 0., 0., 0.]]), array([1, 7, 9, 0, 5, 4, 6, 2, 4, 3, 1, 5, 1, 4, 4, 0, 7, 7, 9, 1],\n",
      "      dtype=uint8))\n"
     ]
    }
   ],
   "source": [
    "#test minibatch\r\n",
    "get_mini_batch = GetMiniBatch(X_train, y_train, batch_size=20)\r\n",
    "print(len(get_mini_batch)) # 2400\r\n",
    "print(get_mini_batch[5]) # You can get the 5th mini batch\r\n",
    "for mini_X_train, mini_y_train in get_mini_batch:\r\n",
    "    # You can use a mini batch in this for statement\r\n",
    "    # print('Batch shape: ', mini_X_train.shape, mini_y_train.shape)\r\n",
    "    pass"
   ]
  },
  {
   "cell_type": "markdown",
   "metadata": {},
   "source": [
    "# Problem 1\r\n",
    "Creating a code to determine the initial weight value"
   ]
  },
  {
   "cell_type": "markdown",
   "metadata": {},
   "source": [
    "# TODO!"
   ]
  }
 ],
 "metadata": {
  "interpreter": {
   "hash": "106c69d9588fdba85941c6834bb7692c1b1c238c8c166153f5758ea42b09beec"
  },
  "kernelspec": {
   "display_name": "Python 3.9.5 64-bit",
   "name": "ml"
  },
  "language_info": {
   "codemirror_mode": {
    "name": "ipython",
    "version": 3
   },
   "file_extension": ".py",
   "mimetype": "text/x-python",
   "name": "python",
   "nbconvert_exporter": "python",
   "pygments_lexer": "ipython3",
   "version": "3.9.5"
  },
  "orig_nbformat": 4
 },
 "nbformat": 4,
 "nbformat_minor": 2
}