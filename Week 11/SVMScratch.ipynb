{
 "cells": [
  {
   "cell_type": "markdown",
   "metadata": {},
   "source": [
    "# Introduction\n",
    "We will create a class of support vector machine (SVM, support vector machine) for classification by scratch. We will implement the algorithm using only the minimum library such as NumPy.\n",
    "\n",
    "\n",
    "There are soft margin SVMs that allow classification errors during learning and hard margin SVMs that do not, but here we will deal with hard margin SVMs that are simple to implement.\n",
    "\n"
   ]
  },
  {
   "cell_type": "code",
   "execution_count": 1,
   "metadata": {},
   "outputs": [],
   "source": [
    "#predefines and imports\n",
    "import numpy as np\n",
    "import seaborn as sns\n",
    "import matplotlib.pyplot as plt\n",
    "import pandas as pd"
   ]
  },
  {
   "cell_type": "markdown",
   "metadata": {},
   "source": [
    "# Prototype"
   ]
  },
  {
   "cell_type": "code",
   "execution_count": 68,
   "metadata": {},
   "outputs": [],
   "source": [
    "class ScratchSVMClassifier():\n",
    "    \"\"\"\n",
    "    Scratch implementation of SVM classifier\n",
    "    Parameters\n",
    "    ----------\n",
    "    num_iter : int\n",
    "      Number of iterations\n",
    "    lr : float\n",
    "      Learning rate\n",
    "    kernel : str\n",
    "      Kernel type. Linear kernel (linear) or polynomial kernel (polly)\n",
    "    threshold : float\n",
    "      Threshold for choosing a support vector\n",
    "    verbose : bool\n",
    "      True to output the learning process\n",
    "    Attributes\n",
    "    ----------\n",
    "    self.n_support_vectors : int\n",
    "      Number of support vectors\n",
    "    self.index_support_vectors : The following form of ndarray, shape (n_support_vectors,)\n",
    "      Support vector index\n",
    "    self.X_sv :  The following forms of ndarray, shape (n_support_vectors, n_features)\n",
    "      Support vector features\n",
    "    self.lam_sv :  The following forms of ndarray, shape (n_support_vectors, 1)\n",
    "      Support vector undetermined multiplier\n",
    "    self.y_sv :  The following forms of ndarray, shape (n_support_vectors, 1)\n",
    "      Support vector label\n",
    "    \"\"\"\n",
    "    def __init__(self, num_iter, lr, kernel='linear', threshold=1e-5, verbose=False, debug = False):\n",
    "        # Record hyperparameters as attributes\n",
    "        self.iter = num_iter\n",
    "        self.lr = lr\n",
    "        self.kernel = kernel\n",
    "        self.threshold = threshold\n",
    "        self.verbose = verbose\n",
    "        self.debug = debug\n",
    "    def kernel_function(self,Xi,Xj):\n",
    "      if self.kernel == 'linear':\n",
    "        return Xi @ Xj.T\n",
    "      if self.kernel == 'poli':\n",
    "        return None\n",
    "    def fit(self, X, y, X_val=None, y_val=None):\n",
    "\n",
    "        #Prep part\n",
    "        np.random.seed(2000)\n",
    "        self.lagrange_multiplier = np.random.rand(X.shape[0], 1) #this can be dim 1 or 0\n",
    "        y = y.reshape(-1,1)\n",
    "        y_val = y_val.reshape(-1,1) if y_val else None\n",
    "\n",
    "        if self.verbose:\n",
    "          print('Xshape: ', X.shape, 'yshape: ', y.shape)\n",
    "          if X_val:\n",
    "            print('XValshape: ', X_val.shape, 'yvalshape: ', y_val.shape)\n",
    "        \n",
    "        #Learn part\n",
    "        if self.debug:\n",
    "          print('Origin lagrange_multiplier: ')\n",
    "          print(self.lagrange_multiplier)\n",
    "        for i in range(self.iter):\n",
    "          # print('Before: ', self.lagrange_multiplier)\n",
    "          self.lagrange_multiplier = self.update_lagrange(X,y)\n",
    "          # print('After: ', self.lagrange_multiplier)     \n",
    "          # Validation part\n",
    "          self.validate(X_val,y_val)    \n",
    "        \n",
    "        #get sv part\n",
    "        sv_index = []\n",
    "        for idx, l in enumerate(self.lagrange_multiplier):\n",
    "          if l > self.threshold: sv_index.append(idx)\n",
    "        self.support_vectors_ = X[sv_index]\n",
    "        self.n_support_vectors = len(sv_index)\n",
    "        self.sv_lagrange = self.lagrange_multiplier[sv_index]\n",
    "        self.sv_labels = y[sv_index]\n",
    "\n",
    "\n",
    "        # verbose part\n",
    "        if self.verbose:\n",
    "            result = pd.DataFrame({\n",
    "              # 'SV Index': np.array(sv_index).reshape(-1,1),\n",
    "              'support_vectors':[str(x) for x in self.support_vectors_],\n",
    "              'label': self.sv_labels.ravel(),\n",
    "            }, index = sv_index)\n",
    "            print('Number of SVs: ', self.n_support_vectors)\n",
    "            print(result)\n",
    "            print('Training Score: ', None)\n",
    "            print('Validation Score: ', None)\n",
    "            if self.debug: print('LagrangeMultiplier: ', self.lagrange_multiplier)\n",
    "    def validate(self,X_val,y_val): pass\n",
    "    def update_lagrange(self,X,y):\n",
    "      lm = self.lagrange_multiplier\n",
    "      for i in range(lm.shape[0]): #! update each lagrange multiple for each X_sample\n",
    "        temp = 0\n",
    "        #calc sum\n",
    "        for j in range(lm.shape[0]):\n",
    "          # if i == j: continue\n",
    "          temp += lm[j] * y[j] * self.kernel_function(X[i],X[j])\n",
    "        gradient_i = 1 - y[i] * temp\n",
    "        #update\n",
    "        lm[i] = max(0,lm[i] + self.lr * gradient_i)\n",
    "      if self.debug:\n",
    "        print('new lagrange_multiplier: ')\n",
    "        print(lm)\n",
    "      return lm \n",
    "\n",
    "    def predict(self, X):\n",
    "        \n",
    "        #prep\n",
    "        result = np.zeros((X.shape[0],1))\n",
    "\n",
    "        #predict \n",
    "        for i in range(X.shape[0]):\n",
    "          result[i] = self.predict_x(X[i])\n",
    "        return result\n",
    "    def predict_x(self,x):\n",
    "      fx = 0\n",
    "      for i in range(self.n_support_vectors):\n",
    "        fx += self.sv_lagrange[i] * self.sv_labels[i] * self.kernel_function(x, self.support_vectors_[i])\n",
    "      sign = lambda x:  1 if x > 0 else -1\n",
    "      return sign(fx)"
   ]
  },
  {
   "cell_type": "markdown",
   "metadata": {},
   "source": [
    "# My Test"
   ]
  },
  {
   "cell_type": "code",
   "execution_count": 69,
   "metadata": {},
   "outputs": [
    {
     "name": "stdout",
     "output_type": "stream",
     "text": [
      "Xshape:  (4, 2) yshape:  (4, 1)\n",
      "Number of SVs:  3\n",
      "  support_vectors  label\n",
      "0           [1 1]     -1\n",
      "1           [2 1]     -1\n",
      "3           [2 2]      1\n",
      "Training Score:  None\n",
      "Validation Score:  None\n",
      "Prediction:  [[ 1.]\n",
      " [-1.]\n",
      " [ 1.]\n",
      " [ 1.]]\n",
      "----------------------\n",
      "[LibSVM]SV: \n",
      "[[1. 1.]\n",
      " [2. 1.]\n",
      " [1. 2.]\n",
      " [2. 2.]]\n",
      "Lambda: \n",
      "[[1. 1. 1. 1.]]\n"
     ]
    }
   ],
   "source": [
    "# ! simple test!\n",
    "\n",
    "from sklearn.svm import SVC\n",
    "ssvm = ScratchSVMClassifier(1000,0.1,verbose = True,debug = False)\n",
    "x = np.array([[1,1],\n",
    "    [2,1],\n",
    "    [1,2],\n",
    "    [2,2]])\n",
    "y = np.array([-1,-1,1,1])\n",
    "ssvm.fit(x,y)\n",
    "print('Prediction: ',ssvm.predict(x))\n",
    "\n",
    "\n",
    "print('----------------------')\n",
    "svc = SVC(kernel = 'linear', max_iter = 1000, verbose = True, tol = 1e-5)\n",
    "svc.fit(x,y)\n",
    "svc.predict(x)\n",
    "print('SV: ')\n",
    "print (svc.support_vectors_)\n",
    "print('Lambda: ')\n",
    "print(np.abs(svc.dual_coef_))"
   ]
  },
  {
   "cell_type": "markdown",
   "metadata": {},
   "source": [
    "# Problem 1,2,3\n",
    "Gradient, SV determination, Estimation, Validation"
   ]
  },
  {
   "cell_type": "code",
   "execution_count": 70,
   "metadata": {},
   "outputs": [
    {
     "name": "stdout",
     "output_type": "stream",
     "text": [
      "Xshape:  (400, 2) yshape:  (400, 1)\n",
      "Number of SVs:  11\n",
      "               support_vectors  label\n",
      "17   [ 0.95883548 -0.42178667]     -1\n",
      "90   [-0.03216445  1.71398505]      1\n",
      "105  [-0.34408497  1.31133472]      1\n",
      "182    [0.87647173 2.56307107]      1\n",
      "186  [-0.6439502   1.05722492]      1\n",
      "236    [1.95685959 0.21221127]     -1\n",
      "282    [1.71392653 0.10694699]     -1\n",
      "307  [-0.55980595  1.00527315]      1\n",
      "355  [-0.68857552 -2.3249237 ]     -1\n",
      "389    [2.47677571 0.86057603]     -1\n",
      "392  [-0.60267959  1.39367004]      1\n",
      "Training Score:  None\n",
      "Validation Score:  None\n",
      "[[52  0]\n",
      " [ 0 48]]\n",
      "[LibSVM][[52  0]\n",
      " [ 0 48]]\n"
     ]
    }
   ],
   "source": [
    "# Simple dataset:\n",
    "n_samples = 500\n",
    "f0 = [-1, 2]\n",
    "f1 = [2, -1]\n",
    "cov = [[1.0,0.8], [0.8, 1.0]]\n",
    "f0 = np.random.multivariate_normal(f0, cov, n_samples // 2)\n",
    "f1 = np.random.multivariate_normal(f1, cov, n_samples // 2)\n",
    "X = np.concatenate([f0, f1])\n",
    "y = np.concatenate([\n",
    "    np.full(n_samples // 2, 1),\n",
    "    np.full(n_samples // 2, -1)\n",
    "])\n",
    "\n",
    "\n",
    "# test\n",
    "\n",
    "print('My result: ')\n",
    "from sklearn.model_selection import train_test_split\n",
    "from sklearn.metrics import confusion_matrix\n",
    "x_train,x_test,y_train,y_test = train_test_split(X,y, test_size = 0.2)\n",
    "model = ScratchSVMClassifier(100,0.01,verbose = True)\n",
    "model.fit(x_train,y_train)\n",
    "pred = model.predict(x_test)\n",
    "print(confusion_matrix(pred,y_test))\n",
    "\n",
    "\n",
    "print('Sklearn Result:')\n",
    "svc.fit(x_train,y_train)\n",
    "pred = svc.predict(x_test)\n",
    "print(confusion_matrix(pred, y_test))\n",
    "print('SV: ')\n",
    "print (svc.support_vectors_)\n",
    "print('Lambda: ')\n",
    "print(np.abs(svc.dual_coef_))"
   ]
  },
  {
   "cell_type": "markdown",
   "metadata": {},
   "source": [
    "# Problem 5\n",
    "Visualize Hyperplane"
   ]
  },
  {
   "cell_type": "code",
   "execution_count": 71,
   "metadata": {},
   "outputs": [],
   "source": [
    "import matplotlib.pyplot as plt\n",
    "from matplotlib.colors import ListedColormap\n",
    "import matplotlib.patches as mpatches\n",
    "def decision_region(X, y, model, step=0.01, title='decision region', xlabel='xlabel', ylabel='ylabel', target_names=['versicolor', 'virginica']):\n",
    "    # settings\n",
    "    scatter_color = ['red', 'blue']\n",
    "    contourf_color =  ['pink', 'skyblue']\n",
    "    n_class = 2\n",
    "\n",
    "    # prepare meshgrid\n",
    "    mesh_f0, mesh_f1  = np.meshgrid(np.arange(np.min(X[:,0])-0.5, np.max(X[:,0])+0.5, step), np.arange(np.min(X[:,1])-0.5, np.max(X[:,1])+0.5, step))\n",
    "    mesh = np.c_[np.ravel(mesh_f0),np.ravel(mesh_f1)]\n",
    "\n",
    "    # predict\n",
    "    y_pred = model.predict(mesh).reshape(mesh_f0.shape)\n",
    "\n",
    "    #plot\n",
    "    plt.title(title)\n",
    "    plt.xlabel(xlabel)\n",
    "    plt.ylabel(ylabel)\n",
    "    plt.contourf(mesh_f0, mesh_f1, y_pred, n_class-1, cmap=ListedColormap(contourf_color))\n",
    "    plt.contour(mesh_f0, mesh_f1, y_pred, n_class-1, colors='y', linewidths=3, alpha=0.5)\n",
    "\n",
    "    for i, target in enumerate(set(y)):\n",
    "        plt.scatter(X[y==target][:, 0], X[y==target][:, 1], s=80, color=scatter_color[i], label=target_names[i], marker='o')\n",
    "    #!plot svs\n",
    "    plt.scatter(model.support_vectors_[:,0], model.support_vectors_[:,1],color = 'yellow',s=80, label = 'SV')\n",
    "    patches = [mpatches.Patch(color=scatter_color[i], label=target_names[i]) for i in range(n_class)]\n",
    "    plt.legend(handles=patches)\n",
    "    plt.legend()\n",
    "    plt.show()"
   ]
  },
  {
   "cell_type": "code",
   "execution_count": 72,
   "metadata": {},
   "outputs": [
    {
     "name": "stdout",
     "output_type": "stream",
     "text": [
      "My model: \n"
     ]
    },
    {
     "data": {
      "image/png": "[encoded data removed]",
      "text/plain": [
       "<Figure size 432x288 with 1 Axes>"
      ]
     },
     "metadata": {
      "needs_background": "light"
     },
     "output_type": "display_data"
    },
    {
     "name": "stdout",
     "output_type": "stream",
     "text": [
      "Sklearn: \n"
     ]
    },
    {
     "data": {
      "image/png": "[encoded data removed]",
      "text/plain": [
       "<Figure size 432x288 with 1 Axes>"
      ]
     },
     "metadata": {
      "needs_background": "light"
     },
     "output_type": "display_data"
    }
   ],
   "source": [
    "print('My model: ')\n",
    "decision_region(x_test,y_test,model,target_names = ['-1', '1'])\n",
    "print('Sklearn: ')\n",
    "decision_region(x_test,y_test,svc, target_names = ['-1', '1'])"
   ]
  },
  {
   "cell_type": "code",
   "execution_count": 64,
   "metadata": {},
   "outputs": [
    {
     "data": {
      "text/plain": [
       "array([[1, 1],\n",
       "       [2, 1],\n",
       "       [2, 2]])"
      ]
     },
     "execution_count": 64,
     "metadata": {},
     "output_type": "execute_result"
    }
   ],
   "source": []
  }
 ],
 "metadata": {
  "kernelspec": {
   "display_name": "Python 3.8.5 64-bit",
   "name": "ml"
  },
  "language_info": {
   "codemirror_mode": {
    "name": "ipython",
    "version": 3
   },
   "file_extension": ".py",
   "mimetype": "text/x-python",
   "name": "python",
   "nbconvert_exporter": "python",
   "pygments_lexer": "ipython3",
   "version": "3.8.5"
  },
  "orig_nbformat": 2
 },
 "nbformat": 4,
 "nbformat_minor": 2
}