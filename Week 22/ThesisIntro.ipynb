{
 "cells": [
  {
   "cell_type": "markdown",
   "metadata": {},
   "source": [
    "# Introduction\n",
    "Read and summarize 5 paper in interested field"
   ]
  },
  {
   "cell_type": "markdown",
   "metadata": {},
   "source": [
    "# Chosen field\n",
    "### Facial Recognition\n",
    "Focus on current trend and what is being done in this field"
   ]
  },
  {
   "cell_type": "markdown",
   "metadata": {},
   "source": [
    "# Papers\n",
    "1. Masked Face Recognition Dataset and Application [Link](https://arxiv.org/abs/2003.09093)\n",
    "2. Data Uncertainty Learning in Face Recognition [Link](https://openaccess.thecvf.com/content_CVPR_2020/html/Chang_Data_Uncertainty_Learning_in_Face_Recognition_CVPR_2020_paper.html)\n",
    "3. Masked Face Recognition Challenge: The InsightFace Track Report [Link](https://openaccess.thecvf.com/content/ICCV2021W/MFR/html/Deng_Masked_Face_Recognition_Challenge_The_InsightFace_Track_Report_ICCVW_2021_paper.html)\n",
    "4. Learning Meta Face Recognition in Unseen Domains [Link](https://openaccess.thecvf.com/content_CVPR_2020/html/Guo_Learning_Meta_Face_Recognition_in_Unseen_Domains_CVPR_2020_paper.html)\n",
    "5. A Review of Face Recognition Technology [Link](https://ieeexplore.ieee.org/abstract/document/9145558)"
   ]
  },
  {
   "cell_type": "markdown",
   "metadata": {},
   "source": [
    "# Paper 1\n",
    "Masked Face Recognition Dataset and Application"
   ]
  },
  {
   "cell_type": "markdown",
   "metadata": {},
   "source": [
    "## Paper Reason\n",
    "- Current covid situation\n",
    "- Provide some dataset for usage in current time for training mask recognition\n",
    "\n",
    "## Why this paper?\n",
    "Cause the abstract mention a current problem:\n",
    "- Covid -> mask recognition\n",
    "- The absent of training data set on current field"
   ]
  },
  {
   "cell_type": "markdown",
   "metadata": {},
   "source": [
    "## Brief\n",
    "\n",
    "### Problem with data set\n",
    "- Two related tasks: facemask rec and masked face rec\n",
    "- face mask rec needs face with mask or not\n",
    "- masked face need many different faces with or without mask\n",
    "\n",
    "### Proposed data set\n",
    "- Masked Face Detection Dataset (MFDD)\n",
    "- Real-world Masked Face Recognition Dataset (RMFRD)\n",
    "- Simulated Masked Face Recognition Dataset (SMFRD).\n",
    "More detail\n",
    "- MFDD: from previous researches and crawling + labeling\n",
    "- RMFRD: similar but from PUBLIC figures, with about 255 people and 5% of the pictures are masked\n",
    "- SMFRD: simulate and put masks on big facial dataset\n",
    "\n",
    "### Experimental idea\n",
    "Make use of\n",
    "- Dataset\n",
    "- Mask\n",
    "- Uncover facial features (eye, hair)\n",
    "\n",
    "### Result\n",
    "Their model got 95%, improved from 50% when trained without the current dataset"
   ]
  },
  {
   "cell_type": "markdown",
   "metadata": {},
   "source": [
    "# Paper 2\n",
    "Data Uncertainty Learning in Face Recognition"
   ]
  },
  {
   "cell_type": "markdown",
   "metadata": {},
   "source": [
    "## Paper Reason\n",
    "- Face recognition techniques currently mostly see a picture as a point in space only\n",
    "- Author want to see a picture as a distribution in space\n",
    "- Improve data uncertainty learning in face recognition since it's inherently noisy in real images\n",
    "## Why this paper?\n",
    "- It's quite random but i still decide to skim it"
   ]
  },
  {
   "cell_type": "markdown",
   "metadata": {},
   "source": [
    "### Quick compare\n",
    "- Traditional work: a sample is a point\n",
    "- Previous work to this one: a sample is a distribution, but the model only learns from variance\n",
    "- This model: sample is distribution, learn both mean and variance\n",
    "**Selling point: apply data uncertainty to face rec and learn both mean + variance simultaniously**\n",
    "\n",
    "### Proposed models (2)\n",
    "- Classification based\n",
    "- Regression based\n",
    "**I dont get the models so i wont describe them**\n",
    "\n",
    "### Comparison\n",
    "1. Compare backbone ResNet18 with different implementation: Very good constantly\n",
    "2. Compare with previous uncertainty model: Better\n",
    "3. Compare with state of the art: Similar\n",
    "4. Author also shows that model is more robust on noisy data"
   ]
  },
  {
   "cell_type": "markdown",
   "metadata": {},
   "source": [
    "# Paper 3\n",
    "Masked Face Recognition Challenge: The InsightFace Track Report"
   ]
  },
  {
   "cell_type": "markdown",
   "metadata": {},
   "source": [
    "### Reason and Why choose\n",
    "This is a benchmark system for facial masking recognition"
   ]
  },
  {
   "cell_type": "markdown",
   "metadata": {},
   "source": [
    "## Brief \n",
    "\n",
    "### Data\n",
    "- employ existing data sets (MS1M and Glint360k) for traing\n",
    "- Test set is manual crawl (masked/children and multi-racial test sets)\n",
    "-> 2 train set and 3 test sets\n",
    "### Method\n",
    "- Author:\n",
    "  - Provide base code framework for contestant to use\n",
    "  - Provide dataset for train/test\n",
    "  - Provide server for validation\n",
    "  - Provide baseline model for baseline evaluation\n",
    "- Contestants:\n",
    "  - Build their model and submit\n",
    "### Result\n",
    "- A nice benchmarking system for masked face"
   ]
  },
  {
   "cell_type": "markdown",
   "metadata": {},
   "source": [
    "# Paper 4\n",
    "Learning Meta Face Recognition in Unseen Domains"
   ]
  },
  {
   "cell_type": "markdown",
   "metadata": {},
   "source": []
  }
 ],
 "metadata": {
  "language_info": {
   "name": "python"
  },
  "orig_nbformat": 4
 },
 "nbformat": 4,
 "nbformat_minor": 2
}
