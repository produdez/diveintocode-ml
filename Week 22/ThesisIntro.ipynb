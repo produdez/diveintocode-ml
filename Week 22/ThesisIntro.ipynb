{
 "cells": [
  {
   "cell_type": "markdown",
   "metadata": {},
   "source": [
    "# Introduction\n",
    "Read and summarize 5 paper in interested field"
   ]
  },
  {
   "cell_type": "markdown",
   "metadata": {},
   "source": [
    "# Chosen field\n",
    "### Facial Recognition\n",
    "Focus on current trend and what is being done in this field"
   ]
  },
  {
   "cell_type": "markdown",
   "metadata": {},
   "source": [
    "# Papers\n",
    "1. Masked Face Recognition Dataset and Application [Link](https://arxiv.org/abs/2003.09093)\n",
    "2. Data Uncertainty Learning in Face Recognition [Link](https://openaccess.thecvf.com/content_CVPR_2020/html/Chang_Data_Uncertainty_Learning_in_Face_Recognition_CVPR_2020_paper.html)\n",
    "3. Masked Face Recognition Challenge: The InsightFace Track Report [Link](https://openaccess.thecvf.com/content/ICCV2021W/MFR/html/Deng_Masked_Face_Recognition_Challenge_The_InsightFace_Track_Report_ICCVW_2021_paper.html)\n",
    "4. Learning Meta Face Recognition in Unseen Domains [Link](https://openaccess.thecvf.com/content_CVPR_2020/html/Guo_Learning_Meta_Face_Recognition_in_Unseen_Domains_CVPR_2020_paper.html)\n",
    "5. A Review of Face Recognition Technology [Link](https://ieeexplore.ieee.org/abstract/document/9145558)"
   ]
  },
  {
   "cell_type": "markdown",
   "metadata": {},
   "source": [
    "# Paper 1\n",
    "Masked Face Recognition Dataset and Application"
   ]
  },
  {
   "cell_type": "markdown",
   "metadata": {},
   "source": [
    "## Paper Reason\n",
    "- Current covid situation\n",
    "- Provide some dataset for usage in current time for training mask recognition\n",
    "\n",
    "## Why this paper?\n",
    "Cause the abstract mention a current problem:\n",
    "- Covid -> mask recognition\n",
    "- The absent of training data set on current field"
   ]
  },
  {
   "cell_type": "markdown",
   "metadata": {},
   "source": [
    "## Brief\n",
    "\n",
    "### Problem with data set\n",
    "- Two related tasks: facemask rec and masked face rec\n",
    "- face mask rec needs face with mask or not\n",
    "- masked face need many different faces with or without mask\n",
    "\n",
    "### Proposed data set\n",
    "- Masked Face Detection Dataset (MFDD)\n",
    "- Real-world Masked Face Recognition Dataset (RMFRD)\n",
    "- Simulated Masked Face Recognition Dataset (SMFRD).\n",
    "More detail\n",
    "- MFDD: from previous researches and crawling + labeling\n",
    "- RMFRD: similar but from PUBLIC figures, with about 255 people and 5% of the pictures are masked\n",
    "- SMFRD: simulate and put masks on big facial dataset\n",
    "\n",
    "### Experimental idea\n",
    "Make use of\n",
    "- Dataset\n",
    "- Mask\n",
    "- Uncover facial features (eye, hair)\n",
    "\n",
    "### Result\n",
    "Their model got 95%, improved from 50% when trained without the current dataset"
   ]
  },
  {
   "cell_type": "markdown",
   "metadata": {},
   "source": [
    "# Paper 2\n",
    "Data Uncertainty Learning in Face Recognition"
   ]
  },
  {
   "cell_type": "markdown",
   "metadata": {},
   "source": [
    "## Paper Reason\n",
    "- Face recognition techniques currently mostly see a picture as a point in space only\n",
    "- Author want to see a picture as a distribution in space\n",
    "- Improve data uncertainty learning in face recognition since it's inherently noisy in real images\n",
    "## Why this paper?\n",
    "- It's quite random but i still decide to skim it"
   ]
  },
  {
   "cell_type": "markdown",
   "metadata": {},
   "source": [
    "### Quick compare\n",
    "- Traditional work: a sample is a point\n",
    "- Previous work to this one: a sample is a distribution, but the model only learns from variance\n",
    "- This model: sample is distribution, learn both mean and variance\n",
    "**Selling point: apply data uncertainty to face rec and learn both mean + variance simultaniously**\n",
    "\n",
    "### Proposed models (2)\n",
    "- Classification based\n",
    "- Regression based\n",
    "**I dont get the models so i wont describe them**\n",
    "\n",
    "### Comparison\n",
    "1. Compare backbone ResNet18 with different implementation: Very good constantly\n",
    "2. Compare with previous uncertainty model: Better\n",
    "3. Compare with state of the art: Similar\n",
    "4. Author also shows that model is more robust on noisy data"
   ]
  },
  {
   "cell_type": "markdown",
   "metadata": {},
   "source": [
    "# Paper 3\n",
    "Masked Face Recognition Challenge: The InsightFace Track Report"
   ]
  },
  {
   "cell_type": "markdown",
   "metadata": {},
   "source": [
    "### Reason and Why choose\n",
    "This is a benchmark system for facial masking recognition"
   ]
  },
  {
   "cell_type": "markdown",
   "metadata": {},
   "source": [
    "## Brief \n",
    "\n",
    "### Data\n",
    "- employ existing data sets (MS1M and Glint360k) for traing\n",
    "- Test set is manual crawl (masked/children and multi-racial test sets)\n",
    "-> 2 train set and 3 test sets\n",
    "### Method\n",
    "- Author:\n",
    "  - Provide base code framework for contestant to use\n",
    "  - Provide dataset for train/test\n",
    "  - Provide server for validation\n",
    "  - Provide baseline model for baseline evaluation\n",
    "- Contestants:\n",
    "  - Build their model and submit\n",
    "### Result\n",
    "- A nice benchmarking system for masked face"
   ]
  },
  {
   "cell_type": "markdown",
   "metadata": {},
   "source": [
    "# Paper 4\n",
    "Learning Meta Face Recognition in Unseen Domains"
   ]
  },
  {
   "cell_type": "markdown",
   "metadata": {},
   "source": [
    "## Paper Reason\n",
    "- To propose a model that have higher generalization\n",
    "- Since most model is only for specific task\n",
    "- Tasks like: web image/ surveillance / ...\n",
    "- Models tend to dip in performance when switching environment\n",
    "\n",
    "## Reason for choosing\n",
    "- It seems interesting to see a generailized model\n",
    "- Let's see how it compares to other specialized models"
   ]
  },
  {
   "cell_type": "markdown",
   "metadata": {},
   "source": [
    "# Brief\n",
    "\n",
    "### Idea\n",
    "- Make a generalized model that can be deployed on test domain with nice performance and no tweaking\n",
    "- Model is Meta Face Recognition MFR\n",
    "- Also provide a generalized face recognition benchmark\n",
    "\n",
    "### Model\n",
    "3 Steps:\n",
    "1. Domain-level sampling:\n",
    "   - Sub sample the domain into separated meta-domain/branches in each train iteration\n",
    "   - To encourage generalized learning and simulate real life domain shift problem\n",
    "2. Optimize multi domain distribution: optimize 3 different losses \n",
    "   - Hard-pair attention: Optimize very positive/negative pairs\n",
    "   - Soft-classification: Soften the hard-pair loss and avoid overfit\n",
    "   - Domain alignment loss: To align different domains (of the splitted subsets)\n",
    "3. Train and iterate\n",
    "\n",
    "### Bench mark\n",
    "2 datasets:\n",
    "- GFR-R: different race\n",
    "- GFR-V: high variance in faces\n",
    "metrics:\n",
    "- ROC\n",
    "- accuracy\n",
    "- acceptance rate\n",
    "\n",
    "### Result\n",
    "- Better than pre-trained models with does not generalize well, on both datasets\n",
    "- Further work needed since i dont see comparison with state of the art models"
   ]
  },
  {
   "cell_type": "markdown",
   "metadata": {},
   "source": [
    "# Paper 5\n",
    "A Review of Face Recognition Technology"
   ]
  },
  {
   "cell_type": "markdown",
   "metadata": {},
   "source": [
    "## Reason of paper\n",
    "- Reviewing facial rec\n",
    "\n",
    "## Why choose?\n",
    "- Cause a general view is needed!"
   ]
  },
  {
   "cell_type": "markdown",
   "metadata": {},
   "source": [
    "# What is facial rec\n",
    "Includes\n",
    "- Detection: find face areas in image\n",
    "- Position\n",
    "- Identity rec\n",
    "- Image processing,...\n",
    "\n",
    "## What's in this paper:\n",
    "- Development stages of face reg tech\n",
    "- Introduce research on topic\n",
    "- Introduce evaluation and database\n",
    "\n",
    "## Related researches\n",
    "Early stage:\n",
    "- PCA and LDA: dim reduction and data visualization\n",
    "- SVM + kernel tricks\n",
    "- Gradient tree boosting (Adaboost)\n",
    "- The small sample size problem\n",
    "- Neural network\n",
    "\n",
    "Deep Learning\n",
    "- CNN\n",
    "- Deep non-linear face shape extraction method\n",
    "- Deep learning from surveillance video\n",
    "- Low-resolution deep learning\n",
    "\n",
    "## Factor that affects face rec\n",
    "- PIE problem: Posture, Illumination and Expression variance affects face rec performance\n",
    "\n",
    "## Learning Features\n",
    "- Local Binary Pattern\n",
    "- Gabor feature\n",
    "\n",
    "## Evaluation Criteria\n",
    "- ACC\n",
    "- ROC\n",
    "- AUC\n",
    "- TPR, FPR"
   ]
  },
  {
   "cell_type": "markdown",
   "metadata": {},
   "source": []
  }
 ],
 "metadata": {
  "language_info": {
   "name": "python"
  },
  "orig_nbformat": 4
 },
 "nbformat": 4,
 "nbformat_minor": 2
}
