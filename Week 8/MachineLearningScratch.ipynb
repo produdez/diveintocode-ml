{
 "cells": [
  {
   "cell_type": "markdown",
   "id": "855bd8c5-988e-465e-a5a0-75473a305f19",
   "metadata": {},
   "source": [
    "# Introduction\n",
    "By combining the basic libraries provided in NumPy etc., you can create your own classes / functions equivalent to the functions implemented in the applied libraries such as scikit-learn. This is called scratch.​\n",
    "\n",
    "\n",
    "Through scratching, it is difficult to grasp just by moving a library such as scikit-learn, and we aim for a deep understanding of the algorithm. It also improves your coding skills, but that's not the main purpose."
   ]
  },
  {
   "cell_type": "code",
   "execution_count": 1,
   "id": "c994a4f7-f42b-4829-bf38-25016c05a3c5",
   "metadata": {},
   "outputs": [],
   "source": [
    "# Predefines and import\n",
    "import numpy as np\n",
    "import matplotlib.pyplot as plt\n",
    "import seaborn as sns\n",
    "import pandas as pd"
   ]
  },
  {
   "cell_type": "code",
   "execution_count": 2,
   "id": "47f81a02-2995-40e5-a75d-78ea2f037d7c",
   "metadata": {},
   "outputs": [
    {
     "name": "stdout",
     "output_type": "stream",
     "text": [
      "(1460, 81)\n",
      "Index(['Id', 'MSSubClass', 'MSZoning', 'LotFrontage', 'LotArea', 'Street',\n",
      "       'Alley', 'LotShape', 'LandContour', 'Utilities', 'LotConfig',\n",
      "       'LandSlope', 'Neighborhood', 'Condition1', 'Condition2', 'BldgType',\n",
      "       'HouseStyle', 'OverallQual', 'OverallCond', 'YearBuilt', 'YearRemodAdd',\n",
      "       'RoofStyle', 'RoofMatl', 'Exterior1st', 'Exterior2nd', 'MasVnrType',\n",
      "       'MasVnrArea', 'ExterQual', 'ExterCond', 'Foundation', 'BsmtQual',\n",
      "       'BsmtCond', 'BsmtExposure', 'BsmtFinType1', 'BsmtFinSF1',\n",
      "       'BsmtFinType2', 'BsmtFinSF2', 'BsmtUnfSF', 'TotalBsmtSF', 'Heating',\n",
      "       'HeatingQC', 'CentralAir', 'Electrical', '1stFlrSF', '2ndFlrSF',\n",
      "       'LowQualFinSF', 'GrLivArea', 'BsmtFullBath', 'BsmtHalfBath', 'FullBath',\n",
      "       'HalfBath', 'BedroomAbvGr', 'KitchenAbvGr', 'KitchenQual',\n",
      "       'TotRmsAbvGrd', 'Functional', 'Fireplaces', 'FireplaceQu', 'GarageType',\n",
      "       'GarageYrBlt', 'GarageFinish', 'GarageCars', 'GarageArea', 'GarageQual',\n",
      "       'GarageCond', 'PavedDrive', 'WoodDeckSF', 'OpenPorchSF',\n",
      "       'EnclosedPorch', '3SsnPorch', 'ScreenPorch', 'PoolArea', 'PoolQC',\n",
      "       'Fence', 'MiscFeature', 'MiscVal', 'MoSold', 'YrSold', 'SaleType',\n",
      "       'SaleCondition', 'SalePrice'],\n",
      "      dtype='object')\n"
     ]
    }
   ],
   "source": [
    "# load test data set\n",
    "data = pd.read_csv('../Data/Normal/houseprice_train.csv')\n",
    "print(data.shape)\n",
    "print(data.columns)"
   ]
  },
  {
   "cell_type": "code",
   "execution_count": 3,
   "id": "60c516ac-725e-49ab-bb88-4b4665e26203",
   "metadata": {},
   "outputs": [
    {
     "name": "stdout",
     "output_type": "stream",
     "text": [
      "(1460, 80) (1460,)\n"
     ]
    }
   ],
   "source": [
    "X = np.array(data.drop(columns = ['SalePrice']))\n",
    "Y = np.array(data['SalePrice'])\n",
    "print(X.shape, Y.shape)"
   ]
  },
  {
   "cell_type": "markdown",
   "id": "5cbe8bc2-bbb7-4ff8-a1db-b717dd4f44ed",
   "metadata": {},
   "source": [
    "# Problem 1\n",
    "Train Test Split Scratch"
   ]
  },
  {
   "cell_type": "code",
   "execution_count": 4,
   "id": "cb169142-e182-44f1-a8f0-67a2e412b314",
   "metadata": {},
   "outputs": [
    {
     "name": "stdout",
     "output_type": "stream",
     "text": [
      "Train Shape: (1168, 80) (1168,)\n",
      "Test Shape: (292, 80) (292,)\n"
     ]
    }
   ],
   "source": [
    "from sklearn.model_selection import train_test_split\n",
    "x_train,x_test,y_train,y_test = train_test_split(X,Y, train_size = 0.8)\n",
    "print('Train Shape:', x_train.shape, y_train.shape)\n",
    "print('Test Shape:', x_test.shape, y_test.shape)"
   ]
  },
  {
   "cell_type": "code",
   "execution_count": 5,
   "id": "9d658ae3-f5f7-430c-9b59-08738adbefd9",
   "metadata": {},
   "outputs": [],
   "source": [
    "\n",
    "def scratch_train_test_split(X,Y, train_size=0.8):\n",
    "    if X.shape[0] != Y.shape[0]:\n",
    "        raise TypeError('X and Y does not have same tupple count!')\n",
    "    if Y.ndim != 1:\n",
    "        raise TypeError('Y does not have the correct dimension, should be (n,)')\n",
    "    n = X.shape[0]\n",
    "    split_index =int(np.floor(n*train_size))\n",
    "    x_train = X[:split_index]\n",
    "    x_test = X[split_index:]\n",
    "    y_train = Y[:split_index]\n",
    "    y_test = Y[split_index:]\n",
    "\n",
    "    return x_train,x_test,y_train,y_test"
   ]
  },
  {
   "cell_type": "code",
   "execution_count": 6,
   "id": "a4fd0706-3cd6-4691-af7d-a08be95d82e7",
   "metadata": {},
   "outputs": [
    {
     "name": "stdout",
     "output_type": "stream",
     "text": [
      "Train Shape: (1168, 80) (1168,)\n",
      "Test Shape: (292, 80) (292,)\n"
     ]
    }
   ],
   "source": [
    "x_train,x_test,y_train,y_test = scratch_train_test_split(X,Y)\n",
    "print('Train Shape:', x_train.shape, y_train.shape)\n",
    "print('Test Shape:', x_test.shape, y_test.shape)\n"
   ]
  },
  {
   "cell_type": "markdown",
   "id": "894d7b8b-d7e5-4bcd-9834-dc957cf35cc7",
   "metadata": {},
   "source": [
    "# Problem 2\n",
    "Creating a code to solve the classification problem"
   ]
  },
  {
   "cell_type": "code",
   "execution_count": 7,
   "id": "b3cc5429-a880-471e-a41c-58b0739a1757",
   "metadata": {},
   "outputs": [],
   "source": [
    "from sklearn.metrics import confusion_matrix\n",
    "def classification_problem(X, Y, models, test_size = 0.2):\n",
    "    result = []\n",
    "    x_train, x_test,y_train,y_test = train_test_split(X,Y,test_size = test_size)\n",
    "    for model in models:\n",
    "        model.fit(x_train,y_train)\n",
    "        y_pred = model.predict(x_test)\n",
    "        result.append((model.__class__.__name__,confusion_matrix(y_test, y_pred)))\n",
    "    \n",
    "    return result"
   ]
  },
  {
   "cell_type": "code",
   "execution_count": 8,
   "id": "d99e1f3f-5493-40e5-9009-0b7781dbc659",
   "metadata": {},
   "outputs": [],
   "source": [
    "from sklearn.linear_model import SGDClassifier\n",
    "from sklearn.svm import SVC\n",
    "from sklearn.tree import DecisionTreeClassifier\n",
    "\n",
    "# classification models setup\n",
    "logistic_reg = SGDClassifier(loss = 'log')\n",
    "svm_c = SVC()\n",
    "dec_tree_c = DecisionTreeClassifier()\n",
    "classification_models = [logistic_reg, svm_c, dec_tree_c]"
   ]
  },
  {
   "cell_type": "markdown",
   "id": "3f75eaa0-4d10-4996-a0fa-b6d63dbdabe8",
   "metadata": {},
   "source": [
    "## Test Iris"
   ]
  },
  {
   "cell_type": "code",
   "execution_count": 9,
   "id": "38814492-ec2e-4d6b-b2c0-a5d1635de355",
   "metadata": {},
   "outputs": [
    {
     "name": "stdout",
     "output_type": "stream",
     "text": [
      "Model:  SGDClassifier\n"
     ]
    },
    {
     "data": {
      "text/plain": [
       "array([[ 9,  0,  0],\n",
       "       [ 0, 11,  0],\n",
       "       [ 0,  0, 10]], dtype=int64)"
      ]
     },
     "metadata": {},
     "output_type": "display_data"
    },
    {
     "name": "stdout",
     "output_type": "stream",
     "text": [
      "Model:  SVC\n"
     ]
    },
    {
     "data": {
      "text/plain": [
       "array([[ 9,  0,  0],\n",
       "       [ 0, 11,  0],\n",
       "       [ 0,  0, 10]], dtype=int64)"
      ]
     },
     "metadata": {},
     "output_type": "display_data"
    },
    {
     "name": "stdout",
     "output_type": "stream",
     "text": [
      "Model:  DecisionTreeClassifier\n"
     ]
    },
    {
     "data": {
      "text/plain": [
       "array([[ 9,  0,  0],\n",
       "       [ 0, 11,  0],\n",
       "       [ 0,  0, 10]], dtype=int64)"
      ]
     },
     "metadata": {},
     "output_type": "display_data"
    }
   ],
   "source": [
    "from  sklearn.datasets import load_iris\n",
    "iris_data = load_iris(as_frame = True)\n",
    "i_x = iris_data.data\n",
    "i_y = iris_data.target\n",
    "result = classification_problem(i_x,i_y,classification_models)\n",
    "\n",
    "for name, conf_matrix in result:\n",
    "    print('Model: ',name)\n",
    "    display(conf_matrix)"
   ]
  },
  {
   "cell_type": "markdown",
   "id": "0f4d5aaf-176f-4dcb-aa3a-56f6209e67ec",
   "metadata": {},
   "source": [
    "## Test Simple 1"
   ]
  },
  {
   "cell_type": "code",
   "execution_count": 10,
   "id": "98d1be2b-fdcd-4193-a7ed-e86224e9f8cf",
   "metadata": {},
   "outputs": [
    {
     "name": "stdout",
     "output_type": "stream",
     "text": [
      "Model:  SGDClassifier\n"
     ]
    },
    {
     "data": {
      "text/plain": [
       "array([[43,  0],\n",
       "       [ 0, 57]], dtype=int64)"
      ]
     },
     "metadata": {},
     "output_type": "display_data"
    },
    {
     "name": "stdout",
     "output_type": "stream",
     "text": [
      "Model:  SVC\n"
     ]
    },
    {
     "data": {
      "text/plain": [
       "array([[43,  0],\n",
       "       [ 0, 57]], dtype=int64)"
      ]
     },
     "metadata": {},
     "output_type": "display_data"
    },
    {
     "name": "stdout",
     "output_type": "stream",
     "text": [
      "Model:  DecisionTreeClassifier\n"
     ]
    },
    {
     "data": {
      "text/plain": [
       "array([[43,  0],\n",
       "       [ 0, 57]], dtype=int64)"
      ]
     },
     "metadata": {},
     "output_type": "display_data"
    }
   ],
   "source": [
    "np.random.seed(seed=0)\n",
    "n_samples = 500\n",
    "f0 = [-1, 2]\n",
    "f1 = [2, -1]\n",
    "cov = [[1.0,0.8], [0.8, 1.0]]\n",
    "f0 = np.random.multivariate_normal(f0, cov, n_samples // 2)\n",
    "f1 = np.random.multivariate_normal(f1, cov, n_samples // 2)\n",
    "X = np.concatenate([f0, f1])\n",
    "y = np.concatenate([\n",
    "    np.full(n_samples // 2, 1),\n",
    "    np.full(n_samples // 2, -1)\n",
    "])\n",
    "result = classification_problem(X,y,classification_models)\n",
    "\n",
    "for name, conf_matrix in result:\n",
    "    print('Model: ',name)\n",
    "    display(conf_matrix)"
   ]
  },
  {
   "cell_type": "markdown",
   "id": "295d7987-7238-4505-840b-75b11a12f7b3",
   "metadata": {},
   "source": [
    "## Test Simple 2"
   ]
  },
  {
   "cell_type": "code",
   "execution_count": 11,
   "id": "698cacd3-5f15-423d-8b64-df86dc2bd72e",
   "metadata": {},
   "outputs": [
    {
     "name": "stdout",
     "output_type": "stream",
     "text": [
      "Model:  SGDClassifier\n"
     ]
    },
    {
     "data": {
      "text/plain": [
       "array([[2, 2],\n",
       "       [1, 3]], dtype=int64)"
      ]
     },
     "metadata": {},
     "output_type": "display_data"
    },
    {
     "name": "stdout",
     "output_type": "stream",
     "text": [
      "Model:  SVC\n"
     ]
    },
    {
     "data": {
      "text/plain": [
       "array([[1, 3],\n",
       "       [1, 3]], dtype=int64)"
      ]
     },
     "metadata": {},
     "output_type": "display_data"
    },
    {
     "name": "stdout",
     "output_type": "stream",
     "text": [
      "Model:  DecisionTreeClassifier\n"
     ]
    },
    {
     "data": {
      "text/plain": [
       "array([[2, 2],\n",
       "       [0, 4]], dtype=int64)"
      ]
     },
     "metadata": {},
     "output_type": "display_data"
    }
   ],
   "source": [
    "X = np.array([\n",
    "    [-0.44699 , -2.8073  ],[-1.4621  , -2.4586  ],\n",
    "    [ 0.10645 ,  1.9242  ],[-3.5944  , -4.0112  ],\n",
    "    [-0.9888  ,  4.5718  ],[-3.1625  , -3.9606  ],\n",
    "    [ 0.56421 ,  0.72888 ],[-0.60216 ,  8.4636  ],\n",
    "    [-0.61251 , -0.75345 ],[-0.73535 , -2.2718  ],\n",
    "    [-0.80647 , -2.2135  ],[ 0.86291 ,  2.3946  ],\n",
    "    [-3.1108  ,  0.15394 ],[-2.9362  ,  2.5462  ],\n",
    "    [-0.57242 , -2.9915  ],[ 1.4771  ,  3.4896  ],\n",
    "    [ 0.58619 ,  0.37158 ],[ 0.6017  ,  4.3439  ],\n",
    "    [-2.1086  ,  8.3428  ],[-4.1013  , -4.353   ],\n",
    "    [-1.9948  , -1.3927  ],[ 0.35084 , -0.031994],\n",
    "    [ 0.96765 ,  7.8929  ],[-1.281   , 15.6824  ],\n",
    "    [ 0.96765 , 10.083   ],[ 1.3763  ,  1.3347  ],\n",
    "    [-2.234   , -2.5323  ],[-2.9452  , -1.8219  ],\n",
    "    [ 0.14654 , -0.28733 ],[ 0.5461  ,  5.8245  ],\n",
    "    [-0.65259 ,  9.3444  ],[ 0.59912 ,  5.3524  ],\n",
    "    [ 0.50214 , -0.31818 ],[-3.0603  , -3.6461  ],\n",
    "    [-6.6797  ,  0.67661 ],[-2.353   , -0.72261 ],\n",
    "    [ 1.1319  ,  2.4023  ],[-0.12243 ,  9.0162  ],\n",
    "    [-2.5677  , 13.1779  ],[ 0.057313,  5.4681  ],\n",
    "])\n",
    "y = np.array([0, 0, 0, 0, 0, 0, 0, 0, 0, 0, 0, 0, 0, 0, 0, 0, 0, 0, 0, 0, 1, 1,\n",
    "       1, 1, 1, 1, 1, 1, 1, 1, 1, 1, 1, 1, 1, 1, 1, 1, 1, 1])\n",
    "\n",
    "result = classification_problem(X,y,classification_models)\n",
    "\n",
    "for name, conf_matrix in result:\n",
    "    print('Model: ',name)\n",
    "    display(conf_matrix)"
   ]
  },
  {
   "cell_type": "markdown",
   "id": "a08ea2de-e2d6-4bc6-bccf-3d45ef3ffe25",
   "metadata": {},
   "source": [
    "# Problem 3\n",
    "Creating a code to solve the regression problem"
   ]
  },
  {
   "cell_type": "code",
   "execution_count": 29,
   "id": "53d3fc90-bf7b-4254-9f5f-d5c717adf381",
   "metadata": {},
   "outputs": [
    {
     "data": {
      "image/png": "[encoded data removed]",
      "text/plain": [
       "<Figure size 432x288 with 1 Axes>"
      ]
     },
     "metadata": {
      "needs_background": "light"
     },
     "output_type": "display_data"
    },
    {
     "name": "stdout",
     "output_type": "stream",
     "text": [
      "Model:  SGDRegressor RMSE:  47624.093406706845\n"
     ]
    }
   ],
   "source": [
    "from sklearn.metrics import mean_squared_error\n",
    "from sklearn.linear_model import SGDRegressor\n",
    "def regression_problem(X, Y, model , test_size = 0.2):\n",
    "    random_state=11\n",
    "    x_train, x_test,y_train,y_test = train_test_split(X,Y,test_size = test_size, random_state = random_state)\n",
    "    model.fit(x_train,y_train)\n",
    "    y_pred = model.predict(x_test)\n",
    "    result = (model.__class__.__name__,mean_squared_error(y_test, y_pred, squared = False))\n",
    "    \n",
    "#     print('pred',y_pred,'real',y_test)\n",
    "    index = np.arange(y_pred.shape[0])\n",
    "    plt.plot(index,y_pred, label = 'Prediction')\n",
    "    plt.plot(index,y_test, label = 'Real Value')\n",
    "    plt.legend()\n",
    "    plt.show()\n",
    "    \n",
    "    return result\n",
    "\n",
    "from sklearn.preprocessing import StandardScaler\n",
    "house_data = pd.read_csv('../Data/Normal/houseprice_train.csv')\n",
    "hou_x = StandardScaler().fit_transform(house_data[['GrLivArea','YearBuilt']])\n",
    "hou_y = house_data['SalePrice']\n",
    "model =  SGDRegressor()\n",
    "result = regression_problem(hou_x,hou_y,model)\n",
    "print('Model: ', result[0], 'RMSE: ', result[1])"
   ]
  }
 ],
 "metadata": {
  "kernelspec": {
   "display_name": "ML",
   "language": "python",
   "name": "ml"
  },
  "language_info": {
   "codemirror_mode": {
    "name": "ipython",
    "version": 3
   },
   "file_extension": ".py",
   "mimetype": "text/x-python",
   "name": "python",
   "nbconvert_exporter": "python",
   "pygments_lexer": "ipython3",
   "version": "3.8.5"
  }
 },
 "nbformat": 4,
 "nbformat_minor": 5
}
