{
 "metadata": {
  "language_info": {
   "codemirror_mode": {
    "name": "ipython",
    "version": 3
   },
   "file_extension": ".py",
   "mimetype": "text/x-python",
   "name": "python",
   "nbconvert_exporter": "python",
   "pygments_lexer": "ipython3",
   "version": "3.8.5-final"
  },
  "orig_nbformat": 2,
  "kernelspec": {
   "name": "python385jvsc74a57bd0414c2fdb89d6021f6942d5e1d033ba955136d83fd06928f7f45a3ba2aaf4fb60",
   "display_name": "Python 3.8.5 64-bit ('ML': conda)"
  }
 },
 "nbformat": 4,
 "nbformat_minor": 2,
 "cells": [
  {
   "cell_type": "code",
   "execution_count": 5,
   "metadata": {},
   "outputs": [
    {
     "output_type": "stream",
     "name": "stdout",
     "text": [
      "[[9 9 0]\n [4 7 3]\n [2 7 2]\n [0 0 4]]\n"
     ]
    },
    {
     "output_type": "execute_result",
     "data": {
      "text/plain": [
       "array([9, 9, 4])"
      ]
     },
     "metadata": {},
     "execution_count": 5
    }
   ],
   "source": [
    "#test\n",
    "import numpy as np\n",
    "\n",
    "E = np.array([[9,9,0],[4,7,3],[2,7,2],[0,0,4]])\n",
    "print(E)\n",
    "np.argmax(E,axis=0)\n",
    "np.max(E,axis = 0)"
   ]
  }
 ]
}