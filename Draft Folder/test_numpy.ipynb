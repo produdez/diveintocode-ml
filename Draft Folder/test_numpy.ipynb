{
 "metadata": {
  "language_info": {
   "codemirror_mode": {
    "name": "ipython",
    "version": 3
   },
   "file_extension": ".py",
   "mimetype": "text/x-python",
   "name": "python",
   "nbconvert_exporter": "python",
   "pygments_lexer": "ipython3",
   "version": "3.8.3-final"
  },
  "orig_nbformat": 2,
  "kernelspec": {
   "name": "python3",
   "display_name": "Python 3",
   "language": "python"
  }
 },
 "nbformat": 4,
 "nbformat_minor": 2,
 "cells": [
  {
   "cell_type": "code",
   "execution_count": 8,
   "metadata": {},
   "outputs": [
    {
     "output_type": "stream",
     "name": "stdout",
     "text": [
      "[[0]\n [3]]\nshape is (2, 3)\nThe total value is 15\nThe total in the 0th axial direction is [3 5 7]\nThe average in the first axial direction is [1. 4.]\n"
     ]
    }
   ],
   "source": [
    "import numpy as np\n",
    "a_ndarray = np.arange(6)\n",
    "b_ndarray = a_ndarray.reshape(2, 3)\n",
    "# print(b_ndarray)\n",
    "print(b_ndarray[:,0:1])\n",
    "print(\"shape is {}\".format(b_ndarray.shape)) # (2, 3)\n",
    "print(\"The total value is {}\".format(b_ndarray.sum())) # 15\n",
    "print(\"The total in the 0th axial direction is {}\".format(b_ndarray.sum(axis=0))) # [3 5 7]\n",
    "print(\"The average in the first axial direction is {}\".format(b_ndarray.mean(axis=1))) # [1. 4.]"
   ]
  },
  {
   "cell_type": "code",
   "execution_count": null,
   "metadata": {},
   "outputs": [],
   "source": []
  }
 ]
}