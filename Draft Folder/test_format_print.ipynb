{
  "nbformat": 4,
  "nbformat_minor": 0,
  "metadata": {
    "colab": {
      "name": "test_format_print.ipynb",
      "provenance": [],
      "collapsed_sections": [],
      "authorship_tag": "ABX9TyPoU4bLGLWVinLeKBY0v8od",
      "include_colab_link": true
    },
    "kernelspec": {
      "name": "python3",
      "display_name": "Python 3"
    }
  },
  "cells": [
    {
      "cell_type": "markdown",
      "metadata": {
        "id": "view-in-github",
        "colab_type": "text"
      },
      "source": [
        "<a href=\"https://colab.research.google.com/github/produdez/diveintocode-ml/blob/main/Draft%20Folder/test_format_print.ipynb\" target=\"_parent\"><img src=\"https://colab.research.google.com/assets/colab-badge.svg\" alt=\"Open In Colab\"/></a>"
      ]
    },
    {
      "cell_type": "markdown",
      "metadata": {
        "id": "x_e2e7r_NAhg"
      },
      "source": [
        "# Using format function to print formated strings"
      ]
    },
    {
      "cell_type": "markdown",
      "metadata": {
        "id": "783m5-4DNHfT"
      },
      "source": [
        "Basic Usage"
      ]
    },
    {
      "cell_type": "code",
      "metadata": {
        "colab": {
          "base_uri": "https://localhost:8080/"
        },
        "id": "OCUPMIXpDIOJ",
        "outputId": "28a55b90-725f-4709-bd24-867b56e6e37a"
      },
      "source": [
        "x = \"Tran Hoang Long\"\r\n",
        "print(\"My name is {}\".format(x))"
      ],
      "execution_count": 1,
      "outputs": [
        {
          "output_type": "stream",
          "text": [
            "My name is Tran Hoang Long\n"
          ],
          "name": "stdout"
        }
      ]
    },
    {
      "cell_type": "markdown",
      "metadata": {
        "id": "1au6f-HYNfb7"
      },
      "source": [
        "Chaging order of input parameter"
      ]
    },
    {
      "cell_type": "code",
      "metadata": {
        "colab": {
          "base_uri": "https://localhost:8080/"
        },
        "id": "ZqxRDo0LMmzc",
        "outputId": "f36b2184-6764-40aa-b2e6-3fefe5c77504"
      },
      "source": [
        "print(\"This is the second string: {1} and this is the first string: {0}\".format(\"xxx\",\"yyy\"))"
      ],
      "execution_count": 2,
      "outputs": [
        {
          "output_type": "stream",
          "text": [
            "This is the second string: yyy and this is the first string: xxx\n"
          ],
          "name": "stdout"
        }
      ]
    },
    {
      "cell_type": "markdown",
      "metadata": {
        "id": "ns-zkuBqNklc"
      },
      "source": [
        "Formatting floating numbers"
      ]
    },
    {
      "cell_type": "code",
      "metadata": {
        "colab": {
          "base_uri": "https://localhost:8080/"
        },
        "id": "DIxfCyKOM7ZS",
        "outputId": "da37332d-7d56-4ef1-f93d-7cb1a5d6f5d7"
      },
      "source": [
        "print('Float with 1 decimal: {:.1f} and float with 3 decimals {:.3f}'.format(1,3))"
      ],
      "execution_count": 4,
      "outputs": [
        {
          "output_type": "stream",
          "text": [
            "Float with 1 decimal: 1.0 and float with 3 decimals 3.000\n"
          ],
          "name": "stdout"
        }
      ]
    },
    {
      "cell_type": "markdown",
      "metadata": {
        "id": "fi2BR8rAN6sh"
      },
      "source": [
        "Printing signed numbers"
      ]
    },
    {
      "cell_type": "code",
      "metadata": {
        "colab": {
          "base_uri": "https://localhost:8080/"
        },
        "id": "uYD5j0SUOAk6",
        "outputId": "84bb3248-f52f-430f-f3c8-51a9ffc7efac"
      },
      "source": [
        "print('pos: {:+} and neg: {:+}'.format(1,-2))"
      ],
      "execution_count": 5,
      "outputs": [
        {
          "output_type": "stream",
          "text": [
            "pos: +1 and neg: -2\n"
          ],
          "name": "stdout"
        }
      ]
    },
    {
      "cell_type": "markdown",
      "metadata": {
        "id": "KBsR78qsOV3h"
      },
      "source": [
        "Combined"
      ]
    },
    {
      "cell_type": "code",
      "metadata": {
        "colab": {
          "base_uri": "https://localhost:8080/"
        },
        "id": "SQh79iC7OZrF",
        "outputId": "49487a22-e689-4c14-a762-77b90cf762b5"
      },
      "source": [
        "print('pos float: {:+.1f}'.format(3.5555))"
      ],
      "execution_count": 6,
      "outputs": [
        {
          "output_type": "stream",
          "text": [
            "pos float: +3.6\n"
          ],
          "name": "stdout"
        }
      ]
    },
    {
      "cell_type": "markdown",
      "metadata": {
        "id": "vNV0OTPeOy8n"
      },
      "source": [
        "Print with separator and ending"
      ]
    },
    {
      "cell_type": "code",
      "metadata": {
        "colab": {
          "base_uri": "https://localhost:8080/"
        },
        "id": "1DQsrXwYO2cf",
        "outputId": "3076cfc1-a448-4a17-84a4-65d75f32658d"
      },
      "source": [
        "x,y,z = 'first','sec','third'\r\n",
        "print(x,y,z, sep = ', ', end = '!')"
      ],
      "execution_count": 8,
      "outputs": [
        {
          "output_type": "stream",
          "text": [
            "first, sec, third!"
          ],
          "name": "stdout"
        }
      ]
    }
  ]
}