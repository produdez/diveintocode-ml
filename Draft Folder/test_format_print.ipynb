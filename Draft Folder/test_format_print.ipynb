{
  "nbformat": 4,
  "nbformat_minor": 0,
  "metadata": {
    "colab": {
      "name": "test_format_print.ipynb",
      "provenance": [],
      "authorship_tag": "ABX9TyN0+4R1YTCNi7jN/uG8tz6q",
      "include_colab_link": true
    },
    "kernelspec": {
      "name": "python3",
      "display_name": "Python 3"
    }
  },
  "cells": [
    {
      "cell_type": "markdown",
      "metadata": {
        "id": "view-in-github",
        "colab_type": "text"
      },
      "source": [
        "<a href=\"https://colab.research.google.com/github/produdez/diveintocode-ml/blob/main/Draft%20Folder/test_format_print.ipynb\" target=\"_parent\"><img src=\"https://colab.research.google.com/assets/colab-badge.svg\" alt=\"Open In Colab\"/></a>"
      ]
    },
    {
      "cell_type": "code",
      "metadata": {
        "colab": {
          "base_uri": "https://localhost:8080/"
        },
        "id": "OCUPMIXpDIOJ",
        "outputId": "28a55b90-725f-4709-bd24-867b56e6e37a"
      },
      "source": [
        "x = \"Tran Hoang Long\"\r\n",
        "print(\"My name is {}\".format(x))"
      ],
      "execution_count": 1,
      "outputs": [
        {
          "output_type": "stream",
          "text": [
            "My name is Tran Hoang Long\n"
          ],
          "name": "stdout"
        }
      ]
    }
  ]
}