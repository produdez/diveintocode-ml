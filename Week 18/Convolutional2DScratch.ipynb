{
 "cells": [
  {
   "cell_type": "code",
   "execution_count": null,
   "source": [],
   "outputs": [],
   "metadata": {}
  },
  {
   "cell_type": "code",
   "execution_count": null,
   "source": [],
   "outputs": [],
   "metadata": {}
  },
  {
   "cell_type": "markdown",
   "source": [
    "# Introduction\r\n",
    "\r\n",
    "We will build from scratch a class of convolutional neural networks (CNNs) for 2D, implementing the algorithms using only minimal libraries such as NumPy.\r\n",
    "\r\n",
    "\r\n",
    "We will also create a pooling layer and so on to complete the basic form of the CNN. The name of the class should be Scratch2dCNNClassifier."
   ],
   "metadata": {}
  },
  {
   "cell_type": "code",
   "execution_count": 2,
   "source": [
    "import numpy as np\r\n",
    "import pandas as pd\r\n",
    "import matplotlib.pyplot as plt\r\n",
    "import seaborn as sns\r\n",
    "\r\n",
    "def println(*str):\r\n",
    "    for i in str:\r\n",
    "        print(i)"
   ],
   "outputs": [],
   "metadata": {}
  },
  {
   "cell_type": "markdown",
   "source": [
    "# Data Set"
   ],
   "metadata": {}
  },
  {
   "cell_type": "code",
   "execution_count": 3,
   "source": [
    "#data set\r\n",
    "from keras.datasets import mnist\r\n",
    "(X_train, y_train), (X_test, y_test) = mnist.load_data()\r\n",
    "# #reshape\r\n",
    "# X_train = X_train.reshape(-1, 784)\r\n",
    "# X_test = X_test.reshape(-1, 784)\r\n",
    "#scaling\r\n",
    "X_train = X_train.astype(np.float)\r\n",
    "X_test = X_test.astype(np.float)\r\n",
    "X_train /= 255\r\n",
    "X_test /= 255\r\n",
    "#one hot encode for multiclass labels!\r\n",
    "from sklearn.preprocessing import OneHotEncoder\r\n",
    "enc = OneHotEncoder(handle_unknown='ignore', sparse=False)\r\n",
    "y_train_one_hot = enc.fit_transform(y_train[:, np.newaxis])\r\n",
    "y_test_one_hot = enc.transform(y_test[:, np.newaxis])\r\n",
    "#validation split\r\n",
    "from sklearn.model_selection import train_test_split\r\n",
    "X_train, X_val, y_train, y_val = train_test_split(X_train, y_train_one_hot, train_size=0.5)"
   ],
   "outputs": [],
   "metadata": {}
  },
  {
   "cell_type": "markdown",
   "source": [
    "# Suppporting Classes"
   ],
   "metadata": {}
  },
  {
   "cell_type": "code",
   "execution_count": 4,
   "source": [
    "from numpy.random import default_rng\r\n",
    "rng = default_rng()\r\n",
    "\r\n",
    "class SimpleInitializer:\r\n",
    "    def __init__(self, sigma = 0.1):\r\n",
    "        self.sigma = sigma\r\n",
    "    \r\n",
    "    def W(self, dimension = ()):\r\n",
    "        return rng.normal(0, self.sigma, dimension)\r\n",
    "    \r\n",
    "    def B(self,n=0):\r\n",
    "        return rng.normal(0, self.sigma, (1,n))\r\n",
    "\r\n",
    "\r\n",
    "# Test\r\n",
    "simp_init = SimpleInitializer()\r\n",
    "w = simp_init.W(dimension = (3,2))\r\n",
    "b = simp_init.B(2)\r\n",
    "\r\n",
    "println('W', w)\r\n",
    "println('B', b)\r\n",
    "\r\n",
    "x = np.random.randint(5,size = (2,3))\r\n",
    "println('X', x)\r\n",
    "\r\n",
    "println('x*w + b', x@w + b)"
   ],
   "outputs": [
    {
     "output_type": "stream",
     "name": "stdout",
     "text": [
      "W\n",
      "[[-0.01827949 -0.09281002]\n",
      " [ 0.04515009  0.0752372 ]\n",
      " [-0.17195084 -0.02320633]]\n",
      "B\n",
      "[[0.02203956 0.152103  ]]\n",
      "X\n",
      "[[3 3 1]\n",
      " [4 2 2]]\n",
      "x*w + b\n",
      "[[-0.06929949  0.07617823]\n",
      " [-0.3046799  -0.11507532]]\n"
     ]
    }
   ],
   "metadata": {}
  },
  {
   "cell_type": "markdown",
   "source": [
    "# Problem 1\r\n",
    "2D Convolutional Layer"
   ],
   "metadata": {}
  },
  {
   "cell_type": "code",
   "execution_count": 5,
   "source": [
    "class Conv2d:\r\n",
    "    def __init__(self, initializer = SimpleInitializer(), kernel_size = (3,3), n_out_channels = 3, padding = 0, stride = 1):\r\n",
    "        #! let's not consider padding and stride at the moment\r\n",
    "        \r\n",
    "        self.initializer = initializer\r\n",
    "        self.kernel_size = kernel_size\r\n",
    "        self.padding = padding\r\n",
    "        self.stride = stride\r\n",
    "        self.n_out_channels = n_out_channels\r\n",
    "\r\n",
    "\r\n",
    "    def forward(self, X,y, X_val = 0, y_val = 0):\r\n",
    "        if X.shape.ndim > 4:\r\n",
    "            raise 'do not support 4 dimension array'\r\n",
    "        \r\n",
    "        # init size\r\n",
    "        self.n_input, self.n_row, self.n_col, self.n_in_channels = X.shape\r\n",
    "\r\n",
    "        # init weight and biases\r\n",
    "        self.W = self.initializer.W(dimension = (self.n_in_channels, self.n_out_channels, *self.kernel_size))\r\n",
    "        pass\r\n",
    "\r\n",
    "    def backward(self, y):\r\n",
    "        pass\r\n",
    "    "
   ],
   "outputs": [],
   "metadata": {}
  },
  {
   "cell_type": "markdown",
   "source": [
    "# Test Forward Propagation"
   ],
   "metadata": {}
  },
  {
   "cell_type": "code",
   "execution_count": 13,
   "source": [
    "# creating data, weight and bias\r\n",
    "np.random.seed(0)\r\n",
    "n_in = 2\r\n",
    "n_out = 3\r\n",
    "dim = (2,3)\r\n",
    "kernel_size = (2,2)\r\n",
    "print('n_in', n_in)\r\n",
    "print('n_out', n_out)\r\n",
    "print('dim',dim)\r\n",
    "print('kernel_size', kernel_size)\r\n",
    "\r\n",
    "X = np.random.randint(0,10,(n_in, *dim))\r\n",
    "println('X',X.shape,  X)\r\n",
    "\r\n",
    "W = np.random.randint(0,2,(n_out, n_in, *kernel_size)) #init kernel\r\n",
    "B = np.random.randint(0,1, n_out)\r\n",
    "println('W', W.shape, W)\r\n",
    "println('B', B)"
   ],
   "outputs": [
    {
     "output_type": "stream",
     "name": "stdout",
     "text": [
      "n_in 2\n",
      "n_out 3\n",
      "dim (2, 3)\n",
      "kernel_size (2, 2)\n",
      "X\n",
      "(2, 2, 3)\n",
      "[[[5 0 3]\n",
      "  [3 7 9]]\n",
      "\n",
      " [[3 5 2]\n",
      "  [4 7 6]]]\n",
      "W\n",
      "(3, 2, 2, 2)\n",
      "[[[[0 0]\n",
      "   [0 0]]\n",
      "\n",
      "  [[1 0]\n",
      "   [1 1]]]\n",
      "\n",
      "\n",
      " [[[0 0]\n",
      "   [1 1]]\n",
      "\n",
      "  [[1 1]\n",
      "   [0 1]]]\n",
      "\n",
      "\n",
      " [[[0 1]\n",
      "   [0 1]]\n",
      "\n",
      "  [[1 0]\n",
      "   [1 1]]]]\n",
      "B\n",
      "[0 0 0]\n"
     ]
    }
   ],
   "metadata": {}
  },
  {
   "cell_type": "code",
   "execution_count": 14,
   "source": [
    "# duplicate X to match n_out\r\n",
    "X = np.vstack([[X]] * n_out)\r\n",
    "println('X', X.shape, X)"
   ],
   "outputs": [
    {
     "output_type": "stream",
     "name": "stdout",
     "text": [
      "X\n",
      "(3, 2, 2, 3)\n",
      "[[[[5 0 3]\n",
      "   [3 7 9]]\n",
      "\n",
      "  [[3 5 2]\n",
      "   [4 7 6]]]\n",
      "\n",
      "\n",
      " [[[5 0 3]\n",
      "   [3 7 9]]\n",
      "\n",
      "  [[3 5 2]\n",
      "   [4 7 6]]]\n",
      "\n",
      "\n",
      " [[[5 0 3]\n",
      "   [3 7 9]]\n",
      "\n",
      "  [[3 5 2]\n",
      "   [4 7 6]]]]\n"
     ]
    }
   ],
   "metadata": {}
  },
  {
   "cell_type": "code",
   "execution_count": 17,
   "source": [
    "# forward\r\n",
    "\r\n",
    "in_x, in_y = dim\r\n",
    "ker_x, ker_y = kernel_size\r\n",
    "conv_size_x = in_x - ker_x + 1\r\n",
    "conv_size_y = in_y - ker_y + 1\r\n",
    "output_shape = (conv_size_x, conv_size_y)\r\n",
    "result = np.ones((n_out, *output_shape))\r\n",
    "print('expected output shape: ', output_shape)\r\n",
    "print('result shape: ', result.shape)\r\n",
    "print('Xshape: ', X.shape)\r\n",
    "for i in range(conv_size_x):\r\n",
    "    for j in range(conv_size_y):\r\n",
    "        print('convolving at: ', i,j, 'ker: ', ker_x, ker_y)\r\n",
    "        temp_x = X[:,:, i : i + ker_x, j : j + ker_y]\r\n",
    "        # println('before: ', temp_x, temp_x.shape)\r\n",
    "        temp = temp_x * W\r\n",
    "        # print(1,temp)\r\n",
    "        temp = np.sum(temp, axis = (2,3))\r\n",
    "        # print(2, temp)\r\n",
    "        temp = np.sum(temp, axis = 1) \r\n",
    "        # print(3,temp)\r\n",
    "        result[:,i,j] = temp + B\r\n",
    "        print(4,result[:,i,j] )\r\n",
    "\r\n",
    "println('Forward', result.shape, result)"
   ],
   "outputs": [
    {
     "output_type": "stream",
     "name": "stdout",
     "text": [
      "expected output shape:  (1, 2)\n",
      "result shape:  (3, 1, 2)\n",
      "Xshape:  (3, 2, 2, 3)\n",
      "convolving at:  0 0 ker:  2 2\n",
      "4 [14. 25. 21.]\n",
      "convolving at:  0 1 ker:  2 2\n",
      "4 [18. 29. 30.]\n",
      "Forward\n",
      "(3, 1, 2)\n",
      "[[[14. 18.]]\n",
      "\n",
      " [[25. 29.]]\n",
      "\n",
      " [[21. 30.]]]\n"
     ]
    }
   ],
   "metadata": {}
  },
  {
   "cell_type": "code",
   "execution_count": 16,
   "source": [],
   "outputs": [
    {
     "output_type": "stream",
     "name": "stdout",
     "text": [
      "(2, 2, 2)\n"
     ]
    },
    {
     "output_type": "execute_result",
     "data": {
      "text/plain": [
       "(3, 2, 2, 2)"
      ]
     },
     "metadata": {},
     "execution_count": 16
    }
   ],
   "metadata": {}
  }
 ],
 "metadata": {
  "orig_nbformat": 4,
  "language_info": {
   "name": "python",
   "version": "3.9.5",
   "mimetype": "text/x-python",
   "codemirror_mode": {
    "name": "ipython",
    "version": 3
   },
   "pygments_lexer": "ipython3",
   "nbconvert_exporter": "python",
   "file_extension": ".py"
  },
  "kernelspec": {
   "name": "python3",
   "display_name": "Python 3.9.5 64-bit ('ML': conda)"
  },
  "interpreter": {
   "hash": "141d363dc4fa48226168697c78b1c392551357d3383cf9fbfe3b78c47f1b89a4"
  }
 },
 "nbformat": 4,
 "nbformat_minor": 2
}