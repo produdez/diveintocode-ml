{
 "metadata": {
  "language_info": {
   "codemirror_mode": {
    "name": "ipython",
    "version": 3
   },
   "file_extension": ".py",
   "mimetype": "text/x-python",
   "name": "python",
   "nbconvert_exporter": "python",
   "pygments_lexer": "ipython3",
   "version": "3.8.5-final"
  },
  "orig_nbformat": 2,
  "kernelspec": {
   "name": "python385jvsc74a57bd0414c2fdb89d6021f6942d5e1d033ba955136d83fd06928f7f45a3ba2aaf4fb60",
   "display_name": "Python 3.8.5 64-bit ('ML': conda)"
  }
 },
 "nbformat": 4,
 "nbformat_minor": 2,
 "cells": [
  {
   "source": [
    "# Introduction\n",
    "Although we have not mentioned them in the previous assignments, classes such as StandardScaler and LinearRegression are available in programming languages like Python.​​\n",
    "\n",
    "\n",
    "The class syntax is a basic tool for programming using a concept called object orientation.\n",
    "\n",
    "\n",
    "In this assignment, we will use the classes that have already appeared so far as examples to see and learn what we can do with them. In the second half of the assignment, you will create your ownStandardScaler class from scratch."
   ],
   "cell_type": "markdown",
   "metadata": {}
  },
  {
   "cell_type": "code",
   "execution_count": 1,
   "metadata": {},
   "outputs": [],
   "source": [
    "# predefines and imports\n",
    "import numpy as np\n",
    "import pandas as pd\n",
    "import matplotlib.pyplot as plt\n",
    "import seaborn as sns"
   ]
  },
  {
   "source": [
    "# Problem 1\n",
    "## Enumeration of classes used so far"
   ],
   "cell_type": "markdown",
   "metadata": {}
  },
  {
   "source": [
    "### Here are classes that i remember so far\n",
    "- Classifiers/Regressor classes from sklearn (LinearRegression, StandardScaler,...)\n",
    "- DataFrame, Series from pandas\n",
    "- Figure, Axis From matplotlib\n",
    "- numpy.ndarray from numpy"
   ],
   "cell_type": "markdown",
   "metadata": {}
  },
  {
   "source": [
    "# Problem 2\n",
    "## Enumeration of methods and instance variables used so far"
   ],
   "cell_type": "markdown",
   "metadata": {}
  },
  {
   "source": [
    "### Instances and methods used so far:\n",
    "- np.array() -> sum(), describe(), isna(), count_values()\n",
    "- DataFrame() -> head(), tail(), array_subscript[]\n",
    "- axis instance -> plot(), set_title(), scatter(),...\n",
    "- classifier instance -> fit(), predict()\n",
    "- list instance ->  append(), remove(), get()"
   ],
   "cell_type": "markdown",
   "metadata": {}
  },
  {
   "source": [
    "# Problem 3\n",
    "##  Creating a standardized class by scratch"
   ],
   "cell_type": "markdown",
   "metadata": {}
  },
  {
   "cell_type": "code",
   "execution_count": 33,
   "metadata": {},
   "outputs": [
    {
     "output_type": "display_data",
     "data": {
      "text/plain": "'Data'"
     },
     "metadata": {}
    },
    {
     "output_type": "display_data",
     "data": {
      "text/plain": "array([[1, 2, 3, 4],\n       [2, 3, 4, 5],\n       [6, 7, 8, 9]])"
     },
     "metadata": {}
    },
    {
     "output_type": "display_data",
     "data": {
      "text/plain": "'Means:'"
     },
     "metadata": {}
    },
    {
     "output_type": "display_data",
     "data": {
      "text/plain": "array([3., 4., 5., 6.])"
     },
     "metadata": {}
    },
    {
     "output_type": "display_data",
     "data": {
      "text/plain": "'Variances'"
     },
     "metadata": {}
    },
    {
     "output_type": "display_data",
     "data": {
      "text/plain": "array([4.66666667, 4.66666667, 4.66666667, 4.66666667])"
     },
     "metadata": {}
    },
    {
     "output_type": "display_data",
     "data": {
      "text/plain": "'Scaled Data: '"
     },
     "metadata": {}
    },
    {
     "output_type": "display_data",
     "data": {
      "text/plain": "array([[-0.9258201 , -0.9258201 , -0.9258201 , -0.9258201 ],\n       [-0.46291005, -0.46291005, -0.46291005, -0.46291005],\n       [ 1.38873015,  1.38873015,  1.38873015,  1.38873015]])"
     },
     "metadata": {}
    }
   ],
   "source": [
    "class ScratchStandardScaler():\n",
    "    \"\"\"\n",
    "    ScratchStandardScaler\n",
    "\n",
    "    Attributes\n",
    "    ----------\n",
    "    mean_ : array of mean for each dimensions, shape(n_features,)\n",
    "\n",
    "    var_ : array of variance for each dimensions, shape(n_features,)\n",
    "        \n",
    "    \"\"\"\n",
    "    def fit(self, X: np.array):\n",
    "        \"\"\"\n",
    "        'Fit to the data and calculate mean, var\"\n",
    "        Parameters\n",
    "        ----------\n",
    "        X : ndarray, shape (n_samples, n_features)\n",
    "        \"\"\"\n",
    "        self.mean_ = X.mean(axis = 0)\n",
    "        self.var_ = X.var(axis = 0)\n",
    "    def transform(self, X):\n",
    "        \"\"\"\n",
    "        return scaled x according to mean and var\n",
    "        Parameters\n",
    "        ----------\n",
    "        X : ndarray, shape (n_samples, n_features)\n",
    "            \n",
    "        Returns\n",
    "        ----------\n",
    "        X_scaled : ndarray, shape (n_samples, n_features)\n",
    "        \"\"\"\n",
    "        return (X - self.mean_) / self.var_**(1/2)\n",
    "\n",
    "X = np.array([range(1,5), range(2,6), range(6,10)])\n",
    "scaler = ScratchStandardScaler()\n",
    "scaler.fit(X)\n",
    "display('Data',X,'Means:',scaler.mean_,'Variances', scaler.var_)\n",
    "display('Scaled Data: ',scaler.transform(X))"
   ]
  },
  {
   "source": [
    "### Test upon given test code"
   ],
   "cell_type": "markdown",
   "metadata": {}
  },
  {
   "cell_type": "code",
   "execution_count": 34,
   "metadata": {},
   "outputs": [
    {
     "output_type": "stream",
     "name": "stdout",
     "text": [
      "平均 : [4.86 3.31 1.45 0.22]\n分散 : [0.0764 0.0849 0.0105 0.0056]\n[[ 0.86828953  0.65207831 -0.48795004 -0.26726124]\n [ 0.14471492 -1.06391725 -0.48795004 -0.26726124]\n [-0.57885968 -0.37751902 -1.46385011 -0.26726124]\n [-0.94064699 -0.72071813  0.48795004 -0.26726124]\n [ 0.50650222  0.99527742 -0.48795004 -0.26726124]\n [ 1.95365143  2.02487476  2.43975018  2.40535118]\n [-0.94064699  0.3088792  -0.48795004  1.06904497]\n [ 0.50650222  0.3088792   0.48795004 -0.26726124]\n [-1.66422159 -1.40711636 -0.48795004 -0.26726124]\n [ 0.14471492 -0.72071813  0.48795004 -1.60356745]]\n"
     ]
    }
   ],
   "source": [
    "import numpy as np\n",
    "from sklearn.datasets import load_iris\n",
    "data = load_iris()\n",
    "X = data.data[:10]\n",
    "scratch_scaler = ScratchStandardScaler()\n",
    "scratch_scaler.fit(X)\n",
    "print(\"平均 : {}\".format(scratch_scaler.mean_))\n",
    "print(\"分散 : {}\".format(scratch_scaler.var_))\n",
    "X_std = scratch_scaler.transform(X)\n",
    "print(X_std)"
   ]
  },
  {
   "source": [
    "# Problem 4\n",
    "## Creating a class that performs 4 arithmetic operations"
   ],
   "cell_type": "markdown",
   "metadata": {}
  },
  {
   "cell_type": "code",
   "execution_count": 35,
   "metadata": {},
   "outputs": [
    {
     "output_type": "stream",
     "name": "stdout",
     "text": [
      "value : 5\nvalue : 8\nvalue : 6\nvalue : 30\nvalue : 3.0\n"
     ]
    }
   ],
   "source": [
    "class ExampleClass():\n",
    "\n",
    "    def __init__(self, value):\n",
    "        value_type = type(value)\n",
    "        if value_type is float or value_type is int:\n",
    "            self.value = value\n",
    "        else:\n",
    "            raise TypeError('Value must be numeric!')\n",
    "    def add(self, value2):\n",
    "        self.value += value2\n",
    "    def subtract(self,value2):\n",
    "        self.value -= value2\n",
    "    def multiply(self,value2):\n",
    "        self.value *= value2\n",
    "    def divide(self,value2):\n",
    "        self.value /= value2\n",
    "\n",
    "example = ExampleClass(5)\n",
    "print(\"value : {}\".format(example.value))\n",
    "example.add(3)\n",
    "print(\"value : {}\".format(example.value))\n",
    "example.subtract(2)\n",
    "print(\"value : {}\".format(example.value))\n",
    "example.multiply(5)\n",
    "print(\"value : {}\".format(example.value))\n",
    "example.divide(10)\n",
    "print(\"value : {}\".format(example.value))\n"
   ]
  }
 ]
}