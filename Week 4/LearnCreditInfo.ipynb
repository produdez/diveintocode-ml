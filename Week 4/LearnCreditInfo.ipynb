{
 "metadata": {
  "language_info": {
   "codemirror_mode": {
    "name": "ipython",
    "version": 3
   },
   "file_extension": ".py",
   "mimetype": "text/x-python",
   "name": "python",
   "nbconvert_exporter": "python",
   "pygments_lexer": "ipython3",
   "version": "3.8.5"
  },
  "orig_nbformat": 2,
  "kernelspec": {
   "name": "python385jvsc74a57bd0414c2fdb89d6021f6942d5e1d033ba955136d83fd06928f7f45a3ba2aaf4fb60",
   "display_name": "Python 3.8.5 64-bit ('ML': conda)"
  }
 },
 "nbformat": 4,
 "nbformat_minor": 2,
 "cells": [
  {
   "source": [
    "# Introduction\n",
    "## Learn and estimate the Home Credit Default Risk competition on Kaggle.\n"
   ],
   "cell_type": "markdown",
   "metadata": {}
  },
  {
   "cell_type": "code",
   "execution_count": 49,
   "metadata": {},
   "outputs": [],
   "source": [
    "#predefines and import\n",
    "import numpy as np\n",
    "import matplotlib.pyplot as plt\n",
    "import pandas as pd\n",
    "import seaborn as sns"
   ]
  },
  {
   "source": [
    "# Problem 1\n",
    "## Confirmation of competition contents"
   ],
   "cell_type": "markdown",
   "metadata": {}
  },
  {
   "source": [
    "1. What to learn and what to predict?\n",
    "\n",
    "    - We're using the data set to learn and predict whether our customer given their attributes have the ability to payoff our loan in time.\n",
    "\n",
    "2. What kind of file to create and submit to Kaggle?\n",
    "\n",
    "    - We summit a file that show our predicted probability of customer being type 1 (slow on dept payment) for all test indexes.\n",
    "    - Ex of an index: Id = 1230459, Probability = 0.7\n",
    "\n",
    "3. What kind of index value will be used to evaluate the submissions?\n",
    "    - Submissions are evaluated on area under the ROC curve between the predicted probability and the observed target.\n",
    "\n",
    "### ROC and AUC [Reference](https://developers.google.com/machine-learning/crash-course/classification/roc-and-auc#:~:text=AUC%3A%20Area%20Under%20the%20ROC,to%20(1%2C1).)\n",
    "\n",
    "-  **ROC**: curve (receiver operating characteristic curve) is a curve graph in 2d plane of TPR and FPR. The curve is plot of our classifier's performance under different decision thresholds\n",
    "\n",
    "- **AUC**: Area under curve (integral of our ROC curve). This is used to draw the graph as well as for evaluating our classification model. A model with AUC = 0 means it does not have any kind of correct prediction and vice versa for AUC = 1. "
   ],
   "cell_type": "markdown",
   "metadata": {}
  },
  {
   "source": [
    "# Problem 2\n",
    "## Learning and verification"
   ],
   "cell_type": "markdown",
   "metadata": {}
  },
  {
   "source": [
    "## Load"
   ],
   "cell_type": "markdown",
   "metadata": {}
  },
  {
   "cell_type": "code",
   "execution_count": 50,
   "metadata": {},
   "outputs": [
    {
     "output_type": "execute_result",
     "data": {
      "text/plain": [
       "   SK_ID_CURR  TARGET NAME_CONTRACT_TYPE CODE_GENDER FLAG_OWN_CAR  \\\n",
       "0      100002       1         Cash loans           M            N   \n",
       "1      100003       0         Cash loans           F            N   \n",
       "2      100004       0    Revolving loans           M            Y   \n",
       "3      100006       0         Cash loans           F            N   \n",
       "4      100007       0         Cash loans           M            N   \n",
       "\n",
       "  FLAG_OWN_REALTY  CNT_CHILDREN  AMT_INCOME_TOTAL  AMT_CREDIT  AMT_ANNUITY  \\\n",
       "0               Y             0          202500.0    406597.5      24700.5   \n",
       "1               N             0          270000.0   1293502.5      35698.5   \n",
       "2               Y             0           67500.0    135000.0       6750.0   \n",
       "3               Y             0          135000.0    312682.5      29686.5   \n",
       "4               Y             0          121500.0    513000.0      21865.5   \n",
       "\n",
       "   ...  FLAG_DOCUMENT_18 FLAG_DOCUMENT_19 FLAG_DOCUMENT_20 FLAG_DOCUMENT_21  \\\n",
       "0  ...                 0                0                0                0   \n",
       "1  ...                 0                0                0                0   \n",
       "2  ...                 0                0                0                0   \n",
       "3  ...                 0                0                0                0   \n",
       "4  ...                 0                0                0                0   \n",
       "\n",
       "  AMT_REQ_CREDIT_BUREAU_HOUR AMT_REQ_CREDIT_BUREAU_DAY  \\\n",
       "0                        0.0                       0.0   \n",
       "1                        0.0                       0.0   \n",
       "2                        0.0                       0.0   \n",
       "3                        NaN                       NaN   \n",
       "4                        0.0                       0.0   \n",
       "\n",
       "   AMT_REQ_CREDIT_BUREAU_WEEK  AMT_REQ_CREDIT_BUREAU_MON  \\\n",
       "0                         0.0                        0.0   \n",
       "1                         0.0                        0.0   \n",
       "2                         0.0                        0.0   \n",
       "3                         NaN                        NaN   \n",
       "4                         0.0                        0.0   \n",
       "\n",
       "   AMT_REQ_CREDIT_BUREAU_QRT  AMT_REQ_CREDIT_BUREAU_YEAR  \n",
       "0                        0.0                         1.0  \n",
       "1                        0.0                         0.0  \n",
       "2                        0.0                         0.0  \n",
       "3                        NaN                         NaN  \n",
       "4                        0.0                         0.0  \n",
       "\n",
       "[5 rows x 122 columns]"
      ],
      "text/html": "<div>\n<style scoped>\n    .dataframe tbody tr th:only-of-type {\n        vertical-align: middle;\n    }\n\n    .dataframe tbody tr th {\n        vertical-align: top;\n    }\n\n    .dataframe thead th {\n        text-align: right;\n    }\n</style>\n<table border=\"1\" class=\"dataframe\">\n  <thead>\n    <tr style=\"text-align: right;\">\n      <th></th>\n      <th>SK_ID_CURR</th>\n      <th>TARGET</th>\n      <th>NAME_CONTRACT_TYPE</th>\n      <th>CODE_GENDER</th>\n      <th>FLAG_OWN_CAR</th>\n      <th>FLAG_OWN_REALTY</th>\n      <th>CNT_CHILDREN</th>\n      <th>AMT_INCOME_TOTAL</th>\n      <th>AMT_CREDIT</th>\n      <th>AMT_ANNUITY</th>\n      <th>...</th>\n      <th>FLAG_DOCUMENT_18</th>\n      <th>FLAG_DOCUMENT_19</th>\n      <th>FLAG_DOCUMENT_20</th>\n      <th>FLAG_DOCUMENT_21</th>\n      <th>AMT_REQ_CREDIT_BUREAU_HOUR</th>\n      <th>AMT_REQ_CREDIT_BUREAU_DAY</th>\n      <th>AMT_REQ_CREDIT_BUREAU_WEEK</th>\n      <th>AMT_REQ_CREDIT_BUREAU_MON</th>\n      <th>AMT_REQ_CREDIT_BUREAU_QRT</th>\n      <th>AMT_REQ_CREDIT_BUREAU_YEAR</th>\n    </tr>\n  </thead>\n  <tbody>\n    <tr>\n      <th>0</th>\n      <td>100002</td>\n      <td>1</td>\n      <td>Cash loans</td>\n      <td>M</td>\n      <td>N</td>\n      <td>Y</td>\n      <td>0</td>\n      <td>202500.0</td>\n      <td>406597.5</td>\n      <td>24700.5</td>\n      <td>...</td>\n      <td>0</td>\n      <td>0</td>\n      <td>0</td>\n      <td>0</td>\n      <td>0.0</td>\n      <td>0.0</td>\n      <td>0.0</td>\n      <td>0.0</td>\n      <td>0.0</td>\n      <td>1.0</td>\n    </tr>\n    <tr>\n      <th>1</th>\n      <td>100003</td>\n      <td>0</td>\n      <td>Cash loans</td>\n      <td>F</td>\n      <td>N</td>\n      <td>N</td>\n      <td>0</td>\n      <td>270000.0</td>\n      <td>1293502.5</td>\n      <td>35698.5</td>\n      <td>...</td>\n      <td>0</td>\n      <td>0</td>\n      <td>0</td>\n      <td>0</td>\n      <td>0.0</td>\n      <td>0.0</td>\n      <td>0.0</td>\n      <td>0.0</td>\n      <td>0.0</td>\n      <td>0.0</td>\n    </tr>\n    <tr>\n      <th>2</th>\n      <td>100004</td>\n      <td>0</td>\n      <td>Revolving loans</td>\n      <td>M</td>\n      <td>Y</td>\n      <td>Y</td>\n      <td>0</td>\n      <td>67500.0</td>\n      <td>135000.0</td>\n      <td>6750.0</td>\n      <td>...</td>\n      <td>0</td>\n      <td>0</td>\n      <td>0</td>\n      <td>0</td>\n      <td>0.0</td>\n      <td>0.0</td>\n      <td>0.0</td>\n      <td>0.0</td>\n      <td>0.0</td>\n      <td>0.0</td>\n    </tr>\n    <tr>\n      <th>3</th>\n      <td>100006</td>\n      <td>0</td>\n      <td>Cash loans</td>\n      <td>F</td>\n      <td>N</td>\n      <td>Y</td>\n      <td>0</td>\n      <td>135000.0</td>\n      <td>312682.5</td>\n      <td>29686.5</td>\n      <td>...</td>\n      <td>0</td>\n      <td>0</td>\n      <td>0</td>\n      <td>0</td>\n      <td>NaN</td>\n      <td>NaN</td>\n      <td>NaN</td>\n      <td>NaN</td>\n      <td>NaN</td>\n      <td>NaN</td>\n    </tr>\n    <tr>\n      <th>4</th>\n      <td>100007</td>\n      <td>0</td>\n      <td>Cash loans</td>\n      <td>M</td>\n      <td>N</td>\n      <td>Y</td>\n      <td>0</td>\n      <td>121500.0</td>\n      <td>513000.0</td>\n      <td>21865.5</td>\n      <td>...</td>\n      <td>0</td>\n      <td>0</td>\n      <td>0</td>\n      <td>0</td>\n      <td>0.0</td>\n      <td>0.0</td>\n      <td>0.0</td>\n      <td>0.0</td>\n      <td>0.0</td>\n      <td>0.0</td>\n    </tr>\n  </tbody>\n</table>\n<p>5 rows × 122 columns</p>\n</div>"
     },
     "metadata": {},
     "execution_count": 50
    }
   ],
   "source": [
    "init_houseprice_data = pd.read_csv('../Week 3/creditinfo_train.csv')\n",
    "init_houseprice_data.head()"
   ]
  },
  {
   "cell_type": "code",
   "execution_count": 51,
   "metadata": {},
   "outputs": [
    {
     "output_type": "stream",
     "name": "stdout",
     "text": [
      "Data shape: (307511, 122)\n"
     ]
    }
   ],
   "source": [
    "print(f'Data shape: {init_houseprice_data.shape}')"
   ]
  },
  {
   "source": [
    "## Null check"
   ],
   "cell_type": "markdown",
   "metadata": {}
  },
  {
   "cell_type": "code",
   "execution_count": 52,
   "metadata": {},
   "outputs": [
    {
     "output_type": "stream",
     "name": "stdout",
     "text": [
      "All columns with null values:  67  columns\n"
     ]
    },
    {
     "output_type": "execute_result",
     "data": {
      "text/plain": [
       "COMMONAREA_MEDI             214865\n",
       "COMMONAREA_AVG              214865\n",
       "COMMONAREA_MODE             214865\n",
       "NONLIVINGAPARTMENTS_MODE    213514\n",
       "NONLIVINGAPARTMENTS_AVG     213514\n",
       "NONLIVINGAPARTMENTS_MEDI    213514\n",
       "FONDKAPREMONT_MODE          210295\n",
       "LIVINGAPARTMENTS_MODE       210199\n",
       "LIVINGAPARTMENTS_AVG        210199\n",
       "LIVINGAPARTMENTS_MEDI       210199\n",
       "FLOORSMIN_AVG               208642\n",
       "FLOORSMIN_MODE              208642\n",
       "FLOORSMIN_MEDI              208642\n",
       "YEARS_BUILD_MEDI            204488\n",
       "YEARS_BUILD_MODE            204488\n",
       "dtype: int64"
      ]
     },
     "metadata": {},
     "execution_count": 52
    }
   ],
   "source": [
    "row_count = init_houseprice_data.shape[0]\n",
    "null_count = init_houseprice_data.isnull().sum()\n",
    "null_cols = init_houseprice_data.columns[null_count > 0]\n",
    "print('All columns with null values: ', len(null_cols),' columns')\n",
    "null_count.sort_values(ascending=False).head(15)"
   ]
  },
  {
   "source": [
    "## Finding unusable columns\n",
    "Naively, I think that if a column is > 50% null, it's certainly unusable"
   ],
   "cell_type": "markdown",
   "metadata": {}
  },
  {
   "cell_type": "code",
   "execution_count": 53,
   "metadata": {},
   "outputs": [
    {
     "output_type": "stream",
     "name": "stdout",
     "text": [
      "Unusable Cols:  41\n"
     ]
    },
    {
     "output_type": "execute_result",
     "data": {
      "text/plain": [
       "Index(['OWN_CAR_AGE', 'EXT_SOURCE_1', 'APARTMENTS_AVG', 'BASEMENTAREA_AVG',\n",
       "       'YEARS_BUILD_AVG', 'COMMONAREA_AVG', 'ELEVATORS_AVG', 'ENTRANCES_AVG',\n",
       "       'FLOORSMIN_AVG', 'LANDAREA_AVG', 'LIVINGAPARTMENTS_AVG',\n",
       "       'LIVINGAREA_AVG', 'NONLIVINGAPARTMENTS_AVG', 'NONLIVINGAREA_AVG',\n",
       "       'APARTMENTS_MODE', 'BASEMENTAREA_MODE', 'YEARS_BUILD_MODE',\n",
       "       'COMMONAREA_MODE', 'ELEVATORS_MODE', 'ENTRANCES_MODE', 'FLOORSMIN_MODE',\n",
       "       'LANDAREA_MODE', 'LIVINGAPARTMENTS_MODE', 'LIVINGAREA_MODE',\n",
       "       'NONLIVINGAPARTMENTS_MODE', 'NONLIVINGAREA_MODE', 'APARTMENTS_MEDI',\n",
       "       'BASEMENTAREA_MEDI', 'YEARS_BUILD_MEDI', 'COMMONAREA_MEDI',\n",
       "       'ELEVATORS_MEDI', 'ENTRANCES_MEDI', 'FLOORSMIN_MEDI', 'LANDAREA_MEDI',\n",
       "       'LIVINGAPARTMENTS_MEDI', 'LIVINGAREA_MEDI', 'NONLIVINGAPARTMENTS_MEDI',\n",
       "       'NONLIVINGAREA_MEDI', 'FONDKAPREMONT_MODE', 'HOUSETYPE_MODE',\n",
       "       'WALLSMATERIAL_MODE'],\n",
       "      dtype='object')"
      ]
     },
     "metadata": {},
     "execution_count": 53
    }
   ],
   "source": [
    "null_count_normalized = init_houseprice_data[null_cols].isnull().sum() / row_count * 100\n",
    "unusable_cols = null_count_normalized.index[null_count_normalized > 50]\n",
    "print('Unusable Cols: ', len(unusable_cols))\n",
    "unusable_cols"
   ]
  },
  {
   "source": [
    "### After First Purge"
   ],
   "cell_type": "markdown",
   "metadata": {}
  },
  {
   "cell_type": "code",
   "execution_count": 54,
   "metadata": {},
   "outputs": [
    {
     "output_type": "stream",
     "name": "stdout",
     "text": [
      "After first Purge, columns left:  81\n"
     ]
    },
    {
     "output_type": "execute_result",
     "data": {
      "text/plain": [
       "Index(['SK_ID_CURR', 'TARGET', 'NAME_CONTRACT_TYPE', 'CODE_GENDER',\n",
       "       'FLAG_OWN_CAR', 'FLAG_OWN_REALTY', 'CNT_CHILDREN', 'AMT_INCOME_TOTAL',\n",
       "       'AMT_CREDIT', 'AMT_ANNUITY', 'AMT_GOODS_PRICE', 'NAME_TYPE_SUITE',\n",
       "       'NAME_INCOME_TYPE', 'NAME_EDUCATION_TYPE', 'NAME_FAMILY_STATUS',\n",
       "       'NAME_HOUSING_TYPE', 'REGION_POPULATION_RELATIVE', 'DAYS_BIRTH',\n",
       "       'DAYS_EMPLOYED', 'DAYS_REGISTRATION', 'DAYS_ID_PUBLISH', 'FLAG_MOBIL',\n",
       "       'FLAG_EMP_PHONE', 'FLAG_WORK_PHONE', 'FLAG_CONT_MOBILE', 'FLAG_PHONE',\n",
       "       'FLAG_EMAIL', 'OCCUPATION_TYPE', 'CNT_FAM_MEMBERS',\n",
       "       'REGION_RATING_CLIENT', 'REGION_RATING_CLIENT_W_CITY',\n",
       "       'WEEKDAY_APPR_PROCESS_START', 'HOUR_APPR_PROCESS_START',\n",
       "       'REG_REGION_NOT_LIVE_REGION', 'REG_REGION_NOT_WORK_REGION',\n",
       "       'LIVE_REGION_NOT_WORK_REGION', 'REG_CITY_NOT_LIVE_CITY',\n",
       "       'REG_CITY_NOT_WORK_CITY', 'LIVE_CITY_NOT_WORK_CITY',\n",
       "       'ORGANIZATION_TYPE', 'EXT_SOURCE_2', 'EXT_SOURCE_3',\n",
       "       'YEARS_BEGINEXPLUATATION_AVG', 'FLOORSMAX_AVG',\n",
       "       'YEARS_BEGINEXPLUATATION_MODE', 'FLOORSMAX_MODE',\n",
       "       'YEARS_BEGINEXPLUATATION_MEDI', 'FLOORSMAX_MEDI', 'TOTALAREA_MODE',\n",
       "       'EMERGENCYSTATE_MODE', 'OBS_30_CNT_SOCIAL_CIRCLE',\n",
       "       'DEF_30_CNT_SOCIAL_CIRCLE', 'OBS_60_CNT_SOCIAL_CIRCLE',\n",
       "       'DEF_60_CNT_SOCIAL_CIRCLE', 'DAYS_LAST_PHONE_CHANGE', 'FLAG_DOCUMENT_2',\n",
       "       'FLAG_DOCUMENT_3', 'FLAG_DOCUMENT_4', 'FLAG_DOCUMENT_5',\n",
       "       'FLAG_DOCUMENT_6', 'FLAG_DOCUMENT_7', 'FLAG_DOCUMENT_8',\n",
       "       'FLAG_DOCUMENT_9', 'FLAG_DOCUMENT_10', 'FLAG_DOCUMENT_11',\n",
       "       'FLAG_DOCUMENT_12', 'FLAG_DOCUMENT_13', 'FLAG_DOCUMENT_14',\n",
       "       'FLAG_DOCUMENT_15', 'FLAG_DOCUMENT_16', 'FLAG_DOCUMENT_17',\n",
       "       'FLAG_DOCUMENT_18', 'FLAG_DOCUMENT_19', 'FLAG_DOCUMENT_20',\n",
       "       'FLAG_DOCUMENT_21', 'AMT_REQ_CREDIT_BUREAU_HOUR',\n",
       "       'AMT_REQ_CREDIT_BUREAU_DAY', 'AMT_REQ_CREDIT_BUREAU_WEEK',\n",
       "       'AMT_REQ_CREDIT_BUREAU_MON', 'AMT_REQ_CREDIT_BUREAU_QRT',\n",
       "       'AMT_REQ_CREDIT_BUREAU_YEAR'],\n",
       "      dtype='object')"
      ]
     },
     "metadata": {},
     "execution_count": 54
    }
   ],
   "source": [
    "first_purge = init_houseprice_data.drop(columns= unusable_cols)\n",
    "print('After first Purge, columns left: ', first_purge.shape[1])\n",
    "first_purge.columns"
   ]
  },
  {
   "source": [
    "## Checking Attribute types and fill up null\n",
    "I'm just going to go for the naive aproach, filling the remaining missing cells with the **MODE** of each corresponding column. \n",
    "\n",
    "MODE is important here cause MEAN value may not be in the attribute's domain."
   ],
   "cell_type": "markdown",
   "metadata": {}
  },
  {
   "cell_type": "code",
   "execution_count": 55,
   "metadata": {},
   "outputs": [
    {
     "output_type": "display_data",
     "data": {
      "text/plain": "   SK_ID_CURR  TARGET NAME_CONTRACT_TYPE CODE_GENDER FLAG_OWN_CAR  \\\n0      100002       1         Cash loans           M            N   \n1      100003       0         Cash loans           F            N   \n2      100004       0    Revolving loans           M            Y   \n3      100006       0         Cash loans           F            N   \n4      100007       0         Cash loans           M            N   \n\n  FLAG_OWN_REALTY  CNT_CHILDREN  AMT_INCOME_TOTAL  AMT_CREDIT  AMT_ANNUITY  \\\n0               Y             0          202500.0    406597.5      24700.5   \n1               N             0          270000.0   1293502.5      35698.5   \n2               Y             0           67500.0    135000.0       6750.0   \n3               Y             0          135000.0    312682.5      29686.5   \n4               Y             0          121500.0    513000.0      21865.5   \n\n   ...  FLAG_DOCUMENT_18 FLAG_DOCUMENT_19 FLAG_DOCUMENT_20 FLAG_DOCUMENT_21  \\\n0  ...                 0                0                0                0   \n1  ...                 0                0                0                0   \n2  ...                 0                0                0                0   \n3  ...                 0                0                0                0   \n4  ...                 0                0                0                0   \n\n  AMT_REQ_CREDIT_BUREAU_HOUR AMT_REQ_CREDIT_BUREAU_DAY  \\\n0                        0.0                       0.0   \n1                        0.0                       0.0   \n2                        0.0                       0.0   \n3                        0.0                       0.0   \n4                        0.0                       0.0   \n\n   AMT_REQ_CREDIT_BUREAU_WEEK  AMT_REQ_CREDIT_BUREAU_MON  \\\n0                         0.0                        0.0   \n1                         0.0                        0.0   \n2                         0.0                        0.0   \n3                         0.0                        0.0   \n4                         0.0                        0.0   \n\n   AMT_REQ_CREDIT_BUREAU_QRT  AMT_REQ_CREDIT_BUREAU_YEAR  \n0                        0.0                         1.0  \n1                        0.0                         0.0  \n2                        0.0                         0.0  \n3                        0.0                         0.0  \n4                        0.0                         0.0  \n\n[5 rows x 81 columns]",
      "text/html": "<div>\n<style scoped>\n    .dataframe tbody tr th:only-of-type {\n        vertical-align: middle;\n    }\n\n    .dataframe tbody tr th {\n        vertical-align: top;\n    }\n\n    .dataframe thead th {\n        text-align: right;\n    }\n</style>\n<table border=\"1\" class=\"dataframe\">\n  <thead>\n    <tr style=\"text-align: right;\">\n      <th></th>\n      <th>SK_ID_CURR</th>\n      <th>TARGET</th>\n      <th>NAME_CONTRACT_TYPE</th>\n      <th>CODE_GENDER</th>\n      <th>FLAG_OWN_CAR</th>\n      <th>FLAG_OWN_REALTY</th>\n      <th>CNT_CHILDREN</th>\n      <th>AMT_INCOME_TOTAL</th>\n      <th>AMT_CREDIT</th>\n      <th>AMT_ANNUITY</th>\n      <th>...</th>\n      <th>FLAG_DOCUMENT_18</th>\n      <th>FLAG_DOCUMENT_19</th>\n      <th>FLAG_DOCUMENT_20</th>\n      <th>FLAG_DOCUMENT_21</th>\n      <th>AMT_REQ_CREDIT_BUREAU_HOUR</th>\n      <th>AMT_REQ_CREDIT_BUREAU_DAY</th>\n      <th>AMT_REQ_CREDIT_BUREAU_WEEK</th>\n      <th>AMT_REQ_CREDIT_BUREAU_MON</th>\n      <th>AMT_REQ_CREDIT_BUREAU_QRT</th>\n      <th>AMT_REQ_CREDIT_BUREAU_YEAR</th>\n    </tr>\n  </thead>\n  <tbody>\n    <tr>\n      <th>0</th>\n      <td>100002</td>\n      <td>1</td>\n      <td>Cash loans</td>\n      <td>M</td>\n      <td>N</td>\n      <td>Y</td>\n      <td>0</td>\n      <td>202500.0</td>\n      <td>406597.5</td>\n      <td>24700.5</td>\n      <td>...</td>\n      <td>0</td>\n      <td>0</td>\n      <td>0</td>\n      <td>0</td>\n      <td>0.0</td>\n      <td>0.0</td>\n      <td>0.0</td>\n      <td>0.0</td>\n      <td>0.0</td>\n      <td>1.0</td>\n    </tr>\n    <tr>\n      <th>1</th>\n      <td>100003</td>\n      <td>0</td>\n      <td>Cash loans</td>\n      <td>F</td>\n      <td>N</td>\n      <td>N</td>\n      <td>0</td>\n      <td>270000.0</td>\n      <td>1293502.5</td>\n      <td>35698.5</td>\n      <td>...</td>\n      <td>0</td>\n      <td>0</td>\n      <td>0</td>\n      <td>0</td>\n      <td>0.0</td>\n      <td>0.0</td>\n      <td>0.0</td>\n      <td>0.0</td>\n      <td>0.0</td>\n      <td>0.0</td>\n    </tr>\n    <tr>\n      <th>2</th>\n      <td>100004</td>\n      <td>0</td>\n      <td>Revolving loans</td>\n      <td>M</td>\n      <td>Y</td>\n      <td>Y</td>\n      <td>0</td>\n      <td>67500.0</td>\n      <td>135000.0</td>\n      <td>6750.0</td>\n      <td>...</td>\n      <td>0</td>\n      <td>0</td>\n      <td>0</td>\n      <td>0</td>\n      <td>0.0</td>\n      <td>0.0</td>\n      <td>0.0</td>\n      <td>0.0</td>\n      <td>0.0</td>\n      <td>0.0</td>\n    </tr>\n    <tr>\n      <th>3</th>\n      <td>100006</td>\n      <td>0</td>\n      <td>Cash loans</td>\n      <td>F</td>\n      <td>N</td>\n      <td>Y</td>\n      <td>0</td>\n      <td>135000.0</td>\n      <td>312682.5</td>\n      <td>29686.5</td>\n      <td>...</td>\n      <td>0</td>\n      <td>0</td>\n      <td>0</td>\n      <td>0</td>\n      <td>0.0</td>\n      <td>0.0</td>\n      <td>0.0</td>\n      <td>0.0</td>\n      <td>0.0</td>\n      <td>0.0</td>\n    </tr>\n    <tr>\n      <th>4</th>\n      <td>100007</td>\n      <td>0</td>\n      <td>Cash loans</td>\n      <td>M</td>\n      <td>N</td>\n      <td>Y</td>\n      <td>0</td>\n      <td>121500.0</td>\n      <td>513000.0</td>\n      <td>21865.5</td>\n      <td>...</td>\n      <td>0</td>\n      <td>0</td>\n      <td>0</td>\n      <td>0</td>\n      <td>0.0</td>\n      <td>0.0</td>\n      <td>0.0</td>\n      <td>0.0</td>\n      <td>0.0</td>\n      <td>0.0</td>\n    </tr>\n  </tbody>\n</table>\n<p>5 rows × 81 columns</p>\n</div>"
     },
     "metadata": {}
    },
    {
     "output_type": "stream",
     "name": "stdout",
     "text": [
      "Data Remains Null Value?  False\n"
     ]
    }
   ],
   "source": [
    "mode_fill_values = dict()\n",
    "for col in first_purge:\n",
    "    mode_fill_values[col] = first_purge[col].mode()[0]\n",
    "prob2_data = first_purge.fillna(mode_fill_values)\n",
    "display(prob2_data.head())\n",
    "print('Data Remains Null Value? ', prob2_data.isna().sum().any())"
   ]
  },
  {
   "source": [
    "## Building and Testing Model"
   ],
   "cell_type": "markdown",
   "metadata": {}
  },
  {
   "source": [
    "### Label Encoding"
   ],
   "cell_type": "markdown",
   "metadata": {}
  },
  {
   "source": [
    "categorical_columns = prob2_data.columns[prob2_data.dtypes == 'object']\n",
    "prob2_data[categorical_columns].nunique()"
   ],
   "cell_type": "code",
   "metadata": {},
   "execution_count": 56,
   "outputs": [
    {
     "output_type": "execute_result",
     "data": {
      "text/plain": [
       "NAME_CONTRACT_TYPE             2\n",
       "CODE_GENDER                    3\n",
       "FLAG_OWN_CAR                   2\n",
       "FLAG_OWN_REALTY                2\n",
       "NAME_TYPE_SUITE                7\n",
       "NAME_INCOME_TYPE               8\n",
       "NAME_EDUCATION_TYPE            5\n",
       "NAME_FAMILY_STATUS             6\n",
       "NAME_HOUSING_TYPE              6\n",
       "OCCUPATION_TYPE               18\n",
       "WEEKDAY_APPR_PROCESS_START     7\n",
       "ORGANIZATION_TYPE             58\n",
       "EMERGENCYSTATE_MODE            2\n",
       "dtype: int64"
      ]
     },
     "metadata": {},
     "execution_count": 56
    }
   ]
  },
  {
   "cell_type": "code",
   "execution_count": 57,
   "metadata": {},
   "outputs": [
    {
     "output_type": "execute_result",
     "data": {
      "text/plain": [
       "        NAME_CONTRACT_TYPE  CODE_GENDER  FLAG_OWN_CAR  FLAG_OWN_REALTY  \\\n",
       "0                        0            1             0                1   \n",
       "1                        0            0             0                0   \n",
       "2                        1            1             1                1   \n",
       "3                        0            0             0                1   \n",
       "4                        0            1             0                1   \n",
       "...                    ...          ...           ...              ...   \n",
       "307506                   0            1             0                0   \n",
       "307507                   0            0             0                1   \n",
       "307508                   0            0             0                1   \n",
       "307509                   0            0             0                1   \n",
       "307510                   0            0             0                0   \n",
       "\n",
       "        NAME_TYPE_SUITE  NAME_INCOME_TYPE  NAME_EDUCATION_TYPE  \\\n",
       "0                     6                 7                    4   \n",
       "1                     1                 4                    1   \n",
       "2                     6                 7                    4   \n",
       "3                     6                 7                    4   \n",
       "4                     6                 7                    4   \n",
       "...                 ...               ...                  ...   \n",
       "307506                6                 7                    4   \n",
       "307507                6                 3                    4   \n",
       "307508                6                 7                    1   \n",
       "307509                6                 1                    4   \n",
       "307510                6                 1                    1   \n",
       "\n",
       "        NAME_FAMILY_STATUS  NAME_HOUSING_TYPE  OCCUPATION_TYPE  \\\n",
       "0                        3                  1                8   \n",
       "1                        1                  1                3   \n",
       "2                        3                  1                8   \n",
       "3                        0                  1                8   \n",
       "4                        3                  1                3   \n",
       "...                    ...                ...              ...   \n",
       "307506                   2                  5               14   \n",
       "307507                   5                  1                8   \n",
       "307508                   2                  1               10   \n",
       "307509                   1                  1                8   \n",
       "307510                   1                  1                8   \n",
       "\n",
       "        WEEKDAY_APPR_PROCESS_START  ORGANIZATION_TYPE  EMERGENCYSTATE_MODE  \n",
       "0                                6                  5                    0  \n",
       "1                                1                 39                    0  \n",
       "2                                1                 11                    0  \n",
       "3                                6                  5                    0  \n",
       "4                                4                 37                    0  \n",
       "...                            ...                ...                  ...  \n",
       "307506                           4                 43                    0  \n",
       "307507                           1                 57                    0  \n",
       "307508                           4                 39                    0  \n",
       "307509                           6                  3                    0  \n",
       "307510                           4                  5                    0  \n",
       "\n",
       "[307511 rows x 13 columns]"
      ],
      "text/html": "<div>\n<style scoped>\n    .dataframe tbody tr th:only-of-type {\n        vertical-align: middle;\n    }\n\n    .dataframe tbody tr th {\n        vertical-align: top;\n    }\n\n    .dataframe thead th {\n        text-align: right;\n    }\n</style>\n<table border=\"1\" class=\"dataframe\">\n  <thead>\n    <tr style=\"text-align: right;\">\n      <th></th>\n      <th>NAME_CONTRACT_TYPE</th>\n      <th>CODE_GENDER</th>\n      <th>FLAG_OWN_CAR</th>\n      <th>FLAG_OWN_REALTY</th>\n      <th>NAME_TYPE_SUITE</th>\n      <th>NAME_INCOME_TYPE</th>\n      <th>NAME_EDUCATION_TYPE</th>\n      <th>NAME_FAMILY_STATUS</th>\n      <th>NAME_HOUSING_TYPE</th>\n      <th>OCCUPATION_TYPE</th>\n      <th>WEEKDAY_APPR_PROCESS_START</th>\n      <th>ORGANIZATION_TYPE</th>\n      <th>EMERGENCYSTATE_MODE</th>\n    </tr>\n  </thead>\n  <tbody>\n    <tr>\n      <th>0</th>\n      <td>0</td>\n      <td>1</td>\n      <td>0</td>\n      <td>1</td>\n      <td>6</td>\n      <td>7</td>\n      <td>4</td>\n      <td>3</td>\n      <td>1</td>\n      <td>8</td>\n      <td>6</td>\n      <td>5</td>\n      <td>0</td>\n    </tr>\n    <tr>\n      <th>1</th>\n      <td>0</td>\n      <td>0</td>\n      <td>0</td>\n      <td>0</td>\n      <td>1</td>\n      <td>4</td>\n      <td>1</td>\n      <td>1</td>\n      <td>1</td>\n      <td>3</td>\n      <td>1</td>\n      <td>39</td>\n      <td>0</td>\n    </tr>\n    <tr>\n      <th>2</th>\n      <td>1</td>\n      <td>1</td>\n      <td>1</td>\n      <td>1</td>\n      <td>6</td>\n      <td>7</td>\n      <td>4</td>\n      <td>3</td>\n      <td>1</td>\n      <td>8</td>\n      <td>1</td>\n      <td>11</td>\n      <td>0</td>\n    </tr>\n    <tr>\n      <th>3</th>\n      <td>0</td>\n      <td>0</td>\n      <td>0</td>\n      <td>1</td>\n      <td>6</td>\n      <td>7</td>\n      <td>4</td>\n      <td>0</td>\n      <td>1</td>\n      <td>8</td>\n      <td>6</td>\n      <td>5</td>\n      <td>0</td>\n    </tr>\n    <tr>\n      <th>4</th>\n      <td>0</td>\n      <td>1</td>\n      <td>0</td>\n      <td>1</td>\n      <td>6</td>\n      <td>7</td>\n      <td>4</td>\n      <td>3</td>\n      <td>1</td>\n      <td>3</td>\n      <td>4</td>\n      <td>37</td>\n      <td>0</td>\n    </tr>\n    <tr>\n      <th>...</th>\n      <td>...</td>\n      <td>...</td>\n      <td>...</td>\n      <td>...</td>\n      <td>...</td>\n      <td>...</td>\n      <td>...</td>\n      <td>...</td>\n      <td>...</td>\n      <td>...</td>\n      <td>...</td>\n      <td>...</td>\n      <td>...</td>\n    </tr>\n    <tr>\n      <th>307506</th>\n      <td>0</td>\n      <td>1</td>\n      <td>0</td>\n      <td>0</td>\n      <td>6</td>\n      <td>7</td>\n      <td>4</td>\n      <td>2</td>\n      <td>5</td>\n      <td>14</td>\n      <td>4</td>\n      <td>43</td>\n      <td>0</td>\n    </tr>\n    <tr>\n      <th>307507</th>\n      <td>0</td>\n      <td>0</td>\n      <td>0</td>\n      <td>1</td>\n      <td>6</td>\n      <td>3</td>\n      <td>4</td>\n      <td>5</td>\n      <td>1</td>\n      <td>8</td>\n      <td>1</td>\n      <td>57</td>\n      <td>0</td>\n    </tr>\n    <tr>\n      <th>307508</th>\n      <td>0</td>\n      <td>0</td>\n      <td>0</td>\n      <td>1</td>\n      <td>6</td>\n      <td>7</td>\n      <td>1</td>\n      <td>2</td>\n      <td>1</td>\n      <td>10</td>\n      <td>4</td>\n      <td>39</td>\n      <td>0</td>\n    </tr>\n    <tr>\n      <th>307509</th>\n      <td>0</td>\n      <td>0</td>\n      <td>0</td>\n      <td>1</td>\n      <td>6</td>\n      <td>1</td>\n      <td>4</td>\n      <td>1</td>\n      <td>1</td>\n      <td>8</td>\n      <td>6</td>\n      <td>3</td>\n      <td>0</td>\n    </tr>\n    <tr>\n      <th>307510</th>\n      <td>0</td>\n      <td>0</td>\n      <td>0</td>\n      <td>0</td>\n      <td>6</td>\n      <td>1</td>\n      <td>1</td>\n      <td>1</td>\n      <td>1</td>\n      <td>8</td>\n      <td>4</td>\n      <td>5</td>\n      <td>0</td>\n    </tr>\n  </tbody>\n</table>\n<p>307511 rows × 13 columns</p>\n</div>"
     },
     "metadata": {},
     "execution_count": 57
    }
   ],
   "source": [
    "from sklearn.preprocessing import LabelEncoder\n",
    "label_enc = LabelEncoder()\n",
    "\n",
    "for col in categorical_columns:\n",
    "    prob2_data[col] = label_enc.fit_transform(prob2_data[col])\n",
    "prob2_data[categorical_columns]"
   ]
  },
  {
   "source": [
    "### Let's pick attribute\n",
    "I'ma gonna pick the top 20 attributes correlated to our target\n",
    "Since i tried training the whole dataset naively and that did not go well :)"
   ],
   "cell_type": "markdown",
   "metadata": {}
  },
  {
   "source": [
    "def pick_top_related(data, topn):\n",
    "    target_corr = data.corr()['TARGET'].abs().sort_values(ascending = False)\n",
    "    display(target_corr.head(10))\n",
    "    return target_corr[1:topn+1].index\n",
    "picked_attributes = pick_top_related(prob2_data,20)\n",
    "picked_attributes"
   ],
   "cell_type": "code",
   "metadata": {},
   "execution_count": 58,
   "outputs": [
    {
     "output_type": "display_data",
     "data": {
      "text/plain": "TARGET                         1.000000\nEXT_SOURCE_2                   0.160039\nEXT_SOURCE_3                   0.127891\nDAYS_BIRTH                     0.078239\nREGION_RATING_CLIENT_W_CITY    0.060893\nREGION_RATING_CLIENT           0.058899\nDAYS_LAST_PHONE_CHANGE         0.055217\nNAME_EDUCATION_TYPE            0.054699\nCODE_GENDER                    0.054692\nDAYS_ID_PUBLISH                0.051457\nName: TARGET, dtype: float64"
     },
     "metadata": {}
    },
    {
     "output_type": "execute_result",
     "data": {
      "text/plain": [
       "Index(['EXT_SOURCE_2', 'EXT_SOURCE_3', 'DAYS_BIRTH',\n",
       "       'REGION_RATING_CLIENT_W_CITY', 'REGION_RATING_CLIENT',\n",
       "       'DAYS_LAST_PHONE_CHANGE', 'NAME_EDUCATION_TYPE', 'CODE_GENDER',\n",
       "       'DAYS_ID_PUBLISH', 'REG_CITY_NOT_WORK_CITY', 'NAME_INCOME_TYPE',\n",
       "       'FLAG_EMP_PHONE', 'DAYS_EMPLOYED', 'REG_CITY_NOT_LIVE_CITY',\n",
       "       'FLAG_DOCUMENT_3', 'DAYS_REGISTRATION', 'TOTALAREA_MODE',\n",
       "       'AMT_GOODS_PRICE', 'FLOORSMAX_AVG', 'FLOORSMAX_MEDI'],\n",
       "      dtype='object')"
      ]
     },
     "metadata": {},
     "execution_count": 58
    }
   ]
  },
  {
   "source": [
    "### Speparating, Standardize"
   ],
   "cell_type": "markdown",
   "metadata": {}
  },
  {
   "cell_type": "code",
   "execution_count": 59,
   "metadata": {},
   "outputs": [
    {
     "output_type": "stream",
     "name": "stdout",
     "text": [
      "Sizes: xtrain,ytrain: ((246008, 20), (246008,)), xtest,ytest: ((61503, 20), (61503,))\n"
     ]
    }
   ],
   "source": [
    "X = prob2_data[picked_attributes]\n",
    "Y = prob2_data['TARGET']\n",
    "\n",
    "from sklearn.preprocessing import StandardScaler\n",
    "X = StandardScaler().fit_transform(X)\n",
    "\n",
    "from sklearn.model_selection import train_test_split\n",
    "x_train, x_test, y_train, y_test = train_test_split(X,Y,test_size=0.2)\n",
    "\n",
    "print(f'Sizes: xtrain,ytrain: {x_train.shape, y_train.shape}, xtest,ytest: {x_test.shape,y_test.shape}')"
   ]
  },
  {
   "source": [
    "### Using Mini Batch Kmean\n",
    "\n",
    "**Used SVC but dint work, so i went to sklearn model choosing diagram and use their recomendation instead**\n",
    "\n",
    "Ended up with SGDClassifier. Does not know what it is but we'll see."
   ],
   "cell_type": "markdown",
   "metadata": {}
  },
  {
   "cell_type": "code",
   "execution_count": 60,
   "metadata": {},
   "outputs": [
    {
     "output_type": "stream",
     "name": "stdout",
     "text": [
      "Accuracy:  0.9192234525145115\n"
     ]
    }
   ],
   "source": [
    "from sklearn.svm import SVC\n",
    "from sklearn.linear_model import SGDClassifier\n",
    "cls = SGDClassifier()\n",
    "cls.fit(x_train,y_train)\n",
    "pred = cls.predict(x_test)\n",
    "\n",
    "from sklearn.metrics import accuracy_score\n",
    "acc = accuracy_score(y_test, pred)\n",
    "print('Accuracy: ', acc)"
   ]
  },
  {
   "source": [
    "### Let's see the actual predicted probabilities\n",
    "SGD does not have predict probabilities by default so we will use CalibratedClassifierCV"
   ],
   "cell_type": "markdown",
   "metadata": {}
  },
  {
   "cell_type": "code",
   "execution_count": 61,
   "metadata": {},
   "outputs": [
    {
     "output_type": "stream",
     "name": "stdout",
     "text": [
      "Predicted probability: \n"
     ]
    },
    {
     "output_type": "execute_result",
     "data": {
      "text/plain": [
       "array([[0.94400607, 0.05599393],\n",
       "       [0.9085432 , 0.0914568 ],\n",
       "       [0.88935251, 0.11064749],\n",
       "       ...,\n",
       "       [0.88651246, 0.11348754],\n",
       "       [0.8993303 , 0.1006697 ],\n",
       "       [0.91546436, 0.08453564]])"
      ]
     },
     "metadata": {},
     "execution_count": 61
    }
   ],
   "source": [
    "from sklearn.calibration import CalibratedClassifierCV\n",
    "calibrator = CalibratedClassifierCV(cls, cv = 'prefit')\n",
    "problem2_model = calibrator.fit(x_train,y_train)\n",
    "print('Predicted probability: ')\n",
    "problem2_model.predict_proba(x_test)"
   ]
  },
  {
   "source": [
    "## Predicting Test Set \n",
    "Now that we have our model, let's try it on the test set."
   ],
   "cell_type": "markdown",
   "metadata": {}
  },
  {
   "cell_type": "code",
   "execution_count": 62,
   "metadata": {},
   "outputs": [
    {
     "output_type": "stream",
     "name": "stdout",
     "text": [
      "Test shapes: (48744, 121)\n"
     ]
    },
    {
     "output_type": "display_data",
     "data": {
      "text/plain": "   SK_ID_CURR NAME_CONTRACT_TYPE CODE_GENDER FLAG_OWN_CAR FLAG_OWN_REALTY  \\\n0      100001         Cash loans           F            N               Y   \n1      100005         Cash loans           M            N               Y   \n2      100013         Cash loans           M            Y               Y   \n3      100028         Cash loans           F            N               Y   \n4      100038         Cash loans           M            Y               N   \n\n   CNT_CHILDREN  AMT_INCOME_TOTAL  AMT_CREDIT  AMT_ANNUITY  AMT_GOODS_PRICE  \\\n0             0          135000.0    568800.0      20560.5         450000.0   \n1             0           99000.0    222768.0      17370.0         180000.0   \n2             0          202500.0    663264.0      69777.0         630000.0   \n3             2          315000.0   1575000.0      49018.5        1575000.0   \n4             1          180000.0    625500.0      32067.0         625500.0   \n\n   ... FLAG_DOCUMENT_18 FLAG_DOCUMENT_19 FLAG_DOCUMENT_20 FLAG_DOCUMENT_21  \\\n0  ...                0                0                0                0   \n1  ...                0                0                0                0   \n2  ...                0                0                0                0   \n3  ...                0                0                0                0   \n4  ...                0                0                0                0   \n\n  AMT_REQ_CREDIT_BUREAU_HOUR  AMT_REQ_CREDIT_BUREAU_DAY  \\\n0                        0.0                        0.0   \n1                        0.0                        0.0   \n2                        0.0                        0.0   \n3                        0.0                        0.0   \n4                        NaN                        NaN   \n\n   AMT_REQ_CREDIT_BUREAU_WEEK  AMT_REQ_CREDIT_BUREAU_MON  \\\n0                         0.0                        0.0   \n1                         0.0                        0.0   \n2                         0.0                        0.0   \n3                         0.0                        0.0   \n4                         NaN                        NaN   \n\n   AMT_REQ_CREDIT_BUREAU_QRT  AMT_REQ_CREDIT_BUREAU_YEAR  \n0                        0.0                         0.0  \n1                        0.0                         3.0  \n2                        1.0                         4.0  \n3                        0.0                         3.0  \n4                        NaN                         NaN  \n\n[5 rows x 121 columns]",
      "text/html": "<div>\n<style scoped>\n    .dataframe tbody tr th:only-of-type {\n        vertical-align: middle;\n    }\n\n    .dataframe tbody tr th {\n        vertical-align: top;\n    }\n\n    .dataframe thead th {\n        text-align: right;\n    }\n</style>\n<table border=\"1\" class=\"dataframe\">\n  <thead>\n    <tr style=\"text-align: right;\">\n      <th></th>\n      <th>SK_ID_CURR</th>\n      <th>NAME_CONTRACT_TYPE</th>\n      <th>CODE_GENDER</th>\n      <th>FLAG_OWN_CAR</th>\n      <th>FLAG_OWN_REALTY</th>\n      <th>CNT_CHILDREN</th>\n      <th>AMT_INCOME_TOTAL</th>\n      <th>AMT_CREDIT</th>\n      <th>AMT_ANNUITY</th>\n      <th>AMT_GOODS_PRICE</th>\n      <th>...</th>\n      <th>FLAG_DOCUMENT_18</th>\n      <th>FLAG_DOCUMENT_19</th>\n      <th>FLAG_DOCUMENT_20</th>\n      <th>FLAG_DOCUMENT_21</th>\n      <th>AMT_REQ_CREDIT_BUREAU_HOUR</th>\n      <th>AMT_REQ_CREDIT_BUREAU_DAY</th>\n      <th>AMT_REQ_CREDIT_BUREAU_WEEK</th>\n      <th>AMT_REQ_CREDIT_BUREAU_MON</th>\n      <th>AMT_REQ_CREDIT_BUREAU_QRT</th>\n      <th>AMT_REQ_CREDIT_BUREAU_YEAR</th>\n    </tr>\n  </thead>\n  <tbody>\n    <tr>\n      <th>0</th>\n      <td>100001</td>\n      <td>Cash loans</td>\n      <td>F</td>\n      <td>N</td>\n      <td>Y</td>\n      <td>0</td>\n      <td>135000.0</td>\n      <td>568800.0</td>\n      <td>20560.5</td>\n      <td>450000.0</td>\n      <td>...</td>\n      <td>0</td>\n      <td>0</td>\n      <td>0</td>\n      <td>0</td>\n      <td>0.0</td>\n      <td>0.0</td>\n      <td>0.0</td>\n      <td>0.0</td>\n      <td>0.0</td>\n      <td>0.0</td>\n    </tr>\n    <tr>\n      <th>1</th>\n      <td>100005</td>\n      <td>Cash loans</td>\n      <td>M</td>\n      <td>N</td>\n      <td>Y</td>\n      <td>0</td>\n      <td>99000.0</td>\n      <td>222768.0</td>\n      <td>17370.0</td>\n      <td>180000.0</td>\n      <td>...</td>\n      <td>0</td>\n      <td>0</td>\n      <td>0</td>\n      <td>0</td>\n      <td>0.0</td>\n      <td>0.0</td>\n      <td>0.0</td>\n      <td>0.0</td>\n      <td>0.0</td>\n      <td>3.0</td>\n    </tr>\n    <tr>\n      <th>2</th>\n      <td>100013</td>\n      <td>Cash loans</td>\n      <td>M</td>\n      <td>Y</td>\n      <td>Y</td>\n      <td>0</td>\n      <td>202500.0</td>\n      <td>663264.0</td>\n      <td>69777.0</td>\n      <td>630000.0</td>\n      <td>...</td>\n      <td>0</td>\n      <td>0</td>\n      <td>0</td>\n      <td>0</td>\n      <td>0.0</td>\n      <td>0.0</td>\n      <td>0.0</td>\n      <td>0.0</td>\n      <td>1.0</td>\n      <td>4.0</td>\n    </tr>\n    <tr>\n      <th>3</th>\n      <td>100028</td>\n      <td>Cash loans</td>\n      <td>F</td>\n      <td>N</td>\n      <td>Y</td>\n      <td>2</td>\n      <td>315000.0</td>\n      <td>1575000.0</td>\n      <td>49018.5</td>\n      <td>1575000.0</td>\n      <td>...</td>\n      <td>0</td>\n      <td>0</td>\n      <td>0</td>\n      <td>0</td>\n      <td>0.0</td>\n      <td>0.0</td>\n      <td>0.0</td>\n      <td>0.0</td>\n      <td>0.0</td>\n      <td>3.0</td>\n    </tr>\n    <tr>\n      <th>4</th>\n      <td>100038</td>\n      <td>Cash loans</td>\n      <td>M</td>\n      <td>Y</td>\n      <td>N</td>\n      <td>1</td>\n      <td>180000.0</td>\n      <td>625500.0</td>\n      <td>32067.0</td>\n      <td>625500.0</td>\n      <td>...</td>\n      <td>0</td>\n      <td>0</td>\n      <td>0</td>\n      <td>0</td>\n      <td>NaN</td>\n      <td>NaN</td>\n      <td>NaN</td>\n      <td>NaN</td>\n      <td>NaN</td>\n      <td>NaN</td>\n    </tr>\n  </tbody>\n</table>\n<p>5 rows × 121 columns</p>\n</div>"
     },
     "metadata": {}
    }
   ],
   "source": [
    "test_data = pd.read_csv('./application_test.csv')\n",
    "test_ids = test_data['SK_ID_CURR']\n",
    "print(f'Test shapes: {test_data.shape}')\n",
    "display(test_data.head())"
   ]
  },
  {
   "source": [
    "### Encoding and Picking test data"
   ],
   "cell_type": "markdown",
   "metadata": {}
  },
  {
   "cell_type": "code",
   "execution_count": 68,
   "metadata": {},
   "outputs": [
    {
     "output_type": "execute_result",
     "data": {
      "text/plain": [
       "   EXT_SOURCE_2  EXT_SOURCE_3  DAYS_BIRTH  REGION_RATING_CLIENT_W_CITY  \\\n",
       "0      0.789654      0.159520      -19241                            2   \n",
       "1      0.291656      0.432962      -18064                            2   \n",
       "2      0.699787      0.610991      -20038                            2   \n",
       "3      0.509677      0.612704      -13976                            2   \n",
       "4      0.425687           NaN      -13040                            2   \n",
       "\n",
       "   REGION_RATING_CLIENT  DAYS_LAST_PHONE_CHANGE  NAME_EDUCATION_TYPE  \\\n",
       "0                     2                 -1740.0                    1   \n",
       "1                     2                     0.0                    4   \n",
       "2                     2                  -856.0                    1   \n",
       "3                     2                 -1805.0                    4   \n",
       "4                     2                  -821.0                    4   \n",
       "\n",
       "   CODE_GENDER  DAYS_ID_PUBLISH  REG_CITY_NOT_WORK_CITY  NAME_INCOME_TYPE  \\\n",
       "0            0             -812                       0                 6   \n",
       "1            1            -1623                       0                 6   \n",
       "2            1            -3503                       0                 6   \n",
       "3            0            -4208                       0                 6   \n",
       "4            1            -4262                       1                 6   \n",
       "\n",
       "   FLAG_EMP_PHONE  DAYS_EMPLOYED  REG_CITY_NOT_LIVE_CITY  FLAG_DOCUMENT_3  \\\n",
       "0               1          -2329                       0                1   \n",
       "1               1          -4469                       0                1   \n",
       "2               1          -4458                       0                0   \n",
       "3               1          -1866                       0                1   \n",
       "4               1          -2191                       0                1   \n",
       "\n",
       "   DAYS_REGISTRATION  TOTALAREA_MODE  AMT_GOODS_PRICE  FLOORSMAX_AVG  \\\n",
       "0            -5170.0          0.0392         450000.0          0.125   \n",
       "1            -9118.0             NaN         180000.0            NaN   \n",
       "2            -2175.0             NaN         630000.0            NaN   \n",
       "3            -2000.0          0.3700        1575000.0          0.375   \n",
       "4            -4000.0             NaN         625500.0            NaN   \n",
       "\n",
       "   FLOORSMAX_MEDI  \n",
       "0           0.125  \n",
       "1             NaN  \n",
       "2             NaN  \n",
       "3           0.375  \n",
       "4             NaN  "
      ],
      "text/html": "<div>\n<style scoped>\n    .dataframe tbody tr th:only-of-type {\n        vertical-align: middle;\n    }\n\n    .dataframe tbody tr th {\n        vertical-align: top;\n    }\n\n    .dataframe thead th {\n        text-align: right;\n    }\n</style>\n<table border=\"1\" class=\"dataframe\">\n  <thead>\n    <tr style=\"text-align: right;\">\n      <th></th>\n      <th>EXT_SOURCE_2</th>\n      <th>EXT_SOURCE_3</th>\n      <th>DAYS_BIRTH</th>\n      <th>REGION_RATING_CLIENT_W_CITY</th>\n      <th>REGION_RATING_CLIENT</th>\n      <th>DAYS_LAST_PHONE_CHANGE</th>\n      <th>NAME_EDUCATION_TYPE</th>\n      <th>CODE_GENDER</th>\n      <th>DAYS_ID_PUBLISH</th>\n      <th>REG_CITY_NOT_WORK_CITY</th>\n      <th>NAME_INCOME_TYPE</th>\n      <th>FLAG_EMP_PHONE</th>\n      <th>DAYS_EMPLOYED</th>\n      <th>REG_CITY_NOT_LIVE_CITY</th>\n      <th>FLAG_DOCUMENT_3</th>\n      <th>DAYS_REGISTRATION</th>\n      <th>TOTALAREA_MODE</th>\n      <th>AMT_GOODS_PRICE</th>\n      <th>FLOORSMAX_AVG</th>\n      <th>FLOORSMAX_MEDI</th>\n    </tr>\n  </thead>\n  <tbody>\n    <tr>\n      <th>0</th>\n      <td>0.789654</td>\n      <td>0.159520</td>\n      <td>-19241</td>\n      <td>2</td>\n      <td>2</td>\n      <td>-1740.0</td>\n      <td>1</td>\n      <td>0</td>\n      <td>-812</td>\n      <td>0</td>\n      <td>6</td>\n      <td>1</td>\n      <td>-2329</td>\n      <td>0</td>\n      <td>1</td>\n      <td>-5170.0</td>\n      <td>0.0392</td>\n      <td>450000.0</td>\n      <td>0.125</td>\n      <td>0.125</td>\n    </tr>\n    <tr>\n      <th>1</th>\n      <td>0.291656</td>\n      <td>0.432962</td>\n      <td>-18064</td>\n      <td>2</td>\n      <td>2</td>\n      <td>0.0</td>\n      <td>4</td>\n      <td>1</td>\n      <td>-1623</td>\n      <td>0</td>\n      <td>6</td>\n      <td>1</td>\n      <td>-4469</td>\n      <td>0</td>\n      <td>1</td>\n      <td>-9118.0</td>\n      <td>NaN</td>\n      <td>180000.0</td>\n      <td>NaN</td>\n      <td>NaN</td>\n    </tr>\n    <tr>\n      <th>2</th>\n      <td>0.699787</td>\n      <td>0.610991</td>\n      <td>-20038</td>\n      <td>2</td>\n      <td>2</td>\n      <td>-856.0</td>\n      <td>1</td>\n      <td>1</td>\n      <td>-3503</td>\n      <td>0</td>\n      <td>6</td>\n      <td>1</td>\n      <td>-4458</td>\n      <td>0</td>\n      <td>0</td>\n      <td>-2175.0</td>\n      <td>NaN</td>\n      <td>630000.0</td>\n      <td>NaN</td>\n      <td>NaN</td>\n    </tr>\n    <tr>\n      <th>3</th>\n      <td>0.509677</td>\n      <td>0.612704</td>\n      <td>-13976</td>\n      <td>2</td>\n      <td>2</td>\n      <td>-1805.0</td>\n      <td>4</td>\n      <td>0</td>\n      <td>-4208</td>\n      <td>0</td>\n      <td>6</td>\n      <td>1</td>\n      <td>-1866</td>\n      <td>0</td>\n      <td>1</td>\n      <td>-2000.0</td>\n      <td>0.3700</td>\n      <td>1575000.0</td>\n      <td>0.375</td>\n      <td>0.375</td>\n    </tr>\n    <tr>\n      <th>4</th>\n      <td>0.425687</td>\n      <td>NaN</td>\n      <td>-13040</td>\n      <td>2</td>\n      <td>2</td>\n      <td>-821.0</td>\n      <td>4</td>\n      <td>1</td>\n      <td>-4262</td>\n      <td>1</td>\n      <td>6</td>\n      <td>1</td>\n      <td>-2191</td>\n      <td>0</td>\n      <td>1</td>\n      <td>-4000.0</td>\n      <td>NaN</td>\n      <td>625500.0</td>\n      <td>NaN</td>\n      <td>NaN</td>\n    </tr>\n  </tbody>\n</table>\n</div>"
     },
     "metadata": {},
     "execution_count": 68
    }
   ],
   "source": [
    "prob2_xtest = test_data.copy()\n",
    "for col in categorical_columns:\n",
    "    prob2_xtest[col] = label_enc.fit_transform(test_data[col])\n",
    "prob2_xtest = prob2_xtest[picked_attributes]\n",
    "prob2_xtest.head()"
   ]
  },
  {
   "source": [
    "### Filling the Nulls?\n",
    "I'm not sure if this should be done."
   ],
   "cell_type": "markdown",
   "metadata": {}
  },
  {
   "cell_type": "code",
   "execution_count": 69,
   "metadata": {},
   "outputs": [
    {
     "output_type": "display_data",
     "data": {
      "text/plain": "   EXT_SOURCE_2  EXT_SOURCE_3  DAYS_BIRTH  REGION_RATING_CLIENT_W_CITY  \\\n0      0.789654      0.159520      -19241                            2   \n1      0.291656      0.432962      -18064                            2   \n2      0.699787      0.610991      -20038                            2   \n3      0.509677      0.612704      -13976                            2   \n4      0.425687      0.706205      -13040                            2   \n\n   REGION_RATING_CLIENT  DAYS_LAST_PHONE_CHANGE  NAME_EDUCATION_TYPE  \\\n0                     2                 -1740.0                    1   \n1                     2                     0.0                    4   \n2                     2                  -856.0                    1   \n3                     2                 -1805.0                    4   \n4                     2                  -821.0                    4   \n\n   CODE_GENDER  DAYS_ID_PUBLISH  REG_CITY_NOT_WORK_CITY  NAME_INCOME_TYPE  \\\n0            0             -812                       0                 6   \n1            1            -1623                       0                 6   \n2            1            -3503                       0                 6   \n3            0            -4208                       0                 6   \n4            1            -4262                       1                 6   \n\n   FLAG_EMP_PHONE  DAYS_EMPLOYED  REG_CITY_NOT_LIVE_CITY  FLAG_DOCUMENT_3  \\\n0               1          -2329                       0                1   \n1               1          -4469                       0                1   \n2               1          -4458                       0                0   \n3               1          -1866                       0                1   \n4               1          -2191                       0                1   \n\n   DAYS_REGISTRATION  TOTALAREA_MODE  AMT_GOODS_PRICE  FLOORSMAX_AVG  \\\n0            -5170.0          0.0392         450000.0         0.1250   \n1            -9118.0          0.0000         180000.0         0.1667   \n2            -2175.0          0.0000         630000.0         0.1667   \n3            -2000.0          0.3700        1575000.0         0.3750   \n4            -4000.0          0.0000         625500.0         0.1667   \n\n   FLOORSMAX_MEDI  \n0          0.1250  \n1          0.1667  \n2          0.1667  \n3          0.3750  \n4          0.1667  ",
      "text/html": "<div>\n<style scoped>\n    .dataframe tbody tr th:only-of-type {\n        vertical-align: middle;\n    }\n\n    .dataframe tbody tr th {\n        vertical-align: top;\n    }\n\n    .dataframe thead th {\n        text-align: right;\n    }\n</style>\n<table border=\"1\" class=\"dataframe\">\n  <thead>\n    <tr style=\"text-align: right;\">\n      <th></th>\n      <th>EXT_SOURCE_2</th>\n      <th>EXT_SOURCE_3</th>\n      <th>DAYS_BIRTH</th>\n      <th>REGION_RATING_CLIENT_W_CITY</th>\n      <th>REGION_RATING_CLIENT</th>\n      <th>DAYS_LAST_PHONE_CHANGE</th>\n      <th>NAME_EDUCATION_TYPE</th>\n      <th>CODE_GENDER</th>\n      <th>DAYS_ID_PUBLISH</th>\n      <th>REG_CITY_NOT_WORK_CITY</th>\n      <th>NAME_INCOME_TYPE</th>\n      <th>FLAG_EMP_PHONE</th>\n      <th>DAYS_EMPLOYED</th>\n      <th>REG_CITY_NOT_LIVE_CITY</th>\n      <th>FLAG_DOCUMENT_3</th>\n      <th>DAYS_REGISTRATION</th>\n      <th>TOTALAREA_MODE</th>\n      <th>AMT_GOODS_PRICE</th>\n      <th>FLOORSMAX_AVG</th>\n      <th>FLOORSMAX_MEDI</th>\n    </tr>\n  </thead>\n  <tbody>\n    <tr>\n      <th>0</th>\n      <td>0.789654</td>\n      <td>0.159520</td>\n      <td>-19241</td>\n      <td>2</td>\n      <td>2</td>\n      <td>-1740.0</td>\n      <td>1</td>\n      <td>0</td>\n      <td>-812</td>\n      <td>0</td>\n      <td>6</td>\n      <td>1</td>\n      <td>-2329</td>\n      <td>0</td>\n      <td>1</td>\n      <td>-5170.0</td>\n      <td>0.0392</td>\n      <td>450000.0</td>\n      <td>0.1250</td>\n      <td>0.1250</td>\n    </tr>\n    <tr>\n      <th>1</th>\n      <td>0.291656</td>\n      <td>0.432962</td>\n      <td>-18064</td>\n      <td>2</td>\n      <td>2</td>\n      <td>0.0</td>\n      <td>4</td>\n      <td>1</td>\n      <td>-1623</td>\n      <td>0</td>\n      <td>6</td>\n      <td>1</td>\n      <td>-4469</td>\n      <td>0</td>\n      <td>1</td>\n      <td>-9118.0</td>\n      <td>0.0000</td>\n      <td>180000.0</td>\n      <td>0.1667</td>\n      <td>0.1667</td>\n    </tr>\n    <tr>\n      <th>2</th>\n      <td>0.699787</td>\n      <td>0.610991</td>\n      <td>-20038</td>\n      <td>2</td>\n      <td>2</td>\n      <td>-856.0</td>\n      <td>1</td>\n      <td>1</td>\n      <td>-3503</td>\n      <td>0</td>\n      <td>6</td>\n      <td>1</td>\n      <td>-4458</td>\n      <td>0</td>\n      <td>0</td>\n      <td>-2175.0</td>\n      <td>0.0000</td>\n      <td>630000.0</td>\n      <td>0.1667</td>\n      <td>0.1667</td>\n    </tr>\n    <tr>\n      <th>3</th>\n      <td>0.509677</td>\n      <td>0.612704</td>\n      <td>-13976</td>\n      <td>2</td>\n      <td>2</td>\n      <td>-1805.0</td>\n      <td>4</td>\n      <td>0</td>\n      <td>-4208</td>\n      <td>0</td>\n      <td>6</td>\n      <td>1</td>\n      <td>-1866</td>\n      <td>0</td>\n      <td>1</td>\n      <td>-2000.0</td>\n      <td>0.3700</td>\n      <td>1575000.0</td>\n      <td>0.3750</td>\n      <td>0.3750</td>\n    </tr>\n    <tr>\n      <th>4</th>\n      <td>0.425687</td>\n      <td>0.706205</td>\n      <td>-13040</td>\n      <td>2</td>\n      <td>2</td>\n      <td>-821.0</td>\n      <td>4</td>\n      <td>1</td>\n      <td>-4262</td>\n      <td>1</td>\n      <td>6</td>\n      <td>1</td>\n      <td>-2191</td>\n      <td>0</td>\n      <td>1</td>\n      <td>-4000.0</td>\n      <td>0.0000</td>\n      <td>625500.0</td>\n      <td>0.1667</td>\n      <td>0.1667</td>\n    </tr>\n  </tbody>\n</table>\n</div>"
     },
     "metadata": {}
    },
    {
     "output_type": "stream",
     "name": "stdout",
     "text": [
      "Data Remains Null Value?  False\n"
     ]
    }
   ],
   "source": [
    "mode_fill_values = dict()\n",
    "for col in prob2_xtest:\n",
    "    mode_fill_values[col] = prob2_xtest[col].mode()[0]\n",
    "prob2_xtest = prob2_xtest.fillna(mode_fill_values)\n",
    "display(prob2_xtest.head())\n",
    "print('Data Remains Null Value? ', prob2_xtest.isna().sum().any())"
   ]
  },
  {
   "source": [
    "### Standardize "
   ],
   "cell_type": "markdown",
   "metadata": {}
  },
  {
   "cell_type": "code",
   "execution_count": 71,
   "metadata": {},
   "outputs": [
    {
     "output_type": "execute_result",
     "data": {
      "text/plain": [
       "array([[ 1.4985808 , -1.99561188, -0.73347688, ..., -0.03747724,\n",
       "        -0.68705158, -0.68384094],\n",
       "       [-1.24845678, -0.54907933, -0.46139201, ..., -0.83936194,\n",
       "        -0.31326363, -0.31039554],\n",
       "       [ 1.00285782,  0.39271301, -0.91771788, ...,  0.49711256,\n",
       "        -0.31326363, -0.31039554],\n",
       "       ...,\n",
       "       [ 0.63318027, -1.33862363,  0.0337701 , ..., -0.43841959,\n",
       "         1.18009541,  1.18159497],\n",
       "       [-0.39871853,  0.31053085,  0.48547261, ..., -0.03747724,\n",
       "         3.79481828,  3.79392168],\n",
       "       [-0.33892518, -1.3998733 ,  0.48685962, ..., -0.57206704,\n",
       "        -0.31326363, -0.31039554]])"
      ]
     },
     "metadata": {},
     "execution_count": 71
    }
   ],
   "source": [
    "prob2_xtest = StandardScaler().fit_transform(prob2_xtest)\n",
    "prob2_xtest"
   ]
  },
  {
   "source": [
    "## Using model to predict\n",
    "And output to csv"
   ],
   "cell_type": "markdown",
   "metadata": {}
  },
  {
   "cell_type": "code",
   "execution_count": 90,
   "metadata": {},
   "outputs": [
    {
     "output_type": "execute_result",
     "data": {
      "text/plain": [
       "              TARGET\n",
       "SK_ID_CURR          \n",
       "100001      0.921250\n",
       "100005      0.917337\n",
       "100013      0.928602\n",
       "100028      0.913128\n",
       "100038      0.916343"
      ],
      "text/html": "<div>\n<style scoped>\n    .dataframe tbody tr th:only-of-type {\n        vertical-align: middle;\n    }\n\n    .dataframe tbody tr th {\n        vertical-align: top;\n    }\n\n    .dataframe thead th {\n        text-align: right;\n    }\n</style>\n<table border=\"1\" class=\"dataframe\">\n  <thead>\n    <tr style=\"text-align: right;\">\n      <th></th>\n      <th>TARGET</th>\n    </tr>\n    <tr>\n      <th>SK_ID_CURR</th>\n      <th></th>\n    </tr>\n  </thead>\n  <tbody>\n    <tr>\n      <th>100001</th>\n      <td>0.921250</td>\n    </tr>\n    <tr>\n      <th>100005</th>\n      <td>0.917337</td>\n    </tr>\n    <tr>\n      <th>100013</th>\n      <td>0.928602</td>\n    </tr>\n    <tr>\n      <th>100028</th>\n      <td>0.913128</td>\n    </tr>\n    <tr>\n      <th>100038</th>\n      <td>0.916343</td>\n    </tr>\n  </tbody>\n</table>\n</div>"
     },
     "metadata": {},
     "execution_count": 90
    }
   ],
   "source": [
    "model.fit(x_train,y_train)\n",
    "summision_result = pd.DataFrame(\n",
    "    index = test_ids,\n",
    "    data = model.predict_proba(prob2_xtest)[:,0],\n",
    "    columns = ['TARGET']\n",
    ")\n",
    "summision_result.to_csv('./predicted_submission_p2.csv')\n",
    "summision_result.head()"
   ]
  },
  {
   "source": [
    "## PROBLEM 2 RESULT\n",
    "** So i've uploaded to Kaggle and got 0.46684 score** Yey me!\n",
    "![image](kaggle_result_p2.PNG)"
   ],
   "cell_type": "markdown",
   "metadata": {}
  },
  {
   "source": [
    "## Investigating other lesser null columns"
   ],
   "cell_type": "markdown",
   "metadata": {}
  },
  {
   "cell_type": "code",
   "execution_count": 66,
   "metadata": {},
   "outputs": [
    {
     "output_type": "stream",
     "name": "stdout",
     "text": [
      "Colums with more than 20% or ~61502.2 null tuple (of total 307511): 9\n"
     ]
    },
    {
     "output_type": "execute_result",
     "data": {
      "text/plain": [
       "Index(['OCCUPATION_TYPE', 'YEARS_BEGINEXPLUATATION_AVG', 'FLOORSMAX_AVG',\n",
       "       'YEARS_BEGINEXPLUATATION_MODE', 'FLOORSMAX_MODE',\n",
       "       'YEARS_BEGINEXPLUATATION_MEDI', 'FLOORSMAX_MEDI', 'TOTALAREA_MODE',\n",
       "       'EMERGENCYSTATE_MODE'],\n",
       "      dtype='object')"
      ]
     },
     "metadata": {},
     "execution_count": 66
    }
   ],
   "source": [
    "second_threshold = 20\n",
    "null_count_normalized = first_purge.isnull().sum() / row_count * 100\n",
    "lesser_null_cols = null_count_normalized.index[null_count_normalized > second_threshold]\n",
    "print(f'Colums with more than {second_threshold}% or ~{second_threshold*row_count/100} null tuple (of total {row_count}): {len(lesser_null_cols)}')\n",
    "lesser_null_cols"
   ]
  },
  {
   "source": [
    "### Description on above attributes:\n",
    "\"Normalized information about building where the client lives, What is average (_AVG suffix), modus (_MODE suffix), median (_MEDI suffix) apartment size, common area, living area, age of building, number of elevators, number of entrances, state of the building, number of floor\",normalized\n"
   ],
   "cell_type": "markdown",
   "metadata": {}
  },
  {
   "source": [
    "## Confession\n",
    "### To be completely honest, i think my top down approach is not working, due to reasons below\n",
    "- The data set is wayy to big with so many attributes\n",
    "\n",
    "- I dont understand many of the attributes presented, examples:\n",
    "    - The group of attributes describing normalized values of where the customer live (APARTMENTS_AVG\tBASEMENTAREA_AVG, YEARS_BEGINEXPLUATATION_AVG, ... ) - This have 3 sufixes (AVG, MODE, MEDI)\n",
    "    - Flag document attributes\n",
    "    - And many others i have not read through\n",
    "### So ima opting for another aproach for this assignment\n",
    "- Choosing relevant attributes that i understand and 'straight forward' in nature\n",
    "- Clean them up and then make a model.\n",
    "    "
   ],
   "cell_type": "markdown",
   "metadata": {}
  }
 ]
}