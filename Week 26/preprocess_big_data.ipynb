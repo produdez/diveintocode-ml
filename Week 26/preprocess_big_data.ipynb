{
 "cells": [
  {
   "cell_type": "markdown",
   "metadata": {},
   "source": [
    "# Quickly take some data and remove the rest"
   ]
  },
  {
   "cell_type": "code",
   "execution_count": 55,
   "metadata": {},
   "outputs": [],
   "source": [
    "import pandas as pd"
   ]
  },
  {
   "cell_type": "code",
   "execution_count": 56,
   "metadata": {},
   "outputs": [
    {
     "name": "stdout",
     "output_type": "stream",
     "text": [
      " Volume in drive F is Work\n",
      " Volume Serial Number is 8A90-304F\n",
      "\n",
      " Directory of f:\\Projects\\DiveIntoCode\\Data\\Big\\competition_data\n",
      "\n",
      "11-Jul-18  05:51 PM    <DIR>          .\n",
      "11-Jul-18  05:51 PM    <DIR>          ..\n",
      "11-Jul-18  05:51 PM             6,148 .DS_Store\n",
      "11-Jul-18  12:40 PM           329,525 depths.csv\n",
      "11-Jul-18  12:40 PM           270,012 sample_submission.csv\n",
      "11-Jul-18  12:19 PM    <DIR>          test\n",
      "11-Jul-18  12:19 PM    <DIR>          train\n",
      "11-Jul-18  12:40 PM           943,702 train.csv\n",
      "               4 File(s)      1,549,387 bytes\n",
      "               4 Dir(s)  396,698,415,104 bytes free\n"
     ]
    }
   ],
   "source": [
    "# data location\n",
    "%ls ..\\Data\\Big\\competition_data\n",
    "DATA_PATH = '../Data/Big/competition_data'"
   ]
  },
  {
   "cell_type": "code",
   "execution_count": 57,
   "metadata": {},
   "outputs": [
    {
     "name": "stdout",
     "output_type": "stream",
     "text": [
      "Shapes:  [(4000, 2), (18000, 2), (22000, 2)]\n"
     ]
    },
    {
     "data": {
      "text/html": [
       "<div>\n",
       "<style scoped>\n",
       "    .dataframe tbody tr th:only-of-type {\n",
       "        vertical-align: middle;\n",
       "    }\n",
       "\n",
       "    .dataframe tbody tr th {\n",
       "        vertical-align: top;\n",
       "    }\n",
       "\n",
       "    .dataframe thead th {\n",
       "        text-align: right;\n",
       "    }\n",
       "</style>\n",
       "<table border=\"1\" class=\"dataframe\">\n",
       "  <thead>\n",
       "    <tr style=\"text-align: right;\">\n",
       "      <th></th>\n",
       "      <th>id</th>\n",
       "      <th>rle_mask</th>\n",
       "    </tr>\n",
       "  </thead>\n",
       "  <tbody>\n",
       "    <tr>\n",
       "      <th>0</th>\n",
       "      <td>2c45b152f1</td>\n",
       "      <td>99 3 197 6 295 9 395 10 494 12 594 13 694 14 7...</td>\n",
       "    </tr>\n",
       "    <tr>\n",
       "      <th>1</th>\n",
       "      <td>3cb59a4fdc</td>\n",
       "      <td>1 5656</td>\n",
       "    </tr>\n",
       "    <tr>\n",
       "      <th>2</th>\n",
       "      <td>e185ab5dc1</td>\n",
       "      <td>4647 2 4748 10 4849 18 4950 25 5051 29 5152 34...</td>\n",
       "    </tr>\n",
       "    <tr>\n",
       "      <th>3</th>\n",
       "      <td>c78c89577c</td>\n",
       "      <td>101 1</td>\n",
       "    </tr>\n",
       "    <tr>\n",
       "      <th>4</th>\n",
       "      <td>6306dd3a8e</td>\n",
       "      <td>1 30 102 29 203 29 304 28 405 27 506 27 607 26...</td>\n",
       "    </tr>\n",
       "  </tbody>\n",
       "</table>\n",
       "</div>"
      ],
      "text/plain": [
       "           id                                           rle_mask\n",
       "0  2c45b152f1  99 3 197 6 295 9 395 10 494 12 594 13 694 14 7...\n",
       "1  3cb59a4fdc                                             1 5656\n",
       "2  e185ab5dc1  4647 2 4748 10 4849 18 4950 25 5051 29 5152 34...\n",
       "3  c78c89577c                                              101 1\n",
       "4  6306dd3a8e  1 30 102 29 203 29 304 28 405 27 506 27 607 26..."
      ]
     },
     "execution_count": 57,
     "metadata": {},
     "output_type": "execute_result"
    }
   ],
   "source": [
    "train = pd.read_csv(f'{DATA_PATH}/train.csv')\n",
    "sample_submission = pd.read_csv(f'{DATA_PATH}/sample_submission.csv')\n",
    "depth = pd.read_csv(f'{DATA_PATH}/depths.csv')\n",
    "print('Shapes: ', [x.shape for x in [train,sample_submission, depth]])\n",
    "train.head()"
   ]
  },
  {
   "cell_type": "code",
   "execution_count": 58,
   "metadata": {},
   "outputs": [
    {
     "name": "stdout",
     "output_type": "stream",
     "text": [
      "(1000, 2)\n"
     ]
    },
    {
     "data": {
      "text/html": [
       "<div>\n",
       "<style scoped>\n",
       "    .dataframe tbody tr th:only-of-type {\n",
       "        vertical-align: middle;\n",
       "    }\n",
       "\n",
       "    .dataframe tbody tr th {\n",
       "        vertical-align: top;\n",
       "    }\n",
       "\n",
       "    .dataframe thead th {\n",
       "        text-align: right;\n",
       "    }\n",
       "</style>\n",
       "<table border=\"1\" class=\"dataframe\">\n",
       "  <thead>\n",
       "    <tr style=\"text-align: right;\">\n",
       "      <th></th>\n",
       "      <th>id</th>\n",
       "      <th>rle_mask</th>\n",
       "    </tr>\n",
       "  </thead>\n",
       "  <tbody>\n",
       "    <tr>\n",
       "      <th>359</th>\n",
       "      <td>668b41c03e</td>\n",
       "      <td>5455 1 5556 3 5657 5 5758 7 5859 8 5960 9 6061...</td>\n",
       "    </tr>\n",
       "    <tr>\n",
       "      <th>366</th>\n",
       "      <td>fa752c35ca</td>\n",
       "      <td>1 9191 9193 100 9295 99 9398 97 9501 95 9604 9...</td>\n",
       "    </tr>\n",
       "    <tr>\n",
       "      <th>2040</th>\n",
       "      <td>73a2f6fb22</td>\n",
       "      <td>1 4 102 6 203 8 304 13 405 19 506 23 607 25 70...</td>\n",
       "    </tr>\n",
       "    <tr>\n",
       "      <th>1566</th>\n",
       "      <td>739a9ab34a</td>\n",
       "      <td>10200 2</td>\n",
       "    </tr>\n",
       "    <tr>\n",
       "      <th>3173</th>\n",
       "      <td>a568cc8273</td>\n",
       "      <td>1942 5 2043 8 2144 12 2245 15 2346 18 2446 23 ...</td>\n",
       "    </tr>\n",
       "  </tbody>\n",
       "</table>\n",
       "</div>"
      ],
      "text/plain": [
       "              id                                           rle_mask\n",
       "359   668b41c03e  5455 1 5556 3 5657 5 5758 7 5859 8 5960 9 6061...\n",
       "366   fa752c35ca  1 9191 9193 100 9295 99 9398 97 9501 95 9604 9...\n",
       "2040  73a2f6fb22  1 4 102 6 203 8 304 13 405 19 506 23 607 25 70...\n",
       "1566  739a9ab34a                                            10200 2\n",
       "3173  a568cc8273  1942 5 2043 8 2144 12 2245 15 2346 18 2446 23 ..."
      ]
     },
     "execution_count": 58,
     "metadata": {},
     "output_type": "execute_result"
    }
   ],
   "source": [
    "\n",
    "pruned_train = train.dropna().sample(1000)\n",
    "print(pruned_train.shape)\n",
    "pruned_train.head()"
   ]
  },
  {
   "cell_type": "code",
   "execution_count": 59,
   "metadata": {},
   "outputs": [
    {
     "name": "stdout",
     "output_type": "stream",
     "text": [
      "(1000, 2)\n"
     ]
    },
    {
     "data": {
      "text/html": [
       "<div>\n",
       "<style scoped>\n",
       "    .dataframe tbody tr th:only-of-type {\n",
       "        vertical-align: middle;\n",
       "    }\n",
       "\n",
       "    .dataframe tbody tr th {\n",
       "        vertical-align: top;\n",
       "    }\n",
       "\n",
       "    .dataframe thead th {\n",
       "        text-align: right;\n",
       "    }\n",
       "</style>\n",
       "<table border=\"1\" class=\"dataframe\">\n",
       "  <thead>\n",
       "    <tr style=\"text-align: right;\">\n",
       "      <th></th>\n",
       "      <th>id</th>\n",
       "      <th>rle_mask</th>\n",
       "    </tr>\n",
       "  </thead>\n",
       "  <tbody>\n",
       "    <tr>\n",
       "      <th>11087</th>\n",
       "      <td>02337f94a9</td>\n",
       "      <td>1 1</td>\n",
       "    </tr>\n",
       "    <tr>\n",
       "      <th>55</th>\n",
       "      <td>952563a97e</td>\n",
       "      <td>1 1</td>\n",
       "    </tr>\n",
       "    <tr>\n",
       "      <th>8132</th>\n",
       "      <td>068f7a5267</td>\n",
       "      <td>1 1</td>\n",
       "    </tr>\n",
       "    <tr>\n",
       "      <th>4868</th>\n",
       "      <td>0e8e9e9b41</td>\n",
       "      <td>1 1</td>\n",
       "    </tr>\n",
       "    <tr>\n",
       "      <th>11286</th>\n",
       "      <td>f2f055154d</td>\n",
       "      <td>1 1</td>\n",
       "    </tr>\n",
       "  </tbody>\n",
       "</table>\n",
       "</div>"
      ],
      "text/plain": [
       "               id rle_mask\n",
       "11087  02337f94a9      1 1\n",
       "55     952563a97e      1 1\n",
       "8132   068f7a5267      1 1\n",
       "4868   0e8e9e9b41      1 1\n",
       "11286  f2f055154d      1 1"
      ]
     },
     "execution_count": 59,
     "metadata": {},
     "output_type": "execute_result"
    }
   ],
   "source": [
    "pruned_sample_submission = sample_submission.sample(1000)\n",
    "print(pruned_sample_submission.shape)\n",
    "pruned_sample_submission.head()"
   ]
  },
  {
   "cell_type": "code",
   "execution_count": 60,
   "metadata": {},
   "outputs": [
    {
     "name": "stdout",
     "output_type": "stream",
     "text": [
      "(2000, 2)\n"
     ]
    },
    {
     "data": {
      "text/html": [
       "<div>\n",
       "<style scoped>\n",
       "    .dataframe tbody tr th:only-of-type {\n",
       "        vertical-align: middle;\n",
       "    }\n",
       "\n",
       "    .dataframe tbody tr th {\n",
       "        vertical-align: top;\n",
       "    }\n",
       "\n",
       "    .dataframe thead th {\n",
       "        text-align: right;\n",
       "    }\n",
       "</style>\n",
       "<table border=\"1\" class=\"dataframe\">\n",
       "  <thead>\n",
       "    <tr style=\"text-align: right;\">\n",
       "      <th></th>\n",
       "      <th>id</th>\n",
       "      <th>z</th>\n",
       "    </tr>\n",
       "  </thead>\n",
       "  <tbody>\n",
       "    <tr>\n",
       "      <th>0</th>\n",
       "      <td>668b41c03e</td>\n",
       "      <td>659</td>\n",
       "    </tr>\n",
       "    <tr>\n",
       "      <th>1</th>\n",
       "      <td>fa752c35ca</td>\n",
       "      <td>300</td>\n",
       "    </tr>\n",
       "    <tr>\n",
       "      <th>2</th>\n",
       "      <td>73a2f6fb22</td>\n",
       "      <td>642</td>\n",
       "    </tr>\n",
       "    <tr>\n",
       "      <th>3</th>\n",
       "      <td>739a9ab34a</td>\n",
       "      <td>435</td>\n",
       "    </tr>\n",
       "    <tr>\n",
       "      <th>4</th>\n",
       "      <td>a568cc8273</td>\n",
       "      <td>626</td>\n",
       "    </tr>\n",
       "  </tbody>\n",
       "</table>\n",
       "</div>"
      ],
      "text/plain": [
       "           id    z\n",
       "0  668b41c03e  659\n",
       "1  fa752c35ca  300\n",
       "2  73a2f6fb22  642\n",
       "3  739a9ab34a  435\n",
       "4  a568cc8273  626"
      ]
     },
     "execution_count": 60,
     "metadata": {},
     "output_type": "execute_result"
    }
   ],
   "source": [
    "pruned_depth = pd.concat([pruned_train,pruned_sample_submission],ignore_index=True).merge(depth, on='id')[['id','z']]\n",
    "print(pruned_depth.shape)\n",
    "pruned_depth.head()"
   ]
  },
  {
   "cell_type": "code",
   "execution_count": 61,
   "metadata": {},
   "outputs": [],
   "source": [
    "# save path\n",
    "OUTPUT_PATH = '../Data/Big/small_salt_data'"
   ]
  },
  {
   "cell_type": "code",
   "execution_count": 62,
   "metadata": {},
   "outputs": [],
   "source": [
    "# Save csv\n",
    "pruned_train.to_csv(f'{OUTPUT_PATH}/train.csv', index=False)\n",
    "pruned_sample_submission.to_csv(f'{OUTPUT_PATH}/sample_submission.csv', index=False)\n",
    "pruned_depth.to_csv(f'{OUTPUT_PATH}/depths.csv', index=False)"
   ]
  },
  {
   "cell_type": "markdown",
   "metadata": {},
   "source": [
    "### Now copy the images"
   ]
  },
  {
   "cell_type": "code",
   "execution_count": 63,
   "metadata": {},
   "outputs": [],
   "source": [
    "import shutil"
   ]
  },
  {
   "cell_type": "code",
   "execution_count": 64,
   "metadata": {},
   "outputs": [],
   "source": [
    "for train_id in pruned_train['id']:\n",
    "    img_name = f'{train_id}.png'\n",
    "    #copy img\n",
    "    shutil.copyfile(f'{DATA_PATH}/train/images/{img_name}', f'{OUTPUT_PATH}/train/images/{img_name}')\n",
    "    #copy mask\n",
    "    shutil.copyfile(f'{DATA_PATH}/train/masks/{img_name}', f'{OUTPUT_PATH}/train/masks/{img_name}')\n",
    "\n",
    "for sample_submission_id in pruned_sample_submission['id']:\n",
    "    img_name = f'{sample_submission_id}.png'\n",
    "    #copy img\n",
    "    shutil.copyfile(f'{DATA_PATH}/test/images/{img_name}', f'{OUTPUT_PATH}/test/images/{img_name}')\n"
   ]
  },
  {
   "cell_type": "code",
   "execution_count": null,
   "metadata": {},
   "outputs": [],
   "source": []
  },
  {
   "cell_type": "code",
   "execution_count": null,
   "metadata": {},
   "outputs": [],
   "source": []
  }
 ],
 "metadata": {
  "interpreter": {
   "hash": "55df6c543a2bc93cb77d320c4ab60f53fdbb4f5b7faad8829a512095fe95b67f"
  },
  "kernelspec": {
   "display_name": "Python 3.7.11 64-bit ('ML': conda)",
   "language": "python",
   "name": "python3"
  },
  "language_info": {
   "codemirror_mode": {
    "name": "ipython",
    "version": 3
   },
   "file_extension": ".py",
   "mimetype": "text/x-python",
   "name": "python",
   "nbconvert_exporter": "python",
   "pygments_lexer": "ipython3",
   "version": "3.7.11"
  },
  "orig_nbformat": 4
 },
 "nbformat": 4,
 "nbformat_minor": 2
}
