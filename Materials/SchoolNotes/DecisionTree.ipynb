{
    "cells": [
        {
            "cell_type": "markdown",
            "source": [],
            "metadata": {}
        },
        {
            "cell_type": "markdown",
            "source": [
                "# Decision tree"
            ],
            "metadata": {}
        },
        {
            "cell_type": "markdown",
            "source": [
                "# Notes\n",
                "\n",
                "- Gini index is cheaper to compute than entropy\n",
                "- Dealing with numeric real numbers\n",
                "  - Discretization\n",
                "  - Bynary split using best split\n",
                "\n",
                "### Dealing with missing data\n",
                "  - Duplicate data that has the missing value but with weight\n",
                "  - So that the model has to maintain weight for all samples\n",
                "\n",
                "### Dont overfit\n",
                "\n",
                "- Prepruning - early stopping: faster and also less overfit\n",
                "  - Can test with chi-square or correlation, ...\n",
                "  - anova??\n",
                "\n",
                "- Likelihood iss distribution given evidence "
            ],
            "metadata": {}
        },
        {
            "cell_type": "markdown",
            "source": [
                "# Questions\n",
                "\n",
                "- How to scan the best split instead of checking all??\n",
                "  - Divide and conquer, taking random values, compare and move to the direction of the better one\n",
                "  - Binary search "
            ],
            "metadata": {}
        },
        {
            "cell_type": "markdown",
            "source": [
                "# Some stuff\n",
                "\n",
                "- Capathy standford? bottom up??"
            ],
            "metadata": {}
        },
        {
            "cell_type": "markdown",
            "source": [
                "# sylabus\n",
                "\n",
                "1. Basics of ML\n",
                "  - Intro\n",
                "  - Decitree\n",
                "  - Bayes\n",
                "  - genetic algo\n",
                "  - Graphical Model\n",
                "  - SVM **MID TERM**\n",
                "  - Dim reduction\n",
                "  - ANN\n",
                "  - Regularization\n",
                "  - Optimization\n",
                "  - CNN, RNN, Advance :v"
            ],
            "metadata": {}
        }
    ],
    "metadata": {
        "orig_nbformat": 4,
        "language_info": {
            "name": "python"
        }
    },
    "nbformat": 4,
    "nbformat_minor": 2
}