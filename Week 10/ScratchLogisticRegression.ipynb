{
 "cells": [
  {
   "cell_type": "markdown",
   "metadata": {},
   "source": [
    "# Introduction\n",
    "We will create a class for logistic regression from scratch. We will implement the algorithm using only the minimum library such as NumPy."
   ]
  },
  {
   "cell_type": "code",
   "execution_count": 50,
   "metadata": {},
   "outputs": [],
   "source": [
    "# predefines and imports\n",
    "import numpy as np\n",
    "import seaborn as sns\n",
    "import matplotlib.pyplot as plt"
   ]
  },
  {
   "cell_type": "markdown",
   "metadata": {},
   "source": [
    "# Logistic Regression Class"
   ]
  },
  {
   "cell_type": "code",
   "execution_count": 51,
   "metadata": {},
   "outputs": [],
   "source": [
    "from mpl_toolkits import mplot3d\n",
    "\n",
    "class ScratchLogisticRegression():\n",
    "  def __init__(self,num_iter, lr, no_bias, verbose):\n",
    "    # Record hyperparameters as attributes\n",
    "    self.iter = num_iter\n",
    "    self.lr = lr\n",
    "    self.no_bias = no_bias\n",
    "    self.verbose = verbose\n",
    "    # Prepare an array to record the loss\n",
    "    self.loss = np.zeros(self.iter)\n",
    "    self.val_loss = np.zeros(self.iter)\n",
    "  def add_bias(self,data):\n",
    "    if self.no_bias or data is None: return data\n",
    "\n",
    "    bias = np.ones((data.shape[0],1))\n",
    "    return np.hstack((bias,data))\n",
    "            \n",
    "  def fit(self, X, y, X_val=None, y_val=None):\n",
    "    verbose = self.verbose\n",
    "    # if verbose:\n",
    "    #   print('Before bias: ')\n",
    "    #   print(X)\n",
    "    #   print(X_val)\n",
    "    # add bias\n",
    "    X = self.add_bias(X)\n",
    "    X_val = self.add_bias(X_val)\n",
    "    # if verbose:\n",
    "    #   print('After bias: ')\n",
    "    #   print(X)\n",
    "    #   print(X_val)\n",
    "    # check category labels\n",
    "    self.labels = np.unique(y)\n",
    "    if verbose: print('Labels: ', self.labels)\n",
    "    #encode y to 0 and 1\n",
    "    conv_y = np.vectorize(lambda yi: 0 if yi == self.labels[0] else 1)\n",
    "    y = conv_y(y)\n",
    "    #setup param and weight\n",
    "    n, k = X.shape # tuple count and dim count\n",
    "    self.theta = np.zeros(k)\n",
    "    self.param_weight = np.ones(k)\n",
    "    self.param_weight[0] = 0 #zero-th param is not included in regularization\n",
    "\n",
    "\n",
    "    if verbose: \n",
    "      print('Tup count: ', n)\n",
    "      print('Dim count: ', k)\n",
    "    \n",
    "    for i in range(self.iter):\n",
    "      # if verbose: \n",
    "      #   print('Pred prob: ', self.predict_proba(X))\n",
    "      #   print('Pred: ', self.predict(X[:,1:]))\n",
    "      #   print('Loss: ', self.objective_func(X,y))\n",
    "      \n",
    "      # record loss\n",
    "      self.loss[i] = self.objective_func(X,y)\n",
    "      self.val_loss[i] = self.objective_func(X_val,y_val)\n",
    "      # train\n",
    "      grad = self.gradient(X,y)\n",
    "      self.theta = self.theta - self.lr * grad\n",
    "\n",
    "      # if self.verbose:\n",
    "      #   print('Gradient: ')\n",
    "      #   print(grad)\n",
    "    if verbose:    \n",
    "      print('Train loss: ')\n",
    "      print(self.loss)\n",
    "      print(' Val Loss: ')\n",
    "      print(self.val_loss)\n",
    "    return None\n",
    "  def gradient(self,X,y):\n",
    "    n = X.shape[0]\n",
    "    grad = X.T @ (self.predict_proba(X, bias_added = True) - y)/n\n",
    "    normalize_term = (self.param_weight* self.theta)/n\n",
    "    return grad + normalize_term\n",
    "  def predict(self, X):\n",
    "    pred = np.vectorize(lambda proba: self.labels[1] if proba>0.5 else self.labels[0])\n",
    "    return pred(self.predict_proba(X))\n",
    "    \n",
    "  def predict_proba(self, X, bias_added = False):\n",
    "    return 1 / (1 + np.exp(- self.linear_hypo(X,bias_added = bias_added)))\n",
    "  def linear_hypo(self,X, bias_added):\n",
    "    X = X if self.no_bias or bias_added else self.add_bias(X)\n",
    "    # print('Debug: ', X.shape,  self.theta.shape)\n",
    "    return X @ self.theta\n",
    "  def objective_func(self,X,y):\n",
    "    if X is None: return 0\n",
    "    \n",
    "    predicted = self.predict_proba(X, bias_added = True)\n",
    "    # if self.verbose:\n",
    "    #   print('predicted: ', predicted)\n",
    "    n = X.shape[0]\n",
    "    obj = -(y* np.log(predicted)+(1-y)*np.log(1-predicted)).mean()\n",
    "    # if self.verbose: \n",
    "    #   print('debug log10 error')\n",
    "    #   print(predicted, 1.00 - predicted)\n",
    "    normalize_term = (self.param_weight/ (2*n) * self.theta**2).mean()/2\n",
    "    # print('Obj:', obj + normalize_term)\n",
    "    return obj + normalize_term"
   ]
  },
  {
   "cell_type": "markdown",
   "metadata": {},
   "source": [
    "# Problem 1\n",
    "Hypothetical Function"
   ]
  },
  {
   "cell_type": "markdown",
   "metadata": {},
   "source": [
    "- Sigmoid Function:\n",
    "\n",
    "    $ g(z) = \\frac{1}{1 + e^{-z}} $\n",
    "- Linear regression hypothesys:\n",
    "    \n",
    "    $ h_\\theta (x) = \\theta^T.X $\n",
    "\n",
    "- Logistic assumption function:\n",
    "\n",
    "    $ h_\\theta (x) = \\frac {1}{1 + e^{- \\theta^T.X}}$"
   ]
  },
  {
   "cell_type": "markdown",
   "metadata": {},
   "source": [
    "# Problem 2\n",
    "Steepest Descend"
   ]
  },
  {
   "cell_type": "markdown",
   "metadata": {},
   "source": [
    "**Added fit in the code**"
   ]
  },
  {
   "cell_type": "markdown",
   "metadata": {},
   "source": [
    "# Problem 3\n",
    "Estimated "
   ]
  },
  {
   "cell_type": "markdown",
   "metadata": {},
   "source": [
    "**Added predict and predict_proba in code**"
   ]
  },
  {
   "cell_type": "markdown",
   "metadata": {},
   "source": [
    "# Problem 4\n",
    "Objective Function"
   ]
  },
  {
   "cell_type": "markdown",
   "metadata": {},
   "source": [
    "**Added Obj Func in code**"
   ]
  },
  {
   "cell_type": "markdown",
   "metadata": {},
   "source": [
    "# Problem 5\n",
    "Learning and Estimation"
   ]
  },
  {
   "cell_type": "code",
   "execution_count": 52,
   "metadata": {},
   "outputs": [
    {
     "name": "stdout",
     "output_type": "stream",
     "text": [
      "X shape:  (100, 4)\n",
      "Classes:  [0 1]\n",
      "----------------------\n",
      "Model:  SGDClassifier\n",
      "Acc: 1.0\n",
      "Recall:  1.0\n",
      "Percision:  1.0\n"
     ]
    },
    {
     "data": {
      "text/plain": "array([[ 5,  0],\n       [ 0, 15]], dtype=int64)"
     },
     "metadata": {},
     "output_type": "display_data"
    },
    {
     "name": "stdout",
     "output_type": "stream",
     "text": [
      "----------------------\n",
      "Model:  ScratchLogisticRegression\n",
      "Acc: 1.0\n",
      "Recall:  1.0\n",
      "Percision:  1.0\n"
     ]
    },
    {
     "data": {
      "text/plain": "array([[ 5,  0],\n       [ 0, 15]], dtype=int64)"
     },
     "metadata": {},
     "output_type": "display_data"
    },
    {
     "name": "stdout",
     "output_type": "stream",
     "text": [
      "----------------------\n",
      "Model:  LogisticRegression\n",
      "Acc: 1.0\n",
      "Recall:  1.0\n",
      "Percision:  1.0\n"
     ]
    },
    {
     "data": {
      "text/plain": "array([[ 5,  0],\n       [ 0, 15]], dtype=int64)"
     },
     "metadata": {},
     "output_type": "display_data"
    }
   ],
   "source": [
    "from sklearn.model_selection import train_test_split\n",
    "from sklearn.metrics import confusion_matrix\n",
    "from sklearn.linear_model import LogisticRegression\n",
    "from sklearn.metrics import accuracy_score\n",
    "from sklearn.metrics import recall_score\n",
    "from sklearn.metrics import precision_score\n",
    "def classification_problem(X, Y, models, test_size = 0.2):\n",
    "    result = []\n",
    "    x_train, x_test,y_train,y_test = train_test_split(X,Y,test_size = test_size)\n",
    "    for model in models:\n",
    "        model.fit(x_train,y_train)\n",
    "        y_pred = model.predict(x_test)\n",
    "        result.append((\n",
    "            model.__class__.__name__,\n",
    "            confusion_matrix(y_test, y_pred),\n",
    "            accuracy_score(y_test, y_pred),\n",
    "            recall_score(y_test, y_pred),\n",
    "            precision_score(y_test, y_pred),))\n",
    "    \n",
    "    return result\n",
    "\n",
    "\n",
    "from  sklearn.datasets import load_iris\n",
    "iris_data = load_iris(as_frame = True)\n",
    "i_x = iris_data.data\n",
    "i_y = iris_data.target\n",
    "choosen_tuple = (i_y == 0) | (i_y == 1)\n",
    "i_x = i_x[choosen_tuple]\n",
    "i_y = i_y[choosen_tuple]\n",
    "print('X shape: ',i_x.shape)\n",
    "print('Classes: ',np.unique(i_y))\n",
    "from sklearn.linear_model import SGDClassifier\n",
    "\n",
    "scratch_model = ScratchLogisticRegression(num_iter = 50, lr = 0.1, no_bias = False, verbose = False)\n",
    "models = [\n",
    "    SGDClassifier(max_iter= 50, alpha = 0.1, verbose = False),\n",
    "    scratch_model,\n",
    "    LogisticRegression(max_iter = 50)\n",
    "]\n",
    "result = classification_problem(i_x,i_y,models)\n",
    "\n",
    "for name, conf_matrix, accuracy, recall, percision in result:\n",
    "    print('----------------------')\n",
    "    print('Model: ',name)\n",
    "    print('Acc:',accuracy)\n",
    "    print('Recall: ',recall)\n",
    "    print('Percision: ', percision)\n",
    "    display(conf_matrix)"
   ]
  },
  {
   "cell_type": "markdown",
   "metadata": {},
   "source": [
    "# Problem 6\n",
    "Plot of learning curve"
   ]
  },
  {
   "cell_type": "code",
   "execution_count": 53,
   "metadata": {},
   "outputs": [
    {
     "data": {
      "text/plain": "[<matplotlib.lines.Line2D at 0x1f98a8c3b20>]"
     },
     "execution_count": 53,
     "metadata": {},
     "output_type": "execute_result"
    },
    {
     "data": {
      "image/png": "[encoded data removed]",
      "text/plain": "<Figure size 432x288 with 1 Axes>"
     },
     "metadata": {
      "needs_background": "light"
     },
     "output_type": "display_data"
    }
   ],
   "source": [
    "plt.plot(scratch_model.loss)"
   ]
  },
  {
   "cell_type": "markdown",
   "metadata": {},
   "source": [
    "# Problem 7\n",
    "Visualization of decision area"
   ]
  },
  {
   "cell_type": "markdown",
   "metadata": {},
   "source": [
    "### Here i try to plot the log regression line"
   ]
  },
  {
   "cell_type": "code",
   "execution_count": 54,
   "metadata": {},
   "outputs": [
    {
     "name": "stdout",
     "output_type": "stream",
     "text": [
      "shape x:  (100, 4)\n"
     ]
    },
    {
     "data": {
      "image/png": "[encoded data removed]",
      "text/plain": "<Figure size 432x288 with 1 Axes>"
     },
     "metadata": {
      "needs_background": "light"
     },
     "output_type": "display_data"
    }
   ],
   "source": [
    "# i_x = i_x.iloc[:,0:1]\n",
    "new_scratch_model = ScratchLogisticRegression(num_iter = 100, lr = 0.1, no_bias = False, verbose = False)\n",
    "print('shape x: ',i_x.shape)\n",
    "# print(i_x)\n",
    "x_train,x_test,y_train,y_test = train_test_split(i_x,i_y, test_size = 0.5)\n",
    "new_scratch_model.fit(x_train,y_train)\n",
    "pred_y = new_scratch_model.predict_proba(x_test)\n",
    "reg_x = new_scratch_model.linear_hypo(x_test,bias_added = False)\n",
    "plt.scatter(reg_x,pred_y)\n",
    "pred_label = new_scratch_model.predict(x_test)\n",
    "x1 = reg_x[pred_label == 0]\n",
    "x2 = reg_x[pred_label == 1]\n",
    "y1 = pred_y[pred_label == 0]\n",
    "y2 = pred_y[pred_label == 1]\n",
    "\n",
    "domain = np.linspace(-100,100,1000).reshape(-1,1)\n",
    "\n",
    "# log_line = new_scratch_model.predict_proba(domain)\n",
    "log_line = 1 / (1 + np.exp (- domain))\n",
    "plt.plot(domain,log_line, label = 'Log Func')\n",
    "plt.scatter(x1,y1, label = 'Class 0')\n",
    "plt.scatter(x2,y2, label = 'Class 1')\n",
    "plt.hlines(0.5,-100,100, label = 'Decision Boundary', colors = 'red')\n",
    "plt.legend()\n",
    "plt.ylabel('Probability')\n",
    "plt.xlabel('Regression Value')\n",
    "plt.show()\n",
    "\n"
   ]
  },
  {
   "cell_type": "markdown",
   "metadata": {},
   "source": [
    "### Here i plot the decision bound of training on 2 dimension"
   ]
  },
  {
   "cell_type": "code",
   "execution_count": 55,
   "metadata": {},
   "outputs": [
    {
     "name": "stdout",
     "output_type": "stream",
     "text": [
      "(86130, 2)\n"
     ]
    },
    {
     "data": {
      "image/png": "[encoded data removed]",
      "text/plain": "<Figure size 432x288 with 1 Axes>"
     },
     "metadata": {
      "needs_background": "light"
     },
     "output_type": "display_data"
    }
   ],
   "source": [
    "import matplotlib.pyplot as plt\n",
    "from matplotlib.colors import ListedColormap\n",
    "import matplotlib.patches as mpatches\n",
    "def decision_region(X, y, model, step=0.01, title='decision region', xlabel='xlabel', ylabel='ylabel', target_names=['versicolor', 'virginica'],class_count = 2):\n",
    "    \"\"\"\n",
    "    Draw the determination area of the model that learned binary classification with two-dimensional features.\n",
    "    The background color is drawn from the estimated values of the trained model.\n",
    "    The points on the scatter plot are training or validation data.\n",
    "    Parameters\n",
    "    ----------------\n",
    "    X : ndarray, shape(n_samples, 2)\n",
    "        Feature value\n",
    "    y : ndarray, shape(n_samples,)\n",
    "        label\n",
    "    model : object\n",
    "        Insert the installed model of the learned model\n",
    "    step : float, (default : 0.1)\n",
    "        Set the interval to calculate the estimate\n",
    "    title : str\n",
    "        Give the text of the graph Title\n",
    "    xlabel, ylabel : str\n",
    "        Give the text of the axis label\n",
    "    target_names= : list of str\n",
    "        Give a list of legends\n",
    "    \"\"\"\n",
    "    # setting\n",
    "    scatter_color = ['green', 'red', 'blue'] if class_count == 3 else ['red', 'blue']\n",
    "    contourf_color = ['lightgreen','pink', 'skyblue'] if class_count == 3 else ['pink', 'skyblue']\n",
    "    n_class = class_count\n",
    "    # pred\n",
    "    mesh_f0, mesh_f1  = np.meshgrid(np.arange(np.min(X[:,0])-0.5, np.max(X[:,0])+0.5, step), np.arange(np.min(X[:,1])-0.5, np.max(X[:,1])+0.5, step))\n",
    "    mesh = np.c_[np.ravel(mesh_f0),np.ravel(mesh_f1)]\n",
    "    print(mesh.shape)\n",
    "    y_pred = model.predict(mesh).reshape(mesh_f0.shape)\n",
    "    # plot\n",
    "    plt.title(title)\n",
    "    plt.xlabel(xlabel)\n",
    "    plt.ylabel(ylabel)\n",
    "    plt.contourf(mesh_f0, mesh_f1, y_pred, n_class-1, cmap=ListedColormap(contourf_color))\n",
    "    plt.contour(mesh_f0, mesh_f1, y_pred, n_class-1, colors='y', linewidths=3, alpha=0.5)\n",
    "    for i, target in enumerate(set(y)):\n",
    "        plt.scatter(X[y==target][:, 0], X[y==target][:, 1], s=80, color=scatter_color[i], label=target_names[i], marker='o')\n",
    "    patches = [mpatches.Patch(color=scatter_color[i], label=target_names[i]) for i in range(n_class)]\n",
    "    plt.legend(handles=patches)\n",
    "    plt.legend()\n",
    "    plt.show()\n",
    "\n",
    "from  sklearn.datasets import load_iris\n",
    "iris_data = load_iris(as_frame = True)\n",
    "i_x = iris_data.data\n",
    "i_y = iris_data.target\n",
    "choosen_tuple = (i_y == 0) | (i_y == 1)\n",
    "i_x = i_x[choosen_tuple]\n",
    "i_y = i_y[choosen_tuple]\n",
    "\n",
    "x_np = np.array(i_x)[:,0:2]\n",
    "y_np = np.array(i_y)\n",
    "# print(x_np.shape, y_np.shape)\n",
    "x_train,x_test,y_train,y_test = train_test_split(x_np,y_np, test_size = 0.2)\n",
    "new_scratch_model.fit(x_train,y_train)\n",
    "decision_region(x_test,y_test,new_scratch_model)\n"
   ]
  }
 ],
 "metadata": {
  "interpreter": {
   "hash": "414c2fdb89d6021f6942d5e1d033ba955136d83fd06928f7f45a3ba2aaf4fb60"
  },
  "kernelspec": {
   "display_name": "Python 3.8.5 64-bit ('ML': conda)",
   "name": "python3"
  },
  "language_info": {
   "codemirror_mode": {
    "name": "ipython",
    "version": 3
   },
   "file_extension": ".py",
   "mimetype": "text/x-python",
   "name": "python",
   "nbconvert_exporter": "python",
   "pygments_lexer": "ipython3",
   "version": "3.8.5"
  },
  "orig_nbformat": 2
 },
 "nbformat": 4,
 "nbformat_minor": 2
}